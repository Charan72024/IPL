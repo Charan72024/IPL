{
 "cells": [
  {
   "cell_type": "code",
   "execution_count": 2,
   "id": "20d918fe",
   "metadata": {},
   "outputs": [],
   "source": [
    "import pandas as pd\n",
    "from datetime import datetime, timedelta\n",
    "import plotly.express as px\n"
   ]
  },
  {
   "cell_type": "code",
   "execution_count": 3,
   "id": "72aaefca",
   "metadata": {},
   "outputs": [],
   "source": [
    "match_summary = pd.read_csv(r\"C:\\Users\\saich\\Downloads\\C10_Input_Files\\C10_Input_Files\\datasets\\dim_match_summary.csv\")\n",
    "players = pd.read_csv(r\"C:\\Users\\saich\\Downloads\\C10_Input_Files\\C10_Input_Files\\datasets\\dim_players.csv\")\n",
    "bating_summary = pd.read_csv(r\"C:\\Users\\saich\\Downloads\\C10_Input_Files\\C10_Input_Files\\datasets\\fact_bating_summary.csv\")\n",
    "bowling_summary = pd.read_csv(r\"C:\\Users\\saich\\Downloads\\C10_Input_Files\\C10_Input_Files\\datasets\\fact_bowling_summary.csv\")\n"
   ]
  },
  {
   "cell_type": "code",
   "execution_count": 4,
   "id": "a15fc362",
   "metadata": {},
   "outputs": [
    {
     "name": "stdout",
     "output_type": "stream",
     "text": [
      "            team1   team2       winner     margin     matchDate match_id  \\\n",
      "0     Super Kings     KKR  Super Kings    27 runs  Oct 15, 2021  T203817   \n",
      "1     Super Kings     KKR  Super Kings    27 runs  Oct 15, 2021  T203817   \n",
      "2     Super Kings     KKR  Super Kings    27 runs  Oct 15, 2021  T203817   \n",
      "3     Super Kings     KKR  Super Kings    27 runs  Oct 15, 2021  T203817   \n",
      "4     Super Kings     KKR  Super Kings    27 runs  Oct 15, 2021  T203817   \n",
      "...           ...     ...          ...        ...           ...      ...   \n",
      "3263  Super Kings  Titans       Titans  5 wickets  Mar 31, 2023  T201566   \n",
      "3264  Super Kings  Titans       Titans  5 wickets  Mar 31, 2023  T201566   \n",
      "3265  Super Kings  Titans       Titans  5 wickets  Mar 31, 2023  T201566   \n",
      "3266  Super Kings  Titans       Titans  5 wickets  Mar 31, 2023  T201566   \n",
      "3267  Super Kings  Titans       Titans  5 wickets  Mar 31, 2023  T201566   \n",
      "\n",
      "                      match  teamInnings  battingPos     batsmanName  \\\n",
      "0        Super Kings Vs KKR  Super Kings           1  RuturajGaikwad   \n",
      "1        Super Kings Vs KKR  Super Kings           2    FafduPlessis   \n",
      "2        Super Kings Vs KKR  Super Kings           3    RobinUthappa   \n",
      "3        Super Kings Vs KKR  Super Kings           4        MoeenAli   \n",
      "4        Super Kings Vs KKR          KKR           1     ShubmanGill   \n",
      "...                     ...          ...         ...             ...   \n",
      "3263  Super Kings Vs Titans       Titans           3    SaiSudharsan   \n",
      "3264  Super Kings Vs Titans       Titans           4    HardikPandya   \n",
      "3265  Super Kings Vs Titans       Titans           5    VijayShankar   \n",
      "3266  Super Kings Vs Titans       Titans           6    RahulTewatia   \n",
      "3267  Super Kings Vs Titans       Titans           7      RashidKhan   \n",
      "\n",
      "     out/not_out  runs  balls  4s  6s      SR  \n",
      "0            out    32     27   3   1  118.51  \n",
      "1            out    86     59   7   3  145.76  \n",
      "2            out    31     15   0   3  206.66  \n",
      "3        not_out    37     20   2   3  185.00  \n",
      "4            out    51     43   6   0  118.60  \n",
      "...          ...   ...    ...  ..  ..     ...  \n",
      "3263         out    22     17   3   0  129.41  \n",
      "3264         out     8     11   0   0   72.72  \n",
      "3265         out    27     21   2   1  128.57  \n",
      "3266     not_out    15     14   1   1  107.14  \n",
      "3267     not_out    10      3   1   1  333.33  \n",
      "\n",
      "[3268 rows x 16 columns]\n",
      "batsmanName\n",
      "ShubmanGill        1134\n",
      "FafduPlessis        948\n",
      "DevonConway         874\n",
      "ViratKohli          861\n",
      "YashasviJaiswal     858\n",
      "RuturajGaikwad      824\n",
      "JosButtler          764\n",
      "DavidWarner         729\n",
      "IshanKishan         681\n",
      "SuryakumarYadav     676\n",
      "Name: runs, dtype: int64\n"
     ]
    },
    {
     "data": {
      "application/vnd.plotly.v1+json": {
       "config": {
        "plotlyServerURL": "https://plot.ly"
       },
       "data": [
        {
         "alignmentgroup": "True",
         "hovertemplate": "Batsman=%{x}<br>Total Runs=%{marker.color}<extra></extra>",
         "legendgroup": "",
         "marker": {
          "color": [
           1134,
           948,
           874,
           861,
           858,
           824,
           764,
           729,
           681,
           676
          ],
          "coloraxis": "coloraxis",
          "pattern": {
           "shape": ""
          }
         },
         "name": "",
         "offsetgroup": "",
         "orientation": "v",
         "showlegend": false,
         "text": [
          1134,
          948,
          874,
          861,
          858,
          824,
          764,
          729,
          681,
          676
         ],
         "textposition": "outside",
         "texttemplate": "%{text}",
         "type": "bar",
         "x": [
          "ShubmanGill",
          "FafduPlessis",
          "DevonConway",
          "ViratKohli",
          "YashasviJaiswal",
          "RuturajGaikwad",
          "JosButtler",
          "DavidWarner",
          "IshanKishan",
          "SuryakumarYadav"
         ],
         "xaxis": "x",
         "y": [
          1134,
          948,
          874,
          861,
          858,
          824,
          764,
          729,
          681,
          676
         ],
         "yaxis": "y"
        }
       ],
       "layout": {
        "barmode": "relative",
        "coloraxis": {
         "colorbar": {
          "title": {
           "text": "Total Runs"
          }
         },
         "colorscale": [
          [
           0,
           "#440154"
          ],
          [
           0.1111111111111111,
           "#482878"
          ],
          [
           0.2222222222222222,
           "#3e4989"
          ],
          [
           0.3333333333333333,
           "#31688e"
          ],
          [
           0.4444444444444444,
           "#26828e"
          ],
          [
           0.5555555555555556,
           "#1f9e89"
          ],
          [
           0.6666666666666666,
           "#35b779"
          ],
          [
           0.7777777777777778,
           "#6ece58"
          ],
          [
           0.8888888888888888,
           "#b5de2b"
          ],
          [
           1,
           "#fde725"
          ]
         ]
        },
        "legend": {
         "tracegroupgap": 0
        },
        "plot_bgcolor": "rgba(0,0,0,0)",
        "template": {
         "data": {
          "bar": [
           {
            "error_x": {
             "color": "#2a3f5f"
            },
            "error_y": {
             "color": "#2a3f5f"
            },
            "marker": {
             "line": {
              "color": "#E5ECF6",
              "width": 0.5
             },
             "pattern": {
              "fillmode": "overlay",
              "size": 10,
              "solidity": 0.2
             }
            },
            "type": "bar"
           }
          ],
          "barpolar": [
           {
            "marker": {
             "line": {
              "color": "#E5ECF6",
              "width": 0.5
             },
             "pattern": {
              "fillmode": "overlay",
              "size": 10,
              "solidity": 0.2
             }
            },
            "type": "barpolar"
           }
          ],
          "carpet": [
           {
            "aaxis": {
             "endlinecolor": "#2a3f5f",
             "gridcolor": "white",
             "linecolor": "white",
             "minorgridcolor": "white",
             "startlinecolor": "#2a3f5f"
            },
            "baxis": {
             "endlinecolor": "#2a3f5f",
             "gridcolor": "white",
             "linecolor": "white",
             "minorgridcolor": "white",
             "startlinecolor": "#2a3f5f"
            },
            "type": "carpet"
           }
          ],
          "choropleth": [
           {
            "colorbar": {
             "outlinewidth": 0,
             "ticks": ""
            },
            "type": "choropleth"
           }
          ],
          "contour": [
           {
            "colorbar": {
             "outlinewidth": 0,
             "ticks": ""
            },
            "colorscale": [
             [
              0,
              "#0d0887"
             ],
             [
              0.1111111111111111,
              "#46039f"
             ],
             [
              0.2222222222222222,
              "#7201a8"
             ],
             [
              0.3333333333333333,
              "#9c179e"
             ],
             [
              0.4444444444444444,
              "#bd3786"
             ],
             [
              0.5555555555555556,
              "#d8576b"
             ],
             [
              0.6666666666666666,
              "#ed7953"
             ],
             [
              0.7777777777777778,
              "#fb9f3a"
             ],
             [
              0.8888888888888888,
              "#fdca26"
             ],
             [
              1,
              "#f0f921"
             ]
            ],
            "type": "contour"
           }
          ],
          "contourcarpet": [
           {
            "colorbar": {
             "outlinewidth": 0,
             "ticks": ""
            },
            "type": "contourcarpet"
           }
          ],
          "heatmap": [
           {
            "colorbar": {
             "outlinewidth": 0,
             "ticks": ""
            },
            "colorscale": [
             [
              0,
              "#0d0887"
             ],
             [
              0.1111111111111111,
              "#46039f"
             ],
             [
              0.2222222222222222,
              "#7201a8"
             ],
             [
              0.3333333333333333,
              "#9c179e"
             ],
             [
              0.4444444444444444,
              "#bd3786"
             ],
             [
              0.5555555555555556,
              "#d8576b"
             ],
             [
              0.6666666666666666,
              "#ed7953"
             ],
             [
              0.7777777777777778,
              "#fb9f3a"
             ],
             [
              0.8888888888888888,
              "#fdca26"
             ],
             [
              1,
              "#f0f921"
             ]
            ],
            "type": "heatmap"
           }
          ],
          "heatmapgl": [
           {
            "colorbar": {
             "outlinewidth": 0,
             "ticks": ""
            },
            "colorscale": [
             [
              0,
              "#0d0887"
             ],
             [
              0.1111111111111111,
              "#46039f"
             ],
             [
              0.2222222222222222,
              "#7201a8"
             ],
             [
              0.3333333333333333,
              "#9c179e"
             ],
             [
              0.4444444444444444,
              "#bd3786"
             ],
             [
              0.5555555555555556,
              "#d8576b"
             ],
             [
              0.6666666666666666,
              "#ed7953"
             ],
             [
              0.7777777777777778,
              "#fb9f3a"
             ],
             [
              0.8888888888888888,
              "#fdca26"
             ],
             [
              1,
              "#f0f921"
             ]
            ],
            "type": "heatmapgl"
           }
          ],
          "histogram": [
           {
            "marker": {
             "pattern": {
              "fillmode": "overlay",
              "size": 10,
              "solidity": 0.2
             }
            },
            "type": "histogram"
           }
          ],
          "histogram2d": [
           {
            "colorbar": {
             "outlinewidth": 0,
             "ticks": ""
            },
            "colorscale": [
             [
              0,
              "#0d0887"
             ],
             [
              0.1111111111111111,
              "#46039f"
             ],
             [
              0.2222222222222222,
              "#7201a8"
             ],
             [
              0.3333333333333333,
              "#9c179e"
             ],
             [
              0.4444444444444444,
              "#bd3786"
             ],
             [
              0.5555555555555556,
              "#d8576b"
             ],
             [
              0.6666666666666666,
              "#ed7953"
             ],
             [
              0.7777777777777778,
              "#fb9f3a"
             ],
             [
              0.8888888888888888,
              "#fdca26"
             ],
             [
              1,
              "#f0f921"
             ]
            ],
            "type": "histogram2d"
           }
          ],
          "histogram2dcontour": [
           {
            "colorbar": {
             "outlinewidth": 0,
             "ticks": ""
            },
            "colorscale": [
             [
              0,
              "#0d0887"
             ],
             [
              0.1111111111111111,
              "#46039f"
             ],
             [
              0.2222222222222222,
              "#7201a8"
             ],
             [
              0.3333333333333333,
              "#9c179e"
             ],
             [
              0.4444444444444444,
              "#bd3786"
             ],
             [
              0.5555555555555556,
              "#d8576b"
             ],
             [
              0.6666666666666666,
              "#ed7953"
             ],
             [
              0.7777777777777778,
              "#fb9f3a"
             ],
             [
              0.8888888888888888,
              "#fdca26"
             ],
             [
              1,
              "#f0f921"
             ]
            ],
            "type": "histogram2dcontour"
           }
          ],
          "mesh3d": [
           {
            "colorbar": {
             "outlinewidth": 0,
             "ticks": ""
            },
            "type": "mesh3d"
           }
          ],
          "parcoords": [
           {
            "line": {
             "colorbar": {
              "outlinewidth": 0,
              "ticks": ""
             }
            },
            "type": "parcoords"
           }
          ],
          "pie": [
           {
            "automargin": true,
            "type": "pie"
           }
          ],
          "scatter": [
           {
            "fillpattern": {
             "fillmode": "overlay",
             "size": 10,
             "solidity": 0.2
            },
            "type": "scatter"
           }
          ],
          "scatter3d": [
           {
            "line": {
             "colorbar": {
              "outlinewidth": 0,
              "ticks": ""
             }
            },
            "marker": {
             "colorbar": {
              "outlinewidth": 0,
              "ticks": ""
             }
            },
            "type": "scatter3d"
           }
          ],
          "scattercarpet": [
           {
            "marker": {
             "colorbar": {
              "outlinewidth": 0,
              "ticks": ""
             }
            },
            "type": "scattercarpet"
           }
          ],
          "scattergeo": [
           {
            "marker": {
             "colorbar": {
              "outlinewidth": 0,
              "ticks": ""
             }
            },
            "type": "scattergeo"
           }
          ],
          "scattergl": [
           {
            "marker": {
             "colorbar": {
              "outlinewidth": 0,
              "ticks": ""
             }
            },
            "type": "scattergl"
           }
          ],
          "scattermapbox": [
           {
            "marker": {
             "colorbar": {
              "outlinewidth": 0,
              "ticks": ""
             }
            },
            "type": "scattermapbox"
           }
          ],
          "scatterpolar": [
           {
            "marker": {
             "colorbar": {
              "outlinewidth": 0,
              "ticks": ""
             }
            },
            "type": "scatterpolar"
           }
          ],
          "scatterpolargl": [
           {
            "marker": {
             "colorbar": {
              "outlinewidth": 0,
              "ticks": ""
             }
            },
            "type": "scatterpolargl"
           }
          ],
          "scatterternary": [
           {
            "marker": {
             "colorbar": {
              "outlinewidth": 0,
              "ticks": ""
             }
            },
            "type": "scatterternary"
           }
          ],
          "surface": [
           {
            "colorbar": {
             "outlinewidth": 0,
             "ticks": ""
            },
            "colorscale": [
             [
              0,
              "#0d0887"
             ],
             [
              0.1111111111111111,
              "#46039f"
             ],
             [
              0.2222222222222222,
              "#7201a8"
             ],
             [
              0.3333333333333333,
              "#9c179e"
             ],
             [
              0.4444444444444444,
              "#bd3786"
             ],
             [
              0.5555555555555556,
              "#d8576b"
             ],
             [
              0.6666666666666666,
              "#ed7953"
             ],
             [
              0.7777777777777778,
              "#fb9f3a"
             ],
             [
              0.8888888888888888,
              "#fdca26"
             ],
             [
              1,
              "#f0f921"
             ]
            ],
            "type": "surface"
           }
          ],
          "table": [
           {
            "cells": {
             "fill": {
              "color": "#EBF0F8"
             },
             "line": {
              "color": "white"
             }
            },
            "header": {
             "fill": {
              "color": "#C8D4E3"
             },
             "line": {
              "color": "white"
             }
            },
            "type": "table"
           }
          ]
         },
         "layout": {
          "annotationdefaults": {
           "arrowcolor": "#2a3f5f",
           "arrowhead": 0,
           "arrowwidth": 1
          },
          "autotypenumbers": "strict",
          "coloraxis": {
           "colorbar": {
            "outlinewidth": 0,
            "ticks": ""
           }
          },
          "colorscale": {
           "diverging": [
            [
             0,
             "#8e0152"
            ],
            [
             0.1,
             "#c51b7d"
            ],
            [
             0.2,
             "#de77ae"
            ],
            [
             0.3,
             "#f1b6da"
            ],
            [
             0.4,
             "#fde0ef"
            ],
            [
             0.5,
             "#f7f7f7"
            ],
            [
             0.6,
             "#e6f5d0"
            ],
            [
             0.7,
             "#b8e186"
            ],
            [
             0.8,
             "#7fbc41"
            ],
            [
             0.9,
             "#4d9221"
            ],
            [
             1,
             "#276419"
            ]
           ],
           "sequential": [
            [
             0,
             "#0d0887"
            ],
            [
             0.1111111111111111,
             "#46039f"
            ],
            [
             0.2222222222222222,
             "#7201a8"
            ],
            [
             0.3333333333333333,
             "#9c179e"
            ],
            [
             0.4444444444444444,
             "#bd3786"
            ],
            [
             0.5555555555555556,
             "#d8576b"
            ],
            [
             0.6666666666666666,
             "#ed7953"
            ],
            [
             0.7777777777777778,
             "#fb9f3a"
            ],
            [
             0.8888888888888888,
             "#fdca26"
            ],
            [
             1,
             "#f0f921"
            ]
           ],
           "sequentialminus": [
            [
             0,
             "#0d0887"
            ],
            [
             0.1111111111111111,
             "#46039f"
            ],
            [
             0.2222222222222222,
             "#7201a8"
            ],
            [
             0.3333333333333333,
             "#9c179e"
            ],
            [
             0.4444444444444444,
             "#bd3786"
            ],
            [
             0.5555555555555556,
             "#d8576b"
            ],
            [
             0.6666666666666666,
             "#ed7953"
            ],
            [
             0.7777777777777778,
             "#fb9f3a"
            ],
            [
             0.8888888888888888,
             "#fdca26"
            ],
            [
             1,
             "#f0f921"
            ]
           ]
          },
          "colorway": [
           "#636efa",
           "#EF553B",
           "#00cc96",
           "#ab63fa",
           "#FFA15A",
           "#19d3f3",
           "#FF6692",
           "#B6E880",
           "#FF97FF",
           "#FECB52"
          ],
          "font": {
           "color": "#2a3f5f"
          },
          "geo": {
           "bgcolor": "white",
           "lakecolor": "white",
           "landcolor": "#E5ECF6",
           "showlakes": true,
           "showland": true,
           "subunitcolor": "white"
          },
          "hoverlabel": {
           "align": "left"
          },
          "hovermode": "closest",
          "mapbox": {
           "style": "light"
          },
          "paper_bgcolor": "white",
          "plot_bgcolor": "#E5ECF6",
          "polar": {
           "angularaxis": {
            "gridcolor": "white",
            "linecolor": "white",
            "ticks": ""
           },
           "bgcolor": "#E5ECF6",
           "radialaxis": {
            "gridcolor": "white",
            "linecolor": "white",
            "ticks": ""
           }
          },
          "scene": {
           "xaxis": {
            "backgroundcolor": "#E5ECF6",
            "gridcolor": "white",
            "gridwidth": 2,
            "linecolor": "white",
            "showbackground": true,
            "ticks": "",
            "zerolinecolor": "white"
           },
           "yaxis": {
            "backgroundcolor": "#E5ECF6",
            "gridcolor": "white",
            "gridwidth": 2,
            "linecolor": "white",
            "showbackground": true,
            "ticks": "",
            "zerolinecolor": "white"
           },
           "zaxis": {
            "backgroundcolor": "#E5ECF6",
            "gridcolor": "white",
            "gridwidth": 2,
            "linecolor": "white",
            "showbackground": true,
            "ticks": "",
            "zerolinecolor": "white"
           }
          },
          "shapedefaults": {
           "line": {
            "color": "#2a3f5f"
           }
          },
          "ternary": {
           "aaxis": {
            "gridcolor": "white",
            "linecolor": "white",
            "ticks": ""
           },
           "baxis": {
            "gridcolor": "white",
            "linecolor": "white",
            "ticks": ""
           },
           "bgcolor": "#E5ECF6",
           "caxis": {
            "gridcolor": "white",
            "linecolor": "white",
            "ticks": ""
           }
          },
          "title": {
           "x": 0.05
          },
          "xaxis": {
           "automargin": true,
           "gridcolor": "white",
           "linecolor": "white",
           "ticks": "",
           "title": {
            "standoff": 15
           },
           "zerolinecolor": "white",
           "zerolinewidth": 2
          },
          "yaxis": {
           "automargin": true,
           "gridcolor": "white",
           "linecolor": "white",
           "ticks": "",
           "title": {
            "standoff": 15
           },
           "zerolinecolor": "white",
           "zerolinewidth": 2
          }
         }
        },
        "title": {
         "text": "Top 10 Batsmen by Total Runs (Past 3 Years)"
        },
        "uniformtext": {
         "minsize": 8,
         "mode": "hide"
        },
        "xaxis": {
         "anchor": "y",
         "domain": [
          0,
          1
         ],
         "title": {
          "text": "Batsman"
         }
        },
        "yaxis": {
         "anchor": "x",
         "domain": [
          0,
          1
         ],
         "showgrid": false,
         "title": {
          "text": "Total Runs"
         }
        }
       }
      }
     },
     "metadata": {},
     "output_type": "display_data"
    },
    {
     "name": "stdout",
     "output_type": "stream",
     "text": [
      "        batsmanName  batting_average\n",
      "14          KLRahul        50.533333\n",
      "9      FafduPlessis        43.595238\n",
      "4       DavidMiller        43.200000\n",
      "13       JosButtler        41.916667\n",
      "32   ShimronHetmyer        40.666667\n",
      "34      ShubmanGill        40.266667\n",
      "31    ShikharDhawan        39.771429\n",
      "29   RuturajGaikwad        38.219512\n",
      "5       DavidWarner        37.900000\n",
      "35  SuryakumarYadav        35.000000\n"
     ]
    },
    {
     "name": "stderr",
     "output_type": "stream",
     "text": [
      "C:\\Users\\saich\\AppData\\Local\\Temp\\ipykernel_1188\\2656157959.py:83: SettingWithCopyWarning:\n",
      "\n",
      "\n",
      "A value is trying to be set on a copy of a slice from a DataFrame.\n",
      "Try using .loc[row_indexer,col_indexer] = value instead\n",
      "\n",
      "See the caveats in the documentation: https://pandas.pydata.org/pandas-docs/stable/user_guide/indexing.html#returning-a-view-versus-a-copy\n",
      "\n"
     ]
    },
    {
     "data": {
      "application/vnd.plotly.v1+json": {
       "config": {
        "plotlyServerURL": "https://plot.ly"
       },
       "data": [
        {
         "alignmentgroup": "True",
         "hovertemplate": "Batsman=%{x}<br>Batting Average=%{marker.color}<extra></extra>",
         "legendgroup": "",
         "marker": {
          "color": [
           50.53333333333333,
           43.595238095238095,
           43.2,
           41.916666666666664,
           40.666666666666664,
           40.266666666666666,
           39.77142857142857,
           38.21951219512195,
           37.9,
           35
          ],
          "coloraxis": "coloraxis",
          "pattern": {
           "shape": ""
          }
         },
         "name": "",
         "offsetgroup": "",
         "orientation": "v",
         "showlegend": false,
         "text": [
          50.53333333333333,
          43.595238095238095,
          43.2,
          41.916666666666664,
          40.666666666666664,
          40.266666666666666,
          39.77142857142857,
          38.21951219512195,
          37.9,
          35
         ],
         "textposition": "outside",
         "texttemplate": "%{text:.2f}",
         "type": "bar",
         "x": [
          "KLRahul",
          "FafduPlessis",
          "DavidMiller",
          "JosButtler",
          "ShimronHetmyer",
          "ShubmanGill",
          "ShikharDhawan",
          "RuturajGaikwad",
          "DavidWarner",
          "SuryakumarYadav"
         ],
         "xaxis": "x",
         "y": [
          50.53333333333333,
          43.595238095238095,
          43.2,
          41.916666666666664,
          40.666666666666664,
          40.266666666666666,
          39.77142857142857,
          38.21951219512195,
          37.9,
          35
         ],
         "yaxis": "y"
        }
       ],
       "layout": {
        "barmode": "relative",
        "coloraxis": {
         "colorbar": {
          "title": {
           "text": "Batting Average"
          }
         },
         "colorscale": [
          [
           0,
           "#0d0887"
          ],
          [
           0.1111111111111111,
           "#46039f"
          ],
          [
           0.2222222222222222,
           "#7201a8"
          ],
          [
           0.3333333333333333,
           "#9c179e"
          ],
          [
           0.4444444444444444,
           "#bd3786"
          ],
          [
           0.5555555555555556,
           "#d8576b"
          ],
          [
           0.6666666666666666,
           "#ed7953"
          ],
          [
           0.7777777777777778,
           "#fb9f3a"
          ],
          [
           0.8888888888888888,
           "#fdca26"
          ],
          [
           1,
           "#f0f921"
          ]
         ]
        },
        "legend": {
         "tracegroupgap": 0
        },
        "plot_bgcolor": "rgba(0,0,0,0)",
        "template": {
         "data": {
          "bar": [
           {
            "error_x": {
             "color": "#2a3f5f"
            },
            "error_y": {
             "color": "#2a3f5f"
            },
            "marker": {
             "line": {
              "color": "#E5ECF6",
              "width": 0.5
             },
             "pattern": {
              "fillmode": "overlay",
              "size": 10,
              "solidity": 0.2
             }
            },
            "type": "bar"
           }
          ],
          "barpolar": [
           {
            "marker": {
             "line": {
              "color": "#E5ECF6",
              "width": 0.5
             },
             "pattern": {
              "fillmode": "overlay",
              "size": 10,
              "solidity": 0.2
             }
            },
            "type": "barpolar"
           }
          ],
          "carpet": [
           {
            "aaxis": {
             "endlinecolor": "#2a3f5f",
             "gridcolor": "white",
             "linecolor": "white",
             "minorgridcolor": "white",
             "startlinecolor": "#2a3f5f"
            },
            "baxis": {
             "endlinecolor": "#2a3f5f",
             "gridcolor": "white",
             "linecolor": "white",
             "minorgridcolor": "white",
             "startlinecolor": "#2a3f5f"
            },
            "type": "carpet"
           }
          ],
          "choropleth": [
           {
            "colorbar": {
             "outlinewidth": 0,
             "ticks": ""
            },
            "type": "choropleth"
           }
          ],
          "contour": [
           {
            "colorbar": {
             "outlinewidth": 0,
             "ticks": ""
            },
            "colorscale": [
             [
              0,
              "#0d0887"
             ],
             [
              0.1111111111111111,
              "#46039f"
             ],
             [
              0.2222222222222222,
              "#7201a8"
             ],
             [
              0.3333333333333333,
              "#9c179e"
             ],
             [
              0.4444444444444444,
              "#bd3786"
             ],
             [
              0.5555555555555556,
              "#d8576b"
             ],
             [
              0.6666666666666666,
              "#ed7953"
             ],
             [
              0.7777777777777778,
              "#fb9f3a"
             ],
             [
              0.8888888888888888,
              "#fdca26"
             ],
             [
              1,
              "#f0f921"
             ]
            ],
            "type": "contour"
           }
          ],
          "contourcarpet": [
           {
            "colorbar": {
             "outlinewidth": 0,
             "ticks": ""
            },
            "type": "contourcarpet"
           }
          ],
          "heatmap": [
           {
            "colorbar": {
             "outlinewidth": 0,
             "ticks": ""
            },
            "colorscale": [
             [
              0,
              "#0d0887"
             ],
             [
              0.1111111111111111,
              "#46039f"
             ],
             [
              0.2222222222222222,
              "#7201a8"
             ],
             [
              0.3333333333333333,
              "#9c179e"
             ],
             [
              0.4444444444444444,
              "#bd3786"
             ],
             [
              0.5555555555555556,
              "#d8576b"
             ],
             [
              0.6666666666666666,
              "#ed7953"
             ],
             [
              0.7777777777777778,
              "#fb9f3a"
             ],
             [
              0.8888888888888888,
              "#fdca26"
             ],
             [
              1,
              "#f0f921"
             ]
            ],
            "type": "heatmap"
           }
          ],
          "heatmapgl": [
           {
            "colorbar": {
             "outlinewidth": 0,
             "ticks": ""
            },
            "colorscale": [
             [
              0,
              "#0d0887"
             ],
             [
              0.1111111111111111,
              "#46039f"
             ],
             [
              0.2222222222222222,
              "#7201a8"
             ],
             [
              0.3333333333333333,
              "#9c179e"
             ],
             [
              0.4444444444444444,
              "#bd3786"
             ],
             [
              0.5555555555555556,
              "#d8576b"
             ],
             [
              0.6666666666666666,
              "#ed7953"
             ],
             [
              0.7777777777777778,
              "#fb9f3a"
             ],
             [
              0.8888888888888888,
              "#fdca26"
             ],
             [
              1,
              "#f0f921"
             ]
            ],
            "type": "heatmapgl"
           }
          ],
          "histogram": [
           {
            "marker": {
             "pattern": {
              "fillmode": "overlay",
              "size": 10,
              "solidity": 0.2
             }
            },
            "type": "histogram"
           }
          ],
          "histogram2d": [
           {
            "colorbar": {
             "outlinewidth": 0,
             "ticks": ""
            },
            "colorscale": [
             [
              0,
              "#0d0887"
             ],
             [
              0.1111111111111111,
              "#46039f"
             ],
             [
              0.2222222222222222,
              "#7201a8"
             ],
             [
              0.3333333333333333,
              "#9c179e"
             ],
             [
              0.4444444444444444,
              "#bd3786"
             ],
             [
              0.5555555555555556,
              "#d8576b"
             ],
             [
              0.6666666666666666,
              "#ed7953"
             ],
             [
              0.7777777777777778,
              "#fb9f3a"
             ],
             [
              0.8888888888888888,
              "#fdca26"
             ],
             [
              1,
              "#f0f921"
             ]
            ],
            "type": "histogram2d"
           }
          ],
          "histogram2dcontour": [
           {
            "colorbar": {
             "outlinewidth": 0,
             "ticks": ""
            },
            "colorscale": [
             [
              0,
              "#0d0887"
             ],
             [
              0.1111111111111111,
              "#46039f"
             ],
             [
              0.2222222222222222,
              "#7201a8"
             ],
             [
              0.3333333333333333,
              "#9c179e"
             ],
             [
              0.4444444444444444,
              "#bd3786"
             ],
             [
              0.5555555555555556,
              "#d8576b"
             ],
             [
              0.6666666666666666,
              "#ed7953"
             ],
             [
              0.7777777777777778,
              "#fb9f3a"
             ],
             [
              0.8888888888888888,
              "#fdca26"
             ],
             [
              1,
              "#f0f921"
             ]
            ],
            "type": "histogram2dcontour"
           }
          ],
          "mesh3d": [
           {
            "colorbar": {
             "outlinewidth": 0,
             "ticks": ""
            },
            "type": "mesh3d"
           }
          ],
          "parcoords": [
           {
            "line": {
             "colorbar": {
              "outlinewidth": 0,
              "ticks": ""
             }
            },
            "type": "parcoords"
           }
          ],
          "pie": [
           {
            "automargin": true,
            "type": "pie"
           }
          ],
          "scatter": [
           {
            "fillpattern": {
             "fillmode": "overlay",
             "size": 10,
             "solidity": 0.2
            },
            "type": "scatter"
           }
          ],
          "scatter3d": [
           {
            "line": {
             "colorbar": {
              "outlinewidth": 0,
              "ticks": ""
             }
            },
            "marker": {
             "colorbar": {
              "outlinewidth": 0,
              "ticks": ""
             }
            },
            "type": "scatter3d"
           }
          ],
          "scattercarpet": [
           {
            "marker": {
             "colorbar": {
              "outlinewidth": 0,
              "ticks": ""
             }
            },
            "type": "scattercarpet"
           }
          ],
          "scattergeo": [
           {
            "marker": {
             "colorbar": {
              "outlinewidth": 0,
              "ticks": ""
             }
            },
            "type": "scattergeo"
           }
          ],
          "scattergl": [
           {
            "marker": {
             "colorbar": {
              "outlinewidth": 0,
              "ticks": ""
             }
            },
            "type": "scattergl"
           }
          ],
          "scattermapbox": [
           {
            "marker": {
             "colorbar": {
              "outlinewidth": 0,
              "ticks": ""
             }
            },
            "type": "scattermapbox"
           }
          ],
          "scatterpolar": [
           {
            "marker": {
             "colorbar": {
              "outlinewidth": 0,
              "ticks": ""
             }
            },
            "type": "scatterpolar"
           }
          ],
          "scatterpolargl": [
           {
            "marker": {
             "colorbar": {
              "outlinewidth": 0,
              "ticks": ""
             }
            },
            "type": "scatterpolargl"
           }
          ],
          "scatterternary": [
           {
            "marker": {
             "colorbar": {
              "outlinewidth": 0,
              "ticks": ""
             }
            },
            "type": "scatterternary"
           }
          ],
          "surface": [
           {
            "colorbar": {
             "outlinewidth": 0,
             "ticks": ""
            },
            "colorscale": [
             [
              0,
              "#0d0887"
             ],
             [
              0.1111111111111111,
              "#46039f"
             ],
             [
              0.2222222222222222,
              "#7201a8"
             ],
             [
              0.3333333333333333,
              "#9c179e"
             ],
             [
              0.4444444444444444,
              "#bd3786"
             ],
             [
              0.5555555555555556,
              "#d8576b"
             ],
             [
              0.6666666666666666,
              "#ed7953"
             ],
             [
              0.7777777777777778,
              "#fb9f3a"
             ],
             [
              0.8888888888888888,
              "#fdca26"
             ],
             [
              1,
              "#f0f921"
             ]
            ],
            "type": "surface"
           }
          ],
          "table": [
           {
            "cells": {
             "fill": {
              "color": "#EBF0F8"
             },
             "line": {
              "color": "white"
             }
            },
            "header": {
             "fill": {
              "color": "#C8D4E3"
             },
             "line": {
              "color": "white"
             }
            },
            "type": "table"
           }
          ]
         },
         "layout": {
          "annotationdefaults": {
           "arrowcolor": "#2a3f5f",
           "arrowhead": 0,
           "arrowwidth": 1
          },
          "autotypenumbers": "strict",
          "coloraxis": {
           "colorbar": {
            "outlinewidth": 0,
            "ticks": ""
           }
          },
          "colorscale": {
           "diverging": [
            [
             0,
             "#8e0152"
            ],
            [
             0.1,
             "#c51b7d"
            ],
            [
             0.2,
             "#de77ae"
            ],
            [
             0.3,
             "#f1b6da"
            ],
            [
             0.4,
             "#fde0ef"
            ],
            [
             0.5,
             "#f7f7f7"
            ],
            [
             0.6,
             "#e6f5d0"
            ],
            [
             0.7,
             "#b8e186"
            ],
            [
             0.8,
             "#7fbc41"
            ],
            [
             0.9,
             "#4d9221"
            ],
            [
             1,
             "#276419"
            ]
           ],
           "sequential": [
            [
             0,
             "#0d0887"
            ],
            [
             0.1111111111111111,
             "#46039f"
            ],
            [
             0.2222222222222222,
             "#7201a8"
            ],
            [
             0.3333333333333333,
             "#9c179e"
            ],
            [
             0.4444444444444444,
             "#bd3786"
            ],
            [
             0.5555555555555556,
             "#d8576b"
            ],
            [
             0.6666666666666666,
             "#ed7953"
            ],
            [
             0.7777777777777778,
             "#fb9f3a"
            ],
            [
             0.8888888888888888,
             "#fdca26"
            ],
            [
             1,
             "#f0f921"
            ]
           ],
           "sequentialminus": [
            [
             0,
             "#0d0887"
            ],
            [
             0.1111111111111111,
             "#46039f"
            ],
            [
             0.2222222222222222,
             "#7201a8"
            ],
            [
             0.3333333333333333,
             "#9c179e"
            ],
            [
             0.4444444444444444,
             "#bd3786"
            ],
            [
             0.5555555555555556,
             "#d8576b"
            ],
            [
             0.6666666666666666,
             "#ed7953"
            ],
            [
             0.7777777777777778,
             "#fb9f3a"
            ],
            [
             0.8888888888888888,
             "#fdca26"
            ],
            [
             1,
             "#f0f921"
            ]
           ]
          },
          "colorway": [
           "#636efa",
           "#EF553B",
           "#00cc96",
           "#ab63fa",
           "#FFA15A",
           "#19d3f3",
           "#FF6692",
           "#B6E880",
           "#FF97FF",
           "#FECB52"
          ],
          "font": {
           "color": "#2a3f5f"
          },
          "geo": {
           "bgcolor": "white",
           "lakecolor": "white",
           "landcolor": "#E5ECF6",
           "showlakes": true,
           "showland": true,
           "subunitcolor": "white"
          },
          "hoverlabel": {
           "align": "left"
          },
          "hovermode": "closest",
          "mapbox": {
           "style": "light"
          },
          "paper_bgcolor": "white",
          "plot_bgcolor": "#E5ECF6",
          "polar": {
           "angularaxis": {
            "gridcolor": "white",
            "linecolor": "white",
            "ticks": ""
           },
           "bgcolor": "#E5ECF6",
           "radialaxis": {
            "gridcolor": "white",
            "linecolor": "white",
            "ticks": ""
           }
          },
          "scene": {
           "xaxis": {
            "backgroundcolor": "#E5ECF6",
            "gridcolor": "white",
            "gridwidth": 2,
            "linecolor": "white",
            "showbackground": true,
            "ticks": "",
            "zerolinecolor": "white"
           },
           "yaxis": {
            "backgroundcolor": "#E5ECF6",
            "gridcolor": "white",
            "gridwidth": 2,
            "linecolor": "white",
            "showbackground": true,
            "ticks": "",
            "zerolinecolor": "white"
           },
           "zaxis": {
            "backgroundcolor": "#E5ECF6",
            "gridcolor": "white",
            "gridwidth": 2,
            "linecolor": "white",
            "showbackground": true,
            "ticks": "",
            "zerolinecolor": "white"
           }
          },
          "shapedefaults": {
           "line": {
            "color": "#2a3f5f"
           }
          },
          "ternary": {
           "aaxis": {
            "gridcolor": "white",
            "linecolor": "white",
            "ticks": ""
           },
           "baxis": {
            "gridcolor": "white",
            "linecolor": "white",
            "ticks": ""
           },
           "bgcolor": "#E5ECF6",
           "caxis": {
            "gridcolor": "white",
            "linecolor": "white",
            "ticks": ""
           }
          },
          "title": {
           "x": 0.05
          },
          "xaxis": {
           "automargin": true,
           "gridcolor": "white",
           "linecolor": "white",
           "ticks": "",
           "title": {
            "standoff": 15
           },
           "zerolinecolor": "white",
           "zerolinewidth": 2
          },
          "yaxis": {
           "automargin": true,
           "gridcolor": "white",
           "linecolor": "white",
           "ticks": "",
           "title": {
            "standoff": 15
           },
           "zerolinecolor": "white",
           "zerolinewidth": 2
          }
         }
        },
        "title": {
         "text": "Top 10 Batsmen by Batting Average (Past 3 Years, Min 60 Balls/Season)"
        },
        "uniformtext": {
         "minsize": 8,
         "mode": "hide"
        },
        "xaxis": {
         "anchor": "y",
         "domain": [
          0,
          1
         ],
         "title": {
          "text": "Batsman"
         }
        },
        "yaxis": {
         "anchor": "x",
         "domain": [
          0,
          1
         ],
         "showgrid": false,
         "title": {
          "text": "Batting Average"
         }
        }
       }
      }
     },
     "metadata": {},
     "output_type": "display_data"
    },
    {
     "name": "stdout",
     "output_type": "stream",
     "text": [
      "        batsmanName  strike_rate\n",
      "10     GlennMaxwell   161.436170\n",
      "35  SuryakumarYadav   160.550459\n",
      "3      AndreRussell   159.188034\n",
      "32   ShimronHetmyer   157.274401\n",
      "21   NicholasPooran   157.112069\n",
      "23      PrithviShaw   153.195489\n",
      "8     DineshKarthik   152.643172\n",
      "39  YashasviJaiswal   152.150538\n",
      "13       JosButtler   146.932814\n",
      "33       ShivamDube   145.732689\n"
     ]
    },
    {
     "data": {
      "application/vnd.plotly.v1+json": {
       "config": {
        "plotlyServerURL": "https://plot.ly"
       },
       "data": [
        {
         "alignmentgroup": "True",
         "hovertemplate": "Batsman=%{x}<br>Strike Rate=%{marker.color}<extra></extra>",
         "legendgroup": "",
         "marker": {
          "color": [
           161.43617021276594,
           160.55045871559633,
           159.18803418803418,
           157.2744014732965,
           157.11206896551724,
           153.1954887218045,
           152.6431718061674,
           152.1505376344086,
           146.93281402142162,
           145.73268921095007
          ],
          "coloraxis": "coloraxis",
          "pattern": {
           "shape": ""
          }
         },
         "name": "",
         "offsetgroup": "",
         "orientation": "v",
         "showlegend": false,
         "text": [
          161.43617021276594,
          160.55045871559633,
          159.18803418803418,
          157.2744014732965,
          157.11206896551724,
          153.1954887218045,
          152.6431718061674,
          152.1505376344086,
          146.93281402142162,
          145.73268921095007
         ],
         "textposition": "outside",
         "texttemplate": "%{text:.2f}",
         "type": "bar",
         "x": [
          "GlennMaxwell",
          "SuryakumarYadav",
          "AndreRussell",
          "ShimronHetmyer",
          "NicholasPooran",
          "PrithviShaw",
          "DineshKarthik",
          "YashasviJaiswal",
          "JosButtler",
          "ShivamDube"
         ],
         "xaxis": "x",
         "y": [
          161.43617021276594,
          160.55045871559633,
          159.18803418803418,
          157.2744014732965,
          157.11206896551724,
          153.1954887218045,
          152.6431718061674,
          152.1505376344086,
          146.93281402142162,
          145.73268921095007
         ],
         "yaxis": "y"
        }
       ],
       "layout": {
        "barmode": "relative",
        "coloraxis": {
         "colorbar": {
          "title": {
           "text": "Strike Rate"
          }
         },
         "colorscale": [
          [
           0,
           "#440154"
          ],
          [
           0.1111111111111111,
           "#482878"
          ],
          [
           0.2222222222222222,
           "#3e4989"
          ],
          [
           0.3333333333333333,
           "#31688e"
          ],
          [
           0.4444444444444444,
           "#26828e"
          ],
          [
           0.5555555555555556,
           "#1f9e89"
          ],
          [
           0.6666666666666666,
           "#35b779"
          ],
          [
           0.7777777777777778,
           "#6ece58"
          ],
          [
           0.8888888888888888,
           "#b5de2b"
          ],
          [
           1,
           "#fde725"
          ]
         ]
        },
        "legend": {
         "tracegroupgap": 0
        },
        "plot_bgcolor": "rgba(0,0,0,0)",
        "template": {
         "data": {
          "bar": [
           {
            "error_x": {
             "color": "#2a3f5f"
            },
            "error_y": {
             "color": "#2a3f5f"
            },
            "marker": {
             "line": {
              "color": "#E5ECF6",
              "width": 0.5
             },
             "pattern": {
              "fillmode": "overlay",
              "size": 10,
              "solidity": 0.2
             }
            },
            "type": "bar"
           }
          ],
          "barpolar": [
           {
            "marker": {
             "line": {
              "color": "#E5ECF6",
              "width": 0.5
             },
             "pattern": {
              "fillmode": "overlay",
              "size": 10,
              "solidity": 0.2
             }
            },
            "type": "barpolar"
           }
          ],
          "carpet": [
           {
            "aaxis": {
             "endlinecolor": "#2a3f5f",
             "gridcolor": "white",
             "linecolor": "white",
             "minorgridcolor": "white",
             "startlinecolor": "#2a3f5f"
            },
            "baxis": {
             "endlinecolor": "#2a3f5f",
             "gridcolor": "white",
             "linecolor": "white",
             "minorgridcolor": "white",
             "startlinecolor": "#2a3f5f"
            },
            "type": "carpet"
           }
          ],
          "choropleth": [
           {
            "colorbar": {
             "outlinewidth": 0,
             "ticks": ""
            },
            "type": "choropleth"
           }
          ],
          "contour": [
           {
            "colorbar": {
             "outlinewidth": 0,
             "ticks": ""
            },
            "colorscale": [
             [
              0,
              "#0d0887"
             ],
             [
              0.1111111111111111,
              "#46039f"
             ],
             [
              0.2222222222222222,
              "#7201a8"
             ],
             [
              0.3333333333333333,
              "#9c179e"
             ],
             [
              0.4444444444444444,
              "#bd3786"
             ],
             [
              0.5555555555555556,
              "#d8576b"
             ],
             [
              0.6666666666666666,
              "#ed7953"
             ],
             [
              0.7777777777777778,
              "#fb9f3a"
             ],
             [
              0.8888888888888888,
              "#fdca26"
             ],
             [
              1,
              "#f0f921"
             ]
            ],
            "type": "contour"
           }
          ],
          "contourcarpet": [
           {
            "colorbar": {
             "outlinewidth": 0,
             "ticks": ""
            },
            "type": "contourcarpet"
           }
          ],
          "heatmap": [
           {
            "colorbar": {
             "outlinewidth": 0,
             "ticks": ""
            },
            "colorscale": [
             [
              0,
              "#0d0887"
             ],
             [
              0.1111111111111111,
              "#46039f"
             ],
             [
              0.2222222222222222,
              "#7201a8"
             ],
             [
              0.3333333333333333,
              "#9c179e"
             ],
             [
              0.4444444444444444,
              "#bd3786"
             ],
             [
              0.5555555555555556,
              "#d8576b"
             ],
             [
              0.6666666666666666,
              "#ed7953"
             ],
             [
              0.7777777777777778,
              "#fb9f3a"
             ],
             [
              0.8888888888888888,
              "#fdca26"
             ],
             [
              1,
              "#f0f921"
             ]
            ],
            "type": "heatmap"
           }
          ],
          "heatmapgl": [
           {
            "colorbar": {
             "outlinewidth": 0,
             "ticks": ""
            },
            "colorscale": [
             [
              0,
              "#0d0887"
             ],
             [
              0.1111111111111111,
              "#46039f"
             ],
             [
              0.2222222222222222,
              "#7201a8"
             ],
             [
              0.3333333333333333,
              "#9c179e"
             ],
             [
              0.4444444444444444,
              "#bd3786"
             ],
             [
              0.5555555555555556,
              "#d8576b"
             ],
             [
              0.6666666666666666,
              "#ed7953"
             ],
             [
              0.7777777777777778,
              "#fb9f3a"
             ],
             [
              0.8888888888888888,
              "#fdca26"
             ],
             [
              1,
              "#f0f921"
             ]
            ],
            "type": "heatmapgl"
           }
          ],
          "histogram": [
           {
            "marker": {
             "pattern": {
              "fillmode": "overlay",
              "size": 10,
              "solidity": 0.2
             }
            },
            "type": "histogram"
           }
          ],
          "histogram2d": [
           {
            "colorbar": {
             "outlinewidth": 0,
             "ticks": ""
            },
            "colorscale": [
             [
              0,
              "#0d0887"
             ],
             [
              0.1111111111111111,
              "#46039f"
             ],
             [
              0.2222222222222222,
              "#7201a8"
             ],
             [
              0.3333333333333333,
              "#9c179e"
             ],
             [
              0.4444444444444444,
              "#bd3786"
             ],
             [
              0.5555555555555556,
              "#d8576b"
             ],
             [
              0.6666666666666666,
              "#ed7953"
             ],
             [
              0.7777777777777778,
              "#fb9f3a"
             ],
             [
              0.8888888888888888,
              "#fdca26"
             ],
             [
              1,
              "#f0f921"
             ]
            ],
            "type": "histogram2d"
           }
          ],
          "histogram2dcontour": [
           {
            "colorbar": {
             "outlinewidth": 0,
             "ticks": ""
            },
            "colorscale": [
             [
              0,
              "#0d0887"
             ],
             [
              0.1111111111111111,
              "#46039f"
             ],
             [
              0.2222222222222222,
              "#7201a8"
             ],
             [
              0.3333333333333333,
              "#9c179e"
             ],
             [
              0.4444444444444444,
              "#bd3786"
             ],
             [
              0.5555555555555556,
              "#d8576b"
             ],
             [
              0.6666666666666666,
              "#ed7953"
             ],
             [
              0.7777777777777778,
              "#fb9f3a"
             ],
             [
              0.8888888888888888,
              "#fdca26"
             ],
             [
              1,
              "#f0f921"
             ]
            ],
            "type": "histogram2dcontour"
           }
          ],
          "mesh3d": [
           {
            "colorbar": {
             "outlinewidth": 0,
             "ticks": ""
            },
            "type": "mesh3d"
           }
          ],
          "parcoords": [
           {
            "line": {
             "colorbar": {
              "outlinewidth": 0,
              "ticks": ""
             }
            },
            "type": "parcoords"
           }
          ],
          "pie": [
           {
            "automargin": true,
            "type": "pie"
           }
          ],
          "scatter": [
           {
            "fillpattern": {
             "fillmode": "overlay",
             "size": 10,
             "solidity": 0.2
            },
            "type": "scatter"
           }
          ],
          "scatter3d": [
           {
            "line": {
             "colorbar": {
              "outlinewidth": 0,
              "ticks": ""
             }
            },
            "marker": {
             "colorbar": {
              "outlinewidth": 0,
              "ticks": ""
             }
            },
            "type": "scatter3d"
           }
          ],
          "scattercarpet": [
           {
            "marker": {
             "colorbar": {
              "outlinewidth": 0,
              "ticks": ""
             }
            },
            "type": "scattercarpet"
           }
          ],
          "scattergeo": [
           {
            "marker": {
             "colorbar": {
              "outlinewidth": 0,
              "ticks": ""
             }
            },
            "type": "scattergeo"
           }
          ],
          "scattergl": [
           {
            "marker": {
             "colorbar": {
              "outlinewidth": 0,
              "ticks": ""
             }
            },
            "type": "scattergl"
           }
          ],
          "scattermapbox": [
           {
            "marker": {
             "colorbar": {
              "outlinewidth": 0,
              "ticks": ""
             }
            },
            "type": "scattermapbox"
           }
          ],
          "scatterpolar": [
           {
            "marker": {
             "colorbar": {
              "outlinewidth": 0,
              "ticks": ""
             }
            },
            "type": "scatterpolar"
           }
          ],
          "scatterpolargl": [
           {
            "marker": {
             "colorbar": {
              "outlinewidth": 0,
              "ticks": ""
             }
            },
            "type": "scatterpolargl"
           }
          ],
          "scatterternary": [
           {
            "marker": {
             "colorbar": {
              "outlinewidth": 0,
              "ticks": ""
             }
            },
            "type": "scatterternary"
           }
          ],
          "surface": [
           {
            "colorbar": {
             "outlinewidth": 0,
             "ticks": ""
            },
            "colorscale": [
             [
              0,
              "#0d0887"
             ],
             [
              0.1111111111111111,
              "#46039f"
             ],
             [
              0.2222222222222222,
              "#7201a8"
             ],
             [
              0.3333333333333333,
              "#9c179e"
             ],
             [
              0.4444444444444444,
              "#bd3786"
             ],
             [
              0.5555555555555556,
              "#d8576b"
             ],
             [
              0.6666666666666666,
              "#ed7953"
             ],
             [
              0.7777777777777778,
              "#fb9f3a"
             ],
             [
              0.8888888888888888,
              "#fdca26"
             ],
             [
              1,
              "#f0f921"
             ]
            ],
            "type": "surface"
           }
          ],
          "table": [
           {
            "cells": {
             "fill": {
              "color": "#EBF0F8"
             },
             "line": {
              "color": "white"
             }
            },
            "header": {
             "fill": {
              "color": "#C8D4E3"
             },
             "line": {
              "color": "white"
             }
            },
            "type": "table"
           }
          ]
         },
         "layout": {
          "annotationdefaults": {
           "arrowcolor": "#2a3f5f",
           "arrowhead": 0,
           "arrowwidth": 1
          },
          "autotypenumbers": "strict",
          "coloraxis": {
           "colorbar": {
            "outlinewidth": 0,
            "ticks": ""
           }
          },
          "colorscale": {
           "diverging": [
            [
             0,
             "#8e0152"
            ],
            [
             0.1,
             "#c51b7d"
            ],
            [
             0.2,
             "#de77ae"
            ],
            [
             0.3,
             "#f1b6da"
            ],
            [
             0.4,
             "#fde0ef"
            ],
            [
             0.5,
             "#f7f7f7"
            ],
            [
             0.6,
             "#e6f5d0"
            ],
            [
             0.7,
             "#b8e186"
            ],
            [
             0.8,
             "#7fbc41"
            ],
            [
             0.9,
             "#4d9221"
            ],
            [
             1,
             "#276419"
            ]
           ],
           "sequential": [
            [
             0,
             "#0d0887"
            ],
            [
             0.1111111111111111,
             "#46039f"
            ],
            [
             0.2222222222222222,
             "#7201a8"
            ],
            [
             0.3333333333333333,
             "#9c179e"
            ],
            [
             0.4444444444444444,
             "#bd3786"
            ],
            [
             0.5555555555555556,
             "#d8576b"
            ],
            [
             0.6666666666666666,
             "#ed7953"
            ],
            [
             0.7777777777777778,
             "#fb9f3a"
            ],
            [
             0.8888888888888888,
             "#fdca26"
            ],
            [
             1,
             "#f0f921"
            ]
           ],
           "sequentialminus": [
            [
             0,
             "#0d0887"
            ],
            [
             0.1111111111111111,
             "#46039f"
            ],
            [
             0.2222222222222222,
             "#7201a8"
            ],
            [
             0.3333333333333333,
             "#9c179e"
            ],
            [
             0.4444444444444444,
             "#bd3786"
            ],
            [
             0.5555555555555556,
             "#d8576b"
            ],
            [
             0.6666666666666666,
             "#ed7953"
            ],
            [
             0.7777777777777778,
             "#fb9f3a"
            ],
            [
             0.8888888888888888,
             "#fdca26"
            ],
            [
             1,
             "#f0f921"
            ]
           ]
          },
          "colorway": [
           "#636efa",
           "#EF553B",
           "#00cc96",
           "#ab63fa",
           "#FFA15A",
           "#19d3f3",
           "#FF6692",
           "#B6E880",
           "#FF97FF",
           "#FECB52"
          ],
          "font": {
           "color": "#2a3f5f"
          },
          "geo": {
           "bgcolor": "white",
           "lakecolor": "white",
           "landcolor": "#E5ECF6",
           "showlakes": true,
           "showland": true,
           "subunitcolor": "white"
          },
          "hoverlabel": {
           "align": "left"
          },
          "hovermode": "closest",
          "mapbox": {
           "style": "light"
          },
          "paper_bgcolor": "white",
          "plot_bgcolor": "#E5ECF6",
          "polar": {
           "angularaxis": {
            "gridcolor": "white",
            "linecolor": "white",
            "ticks": ""
           },
           "bgcolor": "#E5ECF6",
           "radialaxis": {
            "gridcolor": "white",
            "linecolor": "white",
            "ticks": ""
           }
          },
          "scene": {
           "xaxis": {
            "backgroundcolor": "#E5ECF6",
            "gridcolor": "white",
            "gridwidth": 2,
            "linecolor": "white",
            "showbackground": true,
            "ticks": "",
            "zerolinecolor": "white"
           },
           "yaxis": {
            "backgroundcolor": "#E5ECF6",
            "gridcolor": "white",
            "gridwidth": 2,
            "linecolor": "white",
            "showbackground": true,
            "ticks": "",
            "zerolinecolor": "white"
           },
           "zaxis": {
            "backgroundcolor": "#E5ECF6",
            "gridcolor": "white",
            "gridwidth": 2,
            "linecolor": "white",
            "showbackground": true,
            "ticks": "",
            "zerolinecolor": "white"
           }
          },
          "shapedefaults": {
           "line": {
            "color": "#2a3f5f"
           }
          },
          "ternary": {
           "aaxis": {
            "gridcolor": "white",
            "linecolor": "white",
            "ticks": ""
           },
           "baxis": {
            "gridcolor": "white",
            "linecolor": "white",
            "ticks": ""
           },
           "bgcolor": "#E5ECF6",
           "caxis": {
            "gridcolor": "white",
            "linecolor": "white",
            "ticks": ""
           }
          },
          "title": {
           "x": 0.05
          },
          "xaxis": {
           "automargin": true,
           "gridcolor": "white",
           "linecolor": "white",
           "ticks": "",
           "title": {
            "standoff": 15
           },
           "zerolinecolor": "white",
           "zerolinewidth": 2
          },
          "yaxis": {
           "automargin": true,
           "gridcolor": "white",
           "linecolor": "white",
           "ticks": "",
           "title": {
            "standoff": 15
           },
           "zerolinecolor": "white",
           "zerolinewidth": 2
          }
         }
        },
        "title": {
         "text": "Top 10 Batsmen by Strike Rate (Past 3 Years, Min 60 Balls/Season)"
        },
        "uniformtext": {
         "minsize": 8,
         "mode": "hide"
        },
        "xaxis": {
         "anchor": "y",
         "domain": [
          0,
          1
         ],
         "title": {
          "text": "Batsman"
         }
        },
        "yaxis": {
         "anchor": "x",
         "domain": [
          0,
          1
         ],
         "showgrid": false,
         "title": {
          "text": "Strike Rate"
         }
        }
       }
      }
     },
     "metadata": {},
     "output_type": "display_data"
    }
   ],
   "source": [
    "### Top 10 batsmen based on past 3 years total runs scored\n",
    "\n",
    "# Merge the two DataFrames on a common column (e.g., 'match_id')\n",
    "merged_df = pd.merge(match_summary, bating_summary, on='match_id', how='inner')  # Change 'inner' to 'left', 'right', or 'outer' depending on the merge type\n",
    "\n",
    "# Display the merged DataFrame\n",
    "print(merged_df)\n",
    "\n",
    "\n",
    "\n",
    "\n",
    "# Convert matchDate to datetime\n",
    "merged_df['matchDate'] = pd.to_datetime(merged_df['matchDate'], errors='coerce')\n",
    "\n",
    "# Filter data for the last 3 years\n",
    "three_years_ago = pd.Timestamp.now() - pd.DateOffset(years=3)\n",
    "recent_df = merged_df[merged_df['matchDate'] >= three_years_ago]\n",
    "\n",
    "# Group by batsmanName and sum total runs\n",
    "batsman_runs = recent_df.groupby('batsmanName')['runs'].sum()\n",
    "\n",
    "# Sort and get top 10 batsmen\n",
    "top_10_batsmen_3Years = batsman_runs.sort_values(ascending=False).head(10)\n",
    "\n",
    "# Display the result\n",
    "print(top_10_batsmen_3Years)\n",
    "\n",
    "\n",
    "\n",
    "top_10_df = top_10_batsmen_3Years.reset_index()\n",
    "top_10_df.columns = ['Batsman', 'Total Runs']\n",
    "\n",
    "# Create the bar chart\n",
    "fig = px.bar(\n",
    "    top_10_df,\n",
    "    x='Batsman',\n",
    "    y='Total Runs',\n",
    "    title='Top 10 Batsmen by Total Runs (Past 3 Years)',\n",
    "    text='Total Runs',\n",
    "    color='Total Runs',\n",
    "    color_continuous_scale='Viridis'\n",
    ")\n",
    "\n",
    "# Add hover and styling\n",
    "fig.update_traces(texttemplate='%{text}', textposition='outside')\n",
    "fig.update_layout(\n",
    "    xaxis_title='Batsman',\n",
    "    yaxis_title='Total Runs',\n",
    "    uniformtext_minsize=8,\n",
    "    uniformtext_mode='hide',\n",
    "    plot_bgcolor='rgba(0,0,0,0)',\n",
    "    yaxis=dict(showgrid=False),\n",
    ")\n",
    "\n",
    "# Show the figure\n",
    "fig.show()\n",
    "\n",
    "\n",
    "\n",
    "# Convert date and extract year\n",
    "merged_df['matchDate'] = pd.to_datetime(merged_df['matchDate'], errors='coerce')\n",
    "merged_df['year'] = merged_df['matchDate'].dt.year\n",
    "\n",
    "# Filter for the last 3 years\n",
    "three_years = sorted(merged_df['year'].dropna().unique())[-3:]\n",
    "recent_df = merged_df[merged_df['year'].isin(three_years)]\n",
    "\n",
    "# Step 1: Group by batsman and year to check balls faced each year\n",
    "balls_per_year = recent_df.groupby(['batsmanName', 'year'])['balls'].sum().reset_index()\n",
    "\n",
    "# Step 2: Keep batsmen who have faced at least 60 balls in each of the 3 years\n",
    "qualified_batsmen = (\n",
    "    balls_per_year[balls_per_year['balls'] >= 60]\n",
    "    .groupby('batsmanName')['year']\n",
    "    .nunique()\n",
    ")\n",
    "qualified_batsmen = qualified_batsmen[qualified_batsmen == 3].index.tolist()\n",
    "\n",
    "# Step 3: Filter original data for these qualified batsmen\n",
    "qualified_df = recent_df[recent_df['batsmanName'].isin(qualified_batsmen)]\n",
    "\n",
    "# Step 4: Calculate total runs and outs\n",
    "qualified_df['is_out'] = qualified_df['out/not_out'].apply(lambda x: 1 if x == 'out' else 0)\n",
    "\n",
    "batting_stats = qualified_df.groupby('batsmanName').agg({\n",
    "    'runs': 'sum',\n",
    "    'is_out': 'sum'\n",
    "}).reset_index()\n",
    "\n",
    "# Step 5: Calculate batting average\n",
    "batting_stats = batting_stats[batting_stats['is_out'] > 0]\n",
    "batting_stats['batting_average'] = batting_stats['runs'] / batting_stats['is_out']\n",
    "\n",
    "# Step 6: Sort and get top 10\n",
    "top_10_avg = batting_stats.sort_values(by='batting_average', ascending=False).head(10)\n",
    "\n",
    "print(top_10_avg[['batsmanName', 'batting_average']])\n",
    "\n",
    "\n",
    "\n",
    "# Prepare the DataFrame (if not already done)\n",
    "top_10_avg_df = top_10_avg[['batsmanName', 'batting_average']].copy()\n",
    "top_10_avg_df.columns = ['Batsman', 'Batting Average']\n",
    "\n",
    "# Create the interactive bar chart\n",
    "fig = px.bar(\n",
    "    top_10_avg_df,\n",
    "    x='Batsman',\n",
    "    y='Batting Average',\n",
    "    text='Batting Average',\n",
    "    title='Top 10 Batsmen by Batting Average (Past 3 Years, Min 60 Balls/Season)',\n",
    "    color='Batting Average',\n",
    "    color_continuous_scale='Plasma'\n",
    ")\n",
    "\n",
    "# Style it\n",
    "fig.update_traces(texttemplate='%{text:.2f}', textposition='outside')\n",
    "fig.update_layout(\n",
    "    xaxis_title='Batsman',\n",
    "    yaxis_title='Batting Average',\n",
    "    yaxis=dict(showgrid=False),\n",
    "    plot_bgcolor='rgba(0,0,0,0)',\n",
    "    uniformtext_minsize=8,\n",
    "    uniformtext_mode='hide'\n",
    ")\n",
    "\n",
    "# Show the plot\n",
    "fig.show()\n",
    "\n",
    "\n",
    "### Top 10 batsmen based on past 3 years strike rate (min 60 balls faced in each season)\n",
    "\n",
    "# Step 1: Convert date and extract year\n",
    "merged_df['matchDate'] = pd.to_datetime(merged_df['matchDate'], errors='coerce')\n",
    "merged_df['year'] = merged_df['matchDate'].dt.year\n",
    "\n",
    "# Step 2: Filter for the last 3 years\n",
    "three_years = sorted(merged_df['year'].dropna().unique())[-3:]\n",
    "recent_df = merged_df[merged_df['year'].isin(three_years)]\n",
    "\n",
    "# Step 3: Group by batsman and year, sum balls faced\n",
    "balls_per_year = recent_df.groupby(['batsmanName', 'year'])['balls'].sum().reset_index()\n",
    "\n",
    "# Step 4: Keep batsmen who faced >=60 balls in each of the 3 years\n",
    "qualified_batsmen = (\n",
    "    balls_per_year[balls_per_year['balls'] >= 60]\n",
    "    .groupby('batsmanName')['year']\n",
    "    .nunique()\n",
    ")\n",
    "qualified_batsmen = qualified_batsmen[qualified_batsmen == 3].index.tolist()\n",
    "\n",
    "# Step 5: Filter recent data for qualified batsmen\n",
    "qualified_df = recent_df[recent_df['batsmanName'].isin(qualified_batsmen)]\n",
    "\n",
    "# Step 6: Calculate total runs and balls for those players\n",
    "strike_rate_stats = qualified_df.groupby('batsmanName').agg({\n",
    "    'runs': 'sum',\n",
    "    'balls': 'sum'\n",
    "}).reset_index()\n",
    "\n",
    "# Step 7: Calculate strike rate\n",
    "strike_rate_stats = strike_rate_stats[strike_rate_stats['balls'] > 0]\n",
    "strike_rate_stats['strike_rate'] = (strike_rate_stats['runs'] / strike_rate_stats['balls']) * 100\n",
    "\n",
    "# Step 8: Get Top 10 by strike rate\n",
    "top_10_sr = strike_rate_stats.sort_values(by='strike_rate', ascending=False).head(10)\n",
    "print(top_10_sr[['batsmanName', 'strike_rate']])\n",
    "\n",
    "\n",
    "top_10_sr_df = top_10_sr[['batsmanName', 'strike_rate']].copy()\n",
    "top_10_sr_df.columns = ['Batsman', 'Strike Rate']\n",
    "\n",
    "# Create interactive bar chart\n",
    "fig = px.bar(\n",
    "    top_10_sr_df,\n",
    "    x='Batsman',\n",
    "    y='Strike Rate',\n",
    "    text='Strike Rate',\n",
    "    title='Top 10 Batsmen by Strike Rate (Past 3 Years, Min 60 Balls/Season)',\n",
    "    color='Strike Rate',\n",
    "    color_continuous_scale='Viridis'\n",
    ")\n",
    "\n",
    "# Style the chart\n",
    "fig.update_traces(texttemplate='%{text:.2f}', textposition='outside')\n",
    "fig.update_layout(\n",
    "    xaxis_title='Batsman',\n",
    "    yaxis_title='Strike Rate',\n",
    "    yaxis=dict(showgrid=False),\n",
    "    plot_bgcolor='rgba(0,0,0,0)',\n",
    "    uniformtext_minsize=8,\n",
    "    uniformtext_mode='hide'\n",
    ")\n",
    "\n",
    "fig.show()\n"
   ]
  },
  {
   "cell_type": "code",
   "execution_count": 5,
   "id": "f3bf3e28",
   "metadata": {},
   "outputs": [
    {
     "name": "stdout",
     "output_type": "stream",
     "text": [
      "            team1   team2       winner     margin     matchDate match_id  \\\n",
      "0     Super Kings     KKR  Super Kings    27 runs  Oct 15, 2021  T203817   \n",
      "1     Super Kings     KKR  Super Kings    27 runs  Oct 15, 2021  T203817   \n",
      "2     Super Kings     KKR  Super Kings    27 runs  Oct 15, 2021  T203817   \n",
      "3     Super Kings     KKR  Super Kings    27 runs  Oct 15, 2021  T203817   \n",
      "4     Super Kings     KKR  Super Kings    27 runs  Oct 15, 2021  T203817   \n",
      "...           ...     ...          ...        ...           ...      ...   \n",
      "2431  Super Kings  Titans       Titans  5 wickets  Mar 31, 2023  T201566   \n",
      "2432  Super Kings  Titans       Titans  5 wickets  Mar 31, 2023  T201566   \n",
      "2433  Super Kings  Titans       Titans  5 wickets  Mar 31, 2023  T201566   \n",
      "2434  Super Kings  Titans       Titans  5 wickets  Mar 31, 2023  T201566   \n",
      "2435  Super Kings  Titans       Titans  5 wickets  Mar 31, 2023  T201566   \n",
      "\n",
      "                      match  bowlingTeam             bowlerName  overs  \\\n",
      "0        Super Kings Vs KKR          KKR          ShakibAlHasan    3.0   \n",
      "1        Super Kings Vs KKR          KKR             ShivamMavi    4.0   \n",
      "2        Super Kings Vs KKR          KKR         LockieFerguson    4.0   \n",
      "3        Super Kings Vs KKR          KKR      VarunChakravarthy    4.0   \n",
      "4        Super Kings Vs KKR          KKR            SunilNarine    4.0   \n",
      "...                     ...          ...                    ...    ...   \n",
      "2431  Super Kings Vs Titans  Super Kings           DeepakChahar    4.0   \n",
      "2432  Super Kings Vs Titans  Super Kings        TusharDeshpande    3.2   \n",
      "2433  Super Kings Vs Titans  Super Kings  RajvardhanHangargekar    4.0   \n",
      "2434  Super Kings Vs Titans  Super Kings        MitchellSantner    4.0   \n",
      "2435  Super Kings Vs Titans  Super Kings         RavindraJadeja    4.0   \n",
      "\n",
      "      maiden  runs  wickets  economy  0s  4s  6s  wides  noBalls  \n",
      "0          0    33        0    11.00   6   2   3      0        0  \n",
      "1          0    32        1     8.00   8   1   2      0        0  \n",
      "2          0    56        0    14.00   4   7   2      2        0  \n",
      "3          0    38        0     9.50   5   2   2      0        1  \n",
      "4          0    26        2     6.50   6   0   1      1        0  \n",
      "...      ...   ...      ...      ...  ..  ..  ..    ...      ...  \n",
      "2431       0    29        0     7.25   9   1   2      0        0  \n",
      "2432       0    51        1    15.30   5   4   4      1        1  \n",
      "2433       0    36        3     9.00  10   4   1      3        1  \n",
      "2434       0    32        0     8.00   7   5   0      0        0  \n",
      "2435       0    28        1     7.00   9   1   1      0        0  \n",
      "\n",
      "[2436 rows x 19 columns]\n",
      "            bowlerName  wickets\n",
      "110      MohammedShami       67\n",
      "201    YuzvendraChahal       66\n",
      "54        HarshalPatel       65\n",
      "141         RashidKhan       63\n",
      "20           AveshKhan       47\n",
      "19       ArshdeepSingh       45\n",
      "75        KagisoRabada       45\n",
      "189  VarunChakravarthy       44\n",
      "163      ShardulThakur       43\n",
      "181         TrentBoult       42\n"
     ]
    },
    {
     "data": {
      "application/vnd.plotly.v1+json": {
       "config": {
        "plotlyServerURL": "https://plot.ly"
       },
       "data": [
        {
         "alignmentgroup": "True",
         "hovertemplate": "bowlerName=%{x}<br>wickets=%{marker.color}<extra></extra>",
         "legendgroup": "",
         "marker": {
          "color": [
           67,
           66,
           65,
           63,
           47,
           45,
           45,
           44,
           43,
           42
          ],
          "coloraxis": "coloraxis",
          "pattern": {
           "shape": ""
          }
         },
         "name": "",
         "offsetgroup": "",
         "orientation": "v",
         "showlegend": false,
         "text": [
          67,
          66,
          65,
          63,
          47,
          45,
          45,
          44,
          43,
          42
         ],
         "textposition": "outside",
         "texttemplate": "%{text}",
         "type": "bar",
         "x": [
          "MohammedShami",
          "YuzvendraChahal",
          "HarshalPatel",
          "RashidKhan",
          "AveshKhan",
          "ArshdeepSingh",
          "KagisoRabada",
          "VarunChakravarthy",
          "ShardulThakur",
          "TrentBoult"
         ],
         "xaxis": "x",
         "y": [
          67,
          66,
          65,
          63,
          47,
          45,
          45,
          44,
          43,
          42
         ],
         "yaxis": "y"
        }
       ],
       "layout": {
        "barmode": "relative",
        "coloraxis": {
         "colorbar": {
          "title": {
           "text": "wickets"
          }
         },
         "colorscale": [
          [
           0,
           "#00224e"
          ],
          [
           0.1111111111111111,
           "#123570"
          ],
          [
           0.2222222222222222,
           "#3b496c"
          ],
          [
           0.3333333333333333,
           "#575d6d"
          ],
          [
           0.4444444444444444,
           "#707173"
          ],
          [
           0.5555555555555556,
           "#8a8678"
          ],
          [
           0.6666666666666666,
           "#a59c74"
          ],
          [
           0.7777777777777778,
           "#c3b369"
          ],
          [
           0.8888888888888888,
           "#e1cc55"
          ],
          [
           1,
           "#fee838"
          ]
         ]
        },
        "legend": {
         "tracegroupgap": 0
        },
        "plot_bgcolor": "rgba(0,0,0,0)",
        "template": {
         "data": {
          "bar": [
           {
            "error_x": {
             "color": "#2a3f5f"
            },
            "error_y": {
             "color": "#2a3f5f"
            },
            "marker": {
             "line": {
              "color": "#E5ECF6",
              "width": 0.5
             },
             "pattern": {
              "fillmode": "overlay",
              "size": 10,
              "solidity": 0.2
             }
            },
            "type": "bar"
           }
          ],
          "barpolar": [
           {
            "marker": {
             "line": {
              "color": "#E5ECF6",
              "width": 0.5
             },
             "pattern": {
              "fillmode": "overlay",
              "size": 10,
              "solidity": 0.2
             }
            },
            "type": "barpolar"
           }
          ],
          "carpet": [
           {
            "aaxis": {
             "endlinecolor": "#2a3f5f",
             "gridcolor": "white",
             "linecolor": "white",
             "minorgridcolor": "white",
             "startlinecolor": "#2a3f5f"
            },
            "baxis": {
             "endlinecolor": "#2a3f5f",
             "gridcolor": "white",
             "linecolor": "white",
             "minorgridcolor": "white",
             "startlinecolor": "#2a3f5f"
            },
            "type": "carpet"
           }
          ],
          "choropleth": [
           {
            "colorbar": {
             "outlinewidth": 0,
             "ticks": ""
            },
            "type": "choropleth"
           }
          ],
          "contour": [
           {
            "colorbar": {
             "outlinewidth": 0,
             "ticks": ""
            },
            "colorscale": [
             [
              0,
              "#0d0887"
             ],
             [
              0.1111111111111111,
              "#46039f"
             ],
             [
              0.2222222222222222,
              "#7201a8"
             ],
             [
              0.3333333333333333,
              "#9c179e"
             ],
             [
              0.4444444444444444,
              "#bd3786"
             ],
             [
              0.5555555555555556,
              "#d8576b"
             ],
             [
              0.6666666666666666,
              "#ed7953"
             ],
             [
              0.7777777777777778,
              "#fb9f3a"
             ],
             [
              0.8888888888888888,
              "#fdca26"
             ],
             [
              1,
              "#f0f921"
             ]
            ],
            "type": "contour"
           }
          ],
          "contourcarpet": [
           {
            "colorbar": {
             "outlinewidth": 0,
             "ticks": ""
            },
            "type": "contourcarpet"
           }
          ],
          "heatmap": [
           {
            "colorbar": {
             "outlinewidth": 0,
             "ticks": ""
            },
            "colorscale": [
             [
              0,
              "#0d0887"
             ],
             [
              0.1111111111111111,
              "#46039f"
             ],
             [
              0.2222222222222222,
              "#7201a8"
             ],
             [
              0.3333333333333333,
              "#9c179e"
             ],
             [
              0.4444444444444444,
              "#bd3786"
             ],
             [
              0.5555555555555556,
              "#d8576b"
             ],
             [
              0.6666666666666666,
              "#ed7953"
             ],
             [
              0.7777777777777778,
              "#fb9f3a"
             ],
             [
              0.8888888888888888,
              "#fdca26"
             ],
             [
              1,
              "#f0f921"
             ]
            ],
            "type": "heatmap"
           }
          ],
          "heatmapgl": [
           {
            "colorbar": {
             "outlinewidth": 0,
             "ticks": ""
            },
            "colorscale": [
             [
              0,
              "#0d0887"
             ],
             [
              0.1111111111111111,
              "#46039f"
             ],
             [
              0.2222222222222222,
              "#7201a8"
             ],
             [
              0.3333333333333333,
              "#9c179e"
             ],
             [
              0.4444444444444444,
              "#bd3786"
             ],
             [
              0.5555555555555556,
              "#d8576b"
             ],
             [
              0.6666666666666666,
              "#ed7953"
             ],
             [
              0.7777777777777778,
              "#fb9f3a"
             ],
             [
              0.8888888888888888,
              "#fdca26"
             ],
             [
              1,
              "#f0f921"
             ]
            ],
            "type": "heatmapgl"
           }
          ],
          "histogram": [
           {
            "marker": {
             "pattern": {
              "fillmode": "overlay",
              "size": 10,
              "solidity": 0.2
             }
            },
            "type": "histogram"
           }
          ],
          "histogram2d": [
           {
            "colorbar": {
             "outlinewidth": 0,
             "ticks": ""
            },
            "colorscale": [
             [
              0,
              "#0d0887"
             ],
             [
              0.1111111111111111,
              "#46039f"
             ],
             [
              0.2222222222222222,
              "#7201a8"
             ],
             [
              0.3333333333333333,
              "#9c179e"
             ],
             [
              0.4444444444444444,
              "#bd3786"
             ],
             [
              0.5555555555555556,
              "#d8576b"
             ],
             [
              0.6666666666666666,
              "#ed7953"
             ],
             [
              0.7777777777777778,
              "#fb9f3a"
             ],
             [
              0.8888888888888888,
              "#fdca26"
             ],
             [
              1,
              "#f0f921"
             ]
            ],
            "type": "histogram2d"
           }
          ],
          "histogram2dcontour": [
           {
            "colorbar": {
             "outlinewidth": 0,
             "ticks": ""
            },
            "colorscale": [
             [
              0,
              "#0d0887"
             ],
             [
              0.1111111111111111,
              "#46039f"
             ],
             [
              0.2222222222222222,
              "#7201a8"
             ],
             [
              0.3333333333333333,
              "#9c179e"
             ],
             [
              0.4444444444444444,
              "#bd3786"
             ],
             [
              0.5555555555555556,
              "#d8576b"
             ],
             [
              0.6666666666666666,
              "#ed7953"
             ],
             [
              0.7777777777777778,
              "#fb9f3a"
             ],
             [
              0.8888888888888888,
              "#fdca26"
             ],
             [
              1,
              "#f0f921"
             ]
            ],
            "type": "histogram2dcontour"
           }
          ],
          "mesh3d": [
           {
            "colorbar": {
             "outlinewidth": 0,
             "ticks": ""
            },
            "type": "mesh3d"
           }
          ],
          "parcoords": [
           {
            "line": {
             "colorbar": {
              "outlinewidth": 0,
              "ticks": ""
             }
            },
            "type": "parcoords"
           }
          ],
          "pie": [
           {
            "automargin": true,
            "type": "pie"
           }
          ],
          "scatter": [
           {
            "fillpattern": {
             "fillmode": "overlay",
             "size": 10,
             "solidity": 0.2
            },
            "type": "scatter"
           }
          ],
          "scatter3d": [
           {
            "line": {
             "colorbar": {
              "outlinewidth": 0,
              "ticks": ""
             }
            },
            "marker": {
             "colorbar": {
              "outlinewidth": 0,
              "ticks": ""
             }
            },
            "type": "scatter3d"
           }
          ],
          "scattercarpet": [
           {
            "marker": {
             "colorbar": {
              "outlinewidth": 0,
              "ticks": ""
             }
            },
            "type": "scattercarpet"
           }
          ],
          "scattergeo": [
           {
            "marker": {
             "colorbar": {
              "outlinewidth": 0,
              "ticks": ""
             }
            },
            "type": "scattergeo"
           }
          ],
          "scattergl": [
           {
            "marker": {
             "colorbar": {
              "outlinewidth": 0,
              "ticks": ""
             }
            },
            "type": "scattergl"
           }
          ],
          "scattermapbox": [
           {
            "marker": {
             "colorbar": {
              "outlinewidth": 0,
              "ticks": ""
             }
            },
            "type": "scattermapbox"
           }
          ],
          "scatterpolar": [
           {
            "marker": {
             "colorbar": {
              "outlinewidth": 0,
              "ticks": ""
             }
            },
            "type": "scatterpolar"
           }
          ],
          "scatterpolargl": [
           {
            "marker": {
             "colorbar": {
              "outlinewidth": 0,
              "ticks": ""
             }
            },
            "type": "scatterpolargl"
           }
          ],
          "scatterternary": [
           {
            "marker": {
             "colorbar": {
              "outlinewidth": 0,
              "ticks": ""
             }
            },
            "type": "scatterternary"
           }
          ],
          "surface": [
           {
            "colorbar": {
             "outlinewidth": 0,
             "ticks": ""
            },
            "colorscale": [
             [
              0,
              "#0d0887"
             ],
             [
              0.1111111111111111,
              "#46039f"
             ],
             [
              0.2222222222222222,
              "#7201a8"
             ],
             [
              0.3333333333333333,
              "#9c179e"
             ],
             [
              0.4444444444444444,
              "#bd3786"
             ],
             [
              0.5555555555555556,
              "#d8576b"
             ],
             [
              0.6666666666666666,
              "#ed7953"
             ],
             [
              0.7777777777777778,
              "#fb9f3a"
             ],
             [
              0.8888888888888888,
              "#fdca26"
             ],
             [
              1,
              "#f0f921"
             ]
            ],
            "type": "surface"
           }
          ],
          "table": [
           {
            "cells": {
             "fill": {
              "color": "#EBF0F8"
             },
             "line": {
              "color": "white"
             }
            },
            "header": {
             "fill": {
              "color": "#C8D4E3"
             },
             "line": {
              "color": "white"
             }
            },
            "type": "table"
           }
          ]
         },
         "layout": {
          "annotationdefaults": {
           "arrowcolor": "#2a3f5f",
           "arrowhead": 0,
           "arrowwidth": 1
          },
          "autotypenumbers": "strict",
          "coloraxis": {
           "colorbar": {
            "outlinewidth": 0,
            "ticks": ""
           }
          },
          "colorscale": {
           "diverging": [
            [
             0,
             "#8e0152"
            ],
            [
             0.1,
             "#c51b7d"
            ],
            [
             0.2,
             "#de77ae"
            ],
            [
             0.3,
             "#f1b6da"
            ],
            [
             0.4,
             "#fde0ef"
            ],
            [
             0.5,
             "#f7f7f7"
            ],
            [
             0.6,
             "#e6f5d0"
            ],
            [
             0.7,
             "#b8e186"
            ],
            [
             0.8,
             "#7fbc41"
            ],
            [
             0.9,
             "#4d9221"
            ],
            [
             1,
             "#276419"
            ]
           ],
           "sequential": [
            [
             0,
             "#0d0887"
            ],
            [
             0.1111111111111111,
             "#46039f"
            ],
            [
             0.2222222222222222,
             "#7201a8"
            ],
            [
             0.3333333333333333,
             "#9c179e"
            ],
            [
             0.4444444444444444,
             "#bd3786"
            ],
            [
             0.5555555555555556,
             "#d8576b"
            ],
            [
             0.6666666666666666,
             "#ed7953"
            ],
            [
             0.7777777777777778,
             "#fb9f3a"
            ],
            [
             0.8888888888888888,
             "#fdca26"
            ],
            [
             1,
             "#f0f921"
            ]
           ],
           "sequentialminus": [
            [
             0,
             "#0d0887"
            ],
            [
             0.1111111111111111,
             "#46039f"
            ],
            [
             0.2222222222222222,
             "#7201a8"
            ],
            [
             0.3333333333333333,
             "#9c179e"
            ],
            [
             0.4444444444444444,
             "#bd3786"
            ],
            [
             0.5555555555555556,
             "#d8576b"
            ],
            [
             0.6666666666666666,
             "#ed7953"
            ],
            [
             0.7777777777777778,
             "#fb9f3a"
            ],
            [
             0.8888888888888888,
             "#fdca26"
            ],
            [
             1,
             "#f0f921"
            ]
           ]
          },
          "colorway": [
           "#636efa",
           "#EF553B",
           "#00cc96",
           "#ab63fa",
           "#FFA15A",
           "#19d3f3",
           "#FF6692",
           "#B6E880",
           "#FF97FF",
           "#FECB52"
          ],
          "font": {
           "color": "#2a3f5f"
          },
          "geo": {
           "bgcolor": "white",
           "lakecolor": "white",
           "landcolor": "#E5ECF6",
           "showlakes": true,
           "showland": true,
           "subunitcolor": "white"
          },
          "hoverlabel": {
           "align": "left"
          },
          "hovermode": "closest",
          "mapbox": {
           "style": "light"
          },
          "paper_bgcolor": "white",
          "plot_bgcolor": "#E5ECF6",
          "polar": {
           "angularaxis": {
            "gridcolor": "white",
            "linecolor": "white",
            "ticks": ""
           },
           "bgcolor": "#E5ECF6",
           "radialaxis": {
            "gridcolor": "white",
            "linecolor": "white",
            "ticks": ""
           }
          },
          "scene": {
           "xaxis": {
            "backgroundcolor": "#E5ECF6",
            "gridcolor": "white",
            "gridwidth": 2,
            "linecolor": "white",
            "showbackground": true,
            "ticks": "",
            "zerolinecolor": "white"
           },
           "yaxis": {
            "backgroundcolor": "#E5ECF6",
            "gridcolor": "white",
            "gridwidth": 2,
            "linecolor": "white",
            "showbackground": true,
            "ticks": "",
            "zerolinecolor": "white"
           },
           "zaxis": {
            "backgroundcolor": "#E5ECF6",
            "gridcolor": "white",
            "gridwidth": 2,
            "linecolor": "white",
            "showbackground": true,
            "ticks": "",
            "zerolinecolor": "white"
           }
          },
          "shapedefaults": {
           "line": {
            "color": "#2a3f5f"
           }
          },
          "ternary": {
           "aaxis": {
            "gridcolor": "white",
            "linecolor": "white",
            "ticks": ""
           },
           "baxis": {
            "gridcolor": "white",
            "linecolor": "white",
            "ticks": ""
           },
           "bgcolor": "#E5ECF6",
           "caxis": {
            "gridcolor": "white",
            "linecolor": "white",
            "ticks": ""
           }
          },
          "title": {
           "x": 0.05
          },
          "xaxis": {
           "automargin": true,
           "gridcolor": "white",
           "linecolor": "white",
           "ticks": "",
           "title": {
            "standoff": 15
           },
           "zerolinecolor": "white",
           "zerolinewidth": 2
          },
          "yaxis": {
           "automargin": true,
           "gridcolor": "white",
           "linecolor": "white",
           "ticks": "",
           "title": {
            "standoff": 15
           },
           "zerolinecolor": "white",
           "zerolinewidth": 2
          }
         }
        },
        "title": {
         "text": "Top 10 Bowlers by Wickets Taken (Past 3 Years)"
        },
        "xaxis": {
         "anchor": "y",
         "domain": [
          0,
          1
         ],
         "title": {
          "text": "Bowler"
         }
        },
        "yaxis": {
         "anchor": "x",
         "domain": [
          0,
          1
         ],
         "showgrid": false,
         "title": {
          "text": "Total Wickets"
         }
        }
       }
      }
     },
     "metadata": {},
     "output_type": "display_data"
    },
    {
     "name": "stdout",
     "output_type": "stream",
     "text": [
      "         bowlerName  bowling_average\n",
      "0      AndreRussell        18.228571\n",
      "31  YuzvendraChahal        20.196970\n",
      "19       RashidKhan        20.206349\n",
      "9      HarshalPatel        20.353846\n",
      "16    MohammedShami        20.537313\n",
      "3         AveshKhan        23.723404\n",
      "11     KagisoRabada        23.755556\n",
      "15         MoeenAli        23.857143\n",
      "1      AnrichNortje        24.774194\n",
      "28       UmranMalik        26.103448\n"
     ]
    },
    {
     "data": {
      "application/vnd.plotly.v1+json": {
       "config": {
        "plotlyServerURL": "https://plot.ly"
       },
       "data": [
        {
         "alignmentgroup": "True",
         "hovertemplate": "Bowler=%{x}<br>Bowling Average=%{marker.color}<extra></extra>",
         "legendgroup": "",
         "marker": {
          "color": [
           18.228571428571428,
           20.196969696969695,
           20.206349206349206,
           20.353846153846153,
           20.53731343283582,
           23.72340425531915,
           23.755555555555556,
           23.857142857142858,
           24.774193548387096,
           26.103448275862068
          ],
          "coloraxis": "coloraxis",
          "pattern": {
           "shape": ""
          }
         },
         "name": "",
         "offsetgroup": "",
         "orientation": "v",
         "showlegend": false,
         "text": [
          18.228571428571428,
          20.196969696969695,
          20.206349206349206,
          20.353846153846153,
          20.53731343283582,
          23.72340425531915,
          23.755555555555556,
          23.857142857142858,
          24.774193548387096,
          26.103448275862068
         ],
         "textposition": "outside",
         "texttemplate": "%{text:.2f}",
         "type": "bar",
         "x": [
          "AndreRussell",
          "YuzvendraChahal",
          "RashidKhan",
          "HarshalPatel",
          "MohammedShami",
          "AveshKhan",
          "KagisoRabada",
          "MoeenAli",
          "AnrichNortje",
          "UmranMalik"
         ],
         "xaxis": "x",
         "y": [
          18.228571428571428,
          20.196969696969695,
          20.206349206349206,
          20.353846153846153,
          20.53731343283582,
          23.72340425531915,
          23.755555555555556,
          23.857142857142858,
          24.774193548387096,
          26.103448275862068
         ],
         "yaxis": "y"
        }
       ],
       "layout": {
        "barmode": "relative",
        "coloraxis": {
         "colorbar": {
          "title": {
           "text": "Bowling Average"
          }
         },
         "colorscale": [
          [
           0,
           "#00224e"
          ],
          [
           0.1111111111111111,
           "#123570"
          ],
          [
           0.2222222222222222,
           "#3b496c"
          ],
          [
           0.3333333333333333,
           "#575d6d"
          ],
          [
           0.4444444444444444,
           "#707173"
          ],
          [
           0.5555555555555556,
           "#8a8678"
          ],
          [
           0.6666666666666666,
           "#a59c74"
          ],
          [
           0.7777777777777778,
           "#c3b369"
          ],
          [
           0.8888888888888888,
           "#e1cc55"
          ],
          [
           1,
           "#fee838"
          ]
         ]
        },
        "legend": {
         "tracegroupgap": 0
        },
        "plot_bgcolor": "rgba(0,0,0,0)",
        "template": {
         "data": {
          "bar": [
           {
            "error_x": {
             "color": "#2a3f5f"
            },
            "error_y": {
             "color": "#2a3f5f"
            },
            "marker": {
             "line": {
              "color": "#E5ECF6",
              "width": 0.5
             },
             "pattern": {
              "fillmode": "overlay",
              "size": 10,
              "solidity": 0.2
             }
            },
            "type": "bar"
           }
          ],
          "barpolar": [
           {
            "marker": {
             "line": {
              "color": "#E5ECF6",
              "width": 0.5
             },
             "pattern": {
              "fillmode": "overlay",
              "size": 10,
              "solidity": 0.2
             }
            },
            "type": "barpolar"
           }
          ],
          "carpet": [
           {
            "aaxis": {
             "endlinecolor": "#2a3f5f",
             "gridcolor": "white",
             "linecolor": "white",
             "minorgridcolor": "white",
             "startlinecolor": "#2a3f5f"
            },
            "baxis": {
             "endlinecolor": "#2a3f5f",
             "gridcolor": "white",
             "linecolor": "white",
             "minorgridcolor": "white",
             "startlinecolor": "#2a3f5f"
            },
            "type": "carpet"
           }
          ],
          "choropleth": [
           {
            "colorbar": {
             "outlinewidth": 0,
             "ticks": ""
            },
            "type": "choropleth"
           }
          ],
          "contour": [
           {
            "colorbar": {
             "outlinewidth": 0,
             "ticks": ""
            },
            "colorscale": [
             [
              0,
              "#0d0887"
             ],
             [
              0.1111111111111111,
              "#46039f"
             ],
             [
              0.2222222222222222,
              "#7201a8"
             ],
             [
              0.3333333333333333,
              "#9c179e"
             ],
             [
              0.4444444444444444,
              "#bd3786"
             ],
             [
              0.5555555555555556,
              "#d8576b"
             ],
             [
              0.6666666666666666,
              "#ed7953"
             ],
             [
              0.7777777777777778,
              "#fb9f3a"
             ],
             [
              0.8888888888888888,
              "#fdca26"
             ],
             [
              1,
              "#f0f921"
             ]
            ],
            "type": "contour"
           }
          ],
          "contourcarpet": [
           {
            "colorbar": {
             "outlinewidth": 0,
             "ticks": ""
            },
            "type": "contourcarpet"
           }
          ],
          "heatmap": [
           {
            "colorbar": {
             "outlinewidth": 0,
             "ticks": ""
            },
            "colorscale": [
             [
              0,
              "#0d0887"
             ],
             [
              0.1111111111111111,
              "#46039f"
             ],
             [
              0.2222222222222222,
              "#7201a8"
             ],
             [
              0.3333333333333333,
              "#9c179e"
             ],
             [
              0.4444444444444444,
              "#bd3786"
             ],
             [
              0.5555555555555556,
              "#d8576b"
             ],
             [
              0.6666666666666666,
              "#ed7953"
             ],
             [
              0.7777777777777778,
              "#fb9f3a"
             ],
             [
              0.8888888888888888,
              "#fdca26"
             ],
             [
              1,
              "#f0f921"
             ]
            ],
            "type": "heatmap"
           }
          ],
          "heatmapgl": [
           {
            "colorbar": {
             "outlinewidth": 0,
             "ticks": ""
            },
            "colorscale": [
             [
              0,
              "#0d0887"
             ],
             [
              0.1111111111111111,
              "#46039f"
             ],
             [
              0.2222222222222222,
              "#7201a8"
             ],
             [
              0.3333333333333333,
              "#9c179e"
             ],
             [
              0.4444444444444444,
              "#bd3786"
             ],
             [
              0.5555555555555556,
              "#d8576b"
             ],
             [
              0.6666666666666666,
              "#ed7953"
             ],
             [
              0.7777777777777778,
              "#fb9f3a"
             ],
             [
              0.8888888888888888,
              "#fdca26"
             ],
             [
              1,
              "#f0f921"
             ]
            ],
            "type": "heatmapgl"
           }
          ],
          "histogram": [
           {
            "marker": {
             "pattern": {
              "fillmode": "overlay",
              "size": 10,
              "solidity": 0.2
             }
            },
            "type": "histogram"
           }
          ],
          "histogram2d": [
           {
            "colorbar": {
             "outlinewidth": 0,
             "ticks": ""
            },
            "colorscale": [
             [
              0,
              "#0d0887"
             ],
             [
              0.1111111111111111,
              "#46039f"
             ],
             [
              0.2222222222222222,
              "#7201a8"
             ],
             [
              0.3333333333333333,
              "#9c179e"
             ],
             [
              0.4444444444444444,
              "#bd3786"
             ],
             [
              0.5555555555555556,
              "#d8576b"
             ],
             [
              0.6666666666666666,
              "#ed7953"
             ],
             [
              0.7777777777777778,
              "#fb9f3a"
             ],
             [
              0.8888888888888888,
              "#fdca26"
             ],
             [
              1,
              "#f0f921"
             ]
            ],
            "type": "histogram2d"
           }
          ],
          "histogram2dcontour": [
           {
            "colorbar": {
             "outlinewidth": 0,
             "ticks": ""
            },
            "colorscale": [
             [
              0,
              "#0d0887"
             ],
             [
              0.1111111111111111,
              "#46039f"
             ],
             [
              0.2222222222222222,
              "#7201a8"
             ],
             [
              0.3333333333333333,
              "#9c179e"
             ],
             [
              0.4444444444444444,
              "#bd3786"
             ],
             [
              0.5555555555555556,
              "#d8576b"
             ],
             [
              0.6666666666666666,
              "#ed7953"
             ],
             [
              0.7777777777777778,
              "#fb9f3a"
             ],
             [
              0.8888888888888888,
              "#fdca26"
             ],
             [
              1,
              "#f0f921"
             ]
            ],
            "type": "histogram2dcontour"
           }
          ],
          "mesh3d": [
           {
            "colorbar": {
             "outlinewidth": 0,
             "ticks": ""
            },
            "type": "mesh3d"
           }
          ],
          "parcoords": [
           {
            "line": {
             "colorbar": {
              "outlinewidth": 0,
              "ticks": ""
             }
            },
            "type": "parcoords"
           }
          ],
          "pie": [
           {
            "automargin": true,
            "type": "pie"
           }
          ],
          "scatter": [
           {
            "fillpattern": {
             "fillmode": "overlay",
             "size": 10,
             "solidity": 0.2
            },
            "type": "scatter"
           }
          ],
          "scatter3d": [
           {
            "line": {
             "colorbar": {
              "outlinewidth": 0,
              "ticks": ""
             }
            },
            "marker": {
             "colorbar": {
              "outlinewidth": 0,
              "ticks": ""
             }
            },
            "type": "scatter3d"
           }
          ],
          "scattercarpet": [
           {
            "marker": {
             "colorbar": {
              "outlinewidth": 0,
              "ticks": ""
             }
            },
            "type": "scattercarpet"
           }
          ],
          "scattergeo": [
           {
            "marker": {
             "colorbar": {
              "outlinewidth": 0,
              "ticks": ""
             }
            },
            "type": "scattergeo"
           }
          ],
          "scattergl": [
           {
            "marker": {
             "colorbar": {
              "outlinewidth": 0,
              "ticks": ""
             }
            },
            "type": "scattergl"
           }
          ],
          "scattermapbox": [
           {
            "marker": {
             "colorbar": {
              "outlinewidth": 0,
              "ticks": ""
             }
            },
            "type": "scattermapbox"
           }
          ],
          "scatterpolar": [
           {
            "marker": {
             "colorbar": {
              "outlinewidth": 0,
              "ticks": ""
             }
            },
            "type": "scatterpolar"
           }
          ],
          "scatterpolargl": [
           {
            "marker": {
             "colorbar": {
              "outlinewidth": 0,
              "ticks": ""
             }
            },
            "type": "scatterpolargl"
           }
          ],
          "scatterternary": [
           {
            "marker": {
             "colorbar": {
              "outlinewidth": 0,
              "ticks": ""
             }
            },
            "type": "scatterternary"
           }
          ],
          "surface": [
           {
            "colorbar": {
             "outlinewidth": 0,
             "ticks": ""
            },
            "colorscale": [
             [
              0,
              "#0d0887"
             ],
             [
              0.1111111111111111,
              "#46039f"
             ],
             [
              0.2222222222222222,
              "#7201a8"
             ],
             [
              0.3333333333333333,
              "#9c179e"
             ],
             [
              0.4444444444444444,
              "#bd3786"
             ],
             [
              0.5555555555555556,
              "#d8576b"
             ],
             [
              0.6666666666666666,
              "#ed7953"
             ],
             [
              0.7777777777777778,
              "#fb9f3a"
             ],
             [
              0.8888888888888888,
              "#fdca26"
             ],
             [
              1,
              "#f0f921"
             ]
            ],
            "type": "surface"
           }
          ],
          "table": [
           {
            "cells": {
             "fill": {
              "color": "#EBF0F8"
             },
             "line": {
              "color": "white"
             }
            },
            "header": {
             "fill": {
              "color": "#C8D4E3"
             },
             "line": {
              "color": "white"
             }
            },
            "type": "table"
           }
          ]
         },
         "layout": {
          "annotationdefaults": {
           "arrowcolor": "#2a3f5f",
           "arrowhead": 0,
           "arrowwidth": 1
          },
          "autotypenumbers": "strict",
          "coloraxis": {
           "colorbar": {
            "outlinewidth": 0,
            "ticks": ""
           }
          },
          "colorscale": {
           "diverging": [
            [
             0,
             "#8e0152"
            ],
            [
             0.1,
             "#c51b7d"
            ],
            [
             0.2,
             "#de77ae"
            ],
            [
             0.3,
             "#f1b6da"
            ],
            [
             0.4,
             "#fde0ef"
            ],
            [
             0.5,
             "#f7f7f7"
            ],
            [
             0.6,
             "#e6f5d0"
            ],
            [
             0.7,
             "#b8e186"
            ],
            [
             0.8,
             "#7fbc41"
            ],
            [
             0.9,
             "#4d9221"
            ],
            [
             1,
             "#276419"
            ]
           ],
           "sequential": [
            [
             0,
             "#0d0887"
            ],
            [
             0.1111111111111111,
             "#46039f"
            ],
            [
             0.2222222222222222,
             "#7201a8"
            ],
            [
             0.3333333333333333,
             "#9c179e"
            ],
            [
             0.4444444444444444,
             "#bd3786"
            ],
            [
             0.5555555555555556,
             "#d8576b"
            ],
            [
             0.6666666666666666,
             "#ed7953"
            ],
            [
             0.7777777777777778,
             "#fb9f3a"
            ],
            [
             0.8888888888888888,
             "#fdca26"
            ],
            [
             1,
             "#f0f921"
            ]
           ],
           "sequentialminus": [
            [
             0,
             "#0d0887"
            ],
            [
             0.1111111111111111,
             "#46039f"
            ],
            [
             0.2222222222222222,
             "#7201a8"
            ],
            [
             0.3333333333333333,
             "#9c179e"
            ],
            [
             0.4444444444444444,
             "#bd3786"
            ],
            [
             0.5555555555555556,
             "#d8576b"
            ],
            [
             0.6666666666666666,
             "#ed7953"
            ],
            [
             0.7777777777777778,
             "#fb9f3a"
            ],
            [
             0.8888888888888888,
             "#fdca26"
            ],
            [
             1,
             "#f0f921"
            ]
           ]
          },
          "colorway": [
           "#636efa",
           "#EF553B",
           "#00cc96",
           "#ab63fa",
           "#FFA15A",
           "#19d3f3",
           "#FF6692",
           "#B6E880",
           "#FF97FF",
           "#FECB52"
          ],
          "font": {
           "color": "#2a3f5f"
          },
          "geo": {
           "bgcolor": "white",
           "lakecolor": "white",
           "landcolor": "#E5ECF6",
           "showlakes": true,
           "showland": true,
           "subunitcolor": "white"
          },
          "hoverlabel": {
           "align": "left"
          },
          "hovermode": "closest",
          "mapbox": {
           "style": "light"
          },
          "paper_bgcolor": "white",
          "plot_bgcolor": "#E5ECF6",
          "polar": {
           "angularaxis": {
            "gridcolor": "white",
            "linecolor": "white",
            "ticks": ""
           },
           "bgcolor": "#E5ECF6",
           "radialaxis": {
            "gridcolor": "white",
            "linecolor": "white",
            "ticks": ""
           }
          },
          "scene": {
           "xaxis": {
            "backgroundcolor": "#E5ECF6",
            "gridcolor": "white",
            "gridwidth": 2,
            "linecolor": "white",
            "showbackground": true,
            "ticks": "",
            "zerolinecolor": "white"
           },
           "yaxis": {
            "backgroundcolor": "#E5ECF6",
            "gridcolor": "white",
            "gridwidth": 2,
            "linecolor": "white",
            "showbackground": true,
            "ticks": "",
            "zerolinecolor": "white"
           },
           "zaxis": {
            "backgroundcolor": "#E5ECF6",
            "gridcolor": "white",
            "gridwidth": 2,
            "linecolor": "white",
            "showbackground": true,
            "ticks": "",
            "zerolinecolor": "white"
           }
          },
          "shapedefaults": {
           "line": {
            "color": "#2a3f5f"
           }
          },
          "ternary": {
           "aaxis": {
            "gridcolor": "white",
            "linecolor": "white",
            "ticks": ""
           },
           "baxis": {
            "gridcolor": "white",
            "linecolor": "white",
            "ticks": ""
           },
           "bgcolor": "#E5ECF6",
           "caxis": {
            "gridcolor": "white",
            "linecolor": "white",
            "ticks": ""
           }
          },
          "title": {
           "x": 0.05
          },
          "xaxis": {
           "automargin": true,
           "gridcolor": "white",
           "linecolor": "white",
           "ticks": "",
           "title": {
            "standoff": 15
           },
           "zerolinecolor": "white",
           "zerolinewidth": 2
          },
          "yaxis": {
           "automargin": true,
           "gridcolor": "white",
           "linecolor": "white",
           "ticks": "",
           "title": {
            "standoff": 15
           },
           "zerolinecolor": "white",
           "zerolinewidth": 2
          }
         }
        },
        "title": {
         "text": "Top 10 Bowlers by Bowling Average (Past 3 Years, Min 60 Balls Bowled per Season)"
        },
        "xaxis": {
         "anchor": "y",
         "domain": [
          0,
          1
         ],
         "title": {
          "text": "Bowler"
         }
        },
        "yaxis": {
         "anchor": "x",
         "domain": [
          0,
          1
         ],
         "showgrid": false,
         "title": {
          "text": "Bowling Average"
         }
        }
       }
      }
     },
     "metadata": {},
     "output_type": "display_data"
    },
    {
     "name": "stdout",
     "output_type": "stream",
     "text": [
      "            bowlerName  economy_rate\n",
      "26         SunilNarine      6.600000\n",
      "15            MoeenAli      7.039813\n",
      "19          RashidKhan      7.078777\n",
      "4            AxarPatel      7.113636\n",
      "22      RavindraJadeja      7.393939\n",
      "13        KrunalPandya      7.449190\n",
      "21  RavichandranAshwin      7.500000\n",
      "29   VarunChakravarthy      7.572025\n",
      "8         HarpreetBrar      7.602015\n",
      "18         RahulChahar      7.629187\n"
     ]
    },
    {
     "data": {
      "application/vnd.plotly.v1+json": {
       "config": {
        "plotlyServerURL": "https://plot.ly"
       },
       "data": [
        {
         "alignmentgroup": "True",
         "hovertemplate": "Bowler=%{x}<br>Economy Rate=%{marker.color}<extra></extra>",
         "legendgroup": "",
         "marker": {
          "color": [
           6.6000000000000005,
           7.039812646370024,
           7.078776645041706,
           7.113636363636363,
           7.393939393939394,
           7.44918998527246,
           7.5,
           7.572025052192066,
           7.6020151133501255,
           7.6291866028708135
          ],
          "coloraxis": "coloraxis",
          "pattern": {
           "shape": ""
          }
         },
         "name": "",
         "offsetgroup": "",
         "orientation": "v",
         "showlegend": false,
         "text": [
          6.6000000000000005,
          7.039812646370024,
          7.078776645041706,
          7.113636363636363,
          7.393939393939394,
          7.44918998527246,
          7.5,
          7.572025052192066,
          7.6020151133501255,
          7.6291866028708135
         ],
         "textposition": "outside",
         "texttemplate": "%{text:.2f}",
         "type": "bar",
         "x": [
          "SunilNarine",
          "MoeenAli",
          "RashidKhan",
          "AxarPatel",
          "RavindraJadeja",
          "KrunalPandya",
          "RavichandranAshwin",
          "VarunChakravarthy",
          "HarpreetBrar",
          "RahulChahar"
         ],
         "xaxis": "x",
         "y": [
          6.6000000000000005,
          7.039812646370024,
          7.078776645041706,
          7.113636363636363,
          7.393939393939394,
          7.44918998527246,
          7.5,
          7.572025052192066,
          7.6020151133501255,
          7.6291866028708135
         ],
         "yaxis": "y"
        }
       ],
       "layout": {
        "barmode": "relative",
        "coloraxis": {
         "colorbar": {
          "title": {
           "text": "Economy Rate"
          }
         },
         "colorscale": [
          [
           0,
           "#440154"
          ],
          [
           0.1111111111111111,
           "#482878"
          ],
          [
           0.2222222222222222,
           "#3e4989"
          ],
          [
           0.3333333333333333,
           "#31688e"
          ],
          [
           0.4444444444444444,
           "#26828e"
          ],
          [
           0.5555555555555556,
           "#1f9e89"
          ],
          [
           0.6666666666666666,
           "#35b779"
          ],
          [
           0.7777777777777778,
           "#6ece58"
          ],
          [
           0.8888888888888888,
           "#b5de2b"
          ],
          [
           1,
           "#fde725"
          ]
         ]
        },
        "legend": {
         "tracegroupgap": 0
        },
        "plot_bgcolor": "rgba(0,0,0,0)",
        "template": {
         "data": {
          "bar": [
           {
            "error_x": {
             "color": "#2a3f5f"
            },
            "error_y": {
             "color": "#2a3f5f"
            },
            "marker": {
             "line": {
              "color": "#E5ECF6",
              "width": 0.5
             },
             "pattern": {
              "fillmode": "overlay",
              "size": 10,
              "solidity": 0.2
             }
            },
            "type": "bar"
           }
          ],
          "barpolar": [
           {
            "marker": {
             "line": {
              "color": "#E5ECF6",
              "width": 0.5
             },
             "pattern": {
              "fillmode": "overlay",
              "size": 10,
              "solidity": 0.2
             }
            },
            "type": "barpolar"
           }
          ],
          "carpet": [
           {
            "aaxis": {
             "endlinecolor": "#2a3f5f",
             "gridcolor": "white",
             "linecolor": "white",
             "minorgridcolor": "white",
             "startlinecolor": "#2a3f5f"
            },
            "baxis": {
             "endlinecolor": "#2a3f5f",
             "gridcolor": "white",
             "linecolor": "white",
             "minorgridcolor": "white",
             "startlinecolor": "#2a3f5f"
            },
            "type": "carpet"
           }
          ],
          "choropleth": [
           {
            "colorbar": {
             "outlinewidth": 0,
             "ticks": ""
            },
            "type": "choropleth"
           }
          ],
          "contour": [
           {
            "colorbar": {
             "outlinewidth": 0,
             "ticks": ""
            },
            "colorscale": [
             [
              0,
              "#0d0887"
             ],
             [
              0.1111111111111111,
              "#46039f"
             ],
             [
              0.2222222222222222,
              "#7201a8"
             ],
             [
              0.3333333333333333,
              "#9c179e"
             ],
             [
              0.4444444444444444,
              "#bd3786"
             ],
             [
              0.5555555555555556,
              "#d8576b"
             ],
             [
              0.6666666666666666,
              "#ed7953"
             ],
             [
              0.7777777777777778,
              "#fb9f3a"
             ],
             [
              0.8888888888888888,
              "#fdca26"
             ],
             [
              1,
              "#f0f921"
             ]
            ],
            "type": "contour"
           }
          ],
          "contourcarpet": [
           {
            "colorbar": {
             "outlinewidth": 0,
             "ticks": ""
            },
            "type": "contourcarpet"
           }
          ],
          "heatmap": [
           {
            "colorbar": {
             "outlinewidth": 0,
             "ticks": ""
            },
            "colorscale": [
             [
              0,
              "#0d0887"
             ],
             [
              0.1111111111111111,
              "#46039f"
             ],
             [
              0.2222222222222222,
              "#7201a8"
             ],
             [
              0.3333333333333333,
              "#9c179e"
             ],
             [
              0.4444444444444444,
              "#bd3786"
             ],
             [
              0.5555555555555556,
              "#d8576b"
             ],
             [
              0.6666666666666666,
              "#ed7953"
             ],
             [
              0.7777777777777778,
              "#fb9f3a"
             ],
             [
              0.8888888888888888,
              "#fdca26"
             ],
             [
              1,
              "#f0f921"
             ]
            ],
            "type": "heatmap"
           }
          ],
          "heatmapgl": [
           {
            "colorbar": {
             "outlinewidth": 0,
             "ticks": ""
            },
            "colorscale": [
             [
              0,
              "#0d0887"
             ],
             [
              0.1111111111111111,
              "#46039f"
             ],
             [
              0.2222222222222222,
              "#7201a8"
             ],
             [
              0.3333333333333333,
              "#9c179e"
             ],
             [
              0.4444444444444444,
              "#bd3786"
             ],
             [
              0.5555555555555556,
              "#d8576b"
             ],
             [
              0.6666666666666666,
              "#ed7953"
             ],
             [
              0.7777777777777778,
              "#fb9f3a"
             ],
             [
              0.8888888888888888,
              "#fdca26"
             ],
             [
              1,
              "#f0f921"
             ]
            ],
            "type": "heatmapgl"
           }
          ],
          "histogram": [
           {
            "marker": {
             "pattern": {
              "fillmode": "overlay",
              "size": 10,
              "solidity": 0.2
             }
            },
            "type": "histogram"
           }
          ],
          "histogram2d": [
           {
            "colorbar": {
             "outlinewidth": 0,
             "ticks": ""
            },
            "colorscale": [
             [
              0,
              "#0d0887"
             ],
             [
              0.1111111111111111,
              "#46039f"
             ],
             [
              0.2222222222222222,
              "#7201a8"
             ],
             [
              0.3333333333333333,
              "#9c179e"
             ],
             [
              0.4444444444444444,
              "#bd3786"
             ],
             [
              0.5555555555555556,
              "#d8576b"
             ],
             [
              0.6666666666666666,
              "#ed7953"
             ],
             [
              0.7777777777777778,
              "#fb9f3a"
             ],
             [
              0.8888888888888888,
              "#fdca26"
             ],
             [
              1,
              "#f0f921"
             ]
            ],
            "type": "histogram2d"
           }
          ],
          "histogram2dcontour": [
           {
            "colorbar": {
             "outlinewidth": 0,
             "ticks": ""
            },
            "colorscale": [
             [
              0,
              "#0d0887"
             ],
             [
              0.1111111111111111,
              "#46039f"
             ],
             [
              0.2222222222222222,
              "#7201a8"
             ],
             [
              0.3333333333333333,
              "#9c179e"
             ],
             [
              0.4444444444444444,
              "#bd3786"
             ],
             [
              0.5555555555555556,
              "#d8576b"
             ],
             [
              0.6666666666666666,
              "#ed7953"
             ],
             [
              0.7777777777777778,
              "#fb9f3a"
             ],
             [
              0.8888888888888888,
              "#fdca26"
             ],
             [
              1,
              "#f0f921"
             ]
            ],
            "type": "histogram2dcontour"
           }
          ],
          "mesh3d": [
           {
            "colorbar": {
             "outlinewidth": 0,
             "ticks": ""
            },
            "type": "mesh3d"
           }
          ],
          "parcoords": [
           {
            "line": {
             "colorbar": {
              "outlinewidth": 0,
              "ticks": ""
             }
            },
            "type": "parcoords"
           }
          ],
          "pie": [
           {
            "automargin": true,
            "type": "pie"
           }
          ],
          "scatter": [
           {
            "fillpattern": {
             "fillmode": "overlay",
             "size": 10,
             "solidity": 0.2
            },
            "type": "scatter"
           }
          ],
          "scatter3d": [
           {
            "line": {
             "colorbar": {
              "outlinewidth": 0,
              "ticks": ""
             }
            },
            "marker": {
             "colorbar": {
              "outlinewidth": 0,
              "ticks": ""
             }
            },
            "type": "scatter3d"
           }
          ],
          "scattercarpet": [
           {
            "marker": {
             "colorbar": {
              "outlinewidth": 0,
              "ticks": ""
             }
            },
            "type": "scattercarpet"
           }
          ],
          "scattergeo": [
           {
            "marker": {
             "colorbar": {
              "outlinewidth": 0,
              "ticks": ""
             }
            },
            "type": "scattergeo"
           }
          ],
          "scattergl": [
           {
            "marker": {
             "colorbar": {
              "outlinewidth": 0,
              "ticks": ""
             }
            },
            "type": "scattergl"
           }
          ],
          "scattermapbox": [
           {
            "marker": {
             "colorbar": {
              "outlinewidth": 0,
              "ticks": ""
             }
            },
            "type": "scattermapbox"
           }
          ],
          "scatterpolar": [
           {
            "marker": {
             "colorbar": {
              "outlinewidth": 0,
              "ticks": ""
             }
            },
            "type": "scatterpolar"
           }
          ],
          "scatterpolargl": [
           {
            "marker": {
             "colorbar": {
              "outlinewidth": 0,
              "ticks": ""
             }
            },
            "type": "scatterpolargl"
           }
          ],
          "scatterternary": [
           {
            "marker": {
             "colorbar": {
              "outlinewidth": 0,
              "ticks": ""
             }
            },
            "type": "scatterternary"
           }
          ],
          "surface": [
           {
            "colorbar": {
             "outlinewidth": 0,
             "ticks": ""
            },
            "colorscale": [
             [
              0,
              "#0d0887"
             ],
             [
              0.1111111111111111,
              "#46039f"
             ],
             [
              0.2222222222222222,
              "#7201a8"
             ],
             [
              0.3333333333333333,
              "#9c179e"
             ],
             [
              0.4444444444444444,
              "#bd3786"
             ],
             [
              0.5555555555555556,
              "#d8576b"
             ],
             [
              0.6666666666666666,
              "#ed7953"
             ],
             [
              0.7777777777777778,
              "#fb9f3a"
             ],
             [
              0.8888888888888888,
              "#fdca26"
             ],
             [
              1,
              "#f0f921"
             ]
            ],
            "type": "surface"
           }
          ],
          "table": [
           {
            "cells": {
             "fill": {
              "color": "#EBF0F8"
             },
             "line": {
              "color": "white"
             }
            },
            "header": {
             "fill": {
              "color": "#C8D4E3"
             },
             "line": {
              "color": "white"
             }
            },
            "type": "table"
           }
          ]
         },
         "layout": {
          "annotationdefaults": {
           "arrowcolor": "#2a3f5f",
           "arrowhead": 0,
           "arrowwidth": 1
          },
          "autotypenumbers": "strict",
          "coloraxis": {
           "colorbar": {
            "outlinewidth": 0,
            "ticks": ""
           }
          },
          "colorscale": {
           "diverging": [
            [
             0,
             "#8e0152"
            ],
            [
             0.1,
             "#c51b7d"
            ],
            [
             0.2,
             "#de77ae"
            ],
            [
             0.3,
             "#f1b6da"
            ],
            [
             0.4,
             "#fde0ef"
            ],
            [
             0.5,
             "#f7f7f7"
            ],
            [
             0.6,
             "#e6f5d0"
            ],
            [
             0.7,
             "#b8e186"
            ],
            [
             0.8,
             "#7fbc41"
            ],
            [
             0.9,
             "#4d9221"
            ],
            [
             1,
             "#276419"
            ]
           ],
           "sequential": [
            [
             0,
             "#0d0887"
            ],
            [
             0.1111111111111111,
             "#46039f"
            ],
            [
             0.2222222222222222,
             "#7201a8"
            ],
            [
             0.3333333333333333,
             "#9c179e"
            ],
            [
             0.4444444444444444,
             "#bd3786"
            ],
            [
             0.5555555555555556,
             "#d8576b"
            ],
            [
             0.6666666666666666,
             "#ed7953"
            ],
            [
             0.7777777777777778,
             "#fb9f3a"
            ],
            [
             0.8888888888888888,
             "#fdca26"
            ],
            [
             1,
             "#f0f921"
            ]
           ],
           "sequentialminus": [
            [
             0,
             "#0d0887"
            ],
            [
             0.1111111111111111,
             "#46039f"
            ],
            [
             0.2222222222222222,
             "#7201a8"
            ],
            [
             0.3333333333333333,
             "#9c179e"
            ],
            [
             0.4444444444444444,
             "#bd3786"
            ],
            [
             0.5555555555555556,
             "#d8576b"
            ],
            [
             0.6666666666666666,
             "#ed7953"
            ],
            [
             0.7777777777777778,
             "#fb9f3a"
            ],
            [
             0.8888888888888888,
             "#fdca26"
            ],
            [
             1,
             "#f0f921"
            ]
           ]
          },
          "colorway": [
           "#636efa",
           "#EF553B",
           "#00cc96",
           "#ab63fa",
           "#FFA15A",
           "#19d3f3",
           "#FF6692",
           "#B6E880",
           "#FF97FF",
           "#FECB52"
          ],
          "font": {
           "color": "#2a3f5f"
          },
          "geo": {
           "bgcolor": "white",
           "lakecolor": "white",
           "landcolor": "#E5ECF6",
           "showlakes": true,
           "showland": true,
           "subunitcolor": "white"
          },
          "hoverlabel": {
           "align": "left"
          },
          "hovermode": "closest",
          "mapbox": {
           "style": "light"
          },
          "paper_bgcolor": "white",
          "plot_bgcolor": "#E5ECF6",
          "polar": {
           "angularaxis": {
            "gridcolor": "white",
            "linecolor": "white",
            "ticks": ""
           },
           "bgcolor": "#E5ECF6",
           "radialaxis": {
            "gridcolor": "white",
            "linecolor": "white",
            "ticks": ""
           }
          },
          "scene": {
           "xaxis": {
            "backgroundcolor": "#E5ECF6",
            "gridcolor": "white",
            "gridwidth": 2,
            "linecolor": "white",
            "showbackground": true,
            "ticks": "",
            "zerolinecolor": "white"
           },
           "yaxis": {
            "backgroundcolor": "#E5ECF6",
            "gridcolor": "white",
            "gridwidth": 2,
            "linecolor": "white",
            "showbackground": true,
            "ticks": "",
            "zerolinecolor": "white"
           },
           "zaxis": {
            "backgroundcolor": "#E5ECF6",
            "gridcolor": "white",
            "gridwidth": 2,
            "linecolor": "white",
            "showbackground": true,
            "ticks": "",
            "zerolinecolor": "white"
           }
          },
          "shapedefaults": {
           "line": {
            "color": "#2a3f5f"
           }
          },
          "ternary": {
           "aaxis": {
            "gridcolor": "white",
            "linecolor": "white",
            "ticks": ""
           },
           "baxis": {
            "gridcolor": "white",
            "linecolor": "white",
            "ticks": ""
           },
           "bgcolor": "#E5ECF6",
           "caxis": {
            "gridcolor": "white",
            "linecolor": "white",
            "ticks": ""
           }
          },
          "title": {
           "x": 0.05
          },
          "xaxis": {
           "automargin": true,
           "gridcolor": "white",
           "linecolor": "white",
           "ticks": "",
           "title": {
            "standoff": 15
           },
           "zerolinecolor": "white",
           "zerolinewidth": 2
          },
          "yaxis": {
           "automargin": true,
           "gridcolor": "white",
           "linecolor": "white",
           "ticks": "",
           "title": {
            "standoff": 15
           },
           "zerolinecolor": "white",
           "zerolinewidth": 2
          }
         }
        },
        "title": {
         "text": "Top 10 Bowlers by Economy Rate (Past 3 Years, Min 60 Balls Bowled per Season)"
        },
        "xaxis": {
         "anchor": "y",
         "domain": [
          0,
          1
         ],
         "title": {
          "text": "Bowler"
         }
        },
        "yaxis": {
         "anchor": "x",
         "domain": [
          0,
          1
         ],
         "showgrid": false,
         "title": {
          "text": "Economy Rate"
         }
        }
       }
      }
     },
     "metadata": {},
     "output_type": "display_data"
    }
   ],
   "source": [
    "### Top 10 bowlers based on past 3 years total wickets taken.\n",
    "\n",
    "\n",
    "# Merge the two DataFrames on a common column (e.g., 'match_id')\n",
    "merged_df_Bowling = pd.merge(match_summary, bowling_summary, on='match_id', how='inner')  # Change 'inner' to 'left', 'right', or 'outer' depending on the merge type\n",
    "\n",
    "# Display the merged DataFrame\n",
    "print(merged_df_Bowling)\n",
    "\n",
    "\n",
    "\n",
    "# Step 1: Convert matchDate and extract year\n",
    "merged_df_Bowling['matchDate'] = pd.to_datetime(merged_df_Bowling['matchDate'], errors='coerce')\n",
    "merged_df_Bowling['year'] = merged_df_Bowling['matchDate'].dt.year\n",
    "\n",
    "# Step 2: Filter for the last 3 years\n",
    "last_3_years = sorted(merged_df_Bowling['year'].dropna().unique())[-3:]\n",
    "recent_bowling_df = merged_df_Bowling[merged_df_Bowling['year'].isin(last_3_years)]\n",
    "\n",
    "# Step 3: Group by bowlerName and sum the wickets\n",
    "top_wicket_takers = (\n",
    "    recent_bowling_df.groupby('bowlerName')['wickets']\n",
    "    .sum()\n",
    "    .reset_index()\n",
    "    .sort_values(by='wickets', ascending=False)\n",
    "    .head(10)\n",
    ")\n",
    "\n",
    "print(top_wicket_takers)\n",
    "\n",
    "\n",
    "\n",
    "\n",
    "fig = px.bar(\n",
    "    top_wicket_takers,\n",
    "    x='bowlerName',\n",
    "    y='wickets',\n",
    "    title='Top 10 Bowlers by Wickets Taken (Past 3 Years)',\n",
    "    text='wickets',\n",
    "    color='wickets',\n",
    "    color_continuous_scale='Cividis'\n",
    ")\n",
    "\n",
    "fig.update_traces(texttemplate='%{text}', textposition='outside')\n",
    "fig.update_layout(\n",
    "    xaxis_title='Bowler',\n",
    "    yaxis_title='Total Wickets',\n",
    "    yaxis=dict(showgrid=False),\n",
    "    plot_bgcolor='rgba(0,0,0,0)'\n",
    ")\n",
    "\n",
    "fig.show()\n",
    "\n",
    "### Top 10 bowlers based on past 3 years bowling average. (min 60 balls bowled in each season\n",
    "\n",
    "\n",
    "# Step 1: Ensure matchDate is datetime and extract year\n",
    "merged_df_Bowling['matchDate'] = pd.to_datetime(merged_df_Bowling['matchDate'], errors='coerce')\n",
    "merged_df_Bowling['year'] = merged_df_Bowling['matchDate'].dt.year\n",
    "\n",
    "# Step 2: Filter for last 3 years\n",
    "last_3_years = sorted(merged_df_Bowling['year'].dropna().unique())[-3:]\n",
    "df_recent = merged_df_Bowling[merged_df_Bowling['year'].isin(last_3_years)].copy()\n",
    "\n",
    "# Step 3: Convert overs to balls (account for decimal overs)\n",
    "def overs_to_balls(overs):\n",
    "    whole = int(overs)\n",
    "    fraction = overs - whole\n",
    "    balls = whole * 6 + round(fraction * 10)\n",
    "    return balls\n",
    "\n",
    "df_recent['balls'] = df_recent['overs'].apply(overs_to_balls)\n",
    "\n",
    "# Step 4: Group by bowler and year to filter those with at least 60 balls each season\n",
    "season_balls = df_recent.groupby(['bowlerName', 'year'])['balls'].sum().reset_index()\n",
    "eligible_bowlers = (\n",
    "    season_balls[season_balls['balls'] >= 60]\n",
    "    .groupby('bowlerName')['year']\n",
    "    .nunique()\n",
    "    .reset_index()\n",
    ")\n",
    "eligible_bowlers = eligible_bowlers[eligible_bowlers['year'] == 3]['bowlerName']\n",
    "\n",
    "# Step 5: Filter main data to only include eligible bowlers\n",
    "eligible_df = df_recent[df_recent['bowlerName'].isin(eligible_bowlers)]\n",
    "\n",
    "# Step 6: Calculate total runs, wickets, and bowling average\n",
    "bowler_stats = (\n",
    "    eligible_df.groupby('bowlerName')\n",
    "    .agg({'runs': 'sum', 'wickets': 'sum'})\n",
    "    .reset_index()\n",
    ")\n",
    "bowler_stats = bowler_stats[bowler_stats['wickets'] > 0].copy()\n",
    "bowler_stats['bowling_average'] = bowler_stats['runs'] / bowler_stats['wickets']\n",
    "\n",
    "# Step 7: Get Top 10 bowlers with best (lowest) average\n",
    "top_10_avg = bowler_stats.sort_values(by='bowling_average').head(10)\n",
    "print(top_10_avg[['bowlerName', 'bowling_average']])\n",
    "\n",
    "\n",
    "top_10_avg_df = top_10_avg[['bowlerName', 'bowling_average']].copy()\n",
    "top_10_avg_df.columns = ['Bowler', 'Bowling Average']\n",
    "\n",
    "# Create the interactive bar chart\n",
    "fig = px.bar(\n",
    "    top_10_avg_df,\n",
    "    x='Bowler',\n",
    "    y='Bowling Average',\n",
    "    text='Bowling Average',\n",
    "    title='Top 10 Bowlers by Bowling Average (Past 3 Years, Min 60 Balls Bowled per Season)',\n",
    "    color='Bowling Average',\n",
    "    color_continuous_scale='Cividis'\n",
    ")\n",
    "\n",
    "# Style the chart\n",
    "fig.update_traces(texttemplate='%{text:.2f}', textposition='outside')\n",
    "fig.update_layout(\n",
    "    xaxis_title='Bowler',\n",
    "    yaxis_title='Bowling Average',\n",
    "    yaxis=dict(showgrid=False),\n",
    "    plot_bgcolor='rgba(0,0,0,0)'\n",
    ")\n",
    "\n",
    "fig.show()\n",
    "\n",
    "### Top 10 bowlers based on past 3 years economy rate. (min 60 balls bowled in each season)\n",
    "\n",
    "\n",
    "# Step 1: Ensure matchDate is datetime and extract year\n",
    "merged_df_Bowling['matchDate'] = pd.to_datetime(merged_df_Bowling['matchDate'], errors='coerce')\n",
    "merged_df_Bowling['year'] = merged_df_Bowling['matchDate'].dt.year\n",
    "\n",
    "# Step 2: Filter for last 3 years\n",
    "last_3_years = sorted(merged_df_Bowling['year'].dropna().unique())[-3:]\n",
    "df_recent = merged_df_Bowling[merged_df_Bowling['year'].isin(last_3_years)].copy()\n",
    "\n",
    "# Step 3: Convert overs to balls (account for decimal overs)\n",
    "def overs_to_balls(overs):\n",
    "    whole = int(overs)\n",
    "    fraction = overs - whole\n",
    "    balls = whole * 6 + round(fraction * 10)\n",
    "    return balls\n",
    "\n",
    "df_recent['balls'] = df_recent['overs'].apply(overs_to_balls)\n",
    "\n",
    "# Step 4: Group by bowler and year to filter those with at least 60 balls each season\n",
    "season_balls = df_recent.groupby(['bowlerName', 'year'])['balls'].sum().reset_index()\n",
    "eligible_bowlers = (\n",
    "    season_balls[season_balls['balls'] >= 60]\n",
    "    .groupby('bowlerName')['year']\n",
    "    .nunique()\n",
    "    .reset_index()\n",
    ")\n",
    "eligible_bowlers = eligible_bowlers[eligible_bowlers['year'] == 3]['bowlerName']\n",
    "\n",
    "# Step 5: Filter main data to only include eligible bowlers\n",
    "eligible_df = df_recent[df_recent['bowlerName'].isin(eligible_bowlers)]\n",
    "\n",
    "# Step 6: Calculate total runs, balls, and economy rate\n",
    "bowler_stats = (\n",
    "    eligible_df.groupby('bowlerName')\n",
    "    .agg({'runs': 'sum', 'balls': 'sum'})\n",
    "    .reset_index()\n",
    ")\n",
    "bowler_stats = bowler_stats[bowler_stats['balls'] > 0].copy()\n",
    "bowler_stats['economy_rate'] = (bowler_stats['runs'] / bowler_stats['balls']) * 6\n",
    "\n",
    "# Step 7: Get Top 10 bowlers with best (lowest) economy rate\n",
    "top_10_economy = bowler_stats.sort_values(by='economy_rate').head(10)\n",
    "print(top_10_economy[['bowlerName', 'economy_rate']])\n",
    "\n",
    "\n",
    "\n",
    "\n",
    "# Prepare the data for visualization\n",
    "top_10_economy_df = top_10_economy[['bowlerName', 'economy_rate']].copy()\n",
    "top_10_economy_df.columns = ['Bowler', 'Economy Rate']\n",
    "\n",
    "# Create the interactive bar chart\n",
    "fig = px.bar(\n",
    "    top_10_economy_df,\n",
    "    x='Bowler',\n",
    "    y='Economy Rate',\n",
    "    text='Economy Rate',\n",
    "    title='Top 10 Bowlers by Economy Rate (Past 3 Years, Min 60 Balls Bowled per Season)',\n",
    "    color='Economy Rate',\n",
    "    color_continuous_scale='Viridis'\n",
    ")\n",
    "\n",
    "# Style the chart\n",
    "fig.update_traces(texttemplate='%{text:.2f}', textposition='outside')\n",
    "fig.update_layout(\n",
    "    xaxis_title='Bowler',\n",
    "    yaxis_title='Economy Rate',\n",
    "    yaxis=dict(showgrid=False),\n",
    "    plot_bgcolor='rgba(0,0,0,0)'\n",
    ")\n",
    "\n",
    "fig.show()\n",
    "\n"
   ]
  },
  {
   "cell_type": "code",
   "execution_count": 6,
   "id": "cd8d2b8b",
   "metadata": {},
   "outputs": [
    {
     "name": "stdout",
     "output_type": "stream",
     "text": [
      "       team1        team2       winner     margin matchDate match_id  \\\n",
      "2095  Titans  Super Kings  Super Kings  5 wickets       NaT  T208201   \n",
      "2096  Titans  Super Kings  Super Kings  5 wickets       NaT  T208201   \n",
      "2097  Titans  Super Kings  Super Kings  5 wickets       NaT  T208201   \n",
      "2098  Titans  Super Kings  Super Kings  5 wickets       NaT  T208201   \n",
      "2099  Titans  Super Kings  Super Kings  5 wickets       NaT  T208201   \n",
      "2100  Titans  Super Kings  Super Kings  5 wickets       NaT  T208201   \n",
      "2101  Titans  Super Kings  Super Kings  5 wickets       NaT  T208201   \n",
      "2102  Titans  Super Kings  Super Kings  5 wickets       NaT  T208201   \n",
      "2103  Titans  Super Kings  Super Kings  5 wickets       NaT  T208201   \n",
      "2104  Titans  Super Kings  Super Kings  5 wickets       NaT  T208201   \n",
      "2105  Titans  Super Kings  Super Kings  5 wickets       NaT  T208201   \n",
      "2106  Titans  Super Kings  Super Kings  5 wickets       NaT  T208201   \n",
      "\n",
      "                      match  teamInnings  battingPos     batsmanName  \\\n",
      "2095  Titans Vs Super Kings       Titans           1  WriddhimanSaha   \n",
      "2096  Titans Vs Super Kings       Titans           2     ShubmanGill   \n",
      "2097  Titans Vs Super Kings       Titans           3    SaiSudharsan   \n",
      "2098  Titans Vs Super Kings       Titans           4    HardikPandya   \n",
      "2099  Titans Vs Super Kings       Titans           5      RashidKhan   \n",
      "2100  Titans Vs Super Kings  Super Kings           1  RuturajGaikwad   \n",
      "2101  Titans Vs Super Kings  Super Kings           2     DevonConway   \n",
      "2102  Titans Vs Super Kings  Super Kings           3      ShivamDube   \n",
      "2103  Titans Vs Super Kings  Super Kings           4   AjinkyaRahane   \n",
      "2104  Titans Vs Super Kings  Super Kings           5    AmbatiRayudu   \n",
      "2105  Titans Vs Super Kings  Super Kings           6         MSDhoni   \n",
      "2106  Titans Vs Super Kings  Super Kings           7  RavindraJadeja   \n",
      "\n",
      "     out/not_out  runs  balls  4s  6s      SR  year  \n",
      "2095         out    54     39   5   1  138.46   NaN  \n",
      "2096         out    39     20   7   0  195.00   NaN  \n",
      "2097         out    96     47   8   6  204.25   NaN  \n",
      "2098     not_out    21     12   0   2  175.00   NaN  \n",
      "2099         out     0      2   0   0    0.00   NaN  \n",
      "2100         out    26     16   3   1  162.50   NaN  \n",
      "2101         out    47     25   4   2  188.00   NaN  \n",
      "2102     not_out    32     21   0   2  152.38   NaN  \n",
      "2103         out    27     13   2   2  207.69   NaN  \n",
      "2104         out    19      8   1   2  237.50   NaN  \n",
      "2105         out     0      1   0   0    0.00   NaN  \n",
      "2106     not_out    15      6   1   1  250.00   NaN  \n",
      "      batsmanName  boundary_percentage\n",
      "111      MarkWood            40.000000\n",
      "11      AkashDeep            37.500000\n",
      "154    RashidKhan            35.443038\n",
      "188  ShreyasGopal            28.571429\n",
      "193  SrikarBharat            28.571429\n"
     ]
    },
    {
     "name": "stderr",
     "output_type": "stream",
     "text": [
      "C:\\Users\\saich\\AppData\\Local\\Temp\\ipykernel_1188\\1387397501.py:22: SettingWithCopyWarning:\n",
      "\n",
      "\n",
      "A value is trying to be set on a copy of a slice from a DataFrame.\n",
      "Try using .loc[row_indexer,col_indexer] = value instead\n",
      "\n",
      "See the caveats in the documentation: https://pandas.pydata.org/pandas-docs/stable/user_guide/indexing.html#returning-a-view-versus-a-copy\n",
      "\n",
      "C:\\Users\\saich\\AppData\\Local\\Temp\\ipykernel_1188\\1387397501.py:23: SettingWithCopyWarning:\n",
      "\n",
      "\n",
      "A value is trying to be set on a copy of a slice from a DataFrame.\n",
      "Try using .loc[row_indexer,col_indexer] = value instead\n",
      "\n",
      "See the caveats in the documentation: https://pandas.pydata.org/pandas-docs/stable/user_guide/indexing.html#returning-a-view-versus-a-copy\n",
      "\n"
     ]
    },
    {
     "data": {
      "application/vnd.plotly.v1+json": {
       "config": {
        "plotlyServerURL": "https://plot.ly"
       },
       "data": [
        {
         "alignmentgroup": "True",
         "hovertemplate": "Batsman=%{x}<br>Boundary Percentage=%{marker.color}<extra></extra>",
         "legendgroup": "",
         "marker": {
          "color": [
           40,
           37.5,
           35.44303797468354,
           28.57142857142857,
           28.57142857142857
          ],
          "coloraxis": "coloraxis",
          "pattern": {
           "shape": ""
          }
         },
         "name": "",
         "offsetgroup": "",
         "orientation": "v",
         "showlegend": false,
         "textposition": "auto",
         "type": "bar",
         "x": [
          "MarkWood",
          "AkashDeep",
          "RashidKhan",
          "ShreyasGopal",
          "SrikarBharat"
         ],
         "xaxis": "x",
         "y": [
          40,
          37.5,
          35.44303797468354,
          28.57142857142857,
          28.57142857142857
         ],
         "yaxis": "y"
        }
       ],
       "layout": {
        "barmode": "relative",
        "coloraxis": {
         "colorbar": {
          "title": {
           "text": "Boundary Percentage"
          }
         },
         "colorscale": [
          [
           0,
           "rgb(247,251,255)"
          ],
          [
           0.125,
           "rgb(222,235,247)"
          ],
          [
           0.25,
           "rgb(198,219,239)"
          ],
          [
           0.375,
           "rgb(158,202,225)"
          ],
          [
           0.5,
           "rgb(107,174,214)"
          ],
          [
           0.625,
           "rgb(66,146,198)"
          ],
          [
           0.75,
           "rgb(33,113,181)"
          ],
          [
           0.875,
           "rgb(8,81,156)"
          ],
          [
           1,
           "rgb(8,48,107)"
          ]
         ]
        },
        "legend": {
         "tracegroupgap": 0
        },
        "template": {
         "data": {
          "bar": [
           {
            "error_x": {
             "color": "#2a3f5f"
            },
            "error_y": {
             "color": "#2a3f5f"
            },
            "marker": {
             "line": {
              "color": "#E5ECF6",
              "width": 0.5
             },
             "pattern": {
              "fillmode": "overlay",
              "size": 10,
              "solidity": 0.2
             }
            },
            "type": "bar"
           }
          ],
          "barpolar": [
           {
            "marker": {
             "line": {
              "color": "#E5ECF6",
              "width": 0.5
             },
             "pattern": {
              "fillmode": "overlay",
              "size": 10,
              "solidity": 0.2
             }
            },
            "type": "barpolar"
           }
          ],
          "carpet": [
           {
            "aaxis": {
             "endlinecolor": "#2a3f5f",
             "gridcolor": "white",
             "linecolor": "white",
             "minorgridcolor": "white",
             "startlinecolor": "#2a3f5f"
            },
            "baxis": {
             "endlinecolor": "#2a3f5f",
             "gridcolor": "white",
             "linecolor": "white",
             "minorgridcolor": "white",
             "startlinecolor": "#2a3f5f"
            },
            "type": "carpet"
           }
          ],
          "choropleth": [
           {
            "colorbar": {
             "outlinewidth": 0,
             "ticks": ""
            },
            "type": "choropleth"
           }
          ],
          "contour": [
           {
            "colorbar": {
             "outlinewidth": 0,
             "ticks": ""
            },
            "colorscale": [
             [
              0,
              "#0d0887"
             ],
             [
              0.1111111111111111,
              "#46039f"
             ],
             [
              0.2222222222222222,
              "#7201a8"
             ],
             [
              0.3333333333333333,
              "#9c179e"
             ],
             [
              0.4444444444444444,
              "#bd3786"
             ],
             [
              0.5555555555555556,
              "#d8576b"
             ],
             [
              0.6666666666666666,
              "#ed7953"
             ],
             [
              0.7777777777777778,
              "#fb9f3a"
             ],
             [
              0.8888888888888888,
              "#fdca26"
             ],
             [
              1,
              "#f0f921"
             ]
            ],
            "type": "contour"
           }
          ],
          "contourcarpet": [
           {
            "colorbar": {
             "outlinewidth": 0,
             "ticks": ""
            },
            "type": "contourcarpet"
           }
          ],
          "heatmap": [
           {
            "colorbar": {
             "outlinewidth": 0,
             "ticks": ""
            },
            "colorscale": [
             [
              0,
              "#0d0887"
             ],
             [
              0.1111111111111111,
              "#46039f"
             ],
             [
              0.2222222222222222,
              "#7201a8"
             ],
             [
              0.3333333333333333,
              "#9c179e"
             ],
             [
              0.4444444444444444,
              "#bd3786"
             ],
             [
              0.5555555555555556,
              "#d8576b"
             ],
             [
              0.6666666666666666,
              "#ed7953"
             ],
             [
              0.7777777777777778,
              "#fb9f3a"
             ],
             [
              0.8888888888888888,
              "#fdca26"
             ],
             [
              1,
              "#f0f921"
             ]
            ],
            "type": "heatmap"
           }
          ],
          "heatmapgl": [
           {
            "colorbar": {
             "outlinewidth": 0,
             "ticks": ""
            },
            "colorscale": [
             [
              0,
              "#0d0887"
             ],
             [
              0.1111111111111111,
              "#46039f"
             ],
             [
              0.2222222222222222,
              "#7201a8"
             ],
             [
              0.3333333333333333,
              "#9c179e"
             ],
             [
              0.4444444444444444,
              "#bd3786"
             ],
             [
              0.5555555555555556,
              "#d8576b"
             ],
             [
              0.6666666666666666,
              "#ed7953"
             ],
             [
              0.7777777777777778,
              "#fb9f3a"
             ],
             [
              0.8888888888888888,
              "#fdca26"
             ],
             [
              1,
              "#f0f921"
             ]
            ],
            "type": "heatmapgl"
           }
          ],
          "histogram": [
           {
            "marker": {
             "pattern": {
              "fillmode": "overlay",
              "size": 10,
              "solidity": 0.2
             }
            },
            "type": "histogram"
           }
          ],
          "histogram2d": [
           {
            "colorbar": {
             "outlinewidth": 0,
             "ticks": ""
            },
            "colorscale": [
             [
              0,
              "#0d0887"
             ],
             [
              0.1111111111111111,
              "#46039f"
             ],
             [
              0.2222222222222222,
              "#7201a8"
             ],
             [
              0.3333333333333333,
              "#9c179e"
             ],
             [
              0.4444444444444444,
              "#bd3786"
             ],
             [
              0.5555555555555556,
              "#d8576b"
             ],
             [
              0.6666666666666666,
              "#ed7953"
             ],
             [
              0.7777777777777778,
              "#fb9f3a"
             ],
             [
              0.8888888888888888,
              "#fdca26"
             ],
             [
              1,
              "#f0f921"
             ]
            ],
            "type": "histogram2d"
           }
          ],
          "histogram2dcontour": [
           {
            "colorbar": {
             "outlinewidth": 0,
             "ticks": ""
            },
            "colorscale": [
             [
              0,
              "#0d0887"
             ],
             [
              0.1111111111111111,
              "#46039f"
             ],
             [
              0.2222222222222222,
              "#7201a8"
             ],
             [
              0.3333333333333333,
              "#9c179e"
             ],
             [
              0.4444444444444444,
              "#bd3786"
             ],
             [
              0.5555555555555556,
              "#d8576b"
             ],
             [
              0.6666666666666666,
              "#ed7953"
             ],
             [
              0.7777777777777778,
              "#fb9f3a"
             ],
             [
              0.8888888888888888,
              "#fdca26"
             ],
             [
              1,
              "#f0f921"
             ]
            ],
            "type": "histogram2dcontour"
           }
          ],
          "mesh3d": [
           {
            "colorbar": {
             "outlinewidth": 0,
             "ticks": ""
            },
            "type": "mesh3d"
           }
          ],
          "parcoords": [
           {
            "line": {
             "colorbar": {
              "outlinewidth": 0,
              "ticks": ""
             }
            },
            "type": "parcoords"
           }
          ],
          "pie": [
           {
            "automargin": true,
            "type": "pie"
           }
          ],
          "scatter": [
           {
            "fillpattern": {
             "fillmode": "overlay",
             "size": 10,
             "solidity": 0.2
            },
            "type": "scatter"
           }
          ],
          "scatter3d": [
           {
            "line": {
             "colorbar": {
              "outlinewidth": 0,
              "ticks": ""
             }
            },
            "marker": {
             "colorbar": {
              "outlinewidth": 0,
              "ticks": ""
             }
            },
            "type": "scatter3d"
           }
          ],
          "scattercarpet": [
           {
            "marker": {
             "colorbar": {
              "outlinewidth": 0,
              "ticks": ""
             }
            },
            "type": "scattercarpet"
           }
          ],
          "scattergeo": [
           {
            "marker": {
             "colorbar": {
              "outlinewidth": 0,
              "ticks": ""
             }
            },
            "type": "scattergeo"
           }
          ],
          "scattergl": [
           {
            "marker": {
             "colorbar": {
              "outlinewidth": 0,
              "ticks": ""
             }
            },
            "type": "scattergl"
           }
          ],
          "scattermapbox": [
           {
            "marker": {
             "colorbar": {
              "outlinewidth": 0,
              "ticks": ""
             }
            },
            "type": "scattermapbox"
           }
          ],
          "scatterpolar": [
           {
            "marker": {
             "colorbar": {
              "outlinewidth": 0,
              "ticks": ""
             }
            },
            "type": "scatterpolar"
           }
          ],
          "scatterpolargl": [
           {
            "marker": {
             "colorbar": {
              "outlinewidth": 0,
              "ticks": ""
             }
            },
            "type": "scatterpolargl"
           }
          ],
          "scatterternary": [
           {
            "marker": {
             "colorbar": {
              "outlinewidth": 0,
              "ticks": ""
             }
            },
            "type": "scatterternary"
           }
          ],
          "surface": [
           {
            "colorbar": {
             "outlinewidth": 0,
             "ticks": ""
            },
            "colorscale": [
             [
              0,
              "#0d0887"
             ],
             [
              0.1111111111111111,
              "#46039f"
             ],
             [
              0.2222222222222222,
              "#7201a8"
             ],
             [
              0.3333333333333333,
              "#9c179e"
             ],
             [
              0.4444444444444444,
              "#bd3786"
             ],
             [
              0.5555555555555556,
              "#d8576b"
             ],
             [
              0.6666666666666666,
              "#ed7953"
             ],
             [
              0.7777777777777778,
              "#fb9f3a"
             ],
             [
              0.8888888888888888,
              "#fdca26"
             ],
             [
              1,
              "#f0f921"
             ]
            ],
            "type": "surface"
           }
          ],
          "table": [
           {
            "cells": {
             "fill": {
              "color": "#EBF0F8"
             },
             "line": {
              "color": "white"
             }
            },
            "header": {
             "fill": {
              "color": "#C8D4E3"
             },
             "line": {
              "color": "white"
             }
            },
            "type": "table"
           }
          ]
         },
         "layout": {
          "annotationdefaults": {
           "arrowcolor": "#2a3f5f",
           "arrowhead": 0,
           "arrowwidth": 1
          },
          "autotypenumbers": "strict",
          "coloraxis": {
           "colorbar": {
            "outlinewidth": 0,
            "ticks": ""
           }
          },
          "colorscale": {
           "diverging": [
            [
             0,
             "#8e0152"
            ],
            [
             0.1,
             "#c51b7d"
            ],
            [
             0.2,
             "#de77ae"
            ],
            [
             0.3,
             "#f1b6da"
            ],
            [
             0.4,
             "#fde0ef"
            ],
            [
             0.5,
             "#f7f7f7"
            ],
            [
             0.6,
             "#e6f5d0"
            ],
            [
             0.7,
             "#b8e186"
            ],
            [
             0.8,
             "#7fbc41"
            ],
            [
             0.9,
             "#4d9221"
            ],
            [
             1,
             "#276419"
            ]
           ],
           "sequential": [
            [
             0,
             "#0d0887"
            ],
            [
             0.1111111111111111,
             "#46039f"
            ],
            [
             0.2222222222222222,
             "#7201a8"
            ],
            [
             0.3333333333333333,
             "#9c179e"
            ],
            [
             0.4444444444444444,
             "#bd3786"
            ],
            [
             0.5555555555555556,
             "#d8576b"
            ],
            [
             0.6666666666666666,
             "#ed7953"
            ],
            [
             0.7777777777777778,
             "#fb9f3a"
            ],
            [
             0.8888888888888888,
             "#fdca26"
            ],
            [
             1,
             "#f0f921"
            ]
           ],
           "sequentialminus": [
            [
             0,
             "#0d0887"
            ],
            [
             0.1111111111111111,
             "#46039f"
            ],
            [
             0.2222222222222222,
             "#7201a8"
            ],
            [
             0.3333333333333333,
             "#9c179e"
            ],
            [
             0.4444444444444444,
             "#bd3786"
            ],
            [
             0.5555555555555556,
             "#d8576b"
            ],
            [
             0.6666666666666666,
             "#ed7953"
            ],
            [
             0.7777777777777778,
             "#fb9f3a"
            ],
            [
             0.8888888888888888,
             "#fdca26"
            ],
            [
             1,
             "#f0f921"
            ]
           ]
          },
          "colorway": [
           "#636efa",
           "#EF553B",
           "#00cc96",
           "#ab63fa",
           "#FFA15A",
           "#19d3f3",
           "#FF6692",
           "#B6E880",
           "#FF97FF",
           "#FECB52"
          ],
          "font": {
           "color": "#2a3f5f"
          },
          "geo": {
           "bgcolor": "white",
           "lakecolor": "white",
           "landcolor": "#E5ECF6",
           "showlakes": true,
           "showland": true,
           "subunitcolor": "white"
          },
          "hoverlabel": {
           "align": "left"
          },
          "hovermode": "closest",
          "mapbox": {
           "style": "light"
          },
          "paper_bgcolor": "white",
          "plot_bgcolor": "#E5ECF6",
          "polar": {
           "angularaxis": {
            "gridcolor": "white",
            "linecolor": "white",
            "ticks": ""
           },
           "bgcolor": "#E5ECF6",
           "radialaxis": {
            "gridcolor": "white",
            "linecolor": "white",
            "ticks": ""
           }
          },
          "scene": {
           "xaxis": {
            "backgroundcolor": "#E5ECF6",
            "gridcolor": "white",
            "gridwidth": 2,
            "linecolor": "white",
            "showbackground": true,
            "ticks": "",
            "zerolinecolor": "white"
           },
           "yaxis": {
            "backgroundcolor": "#E5ECF6",
            "gridcolor": "white",
            "gridwidth": 2,
            "linecolor": "white",
            "showbackground": true,
            "ticks": "",
            "zerolinecolor": "white"
           },
           "zaxis": {
            "backgroundcolor": "#E5ECF6",
            "gridcolor": "white",
            "gridwidth": 2,
            "linecolor": "white",
            "showbackground": true,
            "ticks": "",
            "zerolinecolor": "white"
           }
          },
          "shapedefaults": {
           "line": {
            "color": "#2a3f5f"
           }
          },
          "ternary": {
           "aaxis": {
            "gridcolor": "white",
            "linecolor": "white",
            "ticks": ""
           },
           "baxis": {
            "gridcolor": "white",
            "linecolor": "white",
            "ticks": ""
           },
           "bgcolor": "#E5ECF6",
           "caxis": {
            "gridcolor": "white",
            "linecolor": "white",
            "ticks": ""
           }
          },
          "title": {
           "x": 0.05
          },
          "xaxis": {
           "automargin": true,
           "gridcolor": "white",
           "linecolor": "white",
           "ticks": "",
           "title": {
            "standoff": 15
           },
           "zerolinecolor": "white",
           "zerolinewidth": 2
          },
          "yaxis": {
           "automargin": true,
           "gridcolor": "white",
           "linecolor": "white",
           "ticks": "",
           "title": {
            "standoff": 15
           },
           "zerolinecolor": "white",
           "zerolinewidth": 2
          }
         }
        },
        "title": {
         "text": "Top 5 Batsmen Based on Boundary Percentage (Fours and Sixes)"
        },
        "xaxis": {
         "anchor": "y",
         "domain": [
          0,
          1
         ],
         "title": {
          "text": "Batsman"
         }
        },
        "yaxis": {
         "anchor": "x",
         "domain": [
          0,
          1
         ],
         "title": {
          "text": "Boundary Percentage"
         }
        }
       }
      }
     },
     "metadata": {},
     "output_type": "display_data"
    },
    {
     "data": {
      "application/vnd.plotly.v1+json": {
       "config": {
        "plotlyServerURL": "https://plot.ly"
       },
       "data": [
        {
         "alignmentgroup": "True",
         "hovertemplate": "Bowler=%{x}<br>Dot Ball Percentage=%{marker.color}<extra></extra>",
         "legendgroup": "",
         "marker": {
          "color": [
           66.66666666666666,
           58.333333333333336,
           58.333333333333336,
           52.77777777777778,
           52.083333333333336
          ],
          "coloraxis": "coloraxis",
          "pattern": {
           "shape": ""
          }
         },
         "name": "",
         "offsetgroup": "",
         "orientation": "v",
         "showlegend": false,
         "textposition": "auto",
         "type": "bar",
         "x": [
          "ShreyasIyer",
          "ReeceTopley",
          "ImranTahir",
          "SimarjeetSingh",
          "YudhvirSingh"
         ],
         "xaxis": "x",
         "y": [
          66.66666666666666,
          58.333333333333336,
          58.333333333333336,
          52.77777777777778,
          52.083333333333336
         ],
         "yaxis": "y"
        }
       ],
       "layout": {
        "barmode": "relative",
        "coloraxis": {
         "colorbar": {
          "title": {
           "text": "Dot Ball Percentage"
          }
         },
         "colorscale": [
          [
           0,
           "rgb(247,251,255)"
          ],
          [
           0.125,
           "rgb(222,235,247)"
          ],
          [
           0.25,
           "rgb(198,219,239)"
          ],
          [
           0.375,
           "rgb(158,202,225)"
          ],
          [
           0.5,
           "rgb(107,174,214)"
          ],
          [
           0.625,
           "rgb(66,146,198)"
          ],
          [
           0.75,
           "rgb(33,113,181)"
          ],
          [
           0.875,
           "rgb(8,81,156)"
          ],
          [
           1,
           "rgb(8,48,107)"
          ]
         ]
        },
        "legend": {
         "tracegroupgap": 0
        },
        "template": {
         "data": {
          "bar": [
           {
            "error_x": {
             "color": "#2a3f5f"
            },
            "error_y": {
             "color": "#2a3f5f"
            },
            "marker": {
             "line": {
              "color": "#E5ECF6",
              "width": 0.5
             },
             "pattern": {
              "fillmode": "overlay",
              "size": 10,
              "solidity": 0.2
             }
            },
            "type": "bar"
           }
          ],
          "barpolar": [
           {
            "marker": {
             "line": {
              "color": "#E5ECF6",
              "width": 0.5
             },
             "pattern": {
              "fillmode": "overlay",
              "size": 10,
              "solidity": 0.2
             }
            },
            "type": "barpolar"
           }
          ],
          "carpet": [
           {
            "aaxis": {
             "endlinecolor": "#2a3f5f",
             "gridcolor": "white",
             "linecolor": "white",
             "minorgridcolor": "white",
             "startlinecolor": "#2a3f5f"
            },
            "baxis": {
             "endlinecolor": "#2a3f5f",
             "gridcolor": "white",
             "linecolor": "white",
             "minorgridcolor": "white",
             "startlinecolor": "#2a3f5f"
            },
            "type": "carpet"
           }
          ],
          "choropleth": [
           {
            "colorbar": {
             "outlinewidth": 0,
             "ticks": ""
            },
            "type": "choropleth"
           }
          ],
          "contour": [
           {
            "colorbar": {
             "outlinewidth": 0,
             "ticks": ""
            },
            "colorscale": [
             [
              0,
              "#0d0887"
             ],
             [
              0.1111111111111111,
              "#46039f"
             ],
             [
              0.2222222222222222,
              "#7201a8"
             ],
             [
              0.3333333333333333,
              "#9c179e"
             ],
             [
              0.4444444444444444,
              "#bd3786"
             ],
             [
              0.5555555555555556,
              "#d8576b"
             ],
             [
              0.6666666666666666,
              "#ed7953"
             ],
             [
              0.7777777777777778,
              "#fb9f3a"
             ],
             [
              0.8888888888888888,
              "#fdca26"
             ],
             [
              1,
              "#f0f921"
             ]
            ],
            "type": "contour"
           }
          ],
          "contourcarpet": [
           {
            "colorbar": {
             "outlinewidth": 0,
             "ticks": ""
            },
            "type": "contourcarpet"
           }
          ],
          "heatmap": [
           {
            "colorbar": {
             "outlinewidth": 0,
             "ticks": ""
            },
            "colorscale": [
             [
              0,
              "#0d0887"
             ],
             [
              0.1111111111111111,
              "#46039f"
             ],
             [
              0.2222222222222222,
              "#7201a8"
             ],
             [
              0.3333333333333333,
              "#9c179e"
             ],
             [
              0.4444444444444444,
              "#bd3786"
             ],
             [
              0.5555555555555556,
              "#d8576b"
             ],
             [
              0.6666666666666666,
              "#ed7953"
             ],
             [
              0.7777777777777778,
              "#fb9f3a"
             ],
             [
              0.8888888888888888,
              "#fdca26"
             ],
             [
              1,
              "#f0f921"
             ]
            ],
            "type": "heatmap"
           }
          ],
          "heatmapgl": [
           {
            "colorbar": {
             "outlinewidth": 0,
             "ticks": ""
            },
            "colorscale": [
             [
              0,
              "#0d0887"
             ],
             [
              0.1111111111111111,
              "#46039f"
             ],
             [
              0.2222222222222222,
              "#7201a8"
             ],
             [
              0.3333333333333333,
              "#9c179e"
             ],
             [
              0.4444444444444444,
              "#bd3786"
             ],
             [
              0.5555555555555556,
              "#d8576b"
             ],
             [
              0.6666666666666666,
              "#ed7953"
             ],
             [
              0.7777777777777778,
              "#fb9f3a"
             ],
             [
              0.8888888888888888,
              "#fdca26"
             ],
             [
              1,
              "#f0f921"
             ]
            ],
            "type": "heatmapgl"
           }
          ],
          "histogram": [
           {
            "marker": {
             "pattern": {
              "fillmode": "overlay",
              "size": 10,
              "solidity": 0.2
             }
            },
            "type": "histogram"
           }
          ],
          "histogram2d": [
           {
            "colorbar": {
             "outlinewidth": 0,
             "ticks": ""
            },
            "colorscale": [
             [
              0,
              "#0d0887"
             ],
             [
              0.1111111111111111,
              "#46039f"
             ],
             [
              0.2222222222222222,
              "#7201a8"
             ],
             [
              0.3333333333333333,
              "#9c179e"
             ],
             [
              0.4444444444444444,
              "#bd3786"
             ],
             [
              0.5555555555555556,
              "#d8576b"
             ],
             [
              0.6666666666666666,
              "#ed7953"
             ],
             [
              0.7777777777777778,
              "#fb9f3a"
             ],
             [
              0.8888888888888888,
              "#fdca26"
             ],
             [
              1,
              "#f0f921"
             ]
            ],
            "type": "histogram2d"
           }
          ],
          "histogram2dcontour": [
           {
            "colorbar": {
             "outlinewidth": 0,
             "ticks": ""
            },
            "colorscale": [
             [
              0,
              "#0d0887"
             ],
             [
              0.1111111111111111,
              "#46039f"
             ],
             [
              0.2222222222222222,
              "#7201a8"
             ],
             [
              0.3333333333333333,
              "#9c179e"
             ],
             [
              0.4444444444444444,
              "#bd3786"
             ],
             [
              0.5555555555555556,
              "#d8576b"
             ],
             [
              0.6666666666666666,
              "#ed7953"
             ],
             [
              0.7777777777777778,
              "#fb9f3a"
             ],
             [
              0.8888888888888888,
              "#fdca26"
             ],
             [
              1,
              "#f0f921"
             ]
            ],
            "type": "histogram2dcontour"
           }
          ],
          "mesh3d": [
           {
            "colorbar": {
             "outlinewidth": 0,
             "ticks": ""
            },
            "type": "mesh3d"
           }
          ],
          "parcoords": [
           {
            "line": {
             "colorbar": {
              "outlinewidth": 0,
              "ticks": ""
             }
            },
            "type": "parcoords"
           }
          ],
          "pie": [
           {
            "automargin": true,
            "type": "pie"
           }
          ],
          "scatter": [
           {
            "fillpattern": {
             "fillmode": "overlay",
             "size": 10,
             "solidity": 0.2
            },
            "type": "scatter"
           }
          ],
          "scatter3d": [
           {
            "line": {
             "colorbar": {
              "outlinewidth": 0,
              "ticks": ""
             }
            },
            "marker": {
             "colorbar": {
              "outlinewidth": 0,
              "ticks": ""
             }
            },
            "type": "scatter3d"
           }
          ],
          "scattercarpet": [
           {
            "marker": {
             "colorbar": {
              "outlinewidth": 0,
              "ticks": ""
             }
            },
            "type": "scattercarpet"
           }
          ],
          "scattergeo": [
           {
            "marker": {
             "colorbar": {
              "outlinewidth": 0,
              "ticks": ""
             }
            },
            "type": "scattergeo"
           }
          ],
          "scattergl": [
           {
            "marker": {
             "colorbar": {
              "outlinewidth": 0,
              "ticks": ""
             }
            },
            "type": "scattergl"
           }
          ],
          "scattermapbox": [
           {
            "marker": {
             "colorbar": {
              "outlinewidth": 0,
              "ticks": ""
             }
            },
            "type": "scattermapbox"
           }
          ],
          "scatterpolar": [
           {
            "marker": {
             "colorbar": {
              "outlinewidth": 0,
              "ticks": ""
             }
            },
            "type": "scatterpolar"
           }
          ],
          "scatterpolargl": [
           {
            "marker": {
             "colorbar": {
              "outlinewidth": 0,
              "ticks": ""
             }
            },
            "type": "scatterpolargl"
           }
          ],
          "scatterternary": [
           {
            "marker": {
             "colorbar": {
              "outlinewidth": 0,
              "ticks": ""
             }
            },
            "type": "scatterternary"
           }
          ],
          "surface": [
           {
            "colorbar": {
             "outlinewidth": 0,
             "ticks": ""
            },
            "colorscale": [
             [
              0,
              "#0d0887"
             ],
             [
              0.1111111111111111,
              "#46039f"
             ],
             [
              0.2222222222222222,
              "#7201a8"
             ],
             [
              0.3333333333333333,
              "#9c179e"
             ],
             [
              0.4444444444444444,
              "#bd3786"
             ],
             [
              0.5555555555555556,
              "#d8576b"
             ],
             [
              0.6666666666666666,
              "#ed7953"
             ],
             [
              0.7777777777777778,
              "#fb9f3a"
             ],
             [
              0.8888888888888888,
              "#fdca26"
             ],
             [
              1,
              "#f0f921"
             ]
            ],
            "type": "surface"
           }
          ],
          "table": [
           {
            "cells": {
             "fill": {
              "color": "#EBF0F8"
             },
             "line": {
              "color": "white"
             }
            },
            "header": {
             "fill": {
              "color": "#C8D4E3"
             },
             "line": {
              "color": "white"
             }
            },
            "type": "table"
           }
          ]
         },
         "layout": {
          "annotationdefaults": {
           "arrowcolor": "#2a3f5f",
           "arrowhead": 0,
           "arrowwidth": 1
          },
          "autotypenumbers": "strict",
          "coloraxis": {
           "colorbar": {
            "outlinewidth": 0,
            "ticks": ""
           }
          },
          "colorscale": {
           "diverging": [
            [
             0,
             "#8e0152"
            ],
            [
             0.1,
             "#c51b7d"
            ],
            [
             0.2,
             "#de77ae"
            ],
            [
             0.3,
             "#f1b6da"
            ],
            [
             0.4,
             "#fde0ef"
            ],
            [
             0.5,
             "#f7f7f7"
            ],
            [
             0.6,
             "#e6f5d0"
            ],
            [
             0.7,
             "#b8e186"
            ],
            [
             0.8,
             "#7fbc41"
            ],
            [
             0.9,
             "#4d9221"
            ],
            [
             1,
             "#276419"
            ]
           ],
           "sequential": [
            [
             0,
             "#0d0887"
            ],
            [
             0.1111111111111111,
             "#46039f"
            ],
            [
             0.2222222222222222,
             "#7201a8"
            ],
            [
             0.3333333333333333,
             "#9c179e"
            ],
            [
             0.4444444444444444,
             "#bd3786"
            ],
            [
             0.5555555555555556,
             "#d8576b"
            ],
            [
             0.6666666666666666,
             "#ed7953"
            ],
            [
             0.7777777777777778,
             "#fb9f3a"
            ],
            [
             0.8888888888888888,
             "#fdca26"
            ],
            [
             1,
             "#f0f921"
            ]
           ],
           "sequentialminus": [
            [
             0,
             "#0d0887"
            ],
            [
             0.1111111111111111,
             "#46039f"
            ],
            [
             0.2222222222222222,
             "#7201a8"
            ],
            [
             0.3333333333333333,
             "#9c179e"
            ],
            [
             0.4444444444444444,
             "#bd3786"
            ],
            [
             0.5555555555555556,
             "#d8576b"
            ],
            [
             0.6666666666666666,
             "#ed7953"
            ],
            [
             0.7777777777777778,
             "#fb9f3a"
            ],
            [
             0.8888888888888888,
             "#fdca26"
            ],
            [
             1,
             "#f0f921"
            ]
           ]
          },
          "colorway": [
           "#636efa",
           "#EF553B",
           "#00cc96",
           "#ab63fa",
           "#FFA15A",
           "#19d3f3",
           "#FF6692",
           "#B6E880",
           "#FF97FF",
           "#FECB52"
          ],
          "font": {
           "color": "#2a3f5f"
          },
          "geo": {
           "bgcolor": "white",
           "lakecolor": "white",
           "landcolor": "#E5ECF6",
           "showlakes": true,
           "showland": true,
           "subunitcolor": "white"
          },
          "hoverlabel": {
           "align": "left"
          },
          "hovermode": "closest",
          "mapbox": {
           "style": "light"
          },
          "paper_bgcolor": "white",
          "plot_bgcolor": "#E5ECF6",
          "polar": {
           "angularaxis": {
            "gridcolor": "white",
            "linecolor": "white",
            "ticks": ""
           },
           "bgcolor": "#E5ECF6",
           "radialaxis": {
            "gridcolor": "white",
            "linecolor": "white",
            "ticks": ""
           }
          },
          "scene": {
           "xaxis": {
            "backgroundcolor": "#E5ECF6",
            "gridcolor": "white",
            "gridwidth": 2,
            "linecolor": "white",
            "showbackground": true,
            "ticks": "",
            "zerolinecolor": "white"
           },
           "yaxis": {
            "backgroundcolor": "#E5ECF6",
            "gridcolor": "white",
            "gridwidth": 2,
            "linecolor": "white",
            "showbackground": true,
            "ticks": "",
            "zerolinecolor": "white"
           },
           "zaxis": {
            "backgroundcolor": "#E5ECF6",
            "gridcolor": "white",
            "gridwidth": 2,
            "linecolor": "white",
            "showbackground": true,
            "ticks": "",
            "zerolinecolor": "white"
           }
          },
          "shapedefaults": {
           "line": {
            "color": "#2a3f5f"
           }
          },
          "ternary": {
           "aaxis": {
            "gridcolor": "white",
            "linecolor": "white",
            "ticks": ""
           },
           "baxis": {
            "gridcolor": "white",
            "linecolor": "white",
            "ticks": ""
           },
           "bgcolor": "#E5ECF6",
           "caxis": {
            "gridcolor": "white",
            "linecolor": "white",
            "ticks": ""
           }
          },
          "title": {
           "x": 0.05
          },
          "xaxis": {
           "automargin": true,
           "gridcolor": "white",
           "linecolor": "white",
           "ticks": "",
           "title": {
            "standoff": 15
           },
           "zerolinecolor": "white",
           "zerolinewidth": 2
          },
          "yaxis": {
           "automargin": true,
           "gridcolor": "white",
           "linecolor": "white",
           "ticks": "",
           "title": {
            "standoff": 15
           },
           "zerolinecolor": "white",
           "zerolinewidth": 2
          }
         }
        },
        "title": {
         "text": "Top 5 Bowlers Based on Dot Ball Percentage (Past 3 Years)"
        },
        "xaxis": {
         "anchor": "y",
         "domain": [
          0,
          1
         ],
         "title": {
          "text": "Bowler"
         }
        },
        "yaxis": {
         "anchor": "x",
         "domain": [
          0,
          1
         ],
         "title": {
          "text": "Dot Ball Percentage"
         }
        }
       }
      }
     },
     "metadata": {},
     "output_type": "display_data"
    }
   ],
   "source": [
    "### Top 5 batsmen based on past 3 years boundary % (fours and sixes)\n",
    "\n",
    "\n",
    "\n",
    "# Check for rows with invalid date formats and manually fix them\n",
    "merged_df['matchDate'] = pd.to_datetime(merged_df['matchDate'], errors='coerce')\n",
    "\n",
    "# Check for rows that are still invalid after conversion\n",
    "invalid_dates = merged_df[merged_df['matchDate'].isna()]\n",
    "\n",
    "# Optionally, print these invalid dates to understand the issue\n",
    "print(invalid_dates)\n",
    "\n",
    "# You can either drop rows with invalid dates or fix them manually\n",
    "# merged_df = merged_df.dropna(subset=['matchDate'])\n",
    "\n",
    "# Now proceed with the filtering for the past 3 years\n",
    "three_years_ago = pd.to_datetime('today') - pd.DateOffset(years=3)\n",
    "df_recent = merged_df[merged_df['matchDate'] >= three_years_ago]\n",
    "\n",
    "# Continue with the boundary percentage calculation\n",
    "df_recent['total_boundaries'] = df_recent['4s'] + df_recent['6s']\n",
    "df_recent['boundary_percentage'] = (df_recent['total_boundaries'] / df_recent['balls']) * 100\n",
    "\n",
    "# Group by batsman and calculate the total boundaries and balls faced\n",
    "batsman_stats = (\n",
    "    df_recent.groupby('batsmanName')\n",
    "    .agg({'total_boundaries': 'sum', 'balls': 'sum'})\n",
    "    .reset_index()\n",
    ")\n",
    "\n",
    "# Calculate boundary percentage for each batsman\n",
    "batsman_stats['boundary_percentage'] = (batsman_stats['total_boundaries'] / batsman_stats['balls']) * 100\n",
    "\n",
    "# Sort by boundary percentage in descending order and get the top 5 batsmen\n",
    "top_batsmen = batsman_stats.sort_values('boundary_percentage', ascending=False).head(5)\n",
    "\n",
    "# Display the result\n",
    "print(top_batsmen[['batsmanName', 'boundary_percentage']])\n",
    "\n",
    "\n",
    "\n",
    "# Create the bar plot for the top 5 batsmen based on boundary percentage\n",
    "fig = px.bar(top_batsmen, \n",
    "             x='batsmanName', \n",
    "             y='boundary_percentage', \n",
    "             title='Top 5 Batsmen Based on Boundary Percentage (Fours and Sixes)',\n",
    "             labels={'batsmanName': 'Batsman', 'boundary_percentage': 'Boundary Percentage'},\n",
    "             color='boundary_percentage', \n",
    "             color_continuous_scale='Blues')\n",
    "\n",
    "# Show the plot\n",
    "fig.show()\n",
    "\n",
    "\n",
    "\n",
    "# Assuming merged_df_Bowling is already loaded with the required columns\n",
    "\n",
    "# Step 1: Convert overs to balls\n",
    "# If 'overs' is a string in format like '3.2', convert to balls (3 overs and 2 balls)\n",
    "merged_df_Bowling['balls'] = merged_df_Bowling['overs'].apply(lambda x: int(str(x).split('.')[0]) * 6 + int(str(x).split('.')[1]) if '.' in str(x) else int(str(x)) * 6)\n",
    "\n",
    "# Step 2: Calculate dot ball percentage\n",
    "merged_df_Bowling['dot_ball_percentage'] = (merged_df_Bowling['0s'] / merged_df_Bowling['balls']) * 100\n",
    "\n",
    "# Step 3: Group by bowler and sum dot balls and total balls\n",
    "bowler_stats = merged_df_Bowling.groupby('bowlerName').agg(\n",
    "    total_dot_balls=('0s', 'sum'),\n",
    "    total_balls_bowled=('balls', 'sum')\n",
    ").reset_index()\n",
    "\n",
    "# Step 4: Calculate dot ball percentage for each bowler\n",
    "bowler_stats['dot_ball_percentage'] = (bowler_stats['total_dot_balls'] / bowler_stats['total_balls_bowled']) * 100\n",
    "\n",
    "# Step 5: Sort bowlers by dot ball percentage in descending order and get top 5\n",
    "top_bowlers_dot_percentage = bowler_stats.sort_values(by='dot_ball_percentage', ascending=False).head(5)\n",
    "\n",
    "# Visualize the top 5 bowlers based on dot ball percentage\n",
    "\n",
    "fig = px.bar(top_bowlers_dot_percentage, x='bowlerName', y='dot_ball_percentage',\n",
    "             title=\"Top 5 Bowlers Based on Dot Ball Percentage (Past 3 Years)\",\n",
    "             labels={'dot_ball_percentage': 'Dot Ball Percentage', 'bowlerName': 'Bowler'},\n",
    "             color='dot_ball_percentage', color_continuous_scale='Blues')\n",
    "\n",
    "fig.show()\n",
    "\n",
    "\n",
    "\n",
    "\n"
   ]
  },
  {
   "cell_type": "code",
   "execution_count": 7,
   "id": "4e84cb9d",
   "metadata": {},
   "outputs": [
    {
     "data": {
      "application/vnd.plotly.v1+json": {
       "config": {
        "plotlyServerURL": "https://plot.ly"
       },
       "data": [
        {
         "domain": {
          "x": [
           0,
           1
          ],
          "y": [
           0,
           1
          ]
         },
         "hole": 0.4,
         "hovertemplate": "team=%{label}<br>win_percentage=%{value}<extra></extra>",
         "labels": [
          "Titans",
          "Super Giants",
          "Mumbai",
          "Super Kings"
         ],
         "legendgroup": "",
         "name": "",
         "showlegend": true,
         "textinfo": "percent+label",
         "type": "pie",
         "values": [
          69.23076923076923,
          59.09090909090909,
          56.52173913043478,
          52.38095238095239
         ]
        }
       ],
       "layout": {
        "legend": {
         "tracegroupgap": 0
        },
        "piecolorway": [
         "rgb(103,0,31)",
         "rgb(178,24,43)",
         "rgb(214,96,77)",
         "rgb(244,165,130)",
         "rgb(253,219,199)",
         "rgb(247,247,247)",
         "rgb(209,229,240)",
         "rgb(146,197,222)",
         "rgb(67,147,195)",
         "rgb(33,102,172)",
         "rgb(5,48,97)"
        ],
        "template": {
         "data": {
          "bar": [
           {
            "error_x": {
             "color": "#2a3f5f"
            },
            "error_y": {
             "color": "#2a3f5f"
            },
            "marker": {
             "line": {
              "color": "#E5ECF6",
              "width": 0.5
             },
             "pattern": {
              "fillmode": "overlay",
              "size": 10,
              "solidity": 0.2
             }
            },
            "type": "bar"
           }
          ],
          "barpolar": [
           {
            "marker": {
             "line": {
              "color": "#E5ECF6",
              "width": 0.5
             },
             "pattern": {
              "fillmode": "overlay",
              "size": 10,
              "solidity": 0.2
             }
            },
            "type": "barpolar"
           }
          ],
          "carpet": [
           {
            "aaxis": {
             "endlinecolor": "#2a3f5f",
             "gridcolor": "white",
             "linecolor": "white",
             "minorgridcolor": "white",
             "startlinecolor": "#2a3f5f"
            },
            "baxis": {
             "endlinecolor": "#2a3f5f",
             "gridcolor": "white",
             "linecolor": "white",
             "minorgridcolor": "white",
             "startlinecolor": "#2a3f5f"
            },
            "type": "carpet"
           }
          ],
          "choropleth": [
           {
            "colorbar": {
             "outlinewidth": 0,
             "ticks": ""
            },
            "type": "choropleth"
           }
          ],
          "contour": [
           {
            "colorbar": {
             "outlinewidth": 0,
             "ticks": ""
            },
            "colorscale": [
             [
              0,
              "#0d0887"
             ],
             [
              0.1111111111111111,
              "#46039f"
             ],
             [
              0.2222222222222222,
              "#7201a8"
             ],
             [
              0.3333333333333333,
              "#9c179e"
             ],
             [
              0.4444444444444444,
              "#bd3786"
             ],
             [
              0.5555555555555556,
              "#d8576b"
             ],
             [
              0.6666666666666666,
              "#ed7953"
             ],
             [
              0.7777777777777778,
              "#fb9f3a"
             ],
             [
              0.8888888888888888,
              "#fdca26"
             ],
             [
              1,
              "#f0f921"
             ]
            ],
            "type": "contour"
           }
          ],
          "contourcarpet": [
           {
            "colorbar": {
             "outlinewidth": 0,
             "ticks": ""
            },
            "type": "contourcarpet"
           }
          ],
          "heatmap": [
           {
            "colorbar": {
             "outlinewidth": 0,
             "ticks": ""
            },
            "colorscale": [
             [
              0,
              "#0d0887"
             ],
             [
              0.1111111111111111,
              "#46039f"
             ],
             [
              0.2222222222222222,
              "#7201a8"
             ],
             [
              0.3333333333333333,
              "#9c179e"
             ],
             [
              0.4444444444444444,
              "#bd3786"
             ],
             [
              0.5555555555555556,
              "#d8576b"
             ],
             [
              0.6666666666666666,
              "#ed7953"
             ],
             [
              0.7777777777777778,
              "#fb9f3a"
             ],
             [
              0.8888888888888888,
              "#fdca26"
             ],
             [
              1,
              "#f0f921"
             ]
            ],
            "type": "heatmap"
           }
          ],
          "heatmapgl": [
           {
            "colorbar": {
             "outlinewidth": 0,
             "ticks": ""
            },
            "colorscale": [
             [
              0,
              "#0d0887"
             ],
             [
              0.1111111111111111,
              "#46039f"
             ],
             [
              0.2222222222222222,
              "#7201a8"
             ],
             [
              0.3333333333333333,
              "#9c179e"
             ],
             [
              0.4444444444444444,
              "#bd3786"
             ],
             [
              0.5555555555555556,
              "#d8576b"
             ],
             [
              0.6666666666666666,
              "#ed7953"
             ],
             [
              0.7777777777777778,
              "#fb9f3a"
             ],
             [
              0.8888888888888888,
              "#fdca26"
             ],
             [
              1,
              "#f0f921"
             ]
            ],
            "type": "heatmapgl"
           }
          ],
          "histogram": [
           {
            "marker": {
             "pattern": {
              "fillmode": "overlay",
              "size": 10,
              "solidity": 0.2
             }
            },
            "type": "histogram"
           }
          ],
          "histogram2d": [
           {
            "colorbar": {
             "outlinewidth": 0,
             "ticks": ""
            },
            "colorscale": [
             [
              0,
              "#0d0887"
             ],
             [
              0.1111111111111111,
              "#46039f"
             ],
             [
              0.2222222222222222,
              "#7201a8"
             ],
             [
              0.3333333333333333,
              "#9c179e"
             ],
             [
              0.4444444444444444,
              "#bd3786"
             ],
             [
              0.5555555555555556,
              "#d8576b"
             ],
             [
              0.6666666666666666,
              "#ed7953"
             ],
             [
              0.7777777777777778,
              "#fb9f3a"
             ],
             [
              0.8888888888888888,
              "#fdca26"
             ],
             [
              1,
              "#f0f921"
             ]
            ],
            "type": "histogram2d"
           }
          ],
          "histogram2dcontour": [
           {
            "colorbar": {
             "outlinewidth": 0,
             "ticks": ""
            },
            "colorscale": [
             [
              0,
              "#0d0887"
             ],
             [
              0.1111111111111111,
              "#46039f"
             ],
             [
              0.2222222222222222,
              "#7201a8"
             ],
             [
              0.3333333333333333,
              "#9c179e"
             ],
             [
              0.4444444444444444,
              "#bd3786"
             ],
             [
              0.5555555555555556,
              "#d8576b"
             ],
             [
              0.6666666666666666,
              "#ed7953"
             ],
             [
              0.7777777777777778,
              "#fb9f3a"
             ],
             [
              0.8888888888888888,
              "#fdca26"
             ],
             [
              1,
              "#f0f921"
             ]
            ],
            "type": "histogram2dcontour"
           }
          ],
          "mesh3d": [
           {
            "colorbar": {
             "outlinewidth": 0,
             "ticks": ""
            },
            "type": "mesh3d"
           }
          ],
          "parcoords": [
           {
            "line": {
             "colorbar": {
              "outlinewidth": 0,
              "ticks": ""
             }
            },
            "type": "parcoords"
           }
          ],
          "pie": [
           {
            "automargin": true,
            "type": "pie"
           }
          ],
          "scatter": [
           {
            "fillpattern": {
             "fillmode": "overlay",
             "size": 10,
             "solidity": 0.2
            },
            "type": "scatter"
           }
          ],
          "scatter3d": [
           {
            "line": {
             "colorbar": {
              "outlinewidth": 0,
              "ticks": ""
             }
            },
            "marker": {
             "colorbar": {
              "outlinewidth": 0,
              "ticks": ""
             }
            },
            "type": "scatter3d"
           }
          ],
          "scattercarpet": [
           {
            "marker": {
             "colorbar": {
              "outlinewidth": 0,
              "ticks": ""
             }
            },
            "type": "scattercarpet"
           }
          ],
          "scattergeo": [
           {
            "marker": {
             "colorbar": {
              "outlinewidth": 0,
              "ticks": ""
             }
            },
            "type": "scattergeo"
           }
          ],
          "scattergl": [
           {
            "marker": {
             "colorbar": {
              "outlinewidth": 0,
              "ticks": ""
             }
            },
            "type": "scattergl"
           }
          ],
          "scattermapbox": [
           {
            "marker": {
             "colorbar": {
              "outlinewidth": 0,
              "ticks": ""
             }
            },
            "type": "scattermapbox"
           }
          ],
          "scatterpolar": [
           {
            "marker": {
             "colorbar": {
              "outlinewidth": 0,
              "ticks": ""
             }
            },
            "type": "scatterpolar"
           }
          ],
          "scatterpolargl": [
           {
            "marker": {
             "colorbar": {
              "outlinewidth": 0,
              "ticks": ""
             }
            },
            "type": "scatterpolargl"
           }
          ],
          "scatterternary": [
           {
            "marker": {
             "colorbar": {
              "outlinewidth": 0,
              "ticks": ""
             }
            },
            "type": "scatterternary"
           }
          ],
          "surface": [
           {
            "colorbar": {
             "outlinewidth": 0,
             "ticks": ""
            },
            "colorscale": [
             [
              0,
              "#0d0887"
             ],
             [
              0.1111111111111111,
              "#46039f"
             ],
             [
              0.2222222222222222,
              "#7201a8"
             ],
             [
              0.3333333333333333,
              "#9c179e"
             ],
             [
              0.4444444444444444,
              "#bd3786"
             ],
             [
              0.5555555555555556,
              "#d8576b"
             ],
             [
              0.6666666666666666,
              "#ed7953"
             ],
             [
              0.7777777777777778,
              "#fb9f3a"
             ],
             [
              0.8888888888888888,
              "#fdca26"
             ],
             [
              1,
              "#f0f921"
             ]
            ],
            "type": "surface"
           }
          ],
          "table": [
           {
            "cells": {
             "fill": {
              "color": "#EBF0F8"
             },
             "line": {
              "color": "white"
             }
            },
            "header": {
             "fill": {
              "color": "#C8D4E3"
             },
             "line": {
              "color": "white"
             }
            },
            "type": "table"
           }
          ]
         },
         "layout": {
          "annotationdefaults": {
           "arrowcolor": "#2a3f5f",
           "arrowhead": 0,
           "arrowwidth": 1
          },
          "autotypenumbers": "strict",
          "coloraxis": {
           "colorbar": {
            "outlinewidth": 0,
            "ticks": ""
           }
          },
          "colorscale": {
           "diverging": [
            [
             0,
             "#8e0152"
            ],
            [
             0.1,
             "#c51b7d"
            ],
            [
             0.2,
             "#de77ae"
            ],
            [
             0.3,
             "#f1b6da"
            ],
            [
             0.4,
             "#fde0ef"
            ],
            [
             0.5,
             "#f7f7f7"
            ],
            [
             0.6,
             "#e6f5d0"
            ],
            [
             0.7,
             "#b8e186"
            ],
            [
             0.8,
             "#7fbc41"
            ],
            [
             0.9,
             "#4d9221"
            ],
            [
             1,
             "#276419"
            ]
           ],
           "sequential": [
            [
             0,
             "#0d0887"
            ],
            [
             0.1111111111111111,
             "#46039f"
            ],
            [
             0.2222222222222222,
             "#7201a8"
            ],
            [
             0.3333333333333333,
             "#9c179e"
            ],
            [
             0.4444444444444444,
             "#bd3786"
            ],
            [
             0.5555555555555556,
             "#d8576b"
            ],
            [
             0.6666666666666666,
             "#ed7953"
            ],
            [
             0.7777777777777778,
             "#fb9f3a"
            ],
            [
             0.8888888888888888,
             "#fdca26"
            ],
            [
             1,
             "#f0f921"
            ]
           ],
           "sequentialminus": [
            [
             0,
             "#0d0887"
            ],
            [
             0.1111111111111111,
             "#46039f"
            ],
            [
             0.2222222222222222,
             "#7201a8"
            ],
            [
             0.3333333333333333,
             "#9c179e"
            ],
            [
             0.4444444444444444,
             "#bd3786"
            ],
            [
             0.5555555555555556,
             "#d8576b"
            ],
            [
             0.6666666666666666,
             "#ed7953"
            ],
            [
             0.7777777777777778,
             "#fb9f3a"
            ],
            [
             0.8888888888888888,
             "#fdca26"
            ],
            [
             1,
             "#f0f921"
            ]
           ]
          },
          "colorway": [
           "#636efa",
           "#EF553B",
           "#00cc96",
           "#ab63fa",
           "#FFA15A",
           "#19d3f3",
           "#FF6692",
           "#B6E880",
           "#FF97FF",
           "#FECB52"
          ],
          "font": {
           "color": "#2a3f5f"
          },
          "geo": {
           "bgcolor": "white",
           "lakecolor": "white",
           "landcolor": "#E5ECF6",
           "showlakes": true,
           "showland": true,
           "subunitcolor": "white"
          },
          "hoverlabel": {
           "align": "left"
          },
          "hovermode": "closest",
          "mapbox": {
           "style": "light"
          },
          "paper_bgcolor": "white",
          "plot_bgcolor": "#E5ECF6",
          "polar": {
           "angularaxis": {
            "gridcolor": "white",
            "linecolor": "white",
            "ticks": ""
           },
           "bgcolor": "#E5ECF6",
           "radialaxis": {
            "gridcolor": "white",
            "linecolor": "white",
            "ticks": ""
           }
          },
          "scene": {
           "xaxis": {
            "backgroundcolor": "#E5ECF6",
            "gridcolor": "white",
            "gridwidth": 2,
            "linecolor": "white",
            "showbackground": true,
            "ticks": "",
            "zerolinecolor": "white"
           },
           "yaxis": {
            "backgroundcolor": "#E5ECF6",
            "gridcolor": "white",
            "gridwidth": 2,
            "linecolor": "white",
            "showbackground": true,
            "ticks": "",
            "zerolinecolor": "white"
           },
           "zaxis": {
            "backgroundcolor": "#E5ECF6",
            "gridcolor": "white",
            "gridwidth": 2,
            "linecolor": "white",
            "showbackground": true,
            "ticks": "",
            "zerolinecolor": "white"
           }
          },
          "shapedefaults": {
           "line": {
            "color": "#2a3f5f"
           }
          },
          "ternary": {
           "aaxis": {
            "gridcolor": "white",
            "linecolor": "white",
            "ticks": ""
           },
           "baxis": {
            "gridcolor": "white",
            "linecolor": "white",
            "ticks": ""
           },
           "bgcolor": "#E5ECF6",
           "caxis": {
            "gridcolor": "white",
            "linecolor": "white",
            "ticks": ""
           }
          },
          "title": {
           "x": 0.05
          },
          "xaxis": {
           "automargin": true,
           "gridcolor": "white",
           "linecolor": "white",
           "ticks": "",
           "title": {
            "standoff": 15
           },
           "zerolinecolor": "white",
           "zerolinewidth": 2
          },
          "yaxis": {
           "automargin": true,
           "gridcolor": "white",
           "linecolor": "white",
           "ticks": "",
           "title": {
            "standoff": 15
           },
           "zerolinecolor": "white",
           "zerolinewidth": 2
          }
         }
        },
        "title": {
         "text": "Top 4 Teams by Winning Percentage (Past 3 Years)"
        }
       }
      }
     },
     "metadata": {},
     "output_type": "display_data"
    },
    {
     "name": "stdout",
     "output_type": "stream",
     "text": [
      "  chasing_wins  count\n",
      "0       Titans     11\n",
      "1       Mumbai      9\n"
     ]
    },
    {
     "data": {
      "application/vnd.plotly.v1+json": {
       "config": {
        "plotlyServerURL": "https://plot.ly"
       },
       "data": [
        {
         "domain": {
          "x": [
           0,
           1
          ],
          "y": [
           0,
           1
          ]
         },
         "hole": 0.5,
         "hovertemplate": "Team=%{label}<br>Wins=%{value}<extra></extra>",
         "labels": [
          "Titans",
          "Mumbai"
         ],
         "legendgroup": "",
         "name": "",
         "pull": [
          0.05,
          0
         ],
         "showlegend": true,
         "textinfo": "percent+label",
         "type": "pie",
         "values": [
          11,
          9
         ]
        }
       ],
       "layout": {
        "legend": {
         "tracegroupgap": 0
        },
        "piecolorway": [
         "rgb(136, 204, 238)",
         "rgb(204, 102, 119)",
         "rgb(221, 204, 119)",
         "rgb(17, 119, 51)",
         "rgb(51, 34, 136)",
         "rgb(170, 68, 153)",
         "rgb(68, 170, 153)",
         "rgb(153, 153, 51)",
         "rgb(136, 34, 85)",
         "rgb(102, 17, 0)",
         "rgb(136, 136, 136)"
        ],
        "showlegend": true,
        "template": {
         "data": {
          "bar": [
           {
            "error_x": {
             "color": "#2a3f5f"
            },
            "error_y": {
             "color": "#2a3f5f"
            },
            "marker": {
             "line": {
              "color": "#E5ECF6",
              "width": 0.5
             },
             "pattern": {
              "fillmode": "overlay",
              "size": 10,
              "solidity": 0.2
             }
            },
            "type": "bar"
           }
          ],
          "barpolar": [
           {
            "marker": {
             "line": {
              "color": "#E5ECF6",
              "width": 0.5
             },
             "pattern": {
              "fillmode": "overlay",
              "size": 10,
              "solidity": 0.2
             }
            },
            "type": "barpolar"
           }
          ],
          "carpet": [
           {
            "aaxis": {
             "endlinecolor": "#2a3f5f",
             "gridcolor": "white",
             "linecolor": "white",
             "minorgridcolor": "white",
             "startlinecolor": "#2a3f5f"
            },
            "baxis": {
             "endlinecolor": "#2a3f5f",
             "gridcolor": "white",
             "linecolor": "white",
             "minorgridcolor": "white",
             "startlinecolor": "#2a3f5f"
            },
            "type": "carpet"
           }
          ],
          "choropleth": [
           {
            "colorbar": {
             "outlinewidth": 0,
             "ticks": ""
            },
            "type": "choropleth"
           }
          ],
          "contour": [
           {
            "colorbar": {
             "outlinewidth": 0,
             "ticks": ""
            },
            "colorscale": [
             [
              0,
              "#0d0887"
             ],
             [
              0.1111111111111111,
              "#46039f"
             ],
             [
              0.2222222222222222,
              "#7201a8"
             ],
             [
              0.3333333333333333,
              "#9c179e"
             ],
             [
              0.4444444444444444,
              "#bd3786"
             ],
             [
              0.5555555555555556,
              "#d8576b"
             ],
             [
              0.6666666666666666,
              "#ed7953"
             ],
             [
              0.7777777777777778,
              "#fb9f3a"
             ],
             [
              0.8888888888888888,
              "#fdca26"
             ],
             [
              1,
              "#f0f921"
             ]
            ],
            "type": "contour"
           }
          ],
          "contourcarpet": [
           {
            "colorbar": {
             "outlinewidth": 0,
             "ticks": ""
            },
            "type": "contourcarpet"
           }
          ],
          "heatmap": [
           {
            "colorbar": {
             "outlinewidth": 0,
             "ticks": ""
            },
            "colorscale": [
             [
              0,
              "#0d0887"
             ],
             [
              0.1111111111111111,
              "#46039f"
             ],
             [
              0.2222222222222222,
              "#7201a8"
             ],
             [
              0.3333333333333333,
              "#9c179e"
             ],
             [
              0.4444444444444444,
              "#bd3786"
             ],
             [
              0.5555555555555556,
              "#d8576b"
             ],
             [
              0.6666666666666666,
              "#ed7953"
             ],
             [
              0.7777777777777778,
              "#fb9f3a"
             ],
             [
              0.8888888888888888,
              "#fdca26"
             ],
             [
              1,
              "#f0f921"
             ]
            ],
            "type": "heatmap"
           }
          ],
          "heatmapgl": [
           {
            "colorbar": {
             "outlinewidth": 0,
             "ticks": ""
            },
            "colorscale": [
             [
              0,
              "#0d0887"
             ],
             [
              0.1111111111111111,
              "#46039f"
             ],
             [
              0.2222222222222222,
              "#7201a8"
             ],
             [
              0.3333333333333333,
              "#9c179e"
             ],
             [
              0.4444444444444444,
              "#bd3786"
             ],
             [
              0.5555555555555556,
              "#d8576b"
             ],
             [
              0.6666666666666666,
              "#ed7953"
             ],
             [
              0.7777777777777778,
              "#fb9f3a"
             ],
             [
              0.8888888888888888,
              "#fdca26"
             ],
             [
              1,
              "#f0f921"
             ]
            ],
            "type": "heatmapgl"
           }
          ],
          "histogram": [
           {
            "marker": {
             "pattern": {
              "fillmode": "overlay",
              "size": 10,
              "solidity": 0.2
             }
            },
            "type": "histogram"
           }
          ],
          "histogram2d": [
           {
            "colorbar": {
             "outlinewidth": 0,
             "ticks": ""
            },
            "colorscale": [
             [
              0,
              "#0d0887"
             ],
             [
              0.1111111111111111,
              "#46039f"
             ],
             [
              0.2222222222222222,
              "#7201a8"
             ],
             [
              0.3333333333333333,
              "#9c179e"
             ],
             [
              0.4444444444444444,
              "#bd3786"
             ],
             [
              0.5555555555555556,
              "#d8576b"
             ],
             [
              0.6666666666666666,
              "#ed7953"
             ],
             [
              0.7777777777777778,
              "#fb9f3a"
             ],
             [
              0.8888888888888888,
              "#fdca26"
             ],
             [
              1,
              "#f0f921"
             ]
            ],
            "type": "histogram2d"
           }
          ],
          "histogram2dcontour": [
           {
            "colorbar": {
             "outlinewidth": 0,
             "ticks": ""
            },
            "colorscale": [
             [
              0,
              "#0d0887"
             ],
             [
              0.1111111111111111,
              "#46039f"
             ],
             [
              0.2222222222222222,
              "#7201a8"
             ],
             [
              0.3333333333333333,
              "#9c179e"
             ],
             [
              0.4444444444444444,
              "#bd3786"
             ],
             [
              0.5555555555555556,
              "#d8576b"
             ],
             [
              0.6666666666666666,
              "#ed7953"
             ],
             [
              0.7777777777777778,
              "#fb9f3a"
             ],
             [
              0.8888888888888888,
              "#fdca26"
             ],
             [
              1,
              "#f0f921"
             ]
            ],
            "type": "histogram2dcontour"
           }
          ],
          "mesh3d": [
           {
            "colorbar": {
             "outlinewidth": 0,
             "ticks": ""
            },
            "type": "mesh3d"
           }
          ],
          "parcoords": [
           {
            "line": {
             "colorbar": {
              "outlinewidth": 0,
              "ticks": ""
             }
            },
            "type": "parcoords"
           }
          ],
          "pie": [
           {
            "automargin": true,
            "type": "pie"
           }
          ],
          "scatter": [
           {
            "fillpattern": {
             "fillmode": "overlay",
             "size": 10,
             "solidity": 0.2
            },
            "type": "scatter"
           }
          ],
          "scatter3d": [
           {
            "line": {
             "colorbar": {
              "outlinewidth": 0,
              "ticks": ""
             }
            },
            "marker": {
             "colorbar": {
              "outlinewidth": 0,
              "ticks": ""
             }
            },
            "type": "scatter3d"
           }
          ],
          "scattercarpet": [
           {
            "marker": {
             "colorbar": {
              "outlinewidth": 0,
              "ticks": ""
             }
            },
            "type": "scattercarpet"
           }
          ],
          "scattergeo": [
           {
            "marker": {
             "colorbar": {
              "outlinewidth": 0,
              "ticks": ""
             }
            },
            "type": "scattergeo"
           }
          ],
          "scattergl": [
           {
            "marker": {
             "colorbar": {
              "outlinewidth": 0,
              "ticks": ""
             }
            },
            "type": "scattergl"
           }
          ],
          "scattermapbox": [
           {
            "marker": {
             "colorbar": {
              "outlinewidth": 0,
              "ticks": ""
             }
            },
            "type": "scattermapbox"
           }
          ],
          "scatterpolar": [
           {
            "marker": {
             "colorbar": {
              "outlinewidth": 0,
              "ticks": ""
             }
            },
            "type": "scatterpolar"
           }
          ],
          "scatterpolargl": [
           {
            "marker": {
             "colorbar": {
              "outlinewidth": 0,
              "ticks": ""
             }
            },
            "type": "scatterpolargl"
           }
          ],
          "scatterternary": [
           {
            "marker": {
             "colorbar": {
              "outlinewidth": 0,
              "ticks": ""
             }
            },
            "type": "scatterternary"
           }
          ],
          "surface": [
           {
            "colorbar": {
             "outlinewidth": 0,
             "ticks": ""
            },
            "colorscale": [
             [
              0,
              "#0d0887"
             ],
             [
              0.1111111111111111,
              "#46039f"
             ],
             [
              0.2222222222222222,
              "#7201a8"
             ],
             [
              0.3333333333333333,
              "#9c179e"
             ],
             [
              0.4444444444444444,
              "#bd3786"
             ],
             [
              0.5555555555555556,
              "#d8576b"
             ],
             [
              0.6666666666666666,
              "#ed7953"
             ],
             [
              0.7777777777777778,
              "#fb9f3a"
             ],
             [
              0.8888888888888888,
              "#fdca26"
             ],
             [
              1,
              "#f0f921"
             ]
            ],
            "type": "surface"
           }
          ],
          "table": [
           {
            "cells": {
             "fill": {
              "color": "#EBF0F8"
             },
             "line": {
              "color": "white"
             }
            },
            "header": {
             "fill": {
              "color": "#C8D4E3"
             },
             "line": {
              "color": "white"
             }
            },
            "type": "table"
           }
          ]
         },
         "layout": {
          "annotationdefaults": {
           "arrowcolor": "#2a3f5f",
           "arrowhead": 0,
           "arrowwidth": 1
          },
          "autotypenumbers": "strict",
          "coloraxis": {
           "colorbar": {
            "outlinewidth": 0,
            "ticks": ""
           }
          },
          "colorscale": {
           "diverging": [
            [
             0,
             "#8e0152"
            ],
            [
             0.1,
             "#c51b7d"
            ],
            [
             0.2,
             "#de77ae"
            ],
            [
             0.3,
             "#f1b6da"
            ],
            [
             0.4,
             "#fde0ef"
            ],
            [
             0.5,
             "#f7f7f7"
            ],
            [
             0.6,
             "#e6f5d0"
            ],
            [
             0.7,
             "#b8e186"
            ],
            [
             0.8,
             "#7fbc41"
            ],
            [
             0.9,
             "#4d9221"
            ],
            [
             1,
             "#276419"
            ]
           ],
           "sequential": [
            [
             0,
             "#0d0887"
            ],
            [
             0.1111111111111111,
             "#46039f"
            ],
            [
             0.2222222222222222,
             "#7201a8"
            ],
            [
             0.3333333333333333,
             "#9c179e"
            ],
            [
             0.4444444444444444,
             "#bd3786"
            ],
            [
             0.5555555555555556,
             "#d8576b"
            ],
            [
             0.6666666666666666,
             "#ed7953"
            ],
            [
             0.7777777777777778,
             "#fb9f3a"
            ],
            [
             0.8888888888888888,
             "#fdca26"
            ],
            [
             1,
             "#f0f921"
            ]
           ],
           "sequentialminus": [
            [
             0,
             "#0d0887"
            ],
            [
             0.1111111111111111,
             "#46039f"
            ],
            [
             0.2222222222222222,
             "#7201a8"
            ],
            [
             0.3333333333333333,
             "#9c179e"
            ],
            [
             0.4444444444444444,
             "#bd3786"
            ],
            [
             0.5555555555555556,
             "#d8576b"
            ],
            [
             0.6666666666666666,
             "#ed7953"
            ],
            [
             0.7777777777777778,
             "#fb9f3a"
            ],
            [
             0.8888888888888888,
             "#fdca26"
            ],
            [
             1,
             "#f0f921"
            ]
           ]
          },
          "colorway": [
           "#636efa",
           "#EF553B",
           "#00cc96",
           "#ab63fa",
           "#FFA15A",
           "#19d3f3",
           "#FF6692",
           "#B6E880",
           "#FF97FF",
           "#FECB52"
          ],
          "font": {
           "color": "#2a3f5f"
          },
          "geo": {
           "bgcolor": "white",
           "lakecolor": "white",
           "landcolor": "#E5ECF6",
           "showlakes": true,
           "showland": true,
           "subunitcolor": "white"
          },
          "hoverlabel": {
           "align": "left"
          },
          "hovermode": "closest",
          "mapbox": {
           "style": "light"
          },
          "paper_bgcolor": "white",
          "plot_bgcolor": "#E5ECF6",
          "polar": {
           "angularaxis": {
            "gridcolor": "white",
            "linecolor": "white",
            "ticks": ""
           },
           "bgcolor": "#E5ECF6",
           "radialaxis": {
            "gridcolor": "white",
            "linecolor": "white",
            "ticks": ""
           }
          },
          "scene": {
           "xaxis": {
            "backgroundcolor": "#E5ECF6",
            "gridcolor": "white",
            "gridwidth": 2,
            "linecolor": "white",
            "showbackground": true,
            "ticks": "",
            "zerolinecolor": "white"
           },
           "yaxis": {
            "backgroundcolor": "#E5ECF6",
            "gridcolor": "white",
            "gridwidth": 2,
            "linecolor": "white",
            "showbackground": true,
            "ticks": "",
            "zerolinecolor": "white"
           },
           "zaxis": {
            "backgroundcolor": "#E5ECF6",
            "gridcolor": "white",
            "gridwidth": 2,
            "linecolor": "white",
            "showbackground": true,
            "ticks": "",
            "zerolinecolor": "white"
           }
          },
          "shapedefaults": {
           "line": {
            "color": "#2a3f5f"
           }
          },
          "ternary": {
           "aaxis": {
            "gridcolor": "white",
            "linecolor": "white",
            "ticks": ""
           },
           "baxis": {
            "gridcolor": "white",
            "linecolor": "white",
            "ticks": ""
           },
           "bgcolor": "#E5ECF6",
           "caxis": {
            "gridcolor": "white",
            "linecolor": "white",
            "ticks": ""
           }
          },
          "title": {
           "x": 0.05
          },
          "xaxis": {
           "automargin": true,
           "gridcolor": "white",
           "linecolor": "white",
           "ticks": "",
           "title": {
            "standoff": 15
           },
           "zerolinecolor": "white",
           "zerolinewidth": 2
          },
          "yaxis": {
           "automargin": true,
           "gridcolor": "white",
           "linecolor": "white",
           "ticks": "",
           "title": {
            "standoff": 15
           },
           "zerolinecolor": "white",
           "zerolinewidth": 2
          }
         }
        },
        "title": {
         "text": "Top 2 Teams by Wins While Chasing (Past 3 Years)"
        }
       }
      }
     },
     "metadata": {},
     "output_type": "display_data"
    },
    {
     "name": "stderr",
     "output_type": "stream",
     "text": [
      "C:\\Users\\saich\\AppData\\Local\\Temp\\ipykernel_1188\\1547174221.py:123: SettingWithCopyWarning:\n",
      "\n",
      "\n",
      "A value is trying to be set on a copy of a slice from a DataFrame.\n",
      "Try using .loc[row_indexer,col_indexer] = value instead\n",
      "\n",
      "See the caveats in the documentation: https://pandas.pydata.org/pandas-docs/stable/user_guide/indexing.html#returning-a-view-versus-a-copy\n",
      "\n"
     ]
    },
    {
     "data": {
      "application/vnd.plotly.v1+json": {
       "config": {
        "plotlyServerURL": "https://plot.ly"
       },
       "data": [
        {
         "customdata": [
          [
           "Chasing Win"
          ],
          [
           "Defending Win"
          ],
          [
           "Chasing Win"
          ],
          [
           "Defending Win"
          ],
          [
           "Chasing Win"
          ],
          [
           "Defending Win"
          ],
          [
           "Chasing Win"
          ],
          [
           "Defending Win"
          ],
          [
           "Chasing Win"
          ],
          [
           "Defending Win"
          ],
          [
           "Chasing Win"
          ],
          [
           "Defending Win"
          ]
         ],
         "domain": {
          "x": [
           0,
           1
          ],
          "y": [
           0,
           1
          ]
         },
         "hole": 0.5,
         "hovertemplate": "Team=%{label}<br>Wins=%{value}<br>win_type=%{customdata[0]}<extra></extra>",
         "labels": [
          "Mumbai",
          "Mumbai",
          "RCB",
          "RCB",
          "Royals",
          "Royals",
          "Super Giants",
          "Super Giants",
          "Super Kings",
          "Super Kings",
          "Titans",
          "Titans"
         ],
         "legendgroup": "",
         "marker": {
          "colors": [
           "#636efa",
           "#EF553B",
           "#636efa",
           "#EF553B",
           "#636efa",
           "#EF553B",
           "#636efa",
           "#EF553B",
           "#636efa",
           "#EF553B",
           "#636efa",
           "#EF553B"
          ]
         },
         "name": "",
         "pull": [
          0.05,
          0.05,
          0.05,
          0.05,
          0.05,
          0.05,
          0.05,
          0.05,
          0.05,
          0.05,
          0.05,
          0.05
         ],
         "showlegend": true,
         "textinfo": "percent+label",
         "type": "pie",
         "values": [
          9,
          4,
          3,
          8,
          6,
          6,
          3,
          10,
          3,
          8,
          11,
          7
         ]
        }
       ],
       "layout": {
        "legend": {
         "tracegroupgap": 0
        },
        "showlegend": true,
        "template": {
         "data": {
          "bar": [
           {
            "error_x": {
             "color": "#2a3f5f"
            },
            "error_y": {
             "color": "#2a3f5f"
            },
            "marker": {
             "line": {
              "color": "#E5ECF6",
              "width": 0.5
             },
             "pattern": {
              "fillmode": "overlay",
              "size": 10,
              "solidity": 0.2
             }
            },
            "type": "bar"
           }
          ],
          "barpolar": [
           {
            "marker": {
             "line": {
              "color": "#E5ECF6",
              "width": 0.5
             },
             "pattern": {
              "fillmode": "overlay",
              "size": 10,
              "solidity": 0.2
             }
            },
            "type": "barpolar"
           }
          ],
          "carpet": [
           {
            "aaxis": {
             "endlinecolor": "#2a3f5f",
             "gridcolor": "white",
             "linecolor": "white",
             "minorgridcolor": "white",
             "startlinecolor": "#2a3f5f"
            },
            "baxis": {
             "endlinecolor": "#2a3f5f",
             "gridcolor": "white",
             "linecolor": "white",
             "minorgridcolor": "white",
             "startlinecolor": "#2a3f5f"
            },
            "type": "carpet"
           }
          ],
          "choropleth": [
           {
            "colorbar": {
             "outlinewidth": 0,
             "ticks": ""
            },
            "type": "choropleth"
           }
          ],
          "contour": [
           {
            "colorbar": {
             "outlinewidth": 0,
             "ticks": ""
            },
            "colorscale": [
             [
              0,
              "#0d0887"
             ],
             [
              0.1111111111111111,
              "#46039f"
             ],
             [
              0.2222222222222222,
              "#7201a8"
             ],
             [
              0.3333333333333333,
              "#9c179e"
             ],
             [
              0.4444444444444444,
              "#bd3786"
             ],
             [
              0.5555555555555556,
              "#d8576b"
             ],
             [
              0.6666666666666666,
              "#ed7953"
             ],
             [
              0.7777777777777778,
              "#fb9f3a"
             ],
             [
              0.8888888888888888,
              "#fdca26"
             ],
             [
              1,
              "#f0f921"
             ]
            ],
            "type": "contour"
           }
          ],
          "contourcarpet": [
           {
            "colorbar": {
             "outlinewidth": 0,
             "ticks": ""
            },
            "type": "contourcarpet"
           }
          ],
          "heatmap": [
           {
            "colorbar": {
             "outlinewidth": 0,
             "ticks": ""
            },
            "colorscale": [
             [
              0,
              "#0d0887"
             ],
             [
              0.1111111111111111,
              "#46039f"
             ],
             [
              0.2222222222222222,
              "#7201a8"
             ],
             [
              0.3333333333333333,
              "#9c179e"
             ],
             [
              0.4444444444444444,
              "#bd3786"
             ],
             [
              0.5555555555555556,
              "#d8576b"
             ],
             [
              0.6666666666666666,
              "#ed7953"
             ],
             [
              0.7777777777777778,
              "#fb9f3a"
             ],
             [
              0.8888888888888888,
              "#fdca26"
             ],
             [
              1,
              "#f0f921"
             ]
            ],
            "type": "heatmap"
           }
          ],
          "heatmapgl": [
           {
            "colorbar": {
             "outlinewidth": 0,
             "ticks": ""
            },
            "colorscale": [
             [
              0,
              "#0d0887"
             ],
             [
              0.1111111111111111,
              "#46039f"
             ],
             [
              0.2222222222222222,
              "#7201a8"
             ],
             [
              0.3333333333333333,
              "#9c179e"
             ],
             [
              0.4444444444444444,
              "#bd3786"
             ],
             [
              0.5555555555555556,
              "#d8576b"
             ],
             [
              0.6666666666666666,
              "#ed7953"
             ],
             [
              0.7777777777777778,
              "#fb9f3a"
             ],
             [
              0.8888888888888888,
              "#fdca26"
             ],
             [
              1,
              "#f0f921"
             ]
            ],
            "type": "heatmapgl"
           }
          ],
          "histogram": [
           {
            "marker": {
             "pattern": {
              "fillmode": "overlay",
              "size": 10,
              "solidity": 0.2
             }
            },
            "type": "histogram"
           }
          ],
          "histogram2d": [
           {
            "colorbar": {
             "outlinewidth": 0,
             "ticks": ""
            },
            "colorscale": [
             [
              0,
              "#0d0887"
             ],
             [
              0.1111111111111111,
              "#46039f"
             ],
             [
              0.2222222222222222,
              "#7201a8"
             ],
             [
              0.3333333333333333,
              "#9c179e"
             ],
             [
              0.4444444444444444,
              "#bd3786"
             ],
             [
              0.5555555555555556,
              "#d8576b"
             ],
             [
              0.6666666666666666,
              "#ed7953"
             ],
             [
              0.7777777777777778,
              "#fb9f3a"
             ],
             [
              0.8888888888888888,
              "#fdca26"
             ],
             [
              1,
              "#f0f921"
             ]
            ],
            "type": "histogram2d"
           }
          ],
          "histogram2dcontour": [
           {
            "colorbar": {
             "outlinewidth": 0,
             "ticks": ""
            },
            "colorscale": [
             [
              0,
              "#0d0887"
             ],
             [
              0.1111111111111111,
              "#46039f"
             ],
             [
              0.2222222222222222,
              "#7201a8"
             ],
             [
              0.3333333333333333,
              "#9c179e"
             ],
             [
              0.4444444444444444,
              "#bd3786"
             ],
             [
              0.5555555555555556,
              "#d8576b"
             ],
             [
              0.6666666666666666,
              "#ed7953"
             ],
             [
              0.7777777777777778,
              "#fb9f3a"
             ],
             [
              0.8888888888888888,
              "#fdca26"
             ],
             [
              1,
              "#f0f921"
             ]
            ],
            "type": "histogram2dcontour"
           }
          ],
          "mesh3d": [
           {
            "colorbar": {
             "outlinewidth": 0,
             "ticks": ""
            },
            "type": "mesh3d"
           }
          ],
          "parcoords": [
           {
            "line": {
             "colorbar": {
              "outlinewidth": 0,
              "ticks": ""
             }
            },
            "type": "parcoords"
           }
          ],
          "pie": [
           {
            "automargin": true,
            "type": "pie"
           }
          ],
          "scatter": [
           {
            "fillpattern": {
             "fillmode": "overlay",
             "size": 10,
             "solidity": 0.2
            },
            "type": "scatter"
           }
          ],
          "scatter3d": [
           {
            "line": {
             "colorbar": {
              "outlinewidth": 0,
              "ticks": ""
             }
            },
            "marker": {
             "colorbar": {
              "outlinewidth": 0,
              "ticks": ""
             }
            },
            "type": "scatter3d"
           }
          ],
          "scattercarpet": [
           {
            "marker": {
             "colorbar": {
              "outlinewidth": 0,
              "ticks": ""
             }
            },
            "type": "scattercarpet"
           }
          ],
          "scattergeo": [
           {
            "marker": {
             "colorbar": {
              "outlinewidth": 0,
              "ticks": ""
             }
            },
            "type": "scattergeo"
           }
          ],
          "scattergl": [
           {
            "marker": {
             "colorbar": {
              "outlinewidth": 0,
              "ticks": ""
             }
            },
            "type": "scattergl"
           }
          ],
          "scattermapbox": [
           {
            "marker": {
             "colorbar": {
              "outlinewidth": 0,
              "ticks": ""
             }
            },
            "type": "scattermapbox"
           }
          ],
          "scatterpolar": [
           {
            "marker": {
             "colorbar": {
              "outlinewidth": 0,
              "ticks": ""
             }
            },
            "type": "scatterpolar"
           }
          ],
          "scatterpolargl": [
           {
            "marker": {
             "colorbar": {
              "outlinewidth": 0,
              "ticks": ""
             }
            },
            "type": "scatterpolargl"
           }
          ],
          "scatterternary": [
           {
            "marker": {
             "colorbar": {
              "outlinewidth": 0,
              "ticks": ""
             }
            },
            "type": "scatterternary"
           }
          ],
          "surface": [
           {
            "colorbar": {
             "outlinewidth": 0,
             "ticks": ""
            },
            "colorscale": [
             [
              0,
              "#0d0887"
             ],
             [
              0.1111111111111111,
              "#46039f"
             ],
             [
              0.2222222222222222,
              "#7201a8"
             ],
             [
              0.3333333333333333,
              "#9c179e"
             ],
             [
              0.4444444444444444,
              "#bd3786"
             ],
             [
              0.5555555555555556,
              "#d8576b"
             ],
             [
              0.6666666666666666,
              "#ed7953"
             ],
             [
              0.7777777777777778,
              "#fb9f3a"
             ],
             [
              0.8888888888888888,
              "#fdca26"
             ],
             [
              1,
              "#f0f921"
             ]
            ],
            "type": "surface"
           }
          ],
          "table": [
           {
            "cells": {
             "fill": {
              "color": "#EBF0F8"
             },
             "line": {
              "color": "white"
             }
            },
            "header": {
             "fill": {
              "color": "#C8D4E3"
             },
             "line": {
              "color": "white"
             }
            },
            "type": "table"
           }
          ]
         },
         "layout": {
          "annotationdefaults": {
           "arrowcolor": "#2a3f5f",
           "arrowhead": 0,
           "arrowwidth": 1
          },
          "autotypenumbers": "strict",
          "coloraxis": {
           "colorbar": {
            "outlinewidth": 0,
            "ticks": ""
           }
          },
          "colorscale": {
           "diverging": [
            [
             0,
             "#8e0152"
            ],
            [
             0.1,
             "#c51b7d"
            ],
            [
             0.2,
             "#de77ae"
            ],
            [
             0.3,
             "#f1b6da"
            ],
            [
             0.4,
             "#fde0ef"
            ],
            [
             0.5,
             "#f7f7f7"
            ],
            [
             0.6,
             "#e6f5d0"
            ],
            [
             0.7,
             "#b8e186"
            ],
            [
             0.8,
             "#7fbc41"
            ],
            [
             0.9,
             "#4d9221"
            ],
            [
             1,
             "#276419"
            ]
           ],
           "sequential": [
            [
             0,
             "#0d0887"
            ],
            [
             0.1111111111111111,
             "#46039f"
            ],
            [
             0.2222222222222222,
             "#7201a8"
            ],
            [
             0.3333333333333333,
             "#9c179e"
            ],
            [
             0.4444444444444444,
             "#bd3786"
            ],
            [
             0.5555555555555556,
             "#d8576b"
            ],
            [
             0.6666666666666666,
             "#ed7953"
            ],
            [
             0.7777777777777778,
             "#fb9f3a"
            ],
            [
             0.8888888888888888,
             "#fdca26"
            ],
            [
             1,
             "#f0f921"
            ]
           ],
           "sequentialminus": [
            [
             0,
             "#0d0887"
            ],
            [
             0.1111111111111111,
             "#46039f"
            ],
            [
             0.2222222222222222,
             "#7201a8"
            ],
            [
             0.3333333333333333,
             "#9c179e"
            ],
            [
             0.4444444444444444,
             "#bd3786"
            ],
            [
             0.5555555555555556,
             "#d8576b"
            ],
            [
             0.6666666666666666,
             "#ed7953"
            ],
            [
             0.7777777777777778,
             "#fb9f3a"
            ],
            [
             0.8888888888888888,
             "#fdca26"
            ],
            [
             1,
             "#f0f921"
            ]
           ]
          },
          "colorway": [
           "#636efa",
           "#EF553B",
           "#00cc96",
           "#ab63fa",
           "#FFA15A",
           "#19d3f3",
           "#FF6692",
           "#B6E880",
           "#FF97FF",
           "#FECB52"
          ],
          "font": {
           "color": "#2a3f5f"
          },
          "geo": {
           "bgcolor": "white",
           "lakecolor": "white",
           "landcolor": "#E5ECF6",
           "showlakes": true,
           "showland": true,
           "subunitcolor": "white"
          },
          "hoverlabel": {
           "align": "left"
          },
          "hovermode": "closest",
          "mapbox": {
           "style": "light"
          },
          "paper_bgcolor": "white",
          "plot_bgcolor": "#E5ECF6",
          "polar": {
           "angularaxis": {
            "gridcolor": "white",
            "linecolor": "white",
            "ticks": ""
           },
           "bgcolor": "#E5ECF6",
           "radialaxis": {
            "gridcolor": "white",
            "linecolor": "white",
            "ticks": ""
           }
          },
          "scene": {
           "xaxis": {
            "backgroundcolor": "#E5ECF6",
            "gridcolor": "white",
            "gridwidth": 2,
            "linecolor": "white",
            "showbackground": true,
            "ticks": "",
            "zerolinecolor": "white"
           },
           "yaxis": {
            "backgroundcolor": "#E5ECF6",
            "gridcolor": "white",
            "gridwidth": 2,
            "linecolor": "white",
            "showbackground": true,
            "ticks": "",
            "zerolinecolor": "white"
           },
           "zaxis": {
            "backgroundcolor": "#E5ECF6",
            "gridcolor": "white",
            "gridwidth": 2,
            "linecolor": "white",
            "showbackground": true,
            "ticks": "",
            "zerolinecolor": "white"
           }
          },
          "shapedefaults": {
           "line": {
            "color": "#2a3f5f"
           }
          },
          "ternary": {
           "aaxis": {
            "gridcolor": "white",
            "linecolor": "white",
            "ticks": ""
           },
           "baxis": {
            "gridcolor": "white",
            "linecolor": "white",
            "ticks": ""
           },
           "bgcolor": "#E5ECF6",
           "caxis": {
            "gridcolor": "white",
            "linecolor": "white",
            "ticks": ""
           }
          },
          "title": {
           "x": 0.05
          },
          "xaxis": {
           "automargin": true,
           "gridcolor": "white",
           "linecolor": "white",
           "ticks": "",
           "title": {
            "standoff": 15
           },
           "zerolinecolor": "white",
           "zerolinewidth": 2
          },
          "yaxis": {
           "automargin": true,
           "gridcolor": "white",
           "linecolor": "white",
           "ticks": "",
           "title": {
            "standoff": 15
           },
           "zerolinecolor": "white",
           "zerolinewidth": 2
          }
         }
        },
        "title": {
         "text": "Top 6 Teams: Chasing vs Defending Wins (Past 3 Years)"
        }
       }
      }
     },
     "metadata": {},
     "output_type": "display_data"
    },
    {
     "data": {
      "application/vnd.plotly.v1+json": {
       "config": {
        "plotlyServerURL": "https://plot.ly"
       },
       "data": [
        {
         "alignmentgroup": "True",
         "hovertemplate": "win_type=Chasing Win<br>Team=%{x}<br>Wins=%{text}<extra></extra>",
         "legendgroup": "Chasing Win",
         "marker": {
          "color": "#636efa",
          "pattern": {
           "shape": ""
          }
         },
         "name": "Chasing Win",
         "offsetgroup": "Chasing Win",
         "orientation": "v",
         "showlegend": true,
         "text": [
          9,
          3,
          6,
          3,
          3,
          11
         ],
         "textposition": "outside",
         "type": "bar",
         "x": [
          "Mumbai",
          "RCB",
          "Royals",
          "Super Giants",
          "Super Kings",
          "Titans"
         ],
         "xaxis": "x",
         "y": [
          9,
          3,
          6,
          3,
          3,
          11
         ],
         "yaxis": "y"
        },
        {
         "alignmentgroup": "True",
         "hovertemplate": "win_type=Defending Win<br>Team=%{x}<br>Wins=%{text}<extra></extra>",
         "legendgroup": "Defending Win",
         "marker": {
          "color": "#EF553B",
          "pattern": {
           "shape": ""
          }
         },
         "name": "Defending Win",
         "offsetgroup": "Defending Win",
         "orientation": "v",
         "showlegend": true,
         "text": [
          4,
          8,
          6,
          10,
          8,
          7
         ],
         "textposition": "outside",
         "type": "bar",
         "x": [
          "Mumbai",
          "RCB",
          "Royals",
          "Super Giants",
          "Super Kings",
          "Titans"
         ],
         "xaxis": "x",
         "y": [
          4,
          8,
          6,
          10,
          8,
          7
         ],
         "yaxis": "y"
        }
       ],
       "layout": {
        "bargap": 0.25,
        "barmode": "group",
        "legend": {
         "title": {
          "text": "Win Type"
         },
         "tracegroupgap": 0
        },
        "template": {
         "data": {
          "bar": [
           {
            "error_x": {
             "color": "#2a3f5f"
            },
            "error_y": {
             "color": "#2a3f5f"
            },
            "marker": {
             "line": {
              "color": "white",
              "width": 0.5
             },
             "pattern": {
              "fillmode": "overlay",
              "size": 10,
              "solidity": 0.2
             }
            },
            "type": "bar"
           }
          ],
          "barpolar": [
           {
            "marker": {
             "line": {
              "color": "white",
              "width": 0.5
             },
             "pattern": {
              "fillmode": "overlay",
              "size": 10,
              "solidity": 0.2
             }
            },
            "type": "barpolar"
           }
          ],
          "carpet": [
           {
            "aaxis": {
             "endlinecolor": "#2a3f5f",
             "gridcolor": "#C8D4E3",
             "linecolor": "#C8D4E3",
             "minorgridcolor": "#C8D4E3",
             "startlinecolor": "#2a3f5f"
            },
            "baxis": {
             "endlinecolor": "#2a3f5f",
             "gridcolor": "#C8D4E3",
             "linecolor": "#C8D4E3",
             "minorgridcolor": "#C8D4E3",
             "startlinecolor": "#2a3f5f"
            },
            "type": "carpet"
           }
          ],
          "choropleth": [
           {
            "colorbar": {
             "outlinewidth": 0,
             "ticks": ""
            },
            "type": "choropleth"
           }
          ],
          "contour": [
           {
            "colorbar": {
             "outlinewidth": 0,
             "ticks": ""
            },
            "colorscale": [
             [
              0,
              "#0d0887"
             ],
             [
              0.1111111111111111,
              "#46039f"
             ],
             [
              0.2222222222222222,
              "#7201a8"
             ],
             [
              0.3333333333333333,
              "#9c179e"
             ],
             [
              0.4444444444444444,
              "#bd3786"
             ],
             [
              0.5555555555555556,
              "#d8576b"
             ],
             [
              0.6666666666666666,
              "#ed7953"
             ],
             [
              0.7777777777777778,
              "#fb9f3a"
             ],
             [
              0.8888888888888888,
              "#fdca26"
             ],
             [
              1,
              "#f0f921"
             ]
            ],
            "type": "contour"
           }
          ],
          "contourcarpet": [
           {
            "colorbar": {
             "outlinewidth": 0,
             "ticks": ""
            },
            "type": "contourcarpet"
           }
          ],
          "heatmap": [
           {
            "colorbar": {
             "outlinewidth": 0,
             "ticks": ""
            },
            "colorscale": [
             [
              0,
              "#0d0887"
             ],
             [
              0.1111111111111111,
              "#46039f"
             ],
             [
              0.2222222222222222,
              "#7201a8"
             ],
             [
              0.3333333333333333,
              "#9c179e"
             ],
             [
              0.4444444444444444,
              "#bd3786"
             ],
             [
              0.5555555555555556,
              "#d8576b"
             ],
             [
              0.6666666666666666,
              "#ed7953"
             ],
             [
              0.7777777777777778,
              "#fb9f3a"
             ],
             [
              0.8888888888888888,
              "#fdca26"
             ],
             [
              1,
              "#f0f921"
             ]
            ],
            "type": "heatmap"
           }
          ],
          "heatmapgl": [
           {
            "colorbar": {
             "outlinewidth": 0,
             "ticks": ""
            },
            "colorscale": [
             [
              0,
              "#0d0887"
             ],
             [
              0.1111111111111111,
              "#46039f"
             ],
             [
              0.2222222222222222,
              "#7201a8"
             ],
             [
              0.3333333333333333,
              "#9c179e"
             ],
             [
              0.4444444444444444,
              "#bd3786"
             ],
             [
              0.5555555555555556,
              "#d8576b"
             ],
             [
              0.6666666666666666,
              "#ed7953"
             ],
             [
              0.7777777777777778,
              "#fb9f3a"
             ],
             [
              0.8888888888888888,
              "#fdca26"
             ],
             [
              1,
              "#f0f921"
             ]
            ],
            "type": "heatmapgl"
           }
          ],
          "histogram": [
           {
            "marker": {
             "pattern": {
              "fillmode": "overlay",
              "size": 10,
              "solidity": 0.2
             }
            },
            "type": "histogram"
           }
          ],
          "histogram2d": [
           {
            "colorbar": {
             "outlinewidth": 0,
             "ticks": ""
            },
            "colorscale": [
             [
              0,
              "#0d0887"
             ],
             [
              0.1111111111111111,
              "#46039f"
             ],
             [
              0.2222222222222222,
              "#7201a8"
             ],
             [
              0.3333333333333333,
              "#9c179e"
             ],
             [
              0.4444444444444444,
              "#bd3786"
             ],
             [
              0.5555555555555556,
              "#d8576b"
             ],
             [
              0.6666666666666666,
              "#ed7953"
             ],
             [
              0.7777777777777778,
              "#fb9f3a"
             ],
             [
              0.8888888888888888,
              "#fdca26"
             ],
             [
              1,
              "#f0f921"
             ]
            ],
            "type": "histogram2d"
           }
          ],
          "histogram2dcontour": [
           {
            "colorbar": {
             "outlinewidth": 0,
             "ticks": ""
            },
            "colorscale": [
             [
              0,
              "#0d0887"
             ],
             [
              0.1111111111111111,
              "#46039f"
             ],
             [
              0.2222222222222222,
              "#7201a8"
             ],
             [
              0.3333333333333333,
              "#9c179e"
             ],
             [
              0.4444444444444444,
              "#bd3786"
             ],
             [
              0.5555555555555556,
              "#d8576b"
             ],
             [
              0.6666666666666666,
              "#ed7953"
             ],
             [
              0.7777777777777778,
              "#fb9f3a"
             ],
             [
              0.8888888888888888,
              "#fdca26"
             ],
             [
              1,
              "#f0f921"
             ]
            ],
            "type": "histogram2dcontour"
           }
          ],
          "mesh3d": [
           {
            "colorbar": {
             "outlinewidth": 0,
             "ticks": ""
            },
            "type": "mesh3d"
           }
          ],
          "parcoords": [
           {
            "line": {
             "colorbar": {
              "outlinewidth": 0,
              "ticks": ""
             }
            },
            "type": "parcoords"
           }
          ],
          "pie": [
           {
            "automargin": true,
            "type": "pie"
           }
          ],
          "scatter": [
           {
            "fillpattern": {
             "fillmode": "overlay",
             "size": 10,
             "solidity": 0.2
            },
            "type": "scatter"
           }
          ],
          "scatter3d": [
           {
            "line": {
             "colorbar": {
              "outlinewidth": 0,
              "ticks": ""
             }
            },
            "marker": {
             "colorbar": {
              "outlinewidth": 0,
              "ticks": ""
             }
            },
            "type": "scatter3d"
           }
          ],
          "scattercarpet": [
           {
            "marker": {
             "colorbar": {
              "outlinewidth": 0,
              "ticks": ""
             }
            },
            "type": "scattercarpet"
           }
          ],
          "scattergeo": [
           {
            "marker": {
             "colorbar": {
              "outlinewidth": 0,
              "ticks": ""
             }
            },
            "type": "scattergeo"
           }
          ],
          "scattergl": [
           {
            "marker": {
             "colorbar": {
              "outlinewidth": 0,
              "ticks": ""
             }
            },
            "type": "scattergl"
           }
          ],
          "scattermapbox": [
           {
            "marker": {
             "colorbar": {
              "outlinewidth": 0,
              "ticks": ""
             }
            },
            "type": "scattermapbox"
           }
          ],
          "scatterpolar": [
           {
            "marker": {
             "colorbar": {
              "outlinewidth": 0,
              "ticks": ""
             }
            },
            "type": "scatterpolar"
           }
          ],
          "scatterpolargl": [
           {
            "marker": {
             "colorbar": {
              "outlinewidth": 0,
              "ticks": ""
             }
            },
            "type": "scatterpolargl"
           }
          ],
          "scatterternary": [
           {
            "marker": {
             "colorbar": {
              "outlinewidth": 0,
              "ticks": ""
             }
            },
            "type": "scatterternary"
           }
          ],
          "surface": [
           {
            "colorbar": {
             "outlinewidth": 0,
             "ticks": ""
            },
            "colorscale": [
             [
              0,
              "#0d0887"
             ],
             [
              0.1111111111111111,
              "#46039f"
             ],
             [
              0.2222222222222222,
              "#7201a8"
             ],
             [
              0.3333333333333333,
              "#9c179e"
             ],
             [
              0.4444444444444444,
              "#bd3786"
             ],
             [
              0.5555555555555556,
              "#d8576b"
             ],
             [
              0.6666666666666666,
              "#ed7953"
             ],
             [
              0.7777777777777778,
              "#fb9f3a"
             ],
             [
              0.8888888888888888,
              "#fdca26"
             ],
             [
              1,
              "#f0f921"
             ]
            ],
            "type": "surface"
           }
          ],
          "table": [
           {
            "cells": {
             "fill": {
              "color": "#EBF0F8"
             },
             "line": {
              "color": "white"
             }
            },
            "header": {
             "fill": {
              "color": "#C8D4E3"
             },
             "line": {
              "color": "white"
             }
            },
            "type": "table"
           }
          ]
         },
         "layout": {
          "annotationdefaults": {
           "arrowcolor": "#2a3f5f",
           "arrowhead": 0,
           "arrowwidth": 1
          },
          "autotypenumbers": "strict",
          "coloraxis": {
           "colorbar": {
            "outlinewidth": 0,
            "ticks": ""
           }
          },
          "colorscale": {
           "diverging": [
            [
             0,
             "#8e0152"
            ],
            [
             0.1,
             "#c51b7d"
            ],
            [
             0.2,
             "#de77ae"
            ],
            [
             0.3,
             "#f1b6da"
            ],
            [
             0.4,
             "#fde0ef"
            ],
            [
             0.5,
             "#f7f7f7"
            ],
            [
             0.6,
             "#e6f5d0"
            ],
            [
             0.7,
             "#b8e186"
            ],
            [
             0.8,
             "#7fbc41"
            ],
            [
             0.9,
             "#4d9221"
            ],
            [
             1,
             "#276419"
            ]
           ],
           "sequential": [
            [
             0,
             "#0d0887"
            ],
            [
             0.1111111111111111,
             "#46039f"
            ],
            [
             0.2222222222222222,
             "#7201a8"
            ],
            [
             0.3333333333333333,
             "#9c179e"
            ],
            [
             0.4444444444444444,
             "#bd3786"
            ],
            [
             0.5555555555555556,
             "#d8576b"
            ],
            [
             0.6666666666666666,
             "#ed7953"
            ],
            [
             0.7777777777777778,
             "#fb9f3a"
            ],
            [
             0.8888888888888888,
             "#fdca26"
            ],
            [
             1,
             "#f0f921"
            ]
           ],
           "sequentialminus": [
            [
             0,
             "#0d0887"
            ],
            [
             0.1111111111111111,
             "#46039f"
            ],
            [
             0.2222222222222222,
             "#7201a8"
            ],
            [
             0.3333333333333333,
             "#9c179e"
            ],
            [
             0.4444444444444444,
             "#bd3786"
            ],
            [
             0.5555555555555556,
             "#d8576b"
            ],
            [
             0.6666666666666666,
             "#ed7953"
            ],
            [
             0.7777777777777778,
             "#fb9f3a"
            ],
            [
             0.8888888888888888,
             "#fdca26"
            ],
            [
             1,
             "#f0f921"
            ]
           ]
          },
          "colorway": [
           "#636efa",
           "#EF553B",
           "#00cc96",
           "#ab63fa",
           "#FFA15A",
           "#19d3f3",
           "#FF6692",
           "#B6E880",
           "#FF97FF",
           "#FECB52"
          ],
          "font": {
           "color": "#2a3f5f"
          },
          "geo": {
           "bgcolor": "white",
           "lakecolor": "white",
           "landcolor": "white",
           "showlakes": true,
           "showland": true,
           "subunitcolor": "#C8D4E3"
          },
          "hoverlabel": {
           "align": "left"
          },
          "hovermode": "closest",
          "mapbox": {
           "style": "light"
          },
          "paper_bgcolor": "white",
          "plot_bgcolor": "white",
          "polar": {
           "angularaxis": {
            "gridcolor": "#EBF0F8",
            "linecolor": "#EBF0F8",
            "ticks": ""
           },
           "bgcolor": "white",
           "radialaxis": {
            "gridcolor": "#EBF0F8",
            "linecolor": "#EBF0F8",
            "ticks": ""
           }
          },
          "scene": {
           "xaxis": {
            "backgroundcolor": "white",
            "gridcolor": "#DFE8F3",
            "gridwidth": 2,
            "linecolor": "#EBF0F8",
            "showbackground": true,
            "ticks": "",
            "zerolinecolor": "#EBF0F8"
           },
           "yaxis": {
            "backgroundcolor": "white",
            "gridcolor": "#DFE8F3",
            "gridwidth": 2,
            "linecolor": "#EBF0F8",
            "showbackground": true,
            "ticks": "",
            "zerolinecolor": "#EBF0F8"
           },
           "zaxis": {
            "backgroundcolor": "white",
            "gridcolor": "#DFE8F3",
            "gridwidth": 2,
            "linecolor": "#EBF0F8",
            "showbackground": true,
            "ticks": "",
            "zerolinecolor": "#EBF0F8"
           }
          },
          "shapedefaults": {
           "line": {
            "color": "#2a3f5f"
           }
          },
          "ternary": {
           "aaxis": {
            "gridcolor": "#DFE8F3",
            "linecolor": "#A2B1C6",
            "ticks": ""
           },
           "baxis": {
            "gridcolor": "#DFE8F3",
            "linecolor": "#A2B1C6",
            "ticks": ""
           },
           "bgcolor": "white",
           "caxis": {
            "gridcolor": "#DFE8F3",
            "linecolor": "#A2B1C6",
            "ticks": ""
           }
          },
          "title": {
           "x": 0.05
          },
          "xaxis": {
           "automargin": true,
           "gridcolor": "#EBF0F8",
           "linecolor": "#EBF0F8",
           "ticks": "",
           "title": {
            "standoff": 15
           },
           "zerolinecolor": "#EBF0F8",
           "zerolinewidth": 2
          },
          "yaxis": {
           "automargin": true,
           "gridcolor": "#EBF0F8",
           "linecolor": "#EBF0F8",
           "ticks": "",
           "title": {
            "standoff": 15
           },
           "zerolinecolor": "#EBF0F8",
           "zerolinewidth": 2
          }
         }
        },
        "title": {
         "text": "Top 6 Teams: Chasing vs Defending Wins (Past 3 Years)"
        },
        "xaxis": {
         "anchor": "y",
         "domain": [
          0,
          1
         ],
         "title": {
          "text": "Team"
         }
        },
        "yaxis": {
         "anchor": "x",
         "domain": [
          0,
          1
         ],
         "title": {
          "text": "Number of Wins"
         }
        }
       }
      }
     },
     "metadata": {},
     "output_type": "display_data"
    },
    {
     "data": {
      "application/vnd.plotly.v1+json": {
       "config": {
        "plotlyServerURL": "https://plot.ly"
       },
       "data": [
        {
         "alignmentgroup": "True",
         "hovertemplate": "win_type=Chasing Win<br>Team=%{x}<br>Wins=%{y}<br>win_percentage=%{text}<extra></extra>",
         "legendgroup": "Chasing Win",
         "marker": {
          "color": "#636efa",
          "pattern": {
           "shape": ""
          }
         },
         "name": "Chasing Win",
         "offsetgroup": "Chasing Win",
         "orientation": "v",
         "showlegend": true,
         "text": [
          550,
          450,
          300,
          150,
          150,
          150
         ],
         "textposition": "outside",
         "texttemplate": "%{text:.1f}%",
         "type": "bar",
         "x": [
          "Titans",
          "Mumbai",
          "Royals",
          "RCB",
          "Super Giants",
          "Super Kings"
         ],
         "xaxis": "x",
         "y": [
          11,
          9,
          6,
          3,
          3,
          3
         ],
         "yaxis": "y"
        },
        {
         "alignmentgroup": "True",
         "hovertemplate": "win_type=Defending Win<br>Team=%{x}<br>Wins=%{y}<br>win_percentage=%{text}<extra></extra>",
         "legendgroup": "Defending Win",
         "marker": {
          "color": "#EF553B",
          "pattern": {
           "shape": ""
          }
         },
         "name": "Defending Win",
         "offsetgroup": "Defending Win",
         "orientation": "v",
         "showlegend": true,
         "text": [
          500,
          400,
          400,
          350,
          300,
          200
         ],
         "textposition": "outside",
         "texttemplate": "%{text:.1f}%",
         "type": "bar",
         "x": [
          "Super Giants",
          "RCB",
          "Super Kings",
          "Titans",
          "Royals",
          "Mumbai"
         ],
         "xaxis": "x",
         "y": [
          10,
          8,
          8,
          7,
          6,
          4
         ],
         "yaxis": "y"
        }
       ],
       "layout": {
        "bargap": 0.25,
        "barmode": "stack",
        "legend": {
         "title": {
          "text": "Win Type"
         },
         "tracegroupgap": 0
        },
        "template": {
         "data": {
          "bar": [
           {
            "error_x": {
             "color": "#2a3f5f"
            },
            "error_y": {
             "color": "#2a3f5f"
            },
            "marker": {
             "line": {
              "color": "white",
              "width": 0.5
             },
             "pattern": {
              "fillmode": "overlay",
              "size": 10,
              "solidity": 0.2
             }
            },
            "type": "bar"
           }
          ],
          "barpolar": [
           {
            "marker": {
             "line": {
              "color": "white",
              "width": 0.5
             },
             "pattern": {
              "fillmode": "overlay",
              "size": 10,
              "solidity": 0.2
             }
            },
            "type": "barpolar"
           }
          ],
          "carpet": [
           {
            "aaxis": {
             "endlinecolor": "#2a3f5f",
             "gridcolor": "#C8D4E3",
             "linecolor": "#C8D4E3",
             "minorgridcolor": "#C8D4E3",
             "startlinecolor": "#2a3f5f"
            },
            "baxis": {
             "endlinecolor": "#2a3f5f",
             "gridcolor": "#C8D4E3",
             "linecolor": "#C8D4E3",
             "minorgridcolor": "#C8D4E3",
             "startlinecolor": "#2a3f5f"
            },
            "type": "carpet"
           }
          ],
          "choropleth": [
           {
            "colorbar": {
             "outlinewidth": 0,
             "ticks": ""
            },
            "type": "choropleth"
           }
          ],
          "contour": [
           {
            "colorbar": {
             "outlinewidth": 0,
             "ticks": ""
            },
            "colorscale": [
             [
              0,
              "#0d0887"
             ],
             [
              0.1111111111111111,
              "#46039f"
             ],
             [
              0.2222222222222222,
              "#7201a8"
             ],
             [
              0.3333333333333333,
              "#9c179e"
             ],
             [
              0.4444444444444444,
              "#bd3786"
             ],
             [
              0.5555555555555556,
              "#d8576b"
             ],
             [
              0.6666666666666666,
              "#ed7953"
             ],
             [
              0.7777777777777778,
              "#fb9f3a"
             ],
             [
              0.8888888888888888,
              "#fdca26"
             ],
             [
              1,
              "#f0f921"
             ]
            ],
            "type": "contour"
           }
          ],
          "contourcarpet": [
           {
            "colorbar": {
             "outlinewidth": 0,
             "ticks": ""
            },
            "type": "contourcarpet"
           }
          ],
          "heatmap": [
           {
            "colorbar": {
             "outlinewidth": 0,
             "ticks": ""
            },
            "colorscale": [
             [
              0,
              "#0d0887"
             ],
             [
              0.1111111111111111,
              "#46039f"
             ],
             [
              0.2222222222222222,
              "#7201a8"
             ],
             [
              0.3333333333333333,
              "#9c179e"
             ],
             [
              0.4444444444444444,
              "#bd3786"
             ],
             [
              0.5555555555555556,
              "#d8576b"
             ],
             [
              0.6666666666666666,
              "#ed7953"
             ],
             [
              0.7777777777777778,
              "#fb9f3a"
             ],
             [
              0.8888888888888888,
              "#fdca26"
             ],
             [
              1,
              "#f0f921"
             ]
            ],
            "type": "heatmap"
           }
          ],
          "heatmapgl": [
           {
            "colorbar": {
             "outlinewidth": 0,
             "ticks": ""
            },
            "colorscale": [
             [
              0,
              "#0d0887"
             ],
             [
              0.1111111111111111,
              "#46039f"
             ],
             [
              0.2222222222222222,
              "#7201a8"
             ],
             [
              0.3333333333333333,
              "#9c179e"
             ],
             [
              0.4444444444444444,
              "#bd3786"
             ],
             [
              0.5555555555555556,
              "#d8576b"
             ],
             [
              0.6666666666666666,
              "#ed7953"
             ],
             [
              0.7777777777777778,
              "#fb9f3a"
             ],
             [
              0.8888888888888888,
              "#fdca26"
             ],
             [
              1,
              "#f0f921"
             ]
            ],
            "type": "heatmapgl"
           }
          ],
          "histogram": [
           {
            "marker": {
             "pattern": {
              "fillmode": "overlay",
              "size": 10,
              "solidity": 0.2
             }
            },
            "type": "histogram"
           }
          ],
          "histogram2d": [
           {
            "colorbar": {
             "outlinewidth": 0,
             "ticks": ""
            },
            "colorscale": [
             [
              0,
              "#0d0887"
             ],
             [
              0.1111111111111111,
              "#46039f"
             ],
             [
              0.2222222222222222,
              "#7201a8"
             ],
             [
              0.3333333333333333,
              "#9c179e"
             ],
             [
              0.4444444444444444,
              "#bd3786"
             ],
             [
              0.5555555555555556,
              "#d8576b"
             ],
             [
              0.6666666666666666,
              "#ed7953"
             ],
             [
              0.7777777777777778,
              "#fb9f3a"
             ],
             [
              0.8888888888888888,
              "#fdca26"
             ],
             [
              1,
              "#f0f921"
             ]
            ],
            "type": "histogram2d"
           }
          ],
          "histogram2dcontour": [
           {
            "colorbar": {
             "outlinewidth": 0,
             "ticks": ""
            },
            "colorscale": [
             [
              0,
              "#0d0887"
             ],
             [
              0.1111111111111111,
              "#46039f"
             ],
             [
              0.2222222222222222,
              "#7201a8"
             ],
             [
              0.3333333333333333,
              "#9c179e"
             ],
             [
              0.4444444444444444,
              "#bd3786"
             ],
             [
              0.5555555555555556,
              "#d8576b"
             ],
             [
              0.6666666666666666,
              "#ed7953"
             ],
             [
              0.7777777777777778,
              "#fb9f3a"
             ],
             [
              0.8888888888888888,
              "#fdca26"
             ],
             [
              1,
              "#f0f921"
             ]
            ],
            "type": "histogram2dcontour"
           }
          ],
          "mesh3d": [
           {
            "colorbar": {
             "outlinewidth": 0,
             "ticks": ""
            },
            "type": "mesh3d"
           }
          ],
          "parcoords": [
           {
            "line": {
             "colorbar": {
              "outlinewidth": 0,
              "ticks": ""
             }
            },
            "type": "parcoords"
           }
          ],
          "pie": [
           {
            "automargin": true,
            "type": "pie"
           }
          ],
          "scatter": [
           {
            "fillpattern": {
             "fillmode": "overlay",
             "size": 10,
             "solidity": 0.2
            },
            "type": "scatter"
           }
          ],
          "scatter3d": [
           {
            "line": {
             "colorbar": {
              "outlinewidth": 0,
              "ticks": ""
             }
            },
            "marker": {
             "colorbar": {
              "outlinewidth": 0,
              "ticks": ""
             }
            },
            "type": "scatter3d"
           }
          ],
          "scattercarpet": [
           {
            "marker": {
             "colorbar": {
              "outlinewidth": 0,
              "ticks": ""
             }
            },
            "type": "scattercarpet"
           }
          ],
          "scattergeo": [
           {
            "marker": {
             "colorbar": {
              "outlinewidth": 0,
              "ticks": ""
             }
            },
            "type": "scattergeo"
           }
          ],
          "scattergl": [
           {
            "marker": {
             "colorbar": {
              "outlinewidth": 0,
              "ticks": ""
             }
            },
            "type": "scattergl"
           }
          ],
          "scattermapbox": [
           {
            "marker": {
             "colorbar": {
              "outlinewidth": 0,
              "ticks": ""
             }
            },
            "type": "scattermapbox"
           }
          ],
          "scatterpolar": [
           {
            "marker": {
             "colorbar": {
              "outlinewidth": 0,
              "ticks": ""
             }
            },
            "type": "scatterpolar"
           }
          ],
          "scatterpolargl": [
           {
            "marker": {
             "colorbar": {
              "outlinewidth": 0,
              "ticks": ""
             }
            },
            "type": "scatterpolargl"
           }
          ],
          "scatterternary": [
           {
            "marker": {
             "colorbar": {
              "outlinewidth": 0,
              "ticks": ""
             }
            },
            "type": "scatterternary"
           }
          ],
          "surface": [
           {
            "colorbar": {
             "outlinewidth": 0,
             "ticks": ""
            },
            "colorscale": [
             [
              0,
              "#0d0887"
             ],
             [
              0.1111111111111111,
              "#46039f"
             ],
             [
              0.2222222222222222,
              "#7201a8"
             ],
             [
              0.3333333333333333,
              "#9c179e"
             ],
             [
              0.4444444444444444,
              "#bd3786"
             ],
             [
              0.5555555555555556,
              "#d8576b"
             ],
             [
              0.6666666666666666,
              "#ed7953"
             ],
             [
              0.7777777777777778,
              "#fb9f3a"
             ],
             [
              0.8888888888888888,
              "#fdca26"
             ],
             [
              1,
              "#f0f921"
             ]
            ],
            "type": "surface"
           }
          ],
          "table": [
           {
            "cells": {
             "fill": {
              "color": "#EBF0F8"
             },
             "line": {
              "color": "white"
             }
            },
            "header": {
             "fill": {
              "color": "#C8D4E3"
             },
             "line": {
              "color": "white"
             }
            },
            "type": "table"
           }
          ]
         },
         "layout": {
          "annotationdefaults": {
           "arrowcolor": "#2a3f5f",
           "arrowhead": 0,
           "arrowwidth": 1
          },
          "autotypenumbers": "strict",
          "coloraxis": {
           "colorbar": {
            "outlinewidth": 0,
            "ticks": ""
           }
          },
          "colorscale": {
           "diverging": [
            [
             0,
             "#8e0152"
            ],
            [
             0.1,
             "#c51b7d"
            ],
            [
             0.2,
             "#de77ae"
            ],
            [
             0.3,
             "#f1b6da"
            ],
            [
             0.4,
             "#fde0ef"
            ],
            [
             0.5,
             "#f7f7f7"
            ],
            [
             0.6,
             "#e6f5d0"
            ],
            [
             0.7,
             "#b8e186"
            ],
            [
             0.8,
             "#7fbc41"
            ],
            [
             0.9,
             "#4d9221"
            ],
            [
             1,
             "#276419"
            ]
           ],
           "sequential": [
            [
             0,
             "#0d0887"
            ],
            [
             0.1111111111111111,
             "#46039f"
            ],
            [
             0.2222222222222222,
             "#7201a8"
            ],
            [
             0.3333333333333333,
             "#9c179e"
            ],
            [
             0.4444444444444444,
             "#bd3786"
            ],
            [
             0.5555555555555556,
             "#d8576b"
            ],
            [
             0.6666666666666666,
             "#ed7953"
            ],
            [
             0.7777777777777778,
             "#fb9f3a"
            ],
            [
             0.8888888888888888,
             "#fdca26"
            ],
            [
             1,
             "#f0f921"
            ]
           ],
           "sequentialminus": [
            [
             0,
             "#0d0887"
            ],
            [
             0.1111111111111111,
             "#46039f"
            ],
            [
             0.2222222222222222,
             "#7201a8"
            ],
            [
             0.3333333333333333,
             "#9c179e"
            ],
            [
             0.4444444444444444,
             "#bd3786"
            ],
            [
             0.5555555555555556,
             "#d8576b"
            ],
            [
             0.6666666666666666,
             "#ed7953"
            ],
            [
             0.7777777777777778,
             "#fb9f3a"
            ],
            [
             0.8888888888888888,
             "#fdca26"
            ],
            [
             1,
             "#f0f921"
            ]
           ]
          },
          "colorway": [
           "#636efa",
           "#EF553B",
           "#00cc96",
           "#ab63fa",
           "#FFA15A",
           "#19d3f3",
           "#FF6692",
           "#B6E880",
           "#FF97FF",
           "#FECB52"
          ],
          "font": {
           "color": "#2a3f5f"
          },
          "geo": {
           "bgcolor": "white",
           "lakecolor": "white",
           "landcolor": "white",
           "showlakes": true,
           "showland": true,
           "subunitcolor": "#C8D4E3"
          },
          "hoverlabel": {
           "align": "left"
          },
          "hovermode": "closest",
          "mapbox": {
           "style": "light"
          },
          "paper_bgcolor": "white",
          "plot_bgcolor": "white",
          "polar": {
           "angularaxis": {
            "gridcolor": "#EBF0F8",
            "linecolor": "#EBF0F8",
            "ticks": ""
           },
           "bgcolor": "white",
           "radialaxis": {
            "gridcolor": "#EBF0F8",
            "linecolor": "#EBF0F8",
            "ticks": ""
           }
          },
          "scene": {
           "xaxis": {
            "backgroundcolor": "white",
            "gridcolor": "#DFE8F3",
            "gridwidth": 2,
            "linecolor": "#EBF0F8",
            "showbackground": true,
            "ticks": "",
            "zerolinecolor": "#EBF0F8"
           },
           "yaxis": {
            "backgroundcolor": "white",
            "gridcolor": "#DFE8F3",
            "gridwidth": 2,
            "linecolor": "#EBF0F8",
            "showbackground": true,
            "ticks": "",
            "zerolinecolor": "#EBF0F8"
           },
           "zaxis": {
            "backgroundcolor": "white",
            "gridcolor": "#DFE8F3",
            "gridwidth": 2,
            "linecolor": "#EBF0F8",
            "showbackground": true,
            "ticks": "",
            "zerolinecolor": "#EBF0F8"
           }
          },
          "shapedefaults": {
           "line": {
            "color": "#2a3f5f"
           }
          },
          "ternary": {
           "aaxis": {
            "gridcolor": "#DFE8F3",
            "linecolor": "#A2B1C6",
            "ticks": ""
           },
           "baxis": {
            "gridcolor": "#DFE8F3",
            "linecolor": "#A2B1C6",
            "ticks": ""
           },
           "bgcolor": "white",
           "caxis": {
            "gridcolor": "#DFE8F3",
            "linecolor": "#A2B1C6",
            "ticks": ""
           }
          },
          "title": {
           "x": 0.05
          },
          "xaxis": {
           "automargin": true,
           "gridcolor": "#EBF0F8",
           "linecolor": "#EBF0F8",
           "ticks": "",
           "title": {
            "standoff": 15
           },
           "zerolinecolor": "#EBF0F8",
           "zerolinewidth": 2
          },
          "yaxis": {
           "automargin": true,
           "gridcolor": "#EBF0F8",
           "linecolor": "#EBF0F8",
           "ticks": "",
           "title": {
            "standoff": 15
           },
           "zerolinecolor": "#EBF0F8",
           "zerolinewidth": 2
          }
         }
        },
        "title": {
         "text": "Top 6 Teams: Chasing vs Defending Wins (Past 3 Years)"
        },
        "xaxis": {
         "anchor": "y",
         "domain": [
          0,
          1
         ],
         "title": {
          "text": "Team"
         }
        },
        "yaxis": {
         "anchor": "x",
         "domain": [
          0,
          1
         ],
         "title": {
          "text": "Number of Wins"
         }
        }
       }
      }
     },
     "metadata": {},
     "output_type": "display_data"
    }
   ],
   "source": [
    "### Top 4 teams based on past 3 years winning %\n",
    "\n",
    "\n",
    "\n",
    "match_summary['matchDate'] = pd.to_datetime(match_summary['matchDate'], errors='coerce')\n",
    "\n",
    "# Filter for past 3 years\n",
    "three_years_ago = pd.to_datetime('today') - pd.DateOffset(years=3)\n",
    "df_recent = match_summary[match_summary['matchDate'] >= three_years_ago].copy()\n",
    "\n",
    "# Step 1: Count total matches played per team\n",
    "# Stack team1 and team2 to count matches each team played\n",
    "matches_played = (\n",
    "    df_recent[['team1', 'team2']]\n",
    "    .melt(value_name='team')[['team']]\n",
    "    .value_counts()\n",
    "    .rename_axis('team')\n",
    "    .reset_index(name='matches_played')\n",
    ")\n",
    "\n",
    "# Step 2: Count total wins per team\n",
    "wins = df_recent['winner'].value_counts().rename_axis('team').reset_index(name='wins')\n",
    "\n",
    "# Step 3: Merge and calculate win %\n",
    "team_stats = pd.merge(matches_played, wins, on='team', how='left')\n",
    "team_stats['wins'] = team_stats['wins'].fillna(0)\n",
    "team_stats['win_percentage'] = (team_stats['wins'] / team_stats['matches_played']) * 100\n",
    "\n",
    "# Step 4: Top 4 teams\n",
    "top_teams = team_stats.sort_values(by='win_percentage', ascending=False).head(4)\n",
    "\n",
    "\n",
    "\n",
    "# Pie chart visualization\n",
    "\n",
    "\n",
    "fig = px.pie(\n",
    "    top_teams,\n",
    "    names='team',\n",
    "    values='win_percentage',\n",
    "    title='Top 4 Teams by Winning Percentage (Past 3 Years)',\n",
    "    hole=0.4,  # This creates the donut hole\n",
    "    color_discrete_sequence=px.colors.sequential.RdBu\n",
    ")\n",
    "\n",
    "fig.update_traces(textinfo='percent+label')  # Show percentage and team name\n",
    "fig.show()\n",
    "\n",
    "\n",
    "### Top 2 teams with the highest number of wins achieved by chasing targets over the past 3 years\n",
    "\n",
    "\n",
    "\n",
    "\n",
    "# Step 1: Convert matchDate to datetime\n",
    "match_summary['matchDate'] = pd.to_datetime(match_summary['matchDate'], errors='coerce')\n",
    "\n",
    "# Step 2: Filter for past 3 years\n",
    "three_years_ago = pd.to_datetime('today') - pd.DateOffset(years=3)\n",
    "recent_matches = match_summary[match_summary['matchDate'] >= three_years_ago].copy()\n",
    "\n",
    "# Step 3: Assume team1 bats first → team2 chases\n",
    "recent_matches['chasing_team'] = recent_matches['team2']\n",
    "\n",
    "# Step 4: Filter matches where chasing team won\n",
    "chasing_wins = recent_matches[recent_matches['winner'] == recent_matches['chasing_team']]\n",
    "\n",
    "# Step 5: Count wins by chasing teams\n",
    "chasing_win_counts = (\n",
    "    chasing_wins['winner']\n",
    "    .value_counts()\n",
    "    .reset_index()\n",
    "    .rename(columns={'index': 'team', 'winner': 'chasing_wins'})\n",
    ")\n",
    "\n",
    "# Step 6: Get Top 2 teams\n",
    "top_2_chasing_teams = chasing_win_counts.head(2)\n",
    "print(top_2_chasing_teams)\n",
    "\n",
    "\n",
    "\n",
    "\n",
    "# Step 1: Convert matchDate to datetime\n",
    "match_summary['matchDate'] = pd.to_datetime(match_summary['matchDate'], errors='coerce')\n",
    "\n",
    "# Step 2: Filter for past 3 years\n",
    "three_years_ago = pd.to_datetime(\"today\") - pd.DateOffset(years=3)\n",
    "recent_matches = match_summary[match_summary['matchDate'] >= three_years_ago]\n",
    "\n",
    "# Step 3: Determine chasing team (team2) wins\n",
    "chasing_wins = recent_matches[recent_matches['winner'] == recent_matches['team2']]\n",
    "\n",
    "# Step 4: Count chasing wins by team\n",
    "chasing_wins_counts = chasing_wins['winner'].value_counts()\n",
    "\n",
    "# Step 5: Get top 2 chasing teams\n",
    "top_chasing_teams = chasing_wins_counts.head(2).reset_index()\n",
    "top_chasing_teams.columns = ['Team', 'Wins']\n",
    "\n",
    "# Step 6: Interactive donut chart\n",
    "fig = px.pie(top_chasing_teams,\n",
    "             values='Wins',\n",
    "             names='Team',\n",
    "             hole=0.5,\n",
    "             title='Top 2 Teams by Wins While Chasing (Past 3 Years)',\n",
    "             color_discrete_sequence=px.colors.qualitative.Safe)\n",
    "\n",
    "fig.update_traces(textinfo='percent+label', pull=[0.05, 0])\n",
    "fig.update_layout(showlegend=True)\n",
    "fig.show()\n",
    "\n",
    "\n",
    "\n",
    "\n",
    "# Step 1: Ensure 'matchDate' is datetime\n",
    "match_summary['matchDate'] = pd.to_datetime(match_summary['matchDate'], errors='coerce')\n",
    "\n",
    "# Step 2: Filter past 3 years\n",
    "three_years_ago = pd.to_datetime(\"today\") - pd.DateOffset(years=3)\n",
    "recent_matches = match_summary[match_summary['matchDate'] >= three_years_ago]\n",
    "\n",
    "# Step 3: Create flags for chasing and defending wins\n",
    "recent_matches['win_type'] = recent_matches.apply(\n",
    "    lambda row: 'Chasing Win' if row['winner'] == row['team2'] else (\n",
    "        'Defending Win' if row['winner'] == row['team1'] else 'Other'\n",
    "    ),\n",
    "    axis=1\n",
    ")\n",
    "\n",
    "# Step 4: Filter out invalid/Other results (like abandoned matches)\n",
    "filtered = recent_matches[recent_matches['win_type'].isin(['Chasing Win', 'Defending Win'])]\n",
    "\n",
    "# Step 5: Group by winner and win_type to count wins\n",
    "win_counts = filtered.groupby(['winner', 'win_type']).size().reset_index(name='Wins')\n",
    "win_counts.rename(columns={'winner': 'Team'}, inplace=True)\n",
    "\n",
    "# Optional: sort and keep top N teams by total wins\n",
    "top_n = 6  # change this as needed\n",
    "top_teams = win_counts.groupby('Team')['Wins'].sum().nlargest(top_n).index\n",
    "win_counts = win_counts[win_counts['Team'].isin(top_teams)]\n",
    "\n",
    "# Step 6: Plot donut chart\n",
    "fig = px.pie(\n",
    "    win_counts,\n",
    "    values='Wins',\n",
    "    names='Team',\n",
    "    color='win_type',\n",
    "    hole=0.5,\n",
    "    title=f\"Top {top_n} Teams: Chasing vs Defending Wins (Past 3 Years)\",\n",
    ")\n",
    "\n",
    "fig.update_traces(textinfo='percent+label', pull=[0.05]*len(win_counts))\n",
    "fig.update_layout(showlegend=True)\n",
    "fig.show()\n",
    "\n",
    "\n",
    "\n",
    "# Using the existing `win_counts` DataFrame from earlier code\n",
    "\n",
    "fig = px.bar(\n",
    "    win_counts,\n",
    "    x='Team',\n",
    "    y='Wins',\n",
    "    color='win_type',\n",
    "    barmode='group',\n",
    "    text='Wins',\n",
    "    title=f\"Top {top_n} Teams: Chasing vs Defending Wins (Past 3 Years)\",\n",
    ")\n",
    "\n",
    "fig.update_traces(textposition='outside')\n",
    "fig.update_layout(\n",
    "    xaxis_title='Team',\n",
    "    yaxis_title='Number of Wins',\n",
    "    legend_title='Win Type',\n",
    "    bargap=0.25,\n",
    "    template='plotly_white'\n",
    ")\n",
    "\n",
    "fig.show()\n",
    "\n",
    "\n",
    "\n",
    "\n",
    "# Calculate total matches for each team (if not already available)\n",
    "win_counts['Total Matches'] = win_counts.groupby('Team')['Team'].transform('count')\n",
    "\n",
    "# Sort the DataFrame by total wins\n",
    "win_counts_sorted = win_counts.sort_values(by='Wins', ascending=False)\n",
    "\n",
    "# Calculate win percentage\n",
    "win_counts_sorted['win_percentage'] = (win_counts_sorted['Wins'] / win_counts_sorted['Total Matches']) * 100\n",
    "\n",
    "# Create the bar chart\n",
    "fig = px.bar(\n",
    "    win_counts_sorted,\n",
    "    x='Team',\n",
    "    y='Wins',\n",
    "    color='win_type',\n",
    "    barmode='stack',\n",
    "    text='win_percentage',  # Add win percentage as the text label\n",
    "    title=f\"Top {top_n} Teams: Chasing vs Defending Wins (Past 3 Years)\",\n",
    ")\n",
    "\n",
    "# Update text position and formatting\n",
    "fig.update_traces(\n",
    "    textposition='outside',\n",
    "    texttemplate='%{text:.1f}%'  # Display percentage with one decimal place\n",
    ")\n",
    "\n",
    "# Update layout for better presentation\n",
    "fig.update_layout(\n",
    "    xaxis_title='Team',\n",
    "    yaxis_title='Number of Wins',\n",
    "    legend_title='Win Type',\n",
    "    bargap=0.25,\n",
    "    template='plotly_white'\n",
    ")\n",
    "\n",
    "fig.show()\n"
   ]
  },
  {
   "cell_type": "code",
   "execution_count": 14,
   "id": "4a88cee1",
   "metadata": {},
   "outputs": [
    {
     "name": "stdout",
     "output_type": "stream",
     "text": [
      "            team1        team2        winner     margin  matchDate match_id\n",
      "0     Super Kings          KKR   Super Kings    27 runs 2021-10-15  T203817\n",
      "1        Capitals          KKR           KKR  3 wickets 2021-10-13  T206442\n",
      "2             RCB          KKR           KKR  4 wickets 2021-10-11  T208597\n",
      "3        Capitals  Super Kings   Super Kings  4 wickets 2021-10-10  T201819\n",
      "4        Capitals          RCB           RCB  7 wickets 2021-10-08  T205942\n",
      "..            ...          ...           ...        ...        ...      ...\n",
      "201        Mumbai          RCB           RCB  8 wickets 2023-04-02  T202485\n",
      "202        Royals    Sunrisers        Royals    72 runs 2023-04-02  T209117\n",
      "203  Super Giants     Capitals  Super Giants    50 runs 2023-04-01  T208512\n",
      "204  Punjab Kings          KKR  Punjab Kings     7 runs 2023-04-01  T202853\n",
      "205   Super Kings       Titans        Titans  5 wickets 2023-03-31  T201566\n",
      "\n",
      "[206 rows x 6 columns]\n",
      "                      name          team    battingStyle  \\\n",
      "0           RuturajGaikwad   Super Kings  Right hand Bat   \n",
      "1             FafduPlessis   Super Kings  Right hand Bat   \n",
      "2             RobinUthappa   Super Kings  Right hand Bat   \n",
      "3                 MoeenAli   Super Kings   Left hand Bat   \n",
      "4              ShubmanGill           KKR  Right hand Bat   \n",
      "..                     ...           ...             ...   \n",
      "287           AbishekPorel      Capitals   Left hand Bat   \n",
      "288          SisandaMagala   Super Kings  Right hand Bat   \n",
      "289            MohitRathee  Punjab Kings  Right hand Bat   \n",
      "290  RajvardhanHangargekar   Super Kings  Right hand Bat   \n",
      "291            ReeceTopley           RCB  Right hand Bat   \n",
      "\n",
      "              bowlingStyle          playingRole  \n",
      "0       Right arm Offbreak               Batter  \n",
      "1                 Legbreak  Middle order Batter  \n",
      "2         Right arm Medium               Batter  \n",
      "3       Right arm Offbreak   Batting Allrounder  \n",
      "4       Right arm Offbreak       Opening Batter  \n",
      "..                     ...                  ...  \n",
      "287          Not Available  Wicketkeeper Batter  \n",
      "288  Right arm Fast medium               Bowler  \n",
      "289               Legbreak           Allrounder  \n",
      "290  Right arm Fast medium   Bowling Allrounder  \n",
      "291   Left arm Fast medium               Bowler  \n",
      "\n",
      "[292 rows x 5 columns]\n",
      "     match_id                  match  bowlingTeam             bowlerName  \\\n",
      "0     T203817     Super Kings Vs KKR          KKR          ShakibAlHasan   \n",
      "1     T203817     Super Kings Vs KKR          KKR             ShivamMavi   \n",
      "2     T203817     Super Kings Vs KKR          KKR         LockieFerguson   \n",
      "3     T203817     Super Kings Vs KKR          KKR      VarunChakravarthy   \n",
      "4     T203817     Super Kings Vs KKR          KKR            SunilNarine   \n",
      "...       ...                    ...          ...                    ...   \n",
      "2431  T201566  Super Kings Vs Titans  Super Kings           DeepakChahar   \n",
      "2432  T201566  Super Kings Vs Titans  Super Kings        TusharDeshpande   \n",
      "2433  T201566  Super Kings Vs Titans  Super Kings  RajvardhanHangargekar   \n",
      "2434  T201566  Super Kings Vs Titans  Super Kings        MitchellSantner   \n",
      "2435  T201566  Super Kings Vs Titans  Super Kings         RavindraJadeja   \n",
      "\n",
      "      overs  maiden  runs  wickets  economy  0s  4s  6s  wides  noBalls  \n",
      "0       3.0       0    33        0    11.00   6   2   3      0        0  \n",
      "1       4.0       0    32        1     8.00   8   1   2      0        0  \n",
      "2       4.0       0    56        0    14.00   4   7   2      2        0  \n",
      "3       4.0       0    38        0     9.50   5   2   2      0        1  \n",
      "4       4.0       0    26        2     6.50   6   0   1      1        0  \n",
      "...     ...     ...   ...      ...      ...  ..  ..  ..    ...      ...  \n",
      "2431    4.0       0    29        0     7.25   9   1   2      0        0  \n",
      "2432    3.2       0    51        1    15.30   5   4   4      1        1  \n",
      "2433    4.0       0    36        3     9.00  10   4   1      3        1  \n",
      "2434    4.0       0    32        0     8.00   7   5   0      0        0  \n",
      "2435    4.0       0    28        1     7.00   9   1   1      0        0  \n",
      "\n",
      "[2436 rows x 14 columns]\n",
      "     match_id                  match  teamInnings  battingPos     batsmanName  \\\n",
      "0     T203817     Super Kings Vs KKR  Super Kings           1  RuturajGaikwad   \n",
      "1     T203817     Super Kings Vs KKR  Super Kings           2    FafduPlessis   \n",
      "2     T203817     Super Kings Vs KKR  Super Kings           3    RobinUthappa   \n",
      "3     T203817     Super Kings Vs KKR  Super Kings           4        MoeenAli   \n",
      "4     T203817     Super Kings Vs KKR          KKR           1     ShubmanGill   \n",
      "...       ...                    ...          ...         ...             ...   \n",
      "3263  T201566  Super Kings Vs Titans       Titans           3    SaiSudharsan   \n",
      "3264  T201566  Super Kings Vs Titans       Titans           4    HardikPandya   \n",
      "3265  T201566  Super Kings Vs Titans       Titans           5    VijayShankar   \n",
      "3266  T201566  Super Kings Vs Titans       Titans           6    RahulTewatia   \n",
      "3267  T201566  Super Kings Vs Titans       Titans           7      RashidKhan   \n",
      "\n",
      "     out/not_out  runs  balls  4s  6s      SR  \n",
      "0            out    32     27   3   1  118.51  \n",
      "1            out    86     59   7   3  145.76  \n",
      "2            out    31     15   0   3  206.66  \n",
      "3        not_out    37     20   2   3  185.00  \n",
      "4            out    51     43   6   0  118.60  \n",
      "...          ...   ...    ...  ..  ..     ...  \n",
      "3263         out    22     17   3   0  129.41  \n",
      "3264         out     8     11   0   0   72.72  \n",
      "3265         out    27     21   2   1  128.57  \n",
      "3266     not_out    15     14   1   1  107.14  \n",
      "3267     not_out    10      3   1   1  333.33  \n",
      "\n",
      "[3268 rows x 11 columns]\n"
     ]
    }
   ],
   "source": [
    "print(match_summary)\n",
    "print(players)\n",
    "print(bowling_summary)\n",
    "print(bating_summary)"
   ]
  },
  {
   "cell_type": "code",
   "execution_count": 9,
   "id": "3766eae1",
   "metadata": {},
   "outputs": [
    {
     "data": {
      "text/html": [
       "<div>\n",
       "<style scoped>\n",
       "    .dataframe tbody tr th:only-of-type {\n",
       "        vertical-align: middle;\n",
       "    }\n",
       "\n",
       "    .dataframe tbody tr th {\n",
       "        vertical-align: top;\n",
       "    }\n",
       "\n",
       "    .dataframe thead th {\n",
       "        text-align: right;\n",
       "    }\n",
       "</style>\n",
       "<table border=\"1\" class=\"dataframe\">\n",
       "  <thead>\n",
       "    <tr style=\"text-align: right;\">\n",
       "      <th></th>\n",
       "      <th>name</th>\n",
       "      <th>team</th>\n",
       "      <th>battingStyle</th>\n",
       "      <th>bowlingStyle</th>\n",
       "      <th>playingRole</th>\n",
       "    </tr>\n",
       "  </thead>\n",
       "  <tbody>\n",
       "    <tr>\n",
       "      <th>0</th>\n",
       "      <td>RuturajGaikwad</td>\n",
       "      <td>Super Kings</td>\n",
       "      <td>Right hand Bat</td>\n",
       "      <td>Right arm Offbreak</td>\n",
       "      <td>Batter</td>\n",
       "    </tr>\n",
       "    <tr>\n",
       "      <th>1</th>\n",
       "      <td>FafduPlessis</td>\n",
       "      <td>Super Kings</td>\n",
       "      <td>Right hand Bat</td>\n",
       "      <td>Legbreak</td>\n",
       "      <td>Middle order Batter</td>\n",
       "    </tr>\n",
       "    <tr>\n",
       "      <th>2</th>\n",
       "      <td>RobinUthappa</td>\n",
       "      <td>Super Kings</td>\n",
       "      <td>Right hand Bat</td>\n",
       "      <td>Right arm Medium</td>\n",
       "      <td>Batter</td>\n",
       "    </tr>\n",
       "    <tr>\n",
       "      <th>3</th>\n",
       "      <td>MoeenAli</td>\n",
       "      <td>Super Kings</td>\n",
       "      <td>Left hand Bat</td>\n",
       "      <td>Right arm Offbreak</td>\n",
       "      <td>Batting Allrounder</td>\n",
       "    </tr>\n",
       "    <tr>\n",
       "      <th>4</th>\n",
       "      <td>ShubmanGill</td>\n",
       "      <td>KKR</td>\n",
       "      <td>Right hand Bat</td>\n",
       "      <td>Right arm Offbreak</td>\n",
       "      <td>Opening Batter</td>\n",
       "    </tr>\n",
       "    <tr>\n",
       "      <th>...</th>\n",
       "      <td>...</td>\n",
       "      <td>...</td>\n",
       "      <td>...</td>\n",
       "      <td>...</td>\n",
       "      <td>...</td>\n",
       "    </tr>\n",
       "    <tr>\n",
       "      <th>287</th>\n",
       "      <td>AbishekPorel</td>\n",
       "      <td>Capitals</td>\n",
       "      <td>Left hand Bat</td>\n",
       "      <td>Not Available</td>\n",
       "      <td>Wicketkeeper Batter</td>\n",
       "    </tr>\n",
       "    <tr>\n",
       "      <th>288</th>\n",
       "      <td>SisandaMagala</td>\n",
       "      <td>Super Kings</td>\n",
       "      <td>Right hand Bat</td>\n",
       "      <td>Right arm Fast medium</td>\n",
       "      <td>Bowler</td>\n",
       "    </tr>\n",
       "    <tr>\n",
       "      <th>289</th>\n",
       "      <td>MohitRathee</td>\n",
       "      <td>Punjab Kings</td>\n",
       "      <td>Right hand Bat</td>\n",
       "      <td>Legbreak</td>\n",
       "      <td>Allrounder</td>\n",
       "    </tr>\n",
       "    <tr>\n",
       "      <th>290</th>\n",
       "      <td>RajvardhanHangargekar</td>\n",
       "      <td>Super Kings</td>\n",
       "      <td>Right hand Bat</td>\n",
       "      <td>Right arm Fast medium</td>\n",
       "      <td>Bowling Allrounder</td>\n",
       "    </tr>\n",
       "    <tr>\n",
       "      <th>291</th>\n",
       "      <td>ReeceTopley</td>\n",
       "      <td>RCB</td>\n",
       "      <td>Right hand Bat</td>\n",
       "      <td>Left arm Fast medium</td>\n",
       "      <td>Bowler</td>\n",
       "    </tr>\n",
       "  </tbody>\n",
       "</table>\n",
       "<p>292 rows × 5 columns</p>\n",
       "</div>"
      ],
      "text/plain": [
       "                      name          team    battingStyle  \\\n",
       "0           RuturajGaikwad   Super Kings  Right hand Bat   \n",
       "1             FafduPlessis   Super Kings  Right hand Bat   \n",
       "2             RobinUthappa   Super Kings  Right hand Bat   \n",
       "3                 MoeenAli   Super Kings   Left hand Bat   \n",
       "4              ShubmanGill           KKR  Right hand Bat   \n",
       "..                     ...           ...             ...   \n",
       "287           AbishekPorel      Capitals   Left hand Bat   \n",
       "288          SisandaMagala   Super Kings  Right hand Bat   \n",
       "289            MohitRathee  Punjab Kings  Right hand Bat   \n",
       "290  RajvardhanHangargekar   Super Kings  Right hand Bat   \n",
       "291            ReeceTopley           RCB  Right hand Bat   \n",
       "\n",
       "              bowlingStyle          playingRole  \n",
       "0       Right arm Offbreak               Batter  \n",
       "1                 Legbreak  Middle order Batter  \n",
       "2         Right arm Medium               Batter  \n",
       "3       Right arm Offbreak   Batting Allrounder  \n",
       "4       Right arm Offbreak       Opening Batter  \n",
       "..                     ...                  ...  \n",
       "287          Not Available  Wicketkeeper Batter  \n",
       "288  Right arm Fast medium               Bowler  \n",
       "289               Legbreak           Allrounder  \n",
       "290  Right arm Fast medium   Bowling Allrounder  \n",
       "291   Left arm Fast medium               Bowler  \n",
       "\n",
       "[292 rows x 5 columns]"
      ]
     },
     "execution_count": 9,
     "metadata": {},
     "output_type": "execute_result"
    }
   ],
   "source": [
    "players"
   ]
  },
  {
   "cell_type": "code",
   "execution_count": 10,
   "id": "00d2d411",
   "metadata": {},
   "outputs": [
    {
     "data": {
      "text/html": [
       "<div>\n",
       "<style scoped>\n",
       "    .dataframe tbody tr th:only-of-type {\n",
       "        vertical-align: middle;\n",
       "    }\n",
       "\n",
       "    .dataframe tbody tr th {\n",
       "        vertical-align: top;\n",
       "    }\n",
       "\n",
       "    .dataframe thead th {\n",
       "        text-align: right;\n",
       "    }\n",
       "</style>\n",
       "<table border=\"1\" class=\"dataframe\">\n",
       "  <thead>\n",
       "    <tr style=\"text-align: right;\">\n",
       "      <th></th>\n",
       "      <th>match_id</th>\n",
       "      <th>match</th>\n",
       "      <th>teamInnings</th>\n",
       "      <th>battingPos</th>\n",
       "      <th>batsmanName</th>\n",
       "      <th>out/not_out</th>\n",
       "      <th>runs</th>\n",
       "      <th>balls</th>\n",
       "      <th>4s</th>\n",
       "      <th>6s</th>\n",
       "      <th>SR</th>\n",
       "    </tr>\n",
       "  </thead>\n",
       "  <tbody>\n",
       "    <tr>\n",
       "      <th>0</th>\n",
       "      <td>T203817</td>\n",
       "      <td>Super Kings Vs KKR</td>\n",
       "      <td>Super Kings</td>\n",
       "      <td>1</td>\n",
       "      <td>RuturajGaikwad</td>\n",
       "      <td>out</td>\n",
       "      <td>32</td>\n",
       "      <td>27</td>\n",
       "      <td>3</td>\n",
       "      <td>1</td>\n",
       "      <td>118.51</td>\n",
       "    </tr>\n",
       "    <tr>\n",
       "      <th>1</th>\n",
       "      <td>T203817</td>\n",
       "      <td>Super Kings Vs KKR</td>\n",
       "      <td>Super Kings</td>\n",
       "      <td>2</td>\n",
       "      <td>FafduPlessis</td>\n",
       "      <td>out</td>\n",
       "      <td>86</td>\n",
       "      <td>59</td>\n",
       "      <td>7</td>\n",
       "      <td>3</td>\n",
       "      <td>145.76</td>\n",
       "    </tr>\n",
       "    <tr>\n",
       "      <th>2</th>\n",
       "      <td>T203817</td>\n",
       "      <td>Super Kings Vs KKR</td>\n",
       "      <td>Super Kings</td>\n",
       "      <td>3</td>\n",
       "      <td>RobinUthappa</td>\n",
       "      <td>out</td>\n",
       "      <td>31</td>\n",
       "      <td>15</td>\n",
       "      <td>0</td>\n",
       "      <td>3</td>\n",
       "      <td>206.66</td>\n",
       "    </tr>\n",
       "    <tr>\n",
       "      <th>3</th>\n",
       "      <td>T203817</td>\n",
       "      <td>Super Kings Vs KKR</td>\n",
       "      <td>Super Kings</td>\n",
       "      <td>4</td>\n",
       "      <td>MoeenAli</td>\n",
       "      <td>not_out</td>\n",
       "      <td>37</td>\n",
       "      <td>20</td>\n",
       "      <td>2</td>\n",
       "      <td>3</td>\n",
       "      <td>185.00</td>\n",
       "    </tr>\n",
       "    <tr>\n",
       "      <th>4</th>\n",
       "      <td>T203817</td>\n",
       "      <td>Super Kings Vs KKR</td>\n",
       "      <td>KKR</td>\n",
       "      <td>1</td>\n",
       "      <td>ShubmanGill</td>\n",
       "      <td>out</td>\n",
       "      <td>51</td>\n",
       "      <td>43</td>\n",
       "      <td>6</td>\n",
       "      <td>0</td>\n",
       "      <td>118.60</td>\n",
       "    </tr>\n",
       "    <tr>\n",
       "      <th>...</th>\n",
       "      <td>...</td>\n",
       "      <td>...</td>\n",
       "      <td>...</td>\n",
       "      <td>...</td>\n",
       "      <td>...</td>\n",
       "      <td>...</td>\n",
       "      <td>...</td>\n",
       "      <td>...</td>\n",
       "      <td>...</td>\n",
       "      <td>...</td>\n",
       "      <td>...</td>\n",
       "    </tr>\n",
       "    <tr>\n",
       "      <th>3263</th>\n",
       "      <td>T201566</td>\n",
       "      <td>Super Kings Vs Titans</td>\n",
       "      <td>Titans</td>\n",
       "      <td>3</td>\n",
       "      <td>SaiSudharsan</td>\n",
       "      <td>out</td>\n",
       "      <td>22</td>\n",
       "      <td>17</td>\n",
       "      <td>3</td>\n",
       "      <td>0</td>\n",
       "      <td>129.41</td>\n",
       "    </tr>\n",
       "    <tr>\n",
       "      <th>3264</th>\n",
       "      <td>T201566</td>\n",
       "      <td>Super Kings Vs Titans</td>\n",
       "      <td>Titans</td>\n",
       "      <td>4</td>\n",
       "      <td>HardikPandya</td>\n",
       "      <td>out</td>\n",
       "      <td>8</td>\n",
       "      <td>11</td>\n",
       "      <td>0</td>\n",
       "      <td>0</td>\n",
       "      <td>72.72</td>\n",
       "    </tr>\n",
       "    <tr>\n",
       "      <th>3265</th>\n",
       "      <td>T201566</td>\n",
       "      <td>Super Kings Vs Titans</td>\n",
       "      <td>Titans</td>\n",
       "      <td>5</td>\n",
       "      <td>VijayShankar</td>\n",
       "      <td>out</td>\n",
       "      <td>27</td>\n",
       "      <td>21</td>\n",
       "      <td>2</td>\n",
       "      <td>1</td>\n",
       "      <td>128.57</td>\n",
       "    </tr>\n",
       "    <tr>\n",
       "      <th>3266</th>\n",
       "      <td>T201566</td>\n",
       "      <td>Super Kings Vs Titans</td>\n",
       "      <td>Titans</td>\n",
       "      <td>6</td>\n",
       "      <td>RahulTewatia</td>\n",
       "      <td>not_out</td>\n",
       "      <td>15</td>\n",
       "      <td>14</td>\n",
       "      <td>1</td>\n",
       "      <td>1</td>\n",
       "      <td>107.14</td>\n",
       "    </tr>\n",
       "    <tr>\n",
       "      <th>3267</th>\n",
       "      <td>T201566</td>\n",
       "      <td>Super Kings Vs Titans</td>\n",
       "      <td>Titans</td>\n",
       "      <td>7</td>\n",
       "      <td>RashidKhan</td>\n",
       "      <td>not_out</td>\n",
       "      <td>10</td>\n",
       "      <td>3</td>\n",
       "      <td>1</td>\n",
       "      <td>1</td>\n",
       "      <td>333.33</td>\n",
       "    </tr>\n",
       "  </tbody>\n",
       "</table>\n",
       "<p>3268 rows × 11 columns</p>\n",
       "</div>"
      ],
      "text/plain": [
       "     match_id                  match  teamInnings  battingPos     batsmanName  \\\n",
       "0     T203817     Super Kings Vs KKR  Super Kings           1  RuturajGaikwad   \n",
       "1     T203817     Super Kings Vs KKR  Super Kings           2    FafduPlessis   \n",
       "2     T203817     Super Kings Vs KKR  Super Kings           3    RobinUthappa   \n",
       "3     T203817     Super Kings Vs KKR  Super Kings           4        MoeenAli   \n",
       "4     T203817     Super Kings Vs KKR          KKR           1     ShubmanGill   \n",
       "...       ...                    ...          ...         ...             ...   \n",
       "3263  T201566  Super Kings Vs Titans       Titans           3    SaiSudharsan   \n",
       "3264  T201566  Super Kings Vs Titans       Titans           4    HardikPandya   \n",
       "3265  T201566  Super Kings Vs Titans       Titans           5    VijayShankar   \n",
       "3266  T201566  Super Kings Vs Titans       Titans           6    RahulTewatia   \n",
       "3267  T201566  Super Kings Vs Titans       Titans           7      RashidKhan   \n",
       "\n",
       "     out/not_out  runs  balls  4s  6s      SR  \n",
       "0            out    32     27   3   1  118.51  \n",
       "1            out    86     59   7   3  145.76  \n",
       "2            out    31     15   0   3  206.66  \n",
       "3        not_out    37     20   2   3  185.00  \n",
       "4            out    51     43   6   0  118.60  \n",
       "...          ...   ...    ...  ..  ..     ...  \n",
       "3263         out    22     17   3   0  129.41  \n",
       "3264         out     8     11   0   0   72.72  \n",
       "3265         out    27     21   2   1  128.57  \n",
       "3266     not_out    15     14   1   1  107.14  \n",
       "3267     not_out    10      3   1   1  333.33  \n",
       "\n",
       "[3268 rows x 11 columns]"
      ]
     },
     "execution_count": 10,
     "metadata": {},
     "output_type": "execute_result"
    }
   ],
   "source": [
    "bating_summary"
   ]
  },
  {
   "cell_type": "code",
   "execution_count": 11,
   "id": "2c7393ce",
   "metadata": {},
   "outputs": [
    {
     "data": {
      "text/html": [
       "<div>\n",
       "<style scoped>\n",
       "    .dataframe tbody tr th:only-of-type {\n",
       "        vertical-align: middle;\n",
       "    }\n",
       "\n",
       "    .dataframe tbody tr th {\n",
       "        vertical-align: top;\n",
       "    }\n",
       "\n",
       "    .dataframe thead th {\n",
       "        text-align: right;\n",
       "    }\n",
       "</style>\n",
       "<table border=\"1\" class=\"dataframe\">\n",
       "  <thead>\n",
       "    <tr style=\"text-align: right;\">\n",
       "      <th></th>\n",
       "      <th>match_id</th>\n",
       "      <th>match</th>\n",
       "      <th>bowlingTeam</th>\n",
       "      <th>bowlerName</th>\n",
       "      <th>overs</th>\n",
       "      <th>maiden</th>\n",
       "      <th>runs</th>\n",
       "      <th>wickets</th>\n",
       "      <th>economy</th>\n",
       "      <th>0s</th>\n",
       "      <th>4s</th>\n",
       "      <th>6s</th>\n",
       "      <th>wides</th>\n",
       "      <th>noBalls</th>\n",
       "    </tr>\n",
       "  </thead>\n",
       "  <tbody>\n",
       "    <tr>\n",
       "      <th>0</th>\n",
       "      <td>T203817</td>\n",
       "      <td>Super Kings Vs KKR</td>\n",
       "      <td>KKR</td>\n",
       "      <td>ShakibAlHasan</td>\n",
       "      <td>3.0</td>\n",
       "      <td>0</td>\n",
       "      <td>33</td>\n",
       "      <td>0</td>\n",
       "      <td>11.00</td>\n",
       "      <td>6</td>\n",
       "      <td>2</td>\n",
       "      <td>3</td>\n",
       "      <td>0</td>\n",
       "      <td>0</td>\n",
       "    </tr>\n",
       "    <tr>\n",
       "      <th>1</th>\n",
       "      <td>T203817</td>\n",
       "      <td>Super Kings Vs KKR</td>\n",
       "      <td>KKR</td>\n",
       "      <td>ShivamMavi</td>\n",
       "      <td>4.0</td>\n",
       "      <td>0</td>\n",
       "      <td>32</td>\n",
       "      <td>1</td>\n",
       "      <td>8.00</td>\n",
       "      <td>8</td>\n",
       "      <td>1</td>\n",
       "      <td>2</td>\n",
       "      <td>0</td>\n",
       "      <td>0</td>\n",
       "    </tr>\n",
       "    <tr>\n",
       "      <th>2</th>\n",
       "      <td>T203817</td>\n",
       "      <td>Super Kings Vs KKR</td>\n",
       "      <td>KKR</td>\n",
       "      <td>LockieFerguson</td>\n",
       "      <td>4.0</td>\n",
       "      <td>0</td>\n",
       "      <td>56</td>\n",
       "      <td>0</td>\n",
       "      <td>14.00</td>\n",
       "      <td>4</td>\n",
       "      <td>7</td>\n",
       "      <td>2</td>\n",
       "      <td>2</td>\n",
       "      <td>0</td>\n",
       "    </tr>\n",
       "    <tr>\n",
       "      <th>3</th>\n",
       "      <td>T203817</td>\n",
       "      <td>Super Kings Vs KKR</td>\n",
       "      <td>KKR</td>\n",
       "      <td>VarunChakravarthy</td>\n",
       "      <td>4.0</td>\n",
       "      <td>0</td>\n",
       "      <td>38</td>\n",
       "      <td>0</td>\n",
       "      <td>9.50</td>\n",
       "      <td>5</td>\n",
       "      <td>2</td>\n",
       "      <td>2</td>\n",
       "      <td>0</td>\n",
       "      <td>1</td>\n",
       "    </tr>\n",
       "    <tr>\n",
       "      <th>4</th>\n",
       "      <td>T203817</td>\n",
       "      <td>Super Kings Vs KKR</td>\n",
       "      <td>KKR</td>\n",
       "      <td>SunilNarine</td>\n",
       "      <td>4.0</td>\n",
       "      <td>0</td>\n",
       "      <td>26</td>\n",
       "      <td>2</td>\n",
       "      <td>6.50</td>\n",
       "      <td>6</td>\n",
       "      <td>0</td>\n",
       "      <td>1</td>\n",
       "      <td>1</td>\n",
       "      <td>0</td>\n",
       "    </tr>\n",
       "    <tr>\n",
       "      <th>...</th>\n",
       "      <td>...</td>\n",
       "      <td>...</td>\n",
       "      <td>...</td>\n",
       "      <td>...</td>\n",
       "      <td>...</td>\n",
       "      <td>...</td>\n",
       "      <td>...</td>\n",
       "      <td>...</td>\n",
       "      <td>...</td>\n",
       "      <td>...</td>\n",
       "      <td>...</td>\n",
       "      <td>...</td>\n",
       "      <td>...</td>\n",
       "      <td>...</td>\n",
       "    </tr>\n",
       "    <tr>\n",
       "      <th>2431</th>\n",
       "      <td>T201566</td>\n",
       "      <td>Super Kings Vs Titans</td>\n",
       "      <td>Super Kings</td>\n",
       "      <td>DeepakChahar</td>\n",
       "      <td>4.0</td>\n",
       "      <td>0</td>\n",
       "      <td>29</td>\n",
       "      <td>0</td>\n",
       "      <td>7.25</td>\n",
       "      <td>9</td>\n",
       "      <td>1</td>\n",
       "      <td>2</td>\n",
       "      <td>0</td>\n",
       "      <td>0</td>\n",
       "    </tr>\n",
       "    <tr>\n",
       "      <th>2432</th>\n",
       "      <td>T201566</td>\n",
       "      <td>Super Kings Vs Titans</td>\n",
       "      <td>Super Kings</td>\n",
       "      <td>TusharDeshpande</td>\n",
       "      <td>3.2</td>\n",
       "      <td>0</td>\n",
       "      <td>51</td>\n",
       "      <td>1</td>\n",
       "      <td>15.30</td>\n",
       "      <td>5</td>\n",
       "      <td>4</td>\n",
       "      <td>4</td>\n",
       "      <td>1</td>\n",
       "      <td>1</td>\n",
       "    </tr>\n",
       "    <tr>\n",
       "      <th>2433</th>\n",
       "      <td>T201566</td>\n",
       "      <td>Super Kings Vs Titans</td>\n",
       "      <td>Super Kings</td>\n",
       "      <td>RajvardhanHangargekar</td>\n",
       "      <td>4.0</td>\n",
       "      <td>0</td>\n",
       "      <td>36</td>\n",
       "      <td>3</td>\n",
       "      <td>9.00</td>\n",
       "      <td>10</td>\n",
       "      <td>4</td>\n",
       "      <td>1</td>\n",
       "      <td>3</td>\n",
       "      <td>1</td>\n",
       "    </tr>\n",
       "    <tr>\n",
       "      <th>2434</th>\n",
       "      <td>T201566</td>\n",
       "      <td>Super Kings Vs Titans</td>\n",
       "      <td>Super Kings</td>\n",
       "      <td>MitchellSantner</td>\n",
       "      <td>4.0</td>\n",
       "      <td>0</td>\n",
       "      <td>32</td>\n",
       "      <td>0</td>\n",
       "      <td>8.00</td>\n",
       "      <td>7</td>\n",
       "      <td>5</td>\n",
       "      <td>0</td>\n",
       "      <td>0</td>\n",
       "      <td>0</td>\n",
       "    </tr>\n",
       "    <tr>\n",
       "      <th>2435</th>\n",
       "      <td>T201566</td>\n",
       "      <td>Super Kings Vs Titans</td>\n",
       "      <td>Super Kings</td>\n",
       "      <td>RavindraJadeja</td>\n",
       "      <td>4.0</td>\n",
       "      <td>0</td>\n",
       "      <td>28</td>\n",
       "      <td>1</td>\n",
       "      <td>7.00</td>\n",
       "      <td>9</td>\n",
       "      <td>1</td>\n",
       "      <td>1</td>\n",
       "      <td>0</td>\n",
       "      <td>0</td>\n",
       "    </tr>\n",
       "  </tbody>\n",
       "</table>\n",
       "<p>2436 rows × 14 columns</p>\n",
       "</div>"
      ],
      "text/plain": [
       "     match_id                  match  bowlingTeam             bowlerName  \\\n",
       "0     T203817     Super Kings Vs KKR          KKR          ShakibAlHasan   \n",
       "1     T203817     Super Kings Vs KKR          KKR             ShivamMavi   \n",
       "2     T203817     Super Kings Vs KKR          KKR         LockieFerguson   \n",
       "3     T203817     Super Kings Vs KKR          KKR      VarunChakravarthy   \n",
       "4     T203817     Super Kings Vs KKR          KKR            SunilNarine   \n",
       "...       ...                    ...          ...                    ...   \n",
       "2431  T201566  Super Kings Vs Titans  Super Kings           DeepakChahar   \n",
       "2432  T201566  Super Kings Vs Titans  Super Kings        TusharDeshpande   \n",
       "2433  T201566  Super Kings Vs Titans  Super Kings  RajvardhanHangargekar   \n",
       "2434  T201566  Super Kings Vs Titans  Super Kings        MitchellSantner   \n",
       "2435  T201566  Super Kings Vs Titans  Super Kings         RavindraJadeja   \n",
       "\n",
       "      overs  maiden  runs  wickets  economy  0s  4s  6s  wides  noBalls  \n",
       "0       3.0       0    33        0    11.00   6   2   3      0        0  \n",
       "1       4.0       0    32        1     8.00   8   1   2      0        0  \n",
       "2       4.0       0    56        0    14.00   4   7   2      2        0  \n",
       "3       4.0       0    38        0     9.50   5   2   2      0        1  \n",
       "4       4.0       0    26        2     6.50   6   0   1      1        0  \n",
       "...     ...     ...   ...      ...      ...  ..  ..  ..    ...      ...  \n",
       "2431    4.0       0    29        0     7.25   9   1   2      0        0  \n",
       "2432    3.2       0    51        1    15.30   5   4   4      1        1  \n",
       "2433    4.0       0    36        3     9.00  10   4   1      3        1  \n",
       "2434    4.0       0    32        0     8.00   7   5   0      0        0  \n",
       "2435    4.0       0    28        1     7.00   9   1   1      0        0  \n",
       "\n",
       "[2436 rows x 14 columns]"
      ]
     },
     "execution_count": 11,
     "metadata": {},
     "output_type": "execute_result"
    }
   ],
   "source": [
    "bowling_summary"
   ]
  },
  {
   "cell_type": "code",
   "execution_count": 29,
   "id": "a546979d",
   "metadata": {},
   "outputs": [
    {
     "name": "stdout",
     "output_type": "stream",
     "text": [
      "          bowlerName  total_wickets  total_runs  total_balls  matches  \\\n",
      "0         AbdulSamad              1          17         12.0        2   \n",
      "1     AbhishekSharma              6         212        150.0       13   \n",
      "2          AdamMilne              3         150         97.8        5   \n",
      "3          AdamZampa              8         188        132.0        6   \n",
      "4         AdilRashid              2          91         60.0        3   \n",
      "..               ...            ...         ...          ...      ...   \n",
      "197        YashDayal             13         461        276.0       14   \n",
      "198       YashThakur             13         289        189.0        9   \n",
      "199  YashasviJaiswal              0           6          0.6        1   \n",
      "200     YudhvirSingh              3          70         48.0        3   \n",
      "201  YuzvendraChahal             66        1333       1041.0       46   \n",
      "\n",
      "       economy  \n",
      "0     8.500000  \n",
      "1     8.480000  \n",
      "2     9.202454  \n",
      "3     8.545455  \n",
      "4     9.100000  \n",
      "..         ...  \n",
      "197  10.021739  \n",
      "198   9.174603  \n",
      "199  60.000000  \n",
      "200   8.750000  \n",
      "201   7.682997  \n",
      "\n",
      "[202 rows x 6 columns]\n"
     ]
    }
   ],
   "source": [
    "import pandas as pd\n",
    "\n",
    "# Load the datasets\n",
    "match_summary = pd.read_csv(r\"C:\\Users\\saich\\Downloads\\C10_Input_Files\\C10_Input_Files\\datasets\\dim_match_summary.csv\")\n",
    "players = pd.read_csv(r\"C:\\Users\\saich\\Downloads\\C10_Input_Files\\C10_Input_Files\\datasets\\dim_players.csv\")\n",
    "bating_summary = pd.read_csv(r\"C:\\Users\\saich\\Downloads\\C10_Input_Files\\C10_Input_Files\\datasets\\fact_bating_summary.csv\")\n",
    "bowling_summary = pd.read_csv(r\"C:\\Users\\saich\\Downloads\\C10_Input_Files\\C10_Input_Files\\datasets\\fact_bowling_summary.csv\")\n",
    "\n",
    "# Clean column names\n",
    "bowling_summary.columns = bowling_summary.columns.str.strip()\n",
    "\n",
    "# Create the 'balls' column from 'overs' (since overs is in float, multiply by 6 to get balls)\n",
    "bowling_summary['balls'] = bowling_summary['overs'] * 6\n",
    "\n",
    "# Now perform the aggregation to calculate total wickets, runs, balls, etc.\n",
    "bowling_stats = bowling_summary.groupby('bowlerName').agg(\n",
    "    total_wickets=('wickets', 'sum'),\n",
    "    total_runs=('runs', 'sum'),\n",
    "    total_balls=('balls', 'sum'),\n",
    "    matches=('match_id', 'nunique')\n",
    ").reset_index()\n",
    "\n",
    "# Add economy rate\n",
    "bowling_stats['economy'] = bowling_stats['total_runs'] / (bowling_stats['total_balls'] / 6)\n",
    "\n",
    "# Show the bowling statistics\n",
    "print(bowling_stats)\n"
   ]
  },
  {
   "cell_type": "code",
   "execution_count": 30,
   "id": "dbbad5c3",
   "metadata": {},
   "outputs": [
    {
     "data": {
      "application/vnd.plotly.v1+json": {
       "config": {
        "plotlyServerURL": "https://plot.ly"
       },
       "data": [
        {
         "alignmentgroup": "True",
         "hovertemplate": "variable=total_wickets<br>bowlerName=%{x}<br>value=%{y}<extra></extra>",
         "legendgroup": "total_wickets",
         "marker": {
          "color": "#636efa",
          "pattern": {
           "shape": ""
          }
         },
         "name": "total_wickets",
         "offsetgroup": "total_wickets",
         "orientation": "v",
         "showlegend": true,
         "textposition": "auto",
         "type": "bar",
         "x": [
          "AbdulSamad",
          "AbhishekSharma",
          "AdamMilne",
          "AdamZampa",
          "AdilRashid",
          "AidenMarkram",
          "AkashDeep",
          "AkashMadhwal",
          "AkashSingh",
          "AkealHosein",
          "AlzarriJoseph",
          "AmanHakimKhan",
          "AmitMishra",
          "AndreRussell",
          "AndrewTye",
          "AnrichNortje",
          "AnukulRoy",
          "ArjunTendulkar",
          "ArshadKhan",
          "ArshdeepSingh",
          "AveshKhan",
          "AxarPatel",
          "AyushBadoni",
          "BasilThampi",
          "BenStokes",
          "BhuvneshwarKumar",
          "CameronGreen",
          "ChetanSakariya",
          "ChrisJordan",
          "ChrisMorris",
          "ChrisWoakes",
          "DanChristian",
          "DanielSams",
          "DarshanNalkande",
          "DarylMitchell",
          "DavidWiese",
          "DavidWilley",
          "DeepakChahar",
          "DeepakHooda",
          "DewaldBrevis",
          "DhawalKulkarni",
          "DuanJansen",
          "DushmanthaChameera",
          "DwainePretorius",
          "DwayneBravo",
          "FabianAllen",
          "FazalhaqFarooqi",
          "GeorgeGarton",
          "GlennMaxwell",
          "GlennPhillips",
          "GurnoorBrar",
          "HarbhajanSingh",
          "HardikPandya",
          "HarpreetBrar",
          "HarshalPatel",
          "HarshitRana",
          "HimanshuSharma",
          "HrithikShokeen",
          "ImranTahir",
          "IshanPorel",
          "IshantSharma",
          "JagadeeshaSuchith",
          "JalajSaxena",
          "JamesNeesham",
          "JasonBehrendorff",
          "JasonHolder",
          "JaspritBumrah",
          "JayantYadav",
          "JaydevUnadkat",
          "JhyeRichardson",
          "JoeRoot",
          "JofraArcher",
          "JoshHazlewood",
          "JoshLittle",
          "KMAsif",
          "KagisoRabada",
          "KamleshNagarkoti",
          "KaneRichardson",
          "KarnSharma",
          "KartikTyagi",
          "KhaleelAhmed",
          "KieronPollard",
          "KrishnappaGowtham",
          "KrunalPandya",
          "KuldeepSen",
          "KuldeepYadav",
          "KuldipYadav",
          "KulwantKhejroliya",
          "KumarKartikeya",
          "KyleJamieson",
          "KyleMayers",
          "LalitYadav",
          "LiamLivingstone",
          "LockieFerguson",
          "LukmanMeriwala",
          "LungiNgidi",
          "MaheeshTheekshana",
          "MahipalLomror",
          "MarcoJansen",
          "MarcusStoinis",
          "MarkWood",
          "MatheeshaPathirana",
          "MatthewShort",
          "MayankDagar",
          "MayankMarkande",
          "MichaelBracewell",
          "MitchellMarsh",
          "MitchellSantner",
          "MoeenAli",
          "MohammadNabi",
          "MohammedShami",
          "MohammedSiraj",
          "MohitRathee",
          "MohitSharma",
          "MohsinKhan",
          "MoisesHenriques",
          "MujeebUrRahman",
          "MukeshChoudhary",
          "MukeshKumar",
          "MuruganAshwin",
          "MustafizurRahman",
          "NathanCoulter-Nile",
          "NathanEllis",
          "NavdeepSaini",
          "Naveen-ul-Haq",
          "NitishKumarReddy",
          "NitishRana",
          "NoorAhmad",
          "ObedMcCoy",
          "OdeanSmith",
          "PatCummins",
          "PiyushChawla",
          "PradeepSangwan",
          "PrashantSolanki",
          "PrasidhKrishna",
          "PraveenDubey",
          "RaghavGoyal",
          "RahulChahar",
          "RahulTewatia",
          "RajvardhanHangargekar",
          "RamandeepSingh",
          "RashidKhan",
          "RasikhSalam",
          "RaviBishnoi",
          "RavichandranAshwin",
          "RavindraJadeja",
          "ReeceTopley",
          "RileyMeredith",
          "RipalPatel",
          "RishiDhawan",
          "RiyanParag",
          "RohitSharma",
          "RomarioShepherd",
          "RovmanPowell",
          "SaiKishore",
          "SamCurran",
          "SandeepSharma",
          "SandeepWarrier",
          "SanjayYadav",
          "SeanAbbott",
          "ShahbazAhmed",
          "ShahbazNadeem",
          "ShakibAlHasan",
          "ShardulThakur",
          "ShashankSingh",
          "ShivamDube",
          "ShivamMavi",
          "ShreyasGopal",
          "ShreyasIyer",
          "SiddarthKaul",
          "SikandarRaza",
          "SimarjeetSingh",
          "SisandaMagala",
          "SunilNarine",
          "SuyashSharma",
          "SwapnilSingh",
          "TNatarajan",
          "TabraizShamsi",
          "TilakVarma",
          "TimSouthee",
          "TomCurran",
          "TrentBoult",
          "TristanStubbs",
          "TusharDeshpande",
          "TymalMills",
          "UmeshYadav",
          "UmranMalik",
          "VaibhavArora",
          "VarunAaron",
          "VarunChakravarthy",
          "VenkateshIyer",
          "VijayShankar",
          "VijaykumarVyshak",
          "VivrantSharma",
          "WaninduHasaranga",
          "WashingtonSundar",
          "WayneParnell",
          "YashDayal",
          "YashThakur",
          "YashasviJaiswal",
          "YudhvirSingh",
          "YuzvendraChahal"
         ],
         "xaxis": "x",
         "y": [
          1,
          6,
          3,
          8,
          2,
          2,
          6,
          14,
          5,
          1,
          14,
          0,
          12,
          35,
          2,
          31,
          4,
          3,
          5,
          45,
          47,
          30,
          2,
          5,
          0,
          34,
          6,
          20,
          9,
          15,
          5,
          4,
          14,
          3,
          0,
          0,
          4,
          27,
          3,
          1,
          0,
          1,
          9,
          6,
          30,
          2,
          6,
          3,
          12,
          2,
          0,
          0,
          11,
          18,
          65,
          6,
          0,
          5,
          2,
          1,
          11,
          7,
          0,
          5,
          14,
          34,
          36,
          2,
          10,
          3,
          0,
          2,
          34,
          7,
          4,
          45,
          0,
          1,
          10,
          6,
          30,
          9,
          8,
          24,
          8,
          31,
          2,
          2,
          10,
          9,
          0,
          10,
          8,
          26,
          1,
          5,
          21,
          1,
          19,
          11,
          11,
          19,
          0,
          1,
          13,
          6,
          16,
          7,
          21,
          2,
          67,
          39,
          0,
          27,
          17,
          4,
          2,
          16,
          7,
          10,
          23,
          7,
          17,
          6,
          11,
          0,
          3,
          16,
          11,
          6,
          16,
          23,
          3,
          2,
          31,
          1,
          0,
          35,
          8,
          3,
          6,
          63,
          0,
          41,
          33,
          37,
          1,
          19,
          0,
          7,
          2,
          0,
          3,
          1,
          6,
          19,
          15,
          0,
          0,
          1,
          12,
          1,
          4,
          43,
          0,
          0,
          16,
          1,
          0,
          5,
          3,
          4,
          1,
          36,
          10,
          0,
          30,
          0,
          0,
          19,
          4,
          42,
          1,
          22,
          6,
          17,
          29,
          8,
          2,
          44,
          3,
          3,
          9,
          0,
          35,
          12,
          9,
          13,
          13,
          0,
          3,
          66
         ],
         "yaxis": "y"
        },
        {
         "alignmentgroup": "True",
         "hovertemplate": "variable=total_runs<br>bowlerName=%{x}<br>value=%{y}<extra></extra>",
         "legendgroup": "total_runs",
         "marker": {
          "color": "#EF553B",
          "pattern": {
           "shape": ""
          }
         },
         "name": "total_runs",
         "offsetgroup": "total_runs",
         "orientation": "v",
         "showlegend": true,
         "textposition": "auto",
         "type": "bar",
         "x": [
          "AbdulSamad",
          "AbhishekSharma",
          "AdamMilne",
          "AdamZampa",
          "AdilRashid",
          "AidenMarkram",
          "AkashDeep",
          "AkashMadhwal",
          "AkashSingh",
          "AkealHosein",
          "AlzarriJoseph",
          "AmanHakimKhan",
          "AmitMishra",
          "AndreRussell",
          "AndrewTye",
          "AnrichNortje",
          "AnukulRoy",
          "ArjunTendulkar",
          "ArshadKhan",
          "ArshdeepSingh",
          "AveshKhan",
          "AxarPatel",
          "AyushBadoni",
          "BasilThampi",
          "BenStokes",
          "BhuvneshwarKumar",
          "CameronGreen",
          "ChetanSakariya",
          "ChrisJordan",
          "ChrisMorris",
          "ChrisWoakes",
          "DanChristian",
          "DanielSams",
          "DarshanNalkande",
          "DarylMitchell",
          "DavidWiese",
          "DavidWilley",
          "DeepakChahar",
          "DeepakHooda",
          "DewaldBrevis",
          "DhawalKulkarni",
          "DuanJansen",
          "DushmanthaChameera",
          "DwainePretorius",
          "DwayneBravo",
          "FabianAllen",
          "FazalhaqFarooqi",
          "GeorgeGarton",
          "GlennMaxwell",
          "GlennPhillips",
          "GurnoorBrar",
          "HarbhajanSingh",
          "HardikPandya",
          "HarpreetBrar",
          "HarshalPatel",
          "HarshitRana",
          "HimanshuSharma",
          "HrithikShokeen",
          "ImranTahir",
          "IshanPorel",
          "IshantSharma",
          "JagadeeshaSuchith",
          "JalajSaxena",
          "JamesNeesham",
          "JasonBehrendorff",
          "JasonHolder",
          "JaspritBumrah",
          "JayantYadav",
          "JaydevUnadkat",
          "JhyeRichardson",
          "JoeRoot",
          "JofraArcher",
          "JoshHazlewood",
          "JoshLittle",
          "KMAsif",
          "KagisoRabada",
          "KamleshNagarkoti",
          "KaneRichardson",
          "KarnSharma",
          "KartikTyagi",
          "KhaleelAhmed",
          "KieronPollard",
          "KrishnappaGowtham",
          "KrunalPandya",
          "KuldeepSen",
          "KuldeepYadav",
          "KuldipYadav",
          "KulwantKhejroliya",
          "KumarKartikeya",
          "KyleJamieson",
          "KyleMayers",
          "LalitYadav",
          "LiamLivingstone",
          "LockieFerguson",
          "LukmanMeriwala",
          "LungiNgidi",
          "MaheeshTheekshana",
          "MahipalLomror",
          "MarcoJansen",
          "MarcusStoinis",
          "MarkWood",
          "MatheeshaPathirana",
          "MatthewShort",
          "MayankDagar",
          "MayankMarkande",
          "MichaelBracewell",
          "MitchellMarsh",
          "MitchellSantner",
          "MoeenAli",
          "MohammadNabi",
          "MohammedShami",
          "MohammedSiraj",
          "MohitRathee",
          "MohitSharma",
          "MohsinKhan",
          "MoisesHenriques",
          "MujeebUrRahman",
          "MukeshChoudhary",
          "MukeshKumar",
          "MuruganAshwin",
          "MustafizurRahman",
          "NathanCoulter-Nile",
          "NathanEllis",
          "NavdeepSaini",
          "Naveen-ul-Haq",
          "NitishKumarReddy",
          "NitishRana",
          "NoorAhmad",
          "ObedMcCoy",
          "OdeanSmith",
          "PatCummins",
          "PiyushChawla",
          "PradeepSangwan",
          "PrashantSolanki",
          "PrasidhKrishna",
          "PraveenDubey",
          "RaghavGoyal",
          "RahulChahar",
          "RahulTewatia",
          "RajvardhanHangargekar",
          "RamandeepSingh",
          "RashidKhan",
          "RasikhSalam",
          "RaviBishnoi",
          "RavichandranAshwin",
          "RavindraJadeja",
          "ReeceTopley",
          "RileyMeredith",
          "RipalPatel",
          "RishiDhawan",
          "RiyanParag",
          "RohitSharma",
          "RomarioShepherd",
          "RovmanPowell",
          "SaiKishore",
          "SamCurran",
          "SandeepSharma",
          "SandeepWarrier",
          "SanjayYadav",
          "SeanAbbott",
          "ShahbazAhmed",
          "ShahbazNadeem",
          "ShakibAlHasan",
          "ShardulThakur",
          "ShashankSingh",
          "ShivamDube",
          "ShivamMavi",
          "ShreyasGopal",
          "ShreyasIyer",
          "SiddarthKaul",
          "SikandarRaza",
          "SimarjeetSingh",
          "SisandaMagala",
          "SunilNarine",
          "SuyashSharma",
          "SwapnilSingh",
          "TNatarajan",
          "TabraizShamsi",
          "TilakVarma",
          "TimSouthee",
          "TomCurran",
          "TrentBoult",
          "TristanStubbs",
          "TusharDeshpande",
          "TymalMills",
          "UmeshYadav",
          "UmranMalik",
          "VaibhavArora",
          "VarunAaron",
          "VarunChakravarthy",
          "VenkateshIyer",
          "VijayShankar",
          "VijaykumarVyshak",
          "VivrantSharma",
          "WaninduHasaranga",
          "WashingtonSundar",
          "WayneParnell",
          "YashDayal",
          "YashThakur",
          "YashasviJaiswal",
          "YudhvirSingh",
          "YuzvendraChahal"
         ],
         "xaxis": "x",
         "y": [
          17,
          212,
          150,
          188,
          91,
          157,
          264,
          219,
          227,
          40,
          489,
          13,
          227,
          638,
          107,
          768,
          120,
          92,
          190,
          1220,
          1115,
          939,
          11,
          152,
          30,
          1143,
          361,
          599,
          468,
          376,
          82,
          155,
          409,
          103,
          27,
          38,
          177,
          707,
          187,
          8,
          48,
          53,
          384,
          238,
          562,
          136,
          227,
          135,
          394,
          40,
          42,
          63,
          450,
          503,
          1323,
          198,
          28,
          314,
          16,
          39,
          303,
          185,
          27,
          95,
          387,
          922,
          793,
          156,
          450,
          117,
          14,
          190,
          746,
          294,
          156,
          1069,
          54,
          29,
          223,
          295,
          793,
          220,
          217,
          843,
          265,
          780,
          84,
          64,
          329,
          269,
          59,
          369,
          296,
          747,
          32,
          125,
          616,
          82,
          586,
          284,
          130,
          401,
          25,
          83,
          383,
          95,
          272,
          211,
          501,
          86,
          1405,
          1242,
          29,
          361,
          304,
          45,
          29,
          424,
          326,
          378,
          759,
          175,
          484,
          198,
          219,
          54,
          110,
          369,
          250,
          178,
          449,
          533,
          65,
          38,
          902,
          19,
          33,
          1063,
          431,
          60,
          54,
          1317,
          28,
          1077,
          1175,
          1014,
          14,
          612,
          22,
          216,
          132,
          13,
          98,
          35,
          121,
          817,
          752,
          15,
          23,
          47,
          523,
          36,
          187,
          1220,
          20,
          85,
          460,
          118,
          7,
          259,
          119,
          138,
          51,
          1056,
          321,
          18,
          885,
          34,
          20,
          449,
          104,
          1210,
          14,
          626,
          190,
          528,
          757,
          310,
          52,
          1209,
          115,
          96,
          253,
          37,
          748,
          503,
          236,
          461,
          289,
          6,
          70,
          1333
         ],
         "yaxis": "y"
        },
        {
         "alignmentgroup": "True",
         "hovertemplate": "variable=economy<br>bowlerName=%{x}<br>value=%{y}<extra></extra>",
         "legendgroup": "economy",
         "marker": {
          "color": "#00cc96",
          "pattern": {
           "shape": ""
          }
         },
         "name": "economy",
         "offsetgroup": "economy",
         "orientation": "v",
         "showlegend": true,
         "textposition": "auto",
         "type": "bar",
         "x": [
          "AbdulSamad",
          "AbhishekSharma",
          "AdamMilne",
          "AdamZampa",
          "AdilRashid",
          "AidenMarkram",
          "AkashDeep",
          "AkashMadhwal",
          "AkashSingh",
          "AkealHosein",
          "AlzarriJoseph",
          "AmanHakimKhan",
          "AmitMishra",
          "AndreRussell",
          "AndrewTye",
          "AnrichNortje",
          "AnukulRoy",
          "ArjunTendulkar",
          "ArshadKhan",
          "ArshdeepSingh",
          "AveshKhan",
          "AxarPatel",
          "AyushBadoni",
          "BasilThampi",
          "BenStokes",
          "BhuvneshwarKumar",
          "CameronGreen",
          "ChetanSakariya",
          "ChrisJordan",
          "ChrisMorris",
          "ChrisWoakes",
          "DanChristian",
          "DanielSams",
          "DarshanNalkande",
          "DarylMitchell",
          "DavidWiese",
          "DavidWilley",
          "DeepakChahar",
          "DeepakHooda",
          "DewaldBrevis",
          "DhawalKulkarni",
          "DuanJansen",
          "DushmanthaChameera",
          "DwainePretorius",
          "DwayneBravo",
          "FabianAllen",
          "FazalhaqFarooqi",
          "GeorgeGarton",
          "GlennMaxwell",
          "GlennPhillips",
          "GurnoorBrar",
          "HarbhajanSingh",
          "HardikPandya",
          "HarpreetBrar",
          "HarshalPatel",
          "HarshitRana",
          "HimanshuSharma",
          "HrithikShokeen",
          "ImranTahir",
          "IshanPorel",
          "IshantSharma",
          "JagadeeshaSuchith",
          "JalajSaxena",
          "JamesNeesham",
          "JasonBehrendorff",
          "JasonHolder",
          "JaspritBumrah",
          "JayantYadav",
          "JaydevUnadkat",
          "JhyeRichardson",
          "JoeRoot",
          "JofraArcher",
          "JoshHazlewood",
          "JoshLittle",
          "KMAsif",
          "KagisoRabada",
          "KamleshNagarkoti",
          "KaneRichardson",
          "KarnSharma",
          "KartikTyagi",
          "KhaleelAhmed",
          "KieronPollard",
          "KrishnappaGowtham",
          "KrunalPandya",
          "KuldeepSen",
          "KuldeepYadav",
          "KuldipYadav",
          "KulwantKhejroliya",
          "KumarKartikeya",
          "KyleJamieson",
          "KyleMayers",
          "LalitYadav",
          "LiamLivingstone",
          "LockieFerguson",
          "LukmanMeriwala",
          "LungiNgidi",
          "MaheeshTheekshana",
          "MahipalLomror",
          "MarcoJansen",
          "MarcusStoinis",
          "MarkWood",
          "MatheeshaPathirana",
          "MatthewShort",
          "MayankDagar",
          "MayankMarkande",
          "MichaelBracewell",
          "MitchellMarsh",
          "MitchellSantner",
          "MoeenAli",
          "MohammadNabi",
          "MohammedShami",
          "MohammedSiraj",
          "MohitRathee",
          "MohitSharma",
          "MohsinKhan",
          "MoisesHenriques",
          "MujeebUrRahman",
          "MukeshChoudhary",
          "MukeshKumar",
          "MuruganAshwin",
          "MustafizurRahman",
          "NathanCoulter-Nile",
          "NathanEllis",
          "NavdeepSaini",
          "Naveen-ul-Haq",
          "NitishKumarReddy",
          "NitishRana",
          "NoorAhmad",
          "ObedMcCoy",
          "OdeanSmith",
          "PatCummins",
          "PiyushChawla",
          "PradeepSangwan",
          "PrashantSolanki",
          "PrasidhKrishna",
          "PraveenDubey",
          "RaghavGoyal",
          "RahulChahar",
          "RahulTewatia",
          "RajvardhanHangargekar",
          "RamandeepSingh",
          "RashidKhan",
          "RasikhSalam",
          "RaviBishnoi",
          "RavichandranAshwin",
          "RavindraJadeja",
          "ReeceTopley",
          "RileyMeredith",
          "RipalPatel",
          "RishiDhawan",
          "RiyanParag",
          "RohitSharma",
          "RomarioShepherd",
          "RovmanPowell",
          "SaiKishore",
          "SamCurran",
          "SandeepSharma",
          "SandeepWarrier",
          "SanjayYadav",
          "SeanAbbott",
          "ShahbazAhmed",
          "ShahbazNadeem",
          "ShakibAlHasan",
          "ShardulThakur",
          "ShashankSingh",
          "ShivamDube",
          "ShivamMavi",
          "ShreyasGopal",
          "ShreyasIyer",
          "SiddarthKaul",
          "SikandarRaza",
          "SimarjeetSingh",
          "SisandaMagala",
          "SunilNarine",
          "SuyashSharma",
          "SwapnilSingh",
          "TNatarajan",
          "TabraizShamsi",
          "TilakVarma",
          "TimSouthee",
          "TomCurran",
          "TrentBoult",
          "TristanStubbs",
          "TusharDeshpande",
          "TymalMills",
          "UmeshYadav",
          "UmranMalik",
          "VaibhavArora",
          "VarunAaron",
          "VarunChakravarthy",
          "VenkateshIyer",
          "VijayShankar",
          "VijaykumarVyshak",
          "VivrantSharma",
          "WaninduHasaranga",
          "WashingtonSundar",
          "WayneParnell",
          "YashDayal",
          "YashThakur",
          "YashasviJaiswal",
          "YudhvirSingh",
          "YuzvendraChahal"
         ],
         "xaxis": "x",
         "y": [
          8.5,
          8.48,
          9.202453987730062,
          8.545454545454545,
          9.1,
          8.674033149171272,
          11.23404255319149,
          8.656126482213438,
          9.869565217391305,
          10,
          9.055555555555555,
          13,
          7.827586206896552,
          10.323624595469255,
          9.727272727272727,
          8.311688311688313,
          8,
          9.68421052631579,
          13.86861313868613,
          8.634111818825195,
          8.358320839580209,
          7.113636363636363,
          5.238095238095238,
          9.5,
          15,
          7.877325982081324,
          9.5,
          8.43661971830986,
          10.064516129032258,
          9.170731707317072,
          7.454545454545454,
          9.45121951219512,
          8.520833333333334,
          11.31868131868132,
          13.5,
          12.666666666666666,
          6.8076923076923075,
          8.416666666666666,
          8.904761904761905,
          26.666666666666668,
          12,
          13.25,
          8.727272727272727,
          9.52,
          8.363095238095237,
          9.066666666666666,
          9.007936507936508,
          9,
          7.91164658634538,
          8,
          14,
          9,
          8.137432188065098,
          7.609682299546141,
          8.497109826589595,
          9,
          9.333333333333334,
          9.235294117647058,
          4,
          9.75,
          8.18918918918919,
          8.80952380952381,
          9,
          7.916666666666667,
          9.214285714285714,
          9.119683481701285,
          7.3290203327171906,
          7.428571428571429,
          9,
          10.636363636363637,
          7,
          9.5,
          8.261351052048727,
          8.647058823529411,
          9.689440993788821,
          8.620967741935484,
          13.5,
          9.666666666666666,
          10.469483568075116,
          10.649819494584838,
          8.338590956887487,
          8.118081180811808,
          7.75,
          7.453580901856763,
          9.56678700361011,
          7.926829268292684,
          9.333333333333334,
          15.238095238095237,
          8.435897435897436,
          9.607142857142858,
          8.428571428571429,
          8.2,
          10,
          8.808962264150944,
          10.666666666666666,
          10.416666666666666,
          7.7,
          7.454545454545454,
          9.015384615384615,
          10.28985507246377,
          8.125,
          8.1010101010101,
          6.25,
          7.545454545454546,
          7.979166666666667,
          8.636363636363637,
          8.473520249221183,
          6.806451612903226,
          7.086280056577086,
          10.75,
          7.875560538116591,
          8.117647058823529,
          14.5,
          8.260869565217392,
          7.069767441860465,
          4.5,
          7.25,
          9.359823399558499,
          10.516129032258064,
          8.590909090909092,
          8.423973362930077,
          7.608695652173913,
          8.8,
          12.375,
          7.821428571428571,
          10.8,
          8.8,
          7.9014989293361895,
          9.433962264150944,
          11.866666666666667,
          9.76086956521739,
          8.2,
          7.222222222222222,
          6.333333333333333,
          8.623326959847036,
          6.333333333333333,
          8.25,
          7.680635838150288,
          9.556541019955654,
          10,
          9,
          7.2164383561643834,
          7,
          7.67640769779045,
          7.532051282051282,
          7.455882352941177,
          7,
          9.622641509433961,
          7.333333333333333,
          8.307692307692308,
          13.06930693069307,
          11.81818181818182,
          10.88888888888889,
          11.666666666666666,
          7.5625,
          10.149068322981366,
          8.421052631578947,
          7.5,
          11.5,
          11.75,
          9.339285714285714,
          9,
          7.1923076923076925,
          9.538702111024238,
          10,
          12.142857142857142,
          8.502772643253234,
          11.8,
          7,
          8.86986301369863,
          9.916666666666666,
          7.666666666666667,
          8.5,
          6.6,
          8.23076923076923,
          9,
          9.21875,
          8.5,
          6.666666666666667,
          8.471698113207546,
          9.62962962962963,
          8.023872679045093,
          7,
          10.016,
          11.176470588235293,
          7.880597014925373,
          9.334155363748458,
          9.253731343283581,
          10.4,
          7.584692597239648,
          9.34959349593496,
          10.322580645161292,
          10.541666666666666,
          12.333333333333334,
          8.130434782608695,
          8.192182410423452,
          9.402390438247012,
          10.021739130434783,
          9.174603174603174,
          59.999999999999986,
          8.75,
          7.68299711815562
         ],
         "yaxis": "y"
        }
       ],
       "layout": {
        "barmode": "relative",
        "legend": {
         "title": {
          "text": "variable"
         },
         "tracegroupgap": 0
        },
        "template": {
         "data": {
          "bar": [
           {
            "error_x": {
             "color": "#2a3f5f"
            },
            "error_y": {
             "color": "#2a3f5f"
            },
            "marker": {
             "line": {
              "color": "#E5ECF6",
              "width": 0.5
             },
             "pattern": {
              "fillmode": "overlay",
              "size": 10,
              "solidity": 0.2
             }
            },
            "type": "bar"
           }
          ],
          "barpolar": [
           {
            "marker": {
             "line": {
              "color": "#E5ECF6",
              "width": 0.5
             },
             "pattern": {
              "fillmode": "overlay",
              "size": 10,
              "solidity": 0.2
             }
            },
            "type": "barpolar"
           }
          ],
          "carpet": [
           {
            "aaxis": {
             "endlinecolor": "#2a3f5f",
             "gridcolor": "white",
             "linecolor": "white",
             "minorgridcolor": "white",
             "startlinecolor": "#2a3f5f"
            },
            "baxis": {
             "endlinecolor": "#2a3f5f",
             "gridcolor": "white",
             "linecolor": "white",
             "minorgridcolor": "white",
             "startlinecolor": "#2a3f5f"
            },
            "type": "carpet"
           }
          ],
          "choropleth": [
           {
            "colorbar": {
             "outlinewidth": 0,
             "ticks": ""
            },
            "type": "choropleth"
           }
          ],
          "contour": [
           {
            "colorbar": {
             "outlinewidth": 0,
             "ticks": ""
            },
            "colorscale": [
             [
              0,
              "#0d0887"
             ],
             [
              0.1111111111111111,
              "#46039f"
             ],
             [
              0.2222222222222222,
              "#7201a8"
             ],
             [
              0.3333333333333333,
              "#9c179e"
             ],
             [
              0.4444444444444444,
              "#bd3786"
             ],
             [
              0.5555555555555556,
              "#d8576b"
             ],
             [
              0.6666666666666666,
              "#ed7953"
             ],
             [
              0.7777777777777778,
              "#fb9f3a"
             ],
             [
              0.8888888888888888,
              "#fdca26"
             ],
             [
              1,
              "#f0f921"
             ]
            ],
            "type": "contour"
           }
          ],
          "contourcarpet": [
           {
            "colorbar": {
             "outlinewidth": 0,
             "ticks": ""
            },
            "type": "contourcarpet"
           }
          ],
          "heatmap": [
           {
            "colorbar": {
             "outlinewidth": 0,
             "ticks": ""
            },
            "colorscale": [
             [
              0,
              "#0d0887"
             ],
             [
              0.1111111111111111,
              "#46039f"
             ],
             [
              0.2222222222222222,
              "#7201a8"
             ],
             [
              0.3333333333333333,
              "#9c179e"
             ],
             [
              0.4444444444444444,
              "#bd3786"
             ],
             [
              0.5555555555555556,
              "#d8576b"
             ],
             [
              0.6666666666666666,
              "#ed7953"
             ],
             [
              0.7777777777777778,
              "#fb9f3a"
             ],
             [
              0.8888888888888888,
              "#fdca26"
             ],
             [
              1,
              "#f0f921"
             ]
            ],
            "type": "heatmap"
           }
          ],
          "heatmapgl": [
           {
            "colorbar": {
             "outlinewidth": 0,
             "ticks": ""
            },
            "colorscale": [
             [
              0,
              "#0d0887"
             ],
             [
              0.1111111111111111,
              "#46039f"
             ],
             [
              0.2222222222222222,
              "#7201a8"
             ],
             [
              0.3333333333333333,
              "#9c179e"
             ],
             [
              0.4444444444444444,
              "#bd3786"
             ],
             [
              0.5555555555555556,
              "#d8576b"
             ],
             [
              0.6666666666666666,
              "#ed7953"
             ],
             [
              0.7777777777777778,
              "#fb9f3a"
             ],
             [
              0.8888888888888888,
              "#fdca26"
             ],
             [
              1,
              "#f0f921"
             ]
            ],
            "type": "heatmapgl"
           }
          ],
          "histogram": [
           {
            "marker": {
             "pattern": {
              "fillmode": "overlay",
              "size": 10,
              "solidity": 0.2
             }
            },
            "type": "histogram"
           }
          ],
          "histogram2d": [
           {
            "colorbar": {
             "outlinewidth": 0,
             "ticks": ""
            },
            "colorscale": [
             [
              0,
              "#0d0887"
             ],
             [
              0.1111111111111111,
              "#46039f"
             ],
             [
              0.2222222222222222,
              "#7201a8"
             ],
             [
              0.3333333333333333,
              "#9c179e"
             ],
             [
              0.4444444444444444,
              "#bd3786"
             ],
             [
              0.5555555555555556,
              "#d8576b"
             ],
             [
              0.6666666666666666,
              "#ed7953"
             ],
             [
              0.7777777777777778,
              "#fb9f3a"
             ],
             [
              0.8888888888888888,
              "#fdca26"
             ],
             [
              1,
              "#f0f921"
             ]
            ],
            "type": "histogram2d"
           }
          ],
          "histogram2dcontour": [
           {
            "colorbar": {
             "outlinewidth": 0,
             "ticks": ""
            },
            "colorscale": [
             [
              0,
              "#0d0887"
             ],
             [
              0.1111111111111111,
              "#46039f"
             ],
             [
              0.2222222222222222,
              "#7201a8"
             ],
             [
              0.3333333333333333,
              "#9c179e"
             ],
             [
              0.4444444444444444,
              "#bd3786"
             ],
             [
              0.5555555555555556,
              "#d8576b"
             ],
             [
              0.6666666666666666,
              "#ed7953"
             ],
             [
              0.7777777777777778,
              "#fb9f3a"
             ],
             [
              0.8888888888888888,
              "#fdca26"
             ],
             [
              1,
              "#f0f921"
             ]
            ],
            "type": "histogram2dcontour"
           }
          ],
          "mesh3d": [
           {
            "colorbar": {
             "outlinewidth": 0,
             "ticks": ""
            },
            "type": "mesh3d"
           }
          ],
          "parcoords": [
           {
            "line": {
             "colorbar": {
              "outlinewidth": 0,
              "ticks": ""
             }
            },
            "type": "parcoords"
           }
          ],
          "pie": [
           {
            "automargin": true,
            "type": "pie"
           }
          ],
          "scatter": [
           {
            "fillpattern": {
             "fillmode": "overlay",
             "size": 10,
             "solidity": 0.2
            },
            "type": "scatter"
           }
          ],
          "scatter3d": [
           {
            "line": {
             "colorbar": {
              "outlinewidth": 0,
              "ticks": ""
             }
            },
            "marker": {
             "colorbar": {
              "outlinewidth": 0,
              "ticks": ""
             }
            },
            "type": "scatter3d"
           }
          ],
          "scattercarpet": [
           {
            "marker": {
             "colorbar": {
              "outlinewidth": 0,
              "ticks": ""
             }
            },
            "type": "scattercarpet"
           }
          ],
          "scattergeo": [
           {
            "marker": {
             "colorbar": {
              "outlinewidth": 0,
              "ticks": ""
             }
            },
            "type": "scattergeo"
           }
          ],
          "scattergl": [
           {
            "marker": {
             "colorbar": {
              "outlinewidth": 0,
              "ticks": ""
             }
            },
            "type": "scattergl"
           }
          ],
          "scattermapbox": [
           {
            "marker": {
             "colorbar": {
              "outlinewidth": 0,
              "ticks": ""
             }
            },
            "type": "scattermapbox"
           }
          ],
          "scatterpolar": [
           {
            "marker": {
             "colorbar": {
              "outlinewidth": 0,
              "ticks": ""
             }
            },
            "type": "scatterpolar"
           }
          ],
          "scatterpolargl": [
           {
            "marker": {
             "colorbar": {
              "outlinewidth": 0,
              "ticks": ""
             }
            },
            "type": "scatterpolargl"
           }
          ],
          "scatterternary": [
           {
            "marker": {
             "colorbar": {
              "outlinewidth": 0,
              "ticks": ""
             }
            },
            "type": "scatterternary"
           }
          ],
          "surface": [
           {
            "colorbar": {
             "outlinewidth": 0,
             "ticks": ""
            },
            "colorscale": [
             [
              0,
              "#0d0887"
             ],
             [
              0.1111111111111111,
              "#46039f"
             ],
             [
              0.2222222222222222,
              "#7201a8"
             ],
             [
              0.3333333333333333,
              "#9c179e"
             ],
             [
              0.4444444444444444,
              "#bd3786"
             ],
             [
              0.5555555555555556,
              "#d8576b"
             ],
             [
              0.6666666666666666,
              "#ed7953"
             ],
             [
              0.7777777777777778,
              "#fb9f3a"
             ],
             [
              0.8888888888888888,
              "#fdca26"
             ],
             [
              1,
              "#f0f921"
             ]
            ],
            "type": "surface"
           }
          ],
          "table": [
           {
            "cells": {
             "fill": {
              "color": "#EBF0F8"
             },
             "line": {
              "color": "white"
             }
            },
            "header": {
             "fill": {
              "color": "#C8D4E3"
             },
             "line": {
              "color": "white"
             }
            },
            "type": "table"
           }
          ]
         },
         "layout": {
          "annotationdefaults": {
           "arrowcolor": "#2a3f5f",
           "arrowhead": 0,
           "arrowwidth": 1
          },
          "autotypenumbers": "strict",
          "coloraxis": {
           "colorbar": {
            "outlinewidth": 0,
            "ticks": ""
           }
          },
          "colorscale": {
           "diverging": [
            [
             0,
             "#8e0152"
            ],
            [
             0.1,
             "#c51b7d"
            ],
            [
             0.2,
             "#de77ae"
            ],
            [
             0.3,
             "#f1b6da"
            ],
            [
             0.4,
             "#fde0ef"
            ],
            [
             0.5,
             "#f7f7f7"
            ],
            [
             0.6,
             "#e6f5d0"
            ],
            [
             0.7,
             "#b8e186"
            ],
            [
             0.8,
             "#7fbc41"
            ],
            [
             0.9,
             "#4d9221"
            ],
            [
             1,
             "#276419"
            ]
           ],
           "sequential": [
            [
             0,
             "#0d0887"
            ],
            [
             0.1111111111111111,
             "#46039f"
            ],
            [
             0.2222222222222222,
             "#7201a8"
            ],
            [
             0.3333333333333333,
             "#9c179e"
            ],
            [
             0.4444444444444444,
             "#bd3786"
            ],
            [
             0.5555555555555556,
             "#d8576b"
            ],
            [
             0.6666666666666666,
             "#ed7953"
            ],
            [
             0.7777777777777778,
             "#fb9f3a"
            ],
            [
             0.8888888888888888,
             "#fdca26"
            ],
            [
             1,
             "#f0f921"
            ]
           ],
           "sequentialminus": [
            [
             0,
             "#0d0887"
            ],
            [
             0.1111111111111111,
             "#46039f"
            ],
            [
             0.2222222222222222,
             "#7201a8"
            ],
            [
             0.3333333333333333,
             "#9c179e"
            ],
            [
             0.4444444444444444,
             "#bd3786"
            ],
            [
             0.5555555555555556,
             "#d8576b"
            ],
            [
             0.6666666666666666,
             "#ed7953"
            ],
            [
             0.7777777777777778,
             "#fb9f3a"
            ],
            [
             0.8888888888888888,
             "#fdca26"
            ],
            [
             1,
             "#f0f921"
            ]
           ]
          },
          "colorway": [
           "#636efa",
           "#EF553B",
           "#00cc96",
           "#ab63fa",
           "#FFA15A",
           "#19d3f3",
           "#FF6692",
           "#B6E880",
           "#FF97FF",
           "#FECB52"
          ],
          "font": {
           "color": "#2a3f5f"
          },
          "geo": {
           "bgcolor": "white",
           "lakecolor": "white",
           "landcolor": "#E5ECF6",
           "showlakes": true,
           "showland": true,
           "subunitcolor": "white"
          },
          "hoverlabel": {
           "align": "left"
          },
          "hovermode": "closest",
          "mapbox": {
           "style": "light"
          },
          "paper_bgcolor": "white",
          "plot_bgcolor": "#E5ECF6",
          "polar": {
           "angularaxis": {
            "gridcolor": "white",
            "linecolor": "white",
            "ticks": ""
           },
           "bgcolor": "#E5ECF6",
           "radialaxis": {
            "gridcolor": "white",
            "linecolor": "white",
            "ticks": ""
           }
          },
          "scene": {
           "xaxis": {
            "backgroundcolor": "#E5ECF6",
            "gridcolor": "white",
            "gridwidth": 2,
            "linecolor": "white",
            "showbackground": true,
            "ticks": "",
            "zerolinecolor": "white"
           },
           "yaxis": {
            "backgroundcolor": "#E5ECF6",
            "gridcolor": "white",
            "gridwidth": 2,
            "linecolor": "white",
            "showbackground": true,
            "ticks": "",
            "zerolinecolor": "white"
           },
           "zaxis": {
            "backgroundcolor": "#E5ECF6",
            "gridcolor": "white",
            "gridwidth": 2,
            "linecolor": "white",
            "showbackground": true,
            "ticks": "",
            "zerolinecolor": "white"
           }
          },
          "shapedefaults": {
           "line": {
            "color": "#2a3f5f"
           }
          },
          "ternary": {
           "aaxis": {
            "gridcolor": "white",
            "linecolor": "white",
            "ticks": ""
           },
           "baxis": {
            "gridcolor": "white",
            "linecolor": "white",
            "ticks": ""
           },
           "bgcolor": "#E5ECF6",
           "caxis": {
            "gridcolor": "white",
            "linecolor": "white",
            "ticks": ""
           }
          },
          "title": {
           "x": 0.05
          },
          "xaxis": {
           "automargin": true,
           "gridcolor": "white",
           "linecolor": "white",
           "ticks": "",
           "title": {
            "standoff": 15
           },
           "zerolinecolor": "white",
           "zerolinewidth": 2
          },
          "yaxis": {
           "automargin": true,
           "gridcolor": "white",
           "linecolor": "white",
           "ticks": "",
           "title": {
            "standoff": 15
           },
           "zerolinecolor": "white",
           "zerolinewidth": 2
          }
         }
        },
        "title": {
         "text": "Bowler Performance Comparison"
        },
        "xaxis": {
         "anchor": "y",
         "domain": [
          0,
          1
         ],
         "title": {
          "text": "bowlerName"
         }
        },
        "yaxis": {
         "anchor": "x",
         "domain": [
          0,
          1
         ],
         "title": {
          "text": "value"
         }
        }
       }
      }
     },
     "metadata": {},
     "output_type": "display_data"
    }
   ],
   "source": [
    "import plotly.express as px\n",
    "fig = px.bar(bowling_stats, x='bowlerName', y=['total_wickets', 'total_runs', 'economy'],\n",
    "             title=\"Bowler Performance Comparison\", labels={\"total_wickets\": \"Wickets\", \"total_runs\": \"Runs\", \"economy\": \"Economy Rate\"})\n",
    "fig.show()\n"
   ]
  },
  {
   "cell_type": "code",
   "execution_count": 31,
   "id": "98969f4b",
   "metadata": {},
   "outputs": [
    {
     "data": {
      "application/vnd.plotly.v1+json": {
       "config": {
        "plotlyServerURL": "https://plot.ly"
       },
       "data": [
        {
         "alignmentgroup": "True",
         "boxpoints": "all",
         "hovertemplate": "economy=%{y}<extra></extra>",
         "legendgroup": "",
         "marker": {
          "color": "#636efa"
         },
         "name": "",
         "notched": false,
         "offsetgroup": "",
         "orientation": "v",
         "showlegend": false,
         "type": "box",
         "x0": " ",
         "xaxis": "x",
         "y": [
          8.5,
          8.48,
          9.202453987730062,
          8.545454545454545,
          9.1,
          8.674033149171272,
          11.23404255319149,
          8.656126482213438,
          9.869565217391305,
          10,
          9.055555555555555,
          13,
          7.827586206896552,
          10.323624595469255,
          9.727272727272727,
          8.311688311688313,
          8,
          9.68421052631579,
          13.86861313868613,
          8.634111818825195,
          8.358320839580209,
          7.113636363636363,
          5.238095238095238,
          9.5,
          15,
          7.877325982081324,
          9.5,
          8.43661971830986,
          10.064516129032258,
          9.170731707317072,
          7.454545454545454,
          9.45121951219512,
          8.520833333333334,
          11.31868131868132,
          13.5,
          12.666666666666666,
          6.8076923076923075,
          8.416666666666666,
          8.904761904761905,
          26.666666666666668,
          12,
          13.25,
          8.727272727272727,
          9.52,
          8.363095238095237,
          9.066666666666666,
          9.007936507936508,
          9,
          7.91164658634538,
          8,
          14,
          9,
          8.137432188065098,
          7.609682299546141,
          8.497109826589595,
          9,
          9.333333333333334,
          9.235294117647058,
          4,
          9.75,
          8.18918918918919,
          8.80952380952381,
          9,
          7.916666666666667,
          9.214285714285714,
          9.119683481701285,
          7.3290203327171906,
          7.428571428571429,
          9,
          10.636363636363637,
          7,
          9.5,
          8.261351052048727,
          8.647058823529411,
          9.689440993788821,
          8.620967741935484,
          13.5,
          9.666666666666666,
          10.469483568075116,
          10.649819494584838,
          8.338590956887487,
          8.118081180811808,
          7.75,
          7.453580901856763,
          9.56678700361011,
          7.926829268292684,
          9.333333333333334,
          15.238095238095237,
          8.435897435897436,
          9.607142857142858,
          8.428571428571429,
          8.2,
          10,
          8.808962264150944,
          10.666666666666666,
          10.416666666666666,
          7.7,
          7.454545454545454,
          9.015384615384615,
          10.28985507246377,
          8.125,
          8.1010101010101,
          6.25,
          7.545454545454546,
          7.979166666666667,
          8.636363636363637,
          8.473520249221183,
          6.806451612903226,
          7.086280056577086,
          10.75,
          7.875560538116591,
          8.117647058823529,
          14.5,
          8.260869565217392,
          7.069767441860465,
          4.5,
          7.25,
          9.359823399558499,
          10.516129032258064,
          8.590909090909092,
          8.423973362930077,
          7.608695652173913,
          8.8,
          12.375,
          7.821428571428571,
          10.8,
          8.8,
          7.9014989293361895,
          9.433962264150944,
          11.866666666666667,
          9.76086956521739,
          8.2,
          7.222222222222222,
          6.333333333333333,
          8.623326959847036,
          6.333333333333333,
          8.25,
          7.680635838150288,
          9.556541019955654,
          10,
          9,
          7.2164383561643834,
          7,
          7.67640769779045,
          7.532051282051282,
          7.455882352941177,
          7,
          9.622641509433961,
          7.333333333333333,
          8.307692307692308,
          13.06930693069307,
          11.81818181818182,
          10.88888888888889,
          11.666666666666666,
          7.5625,
          10.149068322981366,
          8.421052631578947,
          7.5,
          11.5,
          11.75,
          9.339285714285714,
          9,
          7.1923076923076925,
          9.538702111024238,
          10,
          12.142857142857142,
          8.502772643253234,
          11.8,
          7,
          8.86986301369863,
          9.916666666666666,
          7.666666666666667,
          8.5,
          6.6,
          8.23076923076923,
          9,
          9.21875,
          8.5,
          6.666666666666667,
          8.471698113207546,
          9.62962962962963,
          8.023872679045093,
          7,
          10.016,
          11.176470588235293,
          7.880597014925373,
          9.334155363748458,
          9.253731343283581,
          10.4,
          7.584692597239648,
          9.34959349593496,
          10.322580645161292,
          10.541666666666666,
          12.333333333333334,
          8.130434782608695,
          8.192182410423452,
          9.402390438247012,
          10.021739130434783,
          9.174603174603174,
          59.999999999999986,
          8.75,
          7.68299711815562
         ],
         "y0": " ",
         "yaxis": "y"
        }
       ],
       "layout": {
        "boxmode": "group",
        "legend": {
         "tracegroupgap": 0
        },
        "template": {
         "data": {
          "bar": [
           {
            "error_x": {
             "color": "#2a3f5f"
            },
            "error_y": {
             "color": "#2a3f5f"
            },
            "marker": {
             "line": {
              "color": "#E5ECF6",
              "width": 0.5
             },
             "pattern": {
              "fillmode": "overlay",
              "size": 10,
              "solidity": 0.2
             }
            },
            "type": "bar"
           }
          ],
          "barpolar": [
           {
            "marker": {
             "line": {
              "color": "#E5ECF6",
              "width": 0.5
             },
             "pattern": {
              "fillmode": "overlay",
              "size": 10,
              "solidity": 0.2
             }
            },
            "type": "barpolar"
           }
          ],
          "carpet": [
           {
            "aaxis": {
             "endlinecolor": "#2a3f5f",
             "gridcolor": "white",
             "linecolor": "white",
             "minorgridcolor": "white",
             "startlinecolor": "#2a3f5f"
            },
            "baxis": {
             "endlinecolor": "#2a3f5f",
             "gridcolor": "white",
             "linecolor": "white",
             "minorgridcolor": "white",
             "startlinecolor": "#2a3f5f"
            },
            "type": "carpet"
           }
          ],
          "choropleth": [
           {
            "colorbar": {
             "outlinewidth": 0,
             "ticks": ""
            },
            "type": "choropleth"
           }
          ],
          "contour": [
           {
            "colorbar": {
             "outlinewidth": 0,
             "ticks": ""
            },
            "colorscale": [
             [
              0,
              "#0d0887"
             ],
             [
              0.1111111111111111,
              "#46039f"
             ],
             [
              0.2222222222222222,
              "#7201a8"
             ],
             [
              0.3333333333333333,
              "#9c179e"
             ],
             [
              0.4444444444444444,
              "#bd3786"
             ],
             [
              0.5555555555555556,
              "#d8576b"
             ],
             [
              0.6666666666666666,
              "#ed7953"
             ],
             [
              0.7777777777777778,
              "#fb9f3a"
             ],
             [
              0.8888888888888888,
              "#fdca26"
             ],
             [
              1,
              "#f0f921"
             ]
            ],
            "type": "contour"
           }
          ],
          "contourcarpet": [
           {
            "colorbar": {
             "outlinewidth": 0,
             "ticks": ""
            },
            "type": "contourcarpet"
           }
          ],
          "heatmap": [
           {
            "colorbar": {
             "outlinewidth": 0,
             "ticks": ""
            },
            "colorscale": [
             [
              0,
              "#0d0887"
             ],
             [
              0.1111111111111111,
              "#46039f"
             ],
             [
              0.2222222222222222,
              "#7201a8"
             ],
             [
              0.3333333333333333,
              "#9c179e"
             ],
             [
              0.4444444444444444,
              "#bd3786"
             ],
             [
              0.5555555555555556,
              "#d8576b"
             ],
             [
              0.6666666666666666,
              "#ed7953"
             ],
             [
              0.7777777777777778,
              "#fb9f3a"
             ],
             [
              0.8888888888888888,
              "#fdca26"
             ],
             [
              1,
              "#f0f921"
             ]
            ],
            "type": "heatmap"
           }
          ],
          "heatmapgl": [
           {
            "colorbar": {
             "outlinewidth": 0,
             "ticks": ""
            },
            "colorscale": [
             [
              0,
              "#0d0887"
             ],
             [
              0.1111111111111111,
              "#46039f"
             ],
             [
              0.2222222222222222,
              "#7201a8"
             ],
             [
              0.3333333333333333,
              "#9c179e"
             ],
             [
              0.4444444444444444,
              "#bd3786"
             ],
             [
              0.5555555555555556,
              "#d8576b"
             ],
             [
              0.6666666666666666,
              "#ed7953"
             ],
             [
              0.7777777777777778,
              "#fb9f3a"
             ],
             [
              0.8888888888888888,
              "#fdca26"
             ],
             [
              1,
              "#f0f921"
             ]
            ],
            "type": "heatmapgl"
           }
          ],
          "histogram": [
           {
            "marker": {
             "pattern": {
              "fillmode": "overlay",
              "size": 10,
              "solidity": 0.2
             }
            },
            "type": "histogram"
           }
          ],
          "histogram2d": [
           {
            "colorbar": {
             "outlinewidth": 0,
             "ticks": ""
            },
            "colorscale": [
             [
              0,
              "#0d0887"
             ],
             [
              0.1111111111111111,
              "#46039f"
             ],
             [
              0.2222222222222222,
              "#7201a8"
             ],
             [
              0.3333333333333333,
              "#9c179e"
             ],
             [
              0.4444444444444444,
              "#bd3786"
             ],
             [
              0.5555555555555556,
              "#d8576b"
             ],
             [
              0.6666666666666666,
              "#ed7953"
             ],
             [
              0.7777777777777778,
              "#fb9f3a"
             ],
             [
              0.8888888888888888,
              "#fdca26"
             ],
             [
              1,
              "#f0f921"
             ]
            ],
            "type": "histogram2d"
           }
          ],
          "histogram2dcontour": [
           {
            "colorbar": {
             "outlinewidth": 0,
             "ticks": ""
            },
            "colorscale": [
             [
              0,
              "#0d0887"
             ],
             [
              0.1111111111111111,
              "#46039f"
             ],
             [
              0.2222222222222222,
              "#7201a8"
             ],
             [
              0.3333333333333333,
              "#9c179e"
             ],
             [
              0.4444444444444444,
              "#bd3786"
             ],
             [
              0.5555555555555556,
              "#d8576b"
             ],
             [
              0.6666666666666666,
              "#ed7953"
             ],
             [
              0.7777777777777778,
              "#fb9f3a"
             ],
             [
              0.8888888888888888,
              "#fdca26"
             ],
             [
              1,
              "#f0f921"
             ]
            ],
            "type": "histogram2dcontour"
           }
          ],
          "mesh3d": [
           {
            "colorbar": {
             "outlinewidth": 0,
             "ticks": ""
            },
            "type": "mesh3d"
           }
          ],
          "parcoords": [
           {
            "line": {
             "colorbar": {
              "outlinewidth": 0,
              "ticks": ""
             }
            },
            "type": "parcoords"
           }
          ],
          "pie": [
           {
            "automargin": true,
            "type": "pie"
           }
          ],
          "scatter": [
           {
            "fillpattern": {
             "fillmode": "overlay",
             "size": 10,
             "solidity": 0.2
            },
            "type": "scatter"
           }
          ],
          "scatter3d": [
           {
            "line": {
             "colorbar": {
              "outlinewidth": 0,
              "ticks": ""
             }
            },
            "marker": {
             "colorbar": {
              "outlinewidth": 0,
              "ticks": ""
             }
            },
            "type": "scatter3d"
           }
          ],
          "scattercarpet": [
           {
            "marker": {
             "colorbar": {
              "outlinewidth": 0,
              "ticks": ""
             }
            },
            "type": "scattercarpet"
           }
          ],
          "scattergeo": [
           {
            "marker": {
             "colorbar": {
              "outlinewidth": 0,
              "ticks": ""
             }
            },
            "type": "scattergeo"
           }
          ],
          "scattergl": [
           {
            "marker": {
             "colorbar": {
              "outlinewidth": 0,
              "ticks": ""
             }
            },
            "type": "scattergl"
           }
          ],
          "scattermapbox": [
           {
            "marker": {
             "colorbar": {
              "outlinewidth": 0,
              "ticks": ""
             }
            },
            "type": "scattermapbox"
           }
          ],
          "scatterpolar": [
           {
            "marker": {
             "colorbar": {
              "outlinewidth": 0,
              "ticks": ""
             }
            },
            "type": "scatterpolar"
           }
          ],
          "scatterpolargl": [
           {
            "marker": {
             "colorbar": {
              "outlinewidth": 0,
              "ticks": ""
             }
            },
            "type": "scatterpolargl"
           }
          ],
          "scatterternary": [
           {
            "marker": {
             "colorbar": {
              "outlinewidth": 0,
              "ticks": ""
             }
            },
            "type": "scatterternary"
           }
          ],
          "surface": [
           {
            "colorbar": {
             "outlinewidth": 0,
             "ticks": ""
            },
            "colorscale": [
             [
              0,
              "#0d0887"
             ],
             [
              0.1111111111111111,
              "#46039f"
             ],
             [
              0.2222222222222222,
              "#7201a8"
             ],
             [
              0.3333333333333333,
              "#9c179e"
             ],
             [
              0.4444444444444444,
              "#bd3786"
             ],
             [
              0.5555555555555556,
              "#d8576b"
             ],
             [
              0.6666666666666666,
              "#ed7953"
             ],
             [
              0.7777777777777778,
              "#fb9f3a"
             ],
             [
              0.8888888888888888,
              "#fdca26"
             ],
             [
              1,
              "#f0f921"
             ]
            ],
            "type": "surface"
           }
          ],
          "table": [
           {
            "cells": {
             "fill": {
              "color": "#EBF0F8"
             },
             "line": {
              "color": "white"
             }
            },
            "header": {
             "fill": {
              "color": "#C8D4E3"
             },
             "line": {
              "color": "white"
             }
            },
            "type": "table"
           }
          ]
         },
         "layout": {
          "annotationdefaults": {
           "arrowcolor": "#2a3f5f",
           "arrowhead": 0,
           "arrowwidth": 1
          },
          "autotypenumbers": "strict",
          "coloraxis": {
           "colorbar": {
            "outlinewidth": 0,
            "ticks": ""
           }
          },
          "colorscale": {
           "diverging": [
            [
             0,
             "#8e0152"
            ],
            [
             0.1,
             "#c51b7d"
            ],
            [
             0.2,
             "#de77ae"
            ],
            [
             0.3,
             "#f1b6da"
            ],
            [
             0.4,
             "#fde0ef"
            ],
            [
             0.5,
             "#f7f7f7"
            ],
            [
             0.6,
             "#e6f5d0"
            ],
            [
             0.7,
             "#b8e186"
            ],
            [
             0.8,
             "#7fbc41"
            ],
            [
             0.9,
             "#4d9221"
            ],
            [
             1,
             "#276419"
            ]
           ],
           "sequential": [
            [
             0,
             "#0d0887"
            ],
            [
             0.1111111111111111,
             "#46039f"
            ],
            [
             0.2222222222222222,
             "#7201a8"
            ],
            [
             0.3333333333333333,
             "#9c179e"
            ],
            [
             0.4444444444444444,
             "#bd3786"
            ],
            [
             0.5555555555555556,
             "#d8576b"
            ],
            [
             0.6666666666666666,
             "#ed7953"
            ],
            [
             0.7777777777777778,
             "#fb9f3a"
            ],
            [
             0.8888888888888888,
             "#fdca26"
            ],
            [
             1,
             "#f0f921"
            ]
           ],
           "sequentialminus": [
            [
             0,
             "#0d0887"
            ],
            [
             0.1111111111111111,
             "#46039f"
            ],
            [
             0.2222222222222222,
             "#7201a8"
            ],
            [
             0.3333333333333333,
             "#9c179e"
            ],
            [
             0.4444444444444444,
             "#bd3786"
            ],
            [
             0.5555555555555556,
             "#d8576b"
            ],
            [
             0.6666666666666666,
             "#ed7953"
            ],
            [
             0.7777777777777778,
             "#fb9f3a"
            ],
            [
             0.8888888888888888,
             "#fdca26"
            ],
            [
             1,
             "#f0f921"
            ]
           ]
          },
          "colorway": [
           "#636efa",
           "#EF553B",
           "#00cc96",
           "#ab63fa",
           "#FFA15A",
           "#19d3f3",
           "#FF6692",
           "#B6E880",
           "#FF97FF",
           "#FECB52"
          ],
          "font": {
           "color": "#2a3f5f"
          },
          "geo": {
           "bgcolor": "white",
           "lakecolor": "white",
           "landcolor": "#E5ECF6",
           "showlakes": true,
           "showland": true,
           "subunitcolor": "white"
          },
          "hoverlabel": {
           "align": "left"
          },
          "hovermode": "closest",
          "mapbox": {
           "style": "light"
          },
          "paper_bgcolor": "white",
          "plot_bgcolor": "#E5ECF6",
          "polar": {
           "angularaxis": {
            "gridcolor": "white",
            "linecolor": "white",
            "ticks": ""
           },
           "bgcolor": "#E5ECF6",
           "radialaxis": {
            "gridcolor": "white",
            "linecolor": "white",
            "ticks": ""
           }
          },
          "scene": {
           "xaxis": {
            "backgroundcolor": "#E5ECF6",
            "gridcolor": "white",
            "gridwidth": 2,
            "linecolor": "white",
            "showbackground": true,
            "ticks": "",
            "zerolinecolor": "white"
           },
           "yaxis": {
            "backgroundcolor": "#E5ECF6",
            "gridcolor": "white",
            "gridwidth": 2,
            "linecolor": "white",
            "showbackground": true,
            "ticks": "",
            "zerolinecolor": "white"
           },
           "zaxis": {
            "backgroundcolor": "#E5ECF6",
            "gridcolor": "white",
            "gridwidth": 2,
            "linecolor": "white",
            "showbackground": true,
            "ticks": "",
            "zerolinecolor": "white"
           }
          },
          "shapedefaults": {
           "line": {
            "color": "#2a3f5f"
           }
          },
          "ternary": {
           "aaxis": {
            "gridcolor": "white",
            "linecolor": "white",
            "ticks": ""
           },
           "baxis": {
            "gridcolor": "white",
            "linecolor": "white",
            "ticks": ""
           },
           "bgcolor": "#E5ECF6",
           "caxis": {
            "gridcolor": "white",
            "linecolor": "white",
            "ticks": ""
           }
          },
          "title": {
           "x": 0.05
          },
          "xaxis": {
           "automargin": true,
           "gridcolor": "white",
           "linecolor": "white",
           "ticks": "",
           "title": {
            "standoff": 15
           },
           "zerolinecolor": "white",
           "zerolinewidth": 2
          },
          "yaxis": {
           "automargin": true,
           "gridcolor": "white",
           "linecolor": "white",
           "ticks": "",
           "title": {
            "standoff": 15
           },
           "zerolinecolor": "white",
           "zerolinewidth": 2
          }
         }
        },
        "title": {
         "text": "Economy Rate Distribution"
        },
        "xaxis": {
         "anchor": "y",
         "domain": [
          0,
          1
         ]
        },
        "yaxis": {
         "anchor": "x",
         "domain": [
          0,
          1
         ],
         "title": {
          "text": "economy"
         }
        }
       }
      }
     },
     "metadata": {},
     "output_type": "display_data"
    }
   ],
   "source": [
    "fig = px.box(bowling_stats, y=\"economy\", points=\"all\", title=\"Economy Rate Distribution\")\n",
    "fig.show()\n"
   ]
  },
  {
   "cell_type": "code",
   "execution_count": 32,
   "id": "f6bcce35",
   "metadata": {},
   "outputs": [
    {
     "data": {
      "application/vnd.plotly.v1+json": {
       "config": {
        "plotlyServerURL": "https://plot.ly"
       },
       "data": [
        {
         "hovertemplate": "bowlerName=AbdulSamad<br>Wickets=%{x}<br>Economy Rate=%{y}<extra></extra>",
         "legendgroup": "AbdulSamad",
         "marker": {
          "color": "#636efa",
          "symbol": "circle"
         },
         "mode": "markers",
         "name": "AbdulSamad",
         "orientation": "v",
         "showlegend": true,
         "type": "scatter",
         "x": [
          1
         ],
         "xaxis": "x",
         "y": [
          8.5
         ],
         "yaxis": "y"
        },
        {
         "hovertemplate": "bowlerName=AbhishekSharma<br>Wickets=%{x}<br>Economy Rate=%{y}<extra></extra>",
         "legendgroup": "AbhishekSharma",
         "marker": {
          "color": "#EF553B",
          "symbol": "circle"
         },
         "mode": "markers",
         "name": "AbhishekSharma",
         "orientation": "v",
         "showlegend": true,
         "type": "scatter",
         "x": [
          6
         ],
         "xaxis": "x",
         "y": [
          8.48
         ],
         "yaxis": "y"
        },
        {
         "hovertemplate": "bowlerName=AdamMilne<br>Wickets=%{x}<br>Economy Rate=%{y}<extra></extra>",
         "legendgroup": "AdamMilne",
         "marker": {
          "color": "#00cc96",
          "symbol": "circle"
         },
         "mode": "markers",
         "name": "AdamMilne",
         "orientation": "v",
         "showlegend": true,
         "type": "scatter",
         "x": [
          3
         ],
         "xaxis": "x",
         "y": [
          9.202453987730062
         ],
         "yaxis": "y"
        },
        {
         "hovertemplate": "bowlerName=AdamZampa<br>Wickets=%{x}<br>Economy Rate=%{y}<extra></extra>",
         "legendgroup": "AdamZampa",
         "marker": {
          "color": "#ab63fa",
          "symbol": "circle"
         },
         "mode": "markers",
         "name": "AdamZampa",
         "orientation": "v",
         "showlegend": true,
         "type": "scatter",
         "x": [
          8
         ],
         "xaxis": "x",
         "y": [
          8.545454545454545
         ],
         "yaxis": "y"
        },
        {
         "hovertemplate": "bowlerName=AdilRashid<br>Wickets=%{x}<br>Economy Rate=%{y}<extra></extra>",
         "legendgroup": "AdilRashid",
         "marker": {
          "color": "#FFA15A",
          "symbol": "circle"
         },
         "mode": "markers",
         "name": "AdilRashid",
         "orientation": "v",
         "showlegend": true,
         "type": "scatter",
         "x": [
          2
         ],
         "xaxis": "x",
         "y": [
          9.1
         ],
         "yaxis": "y"
        },
        {
         "hovertemplate": "bowlerName=AidenMarkram<br>Wickets=%{x}<br>Economy Rate=%{y}<extra></extra>",
         "legendgroup": "AidenMarkram",
         "marker": {
          "color": "#19d3f3",
          "symbol": "circle"
         },
         "mode": "markers",
         "name": "AidenMarkram",
         "orientation": "v",
         "showlegend": true,
         "type": "scatter",
         "x": [
          2
         ],
         "xaxis": "x",
         "y": [
          8.674033149171272
         ],
         "yaxis": "y"
        },
        {
         "hovertemplate": "bowlerName=AkashDeep<br>Wickets=%{x}<br>Economy Rate=%{y}<extra></extra>",
         "legendgroup": "AkashDeep",
         "marker": {
          "color": "#FF6692",
          "symbol": "circle"
         },
         "mode": "markers",
         "name": "AkashDeep",
         "orientation": "v",
         "showlegend": true,
         "type": "scatter",
         "x": [
          6
         ],
         "xaxis": "x",
         "y": [
          11.23404255319149
         ],
         "yaxis": "y"
        },
        {
         "hovertemplate": "bowlerName=AkashMadhwal<br>Wickets=%{x}<br>Economy Rate=%{y}<extra></extra>",
         "legendgroup": "AkashMadhwal",
         "marker": {
          "color": "#B6E880",
          "symbol": "circle"
         },
         "mode": "markers",
         "name": "AkashMadhwal",
         "orientation": "v",
         "showlegend": true,
         "type": "scatter",
         "x": [
          14
         ],
         "xaxis": "x",
         "y": [
          8.656126482213438
         ],
         "yaxis": "y"
        },
        {
         "hovertemplate": "bowlerName=AkashSingh<br>Wickets=%{x}<br>Economy Rate=%{y}<extra></extra>",
         "legendgroup": "AkashSingh",
         "marker": {
          "color": "#FF97FF",
          "symbol": "circle"
         },
         "mode": "markers",
         "name": "AkashSingh",
         "orientation": "v",
         "showlegend": true,
         "type": "scatter",
         "x": [
          5
         ],
         "xaxis": "x",
         "y": [
          9.869565217391305
         ],
         "yaxis": "y"
        },
        {
         "hovertemplate": "bowlerName=AkealHosein<br>Wickets=%{x}<br>Economy Rate=%{y}<extra></extra>",
         "legendgroup": "AkealHosein",
         "marker": {
          "color": "#FECB52",
          "symbol": "circle"
         },
         "mode": "markers",
         "name": "AkealHosein",
         "orientation": "v",
         "showlegend": true,
         "type": "scatter",
         "x": [
          1
         ],
         "xaxis": "x",
         "y": [
          10
         ],
         "yaxis": "y"
        },
        {
         "hovertemplate": "bowlerName=AlzarriJoseph<br>Wickets=%{x}<br>Economy Rate=%{y}<extra></extra>",
         "legendgroup": "AlzarriJoseph",
         "marker": {
          "color": "#636efa",
          "symbol": "circle"
         },
         "mode": "markers",
         "name": "AlzarriJoseph",
         "orientation": "v",
         "showlegend": true,
         "type": "scatter",
         "x": [
          14
         ],
         "xaxis": "x",
         "y": [
          9.055555555555555
         ],
         "yaxis": "y"
        },
        {
         "hovertemplate": "bowlerName=AmanHakimKhan<br>Wickets=%{x}<br>Economy Rate=%{y}<extra></extra>",
         "legendgroup": "AmanHakimKhan",
         "marker": {
          "color": "#EF553B",
          "symbol": "circle"
         },
         "mode": "markers",
         "name": "AmanHakimKhan",
         "orientation": "v",
         "showlegend": true,
         "type": "scatter",
         "x": [
          0
         ],
         "xaxis": "x",
         "y": [
          13
         ],
         "yaxis": "y"
        },
        {
         "hovertemplate": "bowlerName=AmitMishra<br>Wickets=%{x}<br>Economy Rate=%{y}<extra></extra>",
         "legendgroup": "AmitMishra",
         "marker": {
          "color": "#00cc96",
          "symbol": "circle"
         },
         "mode": "markers",
         "name": "AmitMishra",
         "orientation": "v",
         "showlegend": true,
         "type": "scatter",
         "x": [
          12
         ],
         "xaxis": "x",
         "y": [
          7.827586206896552
         ],
         "yaxis": "y"
        },
        {
         "hovertemplate": "bowlerName=AndreRussell<br>Wickets=%{x}<br>Economy Rate=%{y}<extra></extra>",
         "legendgroup": "AndreRussell",
         "marker": {
          "color": "#ab63fa",
          "symbol": "circle"
         },
         "mode": "markers",
         "name": "AndreRussell",
         "orientation": "v",
         "showlegend": true,
         "type": "scatter",
         "x": [
          35
         ],
         "xaxis": "x",
         "y": [
          10.323624595469255
         ],
         "yaxis": "y"
        },
        {
         "hovertemplate": "bowlerName=AndrewTye<br>Wickets=%{x}<br>Economy Rate=%{y}<extra></extra>",
         "legendgroup": "AndrewTye",
         "marker": {
          "color": "#FFA15A",
          "symbol": "circle"
         },
         "mode": "markers",
         "name": "AndrewTye",
         "orientation": "v",
         "showlegend": true,
         "type": "scatter",
         "x": [
          2
         ],
         "xaxis": "x",
         "y": [
          9.727272727272727
         ],
         "yaxis": "y"
        },
        {
         "hovertemplate": "bowlerName=AnrichNortje<br>Wickets=%{x}<br>Economy Rate=%{y}<extra></extra>",
         "legendgroup": "AnrichNortje",
         "marker": {
          "color": "#19d3f3",
          "symbol": "circle"
         },
         "mode": "markers",
         "name": "AnrichNortje",
         "orientation": "v",
         "showlegend": true,
         "type": "scatter",
         "x": [
          31
         ],
         "xaxis": "x",
         "y": [
          8.311688311688313
         ],
         "yaxis": "y"
        },
        {
         "hovertemplate": "bowlerName=AnukulRoy<br>Wickets=%{x}<br>Economy Rate=%{y}<extra></extra>",
         "legendgroup": "AnukulRoy",
         "marker": {
          "color": "#FF6692",
          "symbol": "circle"
         },
         "mode": "markers",
         "name": "AnukulRoy",
         "orientation": "v",
         "showlegend": true,
         "type": "scatter",
         "x": [
          4
         ],
         "xaxis": "x",
         "y": [
          8
         ],
         "yaxis": "y"
        },
        {
         "hovertemplate": "bowlerName=ArjunTendulkar<br>Wickets=%{x}<br>Economy Rate=%{y}<extra></extra>",
         "legendgroup": "ArjunTendulkar",
         "marker": {
          "color": "#B6E880",
          "symbol": "circle"
         },
         "mode": "markers",
         "name": "ArjunTendulkar",
         "orientation": "v",
         "showlegend": true,
         "type": "scatter",
         "x": [
          3
         ],
         "xaxis": "x",
         "y": [
          9.68421052631579
         ],
         "yaxis": "y"
        },
        {
         "hovertemplate": "bowlerName=ArshadKhan<br>Wickets=%{x}<br>Economy Rate=%{y}<extra></extra>",
         "legendgroup": "ArshadKhan",
         "marker": {
          "color": "#FF97FF",
          "symbol": "circle"
         },
         "mode": "markers",
         "name": "ArshadKhan",
         "orientation": "v",
         "showlegend": true,
         "type": "scatter",
         "x": [
          5
         ],
         "xaxis": "x",
         "y": [
          13.86861313868613
         ],
         "yaxis": "y"
        },
        {
         "hovertemplate": "bowlerName=ArshdeepSingh<br>Wickets=%{x}<br>Economy Rate=%{y}<extra></extra>",
         "legendgroup": "ArshdeepSingh",
         "marker": {
          "color": "#FECB52",
          "symbol": "circle"
         },
         "mode": "markers",
         "name": "ArshdeepSingh",
         "orientation": "v",
         "showlegend": true,
         "type": "scatter",
         "x": [
          45
         ],
         "xaxis": "x",
         "y": [
          8.634111818825195
         ],
         "yaxis": "y"
        },
        {
         "hovertemplate": "bowlerName=AveshKhan<br>Wickets=%{x}<br>Economy Rate=%{y}<extra></extra>",
         "legendgroup": "AveshKhan",
         "marker": {
          "color": "#636efa",
          "symbol": "circle"
         },
         "mode": "markers",
         "name": "AveshKhan",
         "orientation": "v",
         "showlegend": true,
         "type": "scatter",
         "x": [
          47
         ],
         "xaxis": "x",
         "y": [
          8.358320839580209
         ],
         "yaxis": "y"
        },
        {
         "hovertemplate": "bowlerName=AxarPatel<br>Wickets=%{x}<br>Economy Rate=%{y}<extra></extra>",
         "legendgroup": "AxarPatel",
         "marker": {
          "color": "#EF553B",
          "symbol": "circle"
         },
         "mode": "markers",
         "name": "AxarPatel",
         "orientation": "v",
         "showlegend": true,
         "type": "scatter",
         "x": [
          30
         ],
         "xaxis": "x",
         "y": [
          7.113636363636363
         ],
         "yaxis": "y"
        },
        {
         "hovertemplate": "bowlerName=AyushBadoni<br>Wickets=%{x}<br>Economy Rate=%{y}<extra></extra>",
         "legendgroup": "AyushBadoni",
         "marker": {
          "color": "#00cc96",
          "symbol": "circle"
         },
         "mode": "markers",
         "name": "AyushBadoni",
         "orientation": "v",
         "showlegend": true,
         "type": "scatter",
         "x": [
          2
         ],
         "xaxis": "x",
         "y": [
          5.238095238095238
         ],
         "yaxis": "y"
        },
        {
         "hovertemplate": "bowlerName=BasilThampi<br>Wickets=%{x}<br>Economy Rate=%{y}<extra></extra>",
         "legendgroup": "BasilThampi",
         "marker": {
          "color": "#ab63fa",
          "symbol": "circle"
         },
         "mode": "markers",
         "name": "BasilThampi",
         "orientation": "v",
         "showlegend": true,
         "type": "scatter",
         "x": [
          5
         ],
         "xaxis": "x",
         "y": [
          9.5
         ],
         "yaxis": "y"
        },
        {
         "hovertemplate": "bowlerName=BenStokes<br>Wickets=%{x}<br>Economy Rate=%{y}<extra></extra>",
         "legendgroup": "BenStokes",
         "marker": {
          "color": "#FFA15A",
          "symbol": "circle"
         },
         "mode": "markers",
         "name": "BenStokes",
         "orientation": "v",
         "showlegend": true,
         "type": "scatter",
         "x": [
          0
         ],
         "xaxis": "x",
         "y": [
          15
         ],
         "yaxis": "y"
        },
        {
         "hovertemplate": "bowlerName=BhuvneshwarKumar<br>Wickets=%{x}<br>Economy Rate=%{y}<extra></extra>",
         "legendgroup": "BhuvneshwarKumar",
         "marker": {
          "color": "#19d3f3",
          "symbol": "circle"
         },
         "mode": "markers",
         "name": "BhuvneshwarKumar",
         "orientation": "v",
         "showlegend": true,
         "type": "scatter",
         "x": [
          34
         ],
         "xaxis": "x",
         "y": [
          7.877325982081324
         ],
         "yaxis": "y"
        },
        {
         "hovertemplate": "bowlerName=CameronGreen<br>Wickets=%{x}<br>Economy Rate=%{y}<extra></extra>",
         "legendgroup": "CameronGreen",
         "marker": {
          "color": "#FF6692",
          "symbol": "circle"
         },
         "mode": "markers",
         "name": "CameronGreen",
         "orientation": "v",
         "showlegend": true,
         "type": "scatter",
         "x": [
          6
         ],
         "xaxis": "x",
         "y": [
          9.5
         ],
         "yaxis": "y"
        },
        {
         "hovertemplate": "bowlerName=ChetanSakariya<br>Wickets=%{x}<br>Economy Rate=%{y}<extra></extra>",
         "legendgroup": "ChetanSakariya",
         "marker": {
          "color": "#B6E880",
          "symbol": "circle"
         },
         "mode": "markers",
         "name": "ChetanSakariya",
         "orientation": "v",
         "showlegend": true,
         "type": "scatter",
         "x": [
          20
         ],
         "xaxis": "x",
         "y": [
          8.43661971830986
         ],
         "yaxis": "y"
        },
        {
         "hovertemplate": "bowlerName=ChrisJordan<br>Wickets=%{x}<br>Economy Rate=%{y}<extra></extra>",
         "legendgroup": "ChrisJordan",
         "marker": {
          "color": "#FF97FF",
          "symbol": "circle"
         },
         "mode": "markers",
         "name": "ChrisJordan",
         "orientation": "v",
         "showlegend": true,
         "type": "scatter",
         "x": [
          9
         ],
         "xaxis": "x",
         "y": [
          10.064516129032258
         ],
         "yaxis": "y"
        },
        {
         "hovertemplate": "bowlerName=ChrisMorris<br>Wickets=%{x}<br>Economy Rate=%{y}<extra></extra>",
         "legendgroup": "ChrisMorris",
         "marker": {
          "color": "#FECB52",
          "symbol": "circle"
         },
         "mode": "markers",
         "name": "ChrisMorris",
         "orientation": "v",
         "showlegend": true,
         "type": "scatter",
         "x": [
          15
         ],
         "xaxis": "x",
         "y": [
          9.170731707317072
         ],
         "yaxis": "y"
        },
        {
         "hovertemplate": "bowlerName=ChrisWoakes<br>Wickets=%{x}<br>Economy Rate=%{y}<extra></extra>",
         "legendgroup": "ChrisWoakes",
         "marker": {
          "color": "#636efa",
          "symbol": "circle"
         },
         "mode": "markers",
         "name": "ChrisWoakes",
         "orientation": "v",
         "showlegend": true,
         "type": "scatter",
         "x": [
          5
         ],
         "xaxis": "x",
         "y": [
          7.454545454545454
         ],
         "yaxis": "y"
        },
        {
         "hovertemplate": "bowlerName=DanChristian<br>Wickets=%{x}<br>Economy Rate=%{y}<extra></extra>",
         "legendgroup": "DanChristian",
         "marker": {
          "color": "#EF553B",
          "symbol": "circle"
         },
         "mode": "markers",
         "name": "DanChristian",
         "orientation": "v",
         "showlegend": true,
         "type": "scatter",
         "x": [
          4
         ],
         "xaxis": "x",
         "y": [
          9.45121951219512
         ],
         "yaxis": "y"
        },
        {
         "hovertemplate": "bowlerName=DanielSams<br>Wickets=%{x}<br>Economy Rate=%{y}<extra></extra>",
         "legendgroup": "DanielSams",
         "marker": {
          "color": "#00cc96",
          "symbol": "circle"
         },
         "mode": "markers",
         "name": "DanielSams",
         "orientation": "v",
         "showlegend": true,
         "type": "scatter",
         "x": [
          14
         ],
         "xaxis": "x",
         "y": [
          8.520833333333334
         ],
         "yaxis": "y"
        },
        {
         "hovertemplate": "bowlerName=DarshanNalkande<br>Wickets=%{x}<br>Economy Rate=%{y}<extra></extra>",
         "legendgroup": "DarshanNalkande",
         "marker": {
          "color": "#ab63fa",
          "symbol": "circle"
         },
         "mode": "markers",
         "name": "DarshanNalkande",
         "orientation": "v",
         "showlegend": true,
         "type": "scatter",
         "x": [
          3
         ],
         "xaxis": "x",
         "y": [
          11.31868131868132
         ],
         "yaxis": "y"
        },
        {
         "hovertemplate": "bowlerName=DarylMitchell<br>Wickets=%{x}<br>Economy Rate=%{y}<extra></extra>",
         "legendgroup": "DarylMitchell",
         "marker": {
          "color": "#FFA15A",
          "symbol": "circle"
         },
         "mode": "markers",
         "name": "DarylMitchell",
         "orientation": "v",
         "showlegend": true,
         "type": "scatter",
         "x": [
          0
         ],
         "xaxis": "x",
         "y": [
          13.5
         ],
         "yaxis": "y"
        },
        {
         "hovertemplate": "bowlerName=DavidWiese<br>Wickets=%{x}<br>Economy Rate=%{y}<extra></extra>",
         "legendgroup": "DavidWiese",
         "marker": {
          "color": "#19d3f3",
          "symbol": "circle"
         },
         "mode": "markers",
         "name": "DavidWiese",
         "orientation": "v",
         "showlegend": true,
         "type": "scatter",
         "x": [
          0
         ],
         "xaxis": "x",
         "y": [
          12.666666666666666
         ],
         "yaxis": "y"
        },
        {
         "hovertemplate": "bowlerName=DavidWilley<br>Wickets=%{x}<br>Economy Rate=%{y}<extra></extra>",
         "legendgroup": "DavidWilley",
         "marker": {
          "color": "#FF6692",
          "symbol": "circle"
         },
         "mode": "markers",
         "name": "DavidWilley",
         "orientation": "v",
         "showlegend": true,
         "type": "scatter",
         "x": [
          4
         ],
         "xaxis": "x",
         "y": [
          6.8076923076923075
         ],
         "yaxis": "y"
        },
        {
         "hovertemplate": "bowlerName=DeepakChahar<br>Wickets=%{x}<br>Economy Rate=%{y}<extra></extra>",
         "legendgroup": "DeepakChahar",
         "marker": {
          "color": "#B6E880",
          "symbol": "circle"
         },
         "mode": "markers",
         "name": "DeepakChahar",
         "orientation": "v",
         "showlegend": true,
         "type": "scatter",
         "x": [
          27
         ],
         "xaxis": "x",
         "y": [
          8.416666666666666
         ],
         "yaxis": "y"
        },
        {
         "hovertemplate": "bowlerName=DeepakHooda<br>Wickets=%{x}<br>Economy Rate=%{y}<extra></extra>",
         "legendgroup": "DeepakHooda",
         "marker": {
          "color": "#FF97FF",
          "symbol": "circle"
         },
         "mode": "markers",
         "name": "DeepakHooda",
         "orientation": "v",
         "showlegend": true,
         "type": "scatter",
         "x": [
          3
         ],
         "xaxis": "x",
         "y": [
          8.904761904761905
         ],
         "yaxis": "y"
        },
        {
         "hovertemplate": "bowlerName=DewaldBrevis<br>Wickets=%{x}<br>Economy Rate=%{y}<extra></extra>",
         "legendgroup": "DewaldBrevis",
         "marker": {
          "color": "#FECB52",
          "symbol": "circle"
         },
         "mode": "markers",
         "name": "DewaldBrevis",
         "orientation": "v",
         "showlegend": true,
         "type": "scatter",
         "x": [
          1
         ],
         "xaxis": "x",
         "y": [
          26.666666666666668
         ],
         "yaxis": "y"
        },
        {
         "hovertemplate": "bowlerName=DhawalKulkarni<br>Wickets=%{x}<br>Economy Rate=%{y}<extra></extra>",
         "legendgroup": "DhawalKulkarni",
         "marker": {
          "color": "#636efa",
          "symbol": "circle"
         },
         "mode": "markers",
         "name": "DhawalKulkarni",
         "orientation": "v",
         "showlegend": true,
         "type": "scatter",
         "x": [
          0
         ],
         "xaxis": "x",
         "y": [
          12
         ],
         "yaxis": "y"
        },
        {
         "hovertemplate": "bowlerName=DuanJansen<br>Wickets=%{x}<br>Economy Rate=%{y}<extra></extra>",
         "legendgroup": "DuanJansen",
         "marker": {
          "color": "#EF553B",
          "symbol": "circle"
         },
         "mode": "markers",
         "name": "DuanJansen",
         "orientation": "v",
         "showlegend": true,
         "type": "scatter",
         "x": [
          1
         ],
         "xaxis": "x",
         "y": [
          13.25
         ],
         "yaxis": "y"
        },
        {
         "hovertemplate": "bowlerName=DushmanthaChameera<br>Wickets=%{x}<br>Economy Rate=%{y}<extra></extra>",
         "legendgroup": "DushmanthaChameera",
         "marker": {
          "color": "#00cc96",
          "symbol": "circle"
         },
         "mode": "markers",
         "name": "DushmanthaChameera",
         "orientation": "v",
         "showlegend": true,
         "type": "scatter",
         "x": [
          9
         ],
         "xaxis": "x",
         "y": [
          8.727272727272727
         ],
         "yaxis": "y"
        },
        {
         "hovertemplate": "bowlerName=DwainePretorius<br>Wickets=%{x}<br>Economy Rate=%{y}<extra></extra>",
         "legendgroup": "DwainePretorius",
         "marker": {
          "color": "#ab63fa",
          "symbol": "circle"
         },
         "mode": "markers",
         "name": "DwainePretorius",
         "orientation": "v",
         "showlegend": true,
         "type": "scatter",
         "x": [
          6
         ],
         "xaxis": "x",
         "y": [
          9.52
         ],
         "yaxis": "y"
        },
        {
         "hovertemplate": "bowlerName=DwayneBravo<br>Wickets=%{x}<br>Economy Rate=%{y}<extra></extra>",
         "legendgroup": "DwayneBravo",
         "marker": {
          "color": "#FFA15A",
          "symbol": "circle"
         },
         "mode": "markers",
         "name": "DwayneBravo",
         "orientation": "v",
         "showlegend": true,
         "type": "scatter",
         "x": [
          30
         ],
         "xaxis": "x",
         "y": [
          8.363095238095237
         ],
         "yaxis": "y"
        },
        {
         "hovertemplate": "bowlerName=FabianAllen<br>Wickets=%{x}<br>Economy Rate=%{y}<extra></extra>",
         "legendgroup": "FabianAllen",
         "marker": {
          "color": "#19d3f3",
          "symbol": "circle"
         },
         "mode": "markers",
         "name": "FabianAllen",
         "orientation": "v",
         "showlegend": true,
         "type": "scatter",
         "x": [
          2
         ],
         "xaxis": "x",
         "y": [
          9.066666666666666
         ],
         "yaxis": "y"
        },
        {
         "hovertemplate": "bowlerName=FazalhaqFarooqi<br>Wickets=%{x}<br>Economy Rate=%{y}<extra></extra>",
         "legendgroup": "FazalhaqFarooqi",
         "marker": {
          "color": "#FF6692",
          "symbol": "circle"
         },
         "mode": "markers",
         "name": "FazalhaqFarooqi",
         "orientation": "v",
         "showlegend": true,
         "type": "scatter",
         "x": [
          6
         ],
         "xaxis": "x",
         "y": [
          9.007936507936508
         ],
         "yaxis": "y"
        },
        {
         "hovertemplate": "bowlerName=GeorgeGarton<br>Wickets=%{x}<br>Economy Rate=%{y}<extra></extra>",
         "legendgroup": "GeorgeGarton",
         "marker": {
          "color": "#B6E880",
          "symbol": "circle"
         },
         "mode": "markers",
         "name": "GeorgeGarton",
         "orientation": "v",
         "showlegend": true,
         "type": "scatter",
         "x": [
          3
         ],
         "xaxis": "x",
         "y": [
          9
         ],
         "yaxis": "y"
        },
        {
         "hovertemplate": "bowlerName=GlennMaxwell<br>Wickets=%{x}<br>Economy Rate=%{y}<extra></extra>",
         "legendgroup": "GlennMaxwell",
         "marker": {
          "color": "#FF97FF",
          "symbol": "circle"
         },
         "mode": "markers",
         "name": "GlennMaxwell",
         "orientation": "v",
         "showlegend": true,
         "type": "scatter",
         "x": [
          12
         ],
         "xaxis": "x",
         "y": [
          7.91164658634538
         ],
         "yaxis": "y"
        },
        {
         "hovertemplate": "bowlerName=GlennPhillips<br>Wickets=%{x}<br>Economy Rate=%{y}<extra></extra>",
         "legendgroup": "GlennPhillips",
         "marker": {
          "color": "#FECB52",
          "symbol": "circle"
         },
         "mode": "markers",
         "name": "GlennPhillips",
         "orientation": "v",
         "showlegend": true,
         "type": "scatter",
         "x": [
          2
         ],
         "xaxis": "x",
         "y": [
          8
         ],
         "yaxis": "y"
        },
        {
         "hovertemplate": "bowlerName=GurnoorBrar<br>Wickets=%{x}<br>Economy Rate=%{y}<extra></extra>",
         "legendgroup": "GurnoorBrar",
         "marker": {
          "color": "#636efa",
          "symbol": "circle"
         },
         "mode": "markers",
         "name": "GurnoorBrar",
         "orientation": "v",
         "showlegend": true,
         "type": "scatter",
         "x": [
          0
         ],
         "xaxis": "x",
         "y": [
          14
         ],
         "yaxis": "y"
        },
        {
         "hovertemplate": "bowlerName=HarbhajanSingh<br>Wickets=%{x}<br>Economy Rate=%{y}<extra></extra>",
         "legendgroup": "HarbhajanSingh",
         "marker": {
          "color": "#EF553B",
          "symbol": "circle"
         },
         "mode": "markers",
         "name": "HarbhajanSingh",
         "orientation": "v",
         "showlegend": true,
         "type": "scatter",
         "x": [
          0
         ],
         "xaxis": "x",
         "y": [
          9
         ],
         "yaxis": "y"
        },
        {
         "hovertemplate": "bowlerName=HardikPandya<br>Wickets=%{x}<br>Economy Rate=%{y}<extra></extra>",
         "legendgroup": "HardikPandya",
         "marker": {
          "color": "#00cc96",
          "symbol": "circle"
         },
         "mode": "markers",
         "name": "HardikPandya",
         "orientation": "v",
         "showlegend": true,
         "type": "scatter",
         "x": [
          11
         ],
         "xaxis": "x",
         "y": [
          8.137432188065098
         ],
         "yaxis": "y"
        },
        {
         "hovertemplate": "bowlerName=HarpreetBrar<br>Wickets=%{x}<br>Economy Rate=%{y}<extra></extra>",
         "legendgroup": "HarpreetBrar",
         "marker": {
          "color": "#ab63fa",
          "symbol": "circle"
         },
         "mode": "markers",
         "name": "HarpreetBrar",
         "orientation": "v",
         "showlegend": true,
         "type": "scatter",
         "x": [
          18
         ],
         "xaxis": "x",
         "y": [
          7.609682299546141
         ],
         "yaxis": "y"
        },
        {
         "hovertemplate": "bowlerName=HarshalPatel<br>Wickets=%{x}<br>Economy Rate=%{y}<extra></extra>",
         "legendgroup": "HarshalPatel",
         "marker": {
          "color": "#FFA15A",
          "symbol": "circle"
         },
         "mode": "markers",
         "name": "HarshalPatel",
         "orientation": "v",
         "showlegend": true,
         "type": "scatter",
         "x": [
          65
         ],
         "xaxis": "x",
         "y": [
          8.497109826589595
         ],
         "yaxis": "y"
        },
        {
         "hovertemplate": "bowlerName=HarshitRana<br>Wickets=%{x}<br>Economy Rate=%{y}<extra></extra>",
         "legendgroup": "HarshitRana",
         "marker": {
          "color": "#19d3f3",
          "symbol": "circle"
         },
         "mode": "markers",
         "name": "HarshitRana",
         "orientation": "v",
         "showlegend": true,
         "type": "scatter",
         "x": [
          6
         ],
         "xaxis": "x",
         "y": [
          9
         ],
         "yaxis": "y"
        },
        {
         "hovertemplate": "bowlerName=HimanshuSharma<br>Wickets=%{x}<br>Economy Rate=%{y}<extra></extra>",
         "legendgroup": "HimanshuSharma",
         "marker": {
          "color": "#FF6692",
          "symbol": "circle"
         },
         "mode": "markers",
         "name": "HimanshuSharma",
         "orientation": "v",
         "showlegend": true,
         "type": "scatter",
         "x": [
          0
         ],
         "xaxis": "x",
         "y": [
          9.333333333333334
         ],
         "yaxis": "y"
        },
        {
         "hovertemplate": "bowlerName=HrithikShokeen<br>Wickets=%{x}<br>Economy Rate=%{y}<extra></extra>",
         "legendgroup": "HrithikShokeen",
         "marker": {
          "color": "#B6E880",
          "symbol": "circle"
         },
         "mode": "markers",
         "name": "HrithikShokeen",
         "orientation": "v",
         "showlegend": true,
         "type": "scatter",
         "x": [
          5
         ],
         "xaxis": "x",
         "y": [
          9.235294117647058
         ],
         "yaxis": "y"
        },
        {
         "hovertemplate": "bowlerName=ImranTahir<br>Wickets=%{x}<br>Economy Rate=%{y}<extra></extra>",
         "legendgroup": "ImranTahir",
         "marker": {
          "color": "#FF97FF",
          "symbol": "circle"
         },
         "mode": "markers",
         "name": "ImranTahir",
         "orientation": "v",
         "showlegend": true,
         "type": "scatter",
         "x": [
          2
         ],
         "xaxis": "x",
         "y": [
          4
         ],
         "yaxis": "y"
        },
        {
         "hovertemplate": "bowlerName=IshanPorel<br>Wickets=%{x}<br>Economy Rate=%{y}<extra></extra>",
         "legendgroup": "IshanPorel",
         "marker": {
          "color": "#FECB52",
          "symbol": "circle"
         },
         "mode": "markers",
         "name": "IshanPorel",
         "orientation": "v",
         "showlegend": true,
         "type": "scatter",
         "x": [
          1
         ],
         "xaxis": "x",
         "y": [
          9.75
         ],
         "yaxis": "y"
        },
        {
         "hovertemplate": "bowlerName=IshantSharma<br>Wickets=%{x}<br>Economy Rate=%{y}<extra></extra>",
         "legendgroup": "IshantSharma",
         "marker": {
          "color": "#636efa",
          "symbol": "circle"
         },
         "mode": "markers",
         "name": "IshantSharma",
         "orientation": "v",
         "showlegend": true,
         "type": "scatter",
         "x": [
          11
         ],
         "xaxis": "x",
         "y": [
          8.18918918918919
         ],
         "yaxis": "y"
        },
        {
         "hovertemplate": "bowlerName=JagadeeshaSuchith<br>Wickets=%{x}<br>Economy Rate=%{y}<extra></extra>",
         "legendgroup": "JagadeeshaSuchith",
         "marker": {
          "color": "#EF553B",
          "symbol": "circle"
         },
         "mode": "markers",
         "name": "JagadeeshaSuchith",
         "orientation": "v",
         "showlegend": true,
         "type": "scatter",
         "x": [
          7
         ],
         "xaxis": "x",
         "y": [
          8.80952380952381
         ],
         "yaxis": "y"
        },
        {
         "hovertemplate": "bowlerName=JalajSaxena<br>Wickets=%{x}<br>Economy Rate=%{y}<extra></extra>",
         "legendgroup": "JalajSaxena",
         "marker": {
          "color": "#00cc96",
          "symbol": "circle"
         },
         "mode": "markers",
         "name": "JalajSaxena",
         "orientation": "v",
         "showlegend": true,
         "type": "scatter",
         "x": [
          0
         ],
         "xaxis": "x",
         "y": [
          9
         ],
         "yaxis": "y"
        },
        {
         "hovertemplate": "bowlerName=JamesNeesham<br>Wickets=%{x}<br>Economy Rate=%{y}<extra></extra>",
         "legendgroup": "JamesNeesham",
         "marker": {
          "color": "#ab63fa",
          "symbol": "circle"
         },
         "mode": "markers",
         "name": "JamesNeesham",
         "orientation": "v",
         "showlegend": true,
         "type": "scatter",
         "x": [
          5
         ],
         "xaxis": "x",
         "y": [
          7.916666666666667
         ],
         "yaxis": "y"
        },
        {
         "hovertemplate": "bowlerName=JasonBehrendorff<br>Wickets=%{x}<br>Economy Rate=%{y}<extra></extra>",
         "legendgroup": "JasonBehrendorff",
         "marker": {
          "color": "#FFA15A",
          "symbol": "circle"
         },
         "mode": "markers",
         "name": "JasonBehrendorff",
         "orientation": "v",
         "showlegend": true,
         "type": "scatter",
         "x": [
          14
         ],
         "xaxis": "x",
         "y": [
          9.214285714285714
         ],
         "yaxis": "y"
        },
        {
         "hovertemplate": "bowlerName=JasonHolder<br>Wickets=%{x}<br>Economy Rate=%{y}<extra></extra>",
         "legendgroup": "JasonHolder",
         "marker": {
          "color": "#19d3f3",
          "symbol": "circle"
         },
         "mode": "markers",
         "name": "JasonHolder",
         "orientation": "v",
         "showlegend": true,
         "type": "scatter",
         "x": [
          34
         ],
         "xaxis": "x",
         "y": [
          9.119683481701285
         ],
         "yaxis": "y"
        },
        {
         "hovertemplate": "bowlerName=JaspritBumrah<br>Wickets=%{x}<br>Economy Rate=%{y}<extra></extra>",
         "legendgroup": "JaspritBumrah",
         "marker": {
          "color": "#FF6692",
          "symbol": "circle"
         },
         "mode": "markers",
         "name": "JaspritBumrah",
         "orientation": "v",
         "showlegend": true,
         "type": "scatter",
         "x": [
          36
         ],
         "xaxis": "x",
         "y": [
          7.3290203327171906
         ],
         "yaxis": "y"
        },
        {
         "hovertemplate": "bowlerName=JayantYadav<br>Wickets=%{x}<br>Economy Rate=%{y}<extra></extra>",
         "legendgroup": "JayantYadav",
         "marker": {
          "color": "#B6E880",
          "symbol": "circle"
         },
         "mode": "markers",
         "name": "JayantYadav",
         "orientation": "v",
         "showlegend": true,
         "type": "scatter",
         "x": [
          2
         ],
         "xaxis": "x",
         "y": [
          7.428571428571429
         ],
         "yaxis": "y"
        },
        {
         "hovertemplate": "bowlerName=JaydevUnadkat<br>Wickets=%{x}<br>Economy Rate=%{y}<extra></extra>",
         "legendgroup": "JaydevUnadkat",
         "marker": {
          "color": "#FF97FF",
          "symbol": "circle"
         },
         "mode": "markers",
         "name": "JaydevUnadkat",
         "orientation": "v",
         "showlegend": true,
         "type": "scatter",
         "x": [
          10
         ],
         "xaxis": "x",
         "y": [
          9
         ],
         "yaxis": "y"
        },
        {
         "hovertemplate": "bowlerName=JhyeRichardson<br>Wickets=%{x}<br>Economy Rate=%{y}<extra></extra>",
         "legendgroup": "JhyeRichardson",
         "marker": {
          "color": "#FECB52",
          "symbol": "circle"
         },
         "mode": "markers",
         "name": "JhyeRichardson",
         "orientation": "v",
         "showlegend": true,
         "type": "scatter",
         "x": [
          3
         ],
         "xaxis": "x",
         "y": [
          10.636363636363637
         ],
         "yaxis": "y"
        },
        {
         "hovertemplate": "bowlerName=JoeRoot<br>Wickets=%{x}<br>Economy Rate=%{y}<extra></extra>",
         "legendgroup": "JoeRoot",
         "marker": {
          "color": "#636efa",
          "symbol": "circle"
         },
         "mode": "markers",
         "name": "JoeRoot",
         "orientation": "v",
         "showlegend": true,
         "type": "scatter",
         "x": [
          0
         ],
         "xaxis": "x",
         "y": [
          7
         ],
         "yaxis": "y"
        },
        {
         "hovertemplate": "bowlerName=JofraArcher<br>Wickets=%{x}<br>Economy Rate=%{y}<extra></extra>",
         "legendgroup": "JofraArcher",
         "marker": {
          "color": "#EF553B",
          "symbol": "circle"
         },
         "mode": "markers",
         "name": "JofraArcher",
         "orientation": "v",
         "showlegend": true,
         "type": "scatter",
         "x": [
          2
         ],
         "xaxis": "x",
         "y": [
          9.5
         ],
         "yaxis": "y"
        },
        {
         "hovertemplate": "bowlerName=JoshHazlewood<br>Wickets=%{x}<br>Economy Rate=%{y}<extra></extra>",
         "legendgroup": "JoshHazlewood",
         "marker": {
          "color": "#00cc96",
          "symbol": "circle"
         },
         "mode": "markers",
         "name": "JoshHazlewood",
         "orientation": "v",
         "showlegend": true,
         "type": "scatter",
         "x": [
          34
         ],
         "xaxis": "x",
         "y": [
          8.261351052048727
         ],
         "yaxis": "y"
        },
        {
         "hovertemplate": "bowlerName=JoshLittle<br>Wickets=%{x}<br>Economy Rate=%{y}<extra></extra>",
         "legendgroup": "JoshLittle",
         "marker": {
          "color": "#ab63fa",
          "symbol": "circle"
         },
         "mode": "markers",
         "name": "JoshLittle",
         "orientation": "v",
         "showlegend": true,
         "type": "scatter",
         "x": [
          7
         ],
         "xaxis": "x",
         "y": [
          8.647058823529411
         ],
         "yaxis": "y"
        },
        {
         "hovertemplate": "bowlerName=KMAsif<br>Wickets=%{x}<br>Economy Rate=%{y}<extra></extra>",
         "legendgroup": "KMAsif",
         "marker": {
          "color": "#FFA15A",
          "symbol": "circle"
         },
         "mode": "markers",
         "name": "KMAsif",
         "orientation": "v",
         "showlegend": true,
         "type": "scatter",
         "x": [
          4
         ],
         "xaxis": "x",
         "y": [
          9.689440993788821
         ],
         "yaxis": "y"
        },
        {
         "hovertemplate": "bowlerName=KagisoRabada<br>Wickets=%{x}<br>Economy Rate=%{y}<extra></extra>",
         "legendgroup": "KagisoRabada",
         "marker": {
          "color": "#19d3f3",
          "symbol": "circle"
         },
         "mode": "markers",
         "name": "KagisoRabada",
         "orientation": "v",
         "showlegend": true,
         "type": "scatter",
         "x": [
          45
         ],
         "xaxis": "x",
         "y": [
          8.620967741935484
         ],
         "yaxis": "y"
        },
        {
         "hovertemplate": "bowlerName=KamleshNagarkoti<br>Wickets=%{x}<br>Economy Rate=%{y}<extra></extra>",
         "legendgroup": "KamleshNagarkoti",
         "marker": {
          "color": "#FF6692",
          "symbol": "circle"
         },
         "mode": "markers",
         "name": "KamleshNagarkoti",
         "orientation": "v",
         "showlegend": true,
         "type": "scatter",
         "x": [
          0
         ],
         "xaxis": "x",
         "y": [
          13.5
         ],
         "yaxis": "y"
        },
        {
         "hovertemplate": "bowlerName=KaneRichardson<br>Wickets=%{x}<br>Economy Rate=%{y}<extra></extra>",
         "legendgroup": "KaneRichardson",
         "marker": {
          "color": "#B6E880",
          "symbol": "circle"
         },
         "mode": "markers",
         "name": "KaneRichardson",
         "orientation": "v",
         "showlegend": true,
         "type": "scatter",
         "x": [
          1
         ],
         "xaxis": "x",
         "y": [
          9.666666666666666
         ],
         "yaxis": "y"
        },
        {
         "hovertemplate": "bowlerName=KarnSharma<br>Wickets=%{x}<br>Economy Rate=%{y}<extra></extra>",
         "legendgroup": "KarnSharma",
         "marker": {
          "color": "#FF97FF",
          "symbol": "circle"
         },
         "mode": "markers",
         "name": "KarnSharma",
         "orientation": "v",
         "showlegend": true,
         "type": "scatter",
         "x": [
          10
         ],
         "xaxis": "x",
         "y": [
          10.469483568075116
         ],
         "yaxis": "y"
        },
        {
         "hovertemplate": "bowlerName=KartikTyagi<br>Wickets=%{x}<br>Economy Rate=%{y}<extra></extra>",
         "legendgroup": "KartikTyagi",
         "marker": {
          "color": "#FECB52",
          "symbol": "circle"
         },
         "mode": "markers",
         "name": "KartikTyagi",
         "orientation": "v",
         "showlegend": true,
         "type": "scatter",
         "x": [
          6
         ],
         "xaxis": "x",
         "y": [
          10.649819494584838
         ],
         "yaxis": "y"
        },
        {
         "hovertemplate": "bowlerName=KhaleelAhmed<br>Wickets=%{x}<br>Economy Rate=%{y}<extra></extra>",
         "legendgroup": "KhaleelAhmed",
         "marker": {
          "color": "#636efa",
          "symbol": "circle"
         },
         "mode": "markers",
         "name": "KhaleelAhmed",
         "orientation": "v",
         "showlegend": true,
         "type": "scatter",
         "x": [
          30
         ],
         "xaxis": "x",
         "y": [
          8.338590956887487
         ],
         "yaxis": "y"
        },
        {
         "hovertemplate": "bowlerName=KieronPollard<br>Wickets=%{x}<br>Economy Rate=%{y}<extra></extra>",
         "legendgroup": "KieronPollard",
         "marker": {
          "color": "#EF553B",
          "symbol": "circle"
         },
         "mode": "markers",
         "name": "KieronPollard",
         "orientation": "v",
         "showlegend": true,
         "type": "scatter",
         "x": [
          9
         ],
         "xaxis": "x",
         "y": [
          8.118081180811808
         ],
         "yaxis": "y"
        },
        {
         "hovertemplate": "bowlerName=KrishnappaGowtham<br>Wickets=%{x}<br>Economy Rate=%{y}<extra></extra>",
         "legendgroup": "KrishnappaGowtham",
         "marker": {
          "color": "#00cc96",
          "symbol": "circle"
         },
         "mode": "markers",
         "name": "KrishnappaGowtham",
         "orientation": "v",
         "showlegend": true,
         "type": "scatter",
         "x": [
          8
         ],
         "xaxis": "x",
         "y": [
          7.75
         ],
         "yaxis": "y"
        },
        {
         "hovertemplate": "bowlerName=KrunalPandya<br>Wickets=%{x}<br>Economy Rate=%{y}<extra></extra>",
         "legendgroup": "KrunalPandya",
         "marker": {
          "color": "#ab63fa",
          "symbol": "circle"
         },
         "mode": "markers",
         "name": "KrunalPandya",
         "orientation": "v",
         "showlegend": true,
         "type": "scatter",
         "x": [
          24
         ],
         "xaxis": "x",
         "y": [
          7.453580901856763
         ],
         "yaxis": "y"
        },
        {
         "hovertemplate": "bowlerName=KuldeepSen<br>Wickets=%{x}<br>Economy Rate=%{y}<extra></extra>",
         "legendgroup": "KuldeepSen",
         "marker": {
          "color": "#FFA15A",
          "symbol": "circle"
         },
         "mode": "markers",
         "name": "KuldeepSen",
         "orientation": "v",
         "showlegend": true,
         "type": "scatter",
         "x": [
          8
         ],
         "xaxis": "x",
         "y": [
          9.56678700361011
         ],
         "yaxis": "y"
        },
        {
         "hovertemplate": "bowlerName=KuldeepYadav<br>Wickets=%{x}<br>Economy Rate=%{y}<extra></extra>",
         "legendgroup": "KuldeepYadav",
         "marker": {
          "color": "#19d3f3",
          "symbol": "circle"
         },
         "mode": "markers",
         "name": "KuldeepYadav",
         "orientation": "v",
         "showlegend": true,
         "type": "scatter",
         "x": [
          31
         ],
         "xaxis": "x",
         "y": [
          7.926829268292684
         ],
         "yaxis": "y"
        },
        {
         "hovertemplate": "bowlerName=KuldipYadav<br>Wickets=%{x}<br>Economy Rate=%{y}<extra></extra>",
         "legendgroup": "KuldipYadav",
         "marker": {
          "color": "#FF6692",
          "symbol": "circle"
         },
         "mode": "markers",
         "name": "KuldipYadav",
         "orientation": "v",
         "showlegend": true,
         "type": "scatter",
         "x": [
          2
         ],
         "xaxis": "x",
         "y": [
          9.333333333333334
         ],
         "yaxis": "y"
        },
        {
         "hovertemplate": "bowlerName=KulwantKhejroliya<br>Wickets=%{x}<br>Economy Rate=%{y}<extra></extra>",
         "legendgroup": "KulwantKhejroliya",
         "marker": {
          "color": "#B6E880",
          "symbol": "circle"
         },
         "mode": "markers",
         "name": "KulwantKhejroliya",
         "orientation": "v",
         "showlegend": true,
         "type": "scatter",
         "x": [
          2
         ],
         "xaxis": "x",
         "y": [
          15.238095238095237
         ],
         "yaxis": "y"
        },
        {
         "hovertemplate": "bowlerName=KumarKartikeya<br>Wickets=%{x}<br>Economy Rate=%{y}<extra></extra>",
         "legendgroup": "KumarKartikeya",
         "marker": {
          "color": "#FF97FF",
          "symbol": "circle"
         },
         "mode": "markers",
         "name": "KumarKartikeya",
         "orientation": "v",
         "showlegend": true,
         "type": "scatter",
         "x": [
          10
         ],
         "xaxis": "x",
         "y": [
          8.435897435897436
         ],
         "yaxis": "y"
        },
        {
         "hovertemplate": "bowlerName=KyleJamieson<br>Wickets=%{x}<br>Economy Rate=%{y}<extra></extra>",
         "legendgroup": "KyleJamieson",
         "marker": {
          "color": "#FECB52",
          "symbol": "circle"
         },
         "mode": "markers",
         "name": "KyleJamieson",
         "orientation": "v",
         "showlegend": true,
         "type": "scatter",
         "x": [
          9
         ],
         "xaxis": "x",
         "y": [
          9.607142857142858
         ],
         "yaxis": "y"
        },
        {
         "hovertemplate": "bowlerName=KyleMayers<br>Wickets=%{x}<br>Economy Rate=%{y}<extra></extra>",
         "legendgroup": "KyleMayers",
         "marker": {
          "color": "#636efa",
          "symbol": "circle"
         },
         "mode": "markers",
         "name": "KyleMayers",
         "orientation": "v",
         "showlegend": true,
         "type": "scatter",
         "x": [
          0
         ],
         "xaxis": "x",
         "y": [
          8.428571428571429
         ],
         "yaxis": "y"
        },
        {
         "hovertemplate": "bowlerName=LalitYadav<br>Wickets=%{x}<br>Economy Rate=%{y}<extra></extra>",
         "legendgroup": "LalitYadav",
         "marker": {
          "color": "#EF553B",
          "symbol": "circle"
         },
         "mode": "markers",
         "name": "LalitYadav",
         "orientation": "v",
         "showlegend": true,
         "type": "scatter",
         "x": [
          10
         ],
         "xaxis": "x",
         "y": [
          8.2
         ],
         "yaxis": "y"
        },
        {
         "hovertemplate": "bowlerName=LiamLivingstone<br>Wickets=%{x}<br>Economy Rate=%{y}<extra></extra>",
         "legendgroup": "LiamLivingstone",
         "marker": {
          "color": "#00cc96",
          "symbol": "circle"
         },
         "mode": "markers",
         "name": "LiamLivingstone",
         "orientation": "v",
         "showlegend": true,
         "type": "scatter",
         "x": [
          8
         ],
         "xaxis": "x",
         "y": [
          10
         ],
         "yaxis": "y"
        },
        {
         "hovertemplate": "bowlerName=LockieFerguson<br>Wickets=%{x}<br>Economy Rate=%{y}<extra></extra>",
         "legendgroup": "LockieFerguson",
         "marker": {
          "color": "#ab63fa",
          "symbol": "circle"
         },
         "mode": "markers",
         "name": "LockieFerguson",
         "orientation": "v",
         "showlegend": true,
         "type": "scatter",
         "x": [
          26
         ],
         "xaxis": "x",
         "y": [
          8.808962264150944
         ],
         "yaxis": "y"
        },
        {
         "hovertemplate": "bowlerName=LukmanMeriwala<br>Wickets=%{x}<br>Economy Rate=%{y}<extra></extra>",
         "legendgroup": "LukmanMeriwala",
         "marker": {
          "color": "#FFA15A",
          "symbol": "circle"
         },
         "mode": "markers",
         "name": "LukmanMeriwala",
         "orientation": "v",
         "showlegend": true,
         "type": "scatter",
         "x": [
          1
         ],
         "xaxis": "x",
         "y": [
          10.666666666666666
         ],
         "yaxis": "y"
        },
        {
         "hovertemplate": "bowlerName=LungiNgidi<br>Wickets=%{x}<br>Economy Rate=%{y}<extra></extra>",
         "legendgroup": "LungiNgidi",
         "marker": {
          "color": "#19d3f3",
          "symbol": "circle"
         },
         "mode": "markers",
         "name": "LungiNgidi",
         "orientation": "v",
         "showlegend": true,
         "type": "scatter",
         "x": [
          5
         ],
         "xaxis": "x",
         "y": [
          10.416666666666666
         ],
         "yaxis": "y"
        },
        {
         "hovertemplate": "bowlerName=MaheeshTheekshana<br>Wickets=%{x}<br>Economy Rate=%{y}<extra></extra>",
         "legendgroup": "MaheeshTheekshana",
         "marker": {
          "color": "#FF6692",
          "symbol": "circle"
         },
         "mode": "markers",
         "name": "MaheeshTheekshana",
         "orientation": "v",
         "showlegend": true,
         "type": "scatter",
         "x": [
          21
         ],
         "xaxis": "x",
         "y": [
          7.7
         ],
         "yaxis": "y"
        },
        {
         "hovertemplate": "bowlerName=MahipalLomror<br>Wickets=%{x}<br>Economy Rate=%{y}<extra></extra>",
         "legendgroup": "MahipalLomror",
         "marker": {
          "color": "#B6E880",
          "symbol": "circle"
         },
         "mode": "markers",
         "name": "MahipalLomror",
         "orientation": "v",
         "showlegend": true,
         "type": "scatter",
         "x": [
          1
         ],
         "xaxis": "x",
         "y": [
          7.454545454545454
         ],
         "yaxis": "y"
        },
        {
         "hovertemplate": "bowlerName=MarcoJansen<br>Wickets=%{x}<br>Economy Rate=%{y}<extra></extra>",
         "legendgroup": "MarcoJansen",
         "marker": {
          "color": "#FF97FF",
          "symbol": "circle"
         },
         "mode": "markers",
         "name": "MarcoJansen",
         "orientation": "v",
         "showlegend": true,
         "type": "scatter",
         "x": [
          19
         ],
         "xaxis": "x",
         "y": [
          9.015384615384615
         ],
         "yaxis": "y"
        },
        {
         "hovertemplate": "bowlerName=MarcusStoinis<br>Wickets=%{x}<br>Economy Rate=%{y}<extra></extra>",
         "legendgroup": "MarcusStoinis",
         "marker": {
          "color": "#FECB52",
          "symbol": "circle"
         },
         "mode": "markers",
         "name": "MarcusStoinis",
         "orientation": "v",
         "showlegend": true,
         "type": "scatter",
         "x": [
          11
         ],
         "xaxis": "x",
         "y": [
          10.28985507246377
         ],
         "yaxis": "y"
        },
        {
         "hovertemplate": "bowlerName=MarkWood<br>Wickets=%{x}<br>Economy Rate=%{y}<extra></extra>",
         "legendgroup": "MarkWood",
         "marker": {
          "color": "#636efa",
          "symbol": "circle"
         },
         "mode": "markers",
         "name": "MarkWood",
         "orientation": "v",
         "showlegend": true,
         "type": "scatter",
         "x": [
          11
         ],
         "xaxis": "x",
         "y": [
          8.125
         ],
         "yaxis": "y"
        },
        {
         "hovertemplate": "bowlerName=MatheeshaPathirana<br>Wickets=%{x}<br>Economy Rate=%{y}<extra></extra>",
         "legendgroup": "MatheeshaPathirana",
         "marker": {
          "color": "#EF553B",
          "symbol": "circle"
         },
         "mode": "markers",
         "name": "MatheeshaPathirana",
         "orientation": "v",
         "showlegend": true,
         "type": "scatter",
         "x": [
          19
         ],
         "xaxis": "x",
         "y": [
          8.1010101010101
         ],
         "yaxis": "y"
        },
        {
         "hovertemplate": "bowlerName=MatthewShort<br>Wickets=%{x}<br>Economy Rate=%{y}<extra></extra>",
         "legendgroup": "MatthewShort",
         "marker": {
          "color": "#00cc96",
          "symbol": "circle"
         },
         "mode": "markers",
         "name": "MatthewShort",
         "orientation": "v",
         "showlegend": true,
         "type": "scatter",
         "x": [
          0
         ],
         "xaxis": "x",
         "y": [
          6.25
         ],
         "yaxis": "y"
        },
        {
         "hovertemplate": "bowlerName=MayankDagar<br>Wickets=%{x}<br>Economy Rate=%{y}<extra></extra>",
         "legendgroup": "MayankDagar",
         "marker": {
          "color": "#ab63fa",
          "symbol": "circle"
         },
         "mode": "markers",
         "name": "MayankDagar",
         "orientation": "v",
         "showlegend": true,
         "type": "scatter",
         "x": [
          1
         ],
         "xaxis": "x",
         "y": [
          7.545454545454546
         ],
         "yaxis": "y"
        },
        {
         "hovertemplate": "bowlerName=MayankMarkande<br>Wickets=%{x}<br>Economy Rate=%{y}<extra></extra>",
         "legendgroup": "MayankMarkande",
         "marker": {
          "color": "#FFA15A",
          "symbol": "circle"
         },
         "mode": "markers",
         "name": "MayankMarkande",
         "orientation": "v",
         "showlegend": true,
         "type": "scatter",
         "x": [
          13
         ],
         "xaxis": "x",
         "y": [
          7.979166666666667
         ],
         "yaxis": "y"
        },
        {
         "hovertemplate": "bowlerName=MichaelBracewell<br>Wickets=%{x}<br>Economy Rate=%{y}<extra></extra>",
         "legendgroup": "MichaelBracewell",
         "marker": {
          "color": "#19d3f3",
          "symbol": "circle"
         },
         "mode": "markers",
         "name": "MichaelBracewell",
         "orientation": "v",
         "showlegend": true,
         "type": "scatter",
         "x": [
          6
         ],
         "xaxis": "x",
         "y": [
          8.636363636363637
         ],
         "yaxis": "y"
        },
        {
         "hovertemplate": "bowlerName=MitchellMarsh<br>Wickets=%{x}<br>Economy Rate=%{y}<extra></extra>",
         "legendgroup": "MitchellMarsh",
         "marker": {
          "color": "#FF6692",
          "symbol": "circle"
         },
         "mode": "markers",
         "name": "MitchellMarsh",
         "orientation": "v",
         "showlegend": true,
         "type": "scatter",
         "x": [
          16
         ],
         "xaxis": "x",
         "y": [
          8.473520249221183
         ],
         "yaxis": "y"
        },
        {
         "hovertemplate": "bowlerName=MitchellSantner<br>Wickets=%{x}<br>Economy Rate=%{y}<extra></extra>",
         "legendgroup": "MitchellSantner",
         "marker": {
          "color": "#B6E880",
          "symbol": "circle"
         },
         "mode": "markers",
         "name": "MitchellSantner",
         "orientation": "v",
         "showlegend": true,
         "type": "scatter",
         "x": [
          7
         ],
         "xaxis": "x",
         "y": [
          6.806451612903226
         ],
         "yaxis": "y"
        },
        {
         "hovertemplate": "bowlerName=MoeenAli<br>Wickets=%{x}<br>Economy Rate=%{y}<extra></extra>",
         "legendgroup": "MoeenAli",
         "marker": {
          "color": "#FF97FF",
          "symbol": "circle"
         },
         "mode": "markers",
         "name": "MoeenAli",
         "orientation": "v",
         "showlegend": true,
         "type": "scatter",
         "x": [
          21
         ],
         "xaxis": "x",
         "y": [
          7.086280056577086
         ],
         "yaxis": "y"
        },
        {
         "hovertemplate": "bowlerName=MohammadNabi<br>Wickets=%{x}<br>Economy Rate=%{y}<extra></extra>",
         "legendgroup": "MohammadNabi",
         "marker": {
          "color": "#FECB52",
          "symbol": "circle"
         },
         "mode": "markers",
         "name": "MohammadNabi",
         "orientation": "v",
         "showlegend": true,
         "type": "scatter",
         "x": [
          2
         ],
         "xaxis": "x",
         "y": [
          10.75
         ],
         "yaxis": "y"
        },
        {
         "hovertemplate": "bowlerName=MohammedShami<br>Wickets=%{x}<br>Economy Rate=%{y}<extra></extra>",
         "legendgroup": "MohammedShami",
         "marker": {
          "color": "#636efa",
          "symbol": "circle"
         },
         "mode": "markers",
         "name": "MohammedShami",
         "orientation": "v",
         "showlegend": true,
         "type": "scatter",
         "x": [
          67
         ],
         "xaxis": "x",
         "y": [
          7.875560538116591
         ],
         "yaxis": "y"
        },
        {
         "hovertemplate": "bowlerName=MohammedSiraj<br>Wickets=%{x}<br>Economy Rate=%{y}<extra></extra>",
         "legendgroup": "MohammedSiraj",
         "marker": {
          "color": "#EF553B",
          "symbol": "circle"
         },
         "mode": "markers",
         "name": "MohammedSiraj",
         "orientation": "v",
         "showlegend": true,
         "type": "scatter",
         "x": [
          39
         ],
         "xaxis": "x",
         "y": [
          8.117647058823529
         ],
         "yaxis": "y"
        },
        {
         "hovertemplate": "bowlerName=MohitRathee<br>Wickets=%{x}<br>Economy Rate=%{y}<extra></extra>",
         "legendgroup": "MohitRathee",
         "marker": {
          "color": "#00cc96",
          "symbol": "circle"
         },
         "mode": "markers",
         "name": "MohitRathee",
         "orientation": "v",
         "showlegend": true,
         "type": "scatter",
         "x": [
          0
         ],
         "xaxis": "x",
         "y": [
          14.5
         ],
         "yaxis": "y"
        },
        {
         "hovertemplate": "bowlerName=MohitSharma<br>Wickets=%{x}<br>Economy Rate=%{y}<extra></extra>",
         "legendgroup": "MohitSharma",
         "marker": {
          "color": "#ab63fa",
          "symbol": "circle"
         },
         "mode": "markers",
         "name": "MohitSharma",
         "orientation": "v",
         "showlegend": true,
         "type": "scatter",
         "x": [
          27
         ],
         "xaxis": "x",
         "y": [
          8.260869565217392
         ],
         "yaxis": "y"
        },
        {
         "hovertemplate": "bowlerName=MohsinKhan<br>Wickets=%{x}<br>Economy Rate=%{y}<extra></extra>",
         "legendgroup": "MohsinKhan",
         "marker": {
          "color": "#FFA15A",
          "symbol": "circle"
         },
         "mode": "markers",
         "name": "MohsinKhan",
         "orientation": "v",
         "showlegend": true,
         "type": "scatter",
         "x": [
          17
         ],
         "xaxis": "x",
         "y": [
          7.069767441860465
         ],
         "yaxis": "y"
        },
        {
         "hovertemplate": "bowlerName=MoisesHenriques<br>Wickets=%{x}<br>Economy Rate=%{y}<extra></extra>",
         "legendgroup": "MoisesHenriques",
         "marker": {
          "color": "#19d3f3",
          "symbol": "circle"
         },
         "mode": "markers",
         "name": "MoisesHenriques",
         "orientation": "v",
         "showlegend": true,
         "type": "scatter",
         "x": [
          4
         ],
         "xaxis": "x",
         "y": [
          4.5
         ],
         "yaxis": "y"
        },
        {
         "hovertemplate": "bowlerName=MujeebUrRahman<br>Wickets=%{x}<br>Economy Rate=%{y}<extra></extra>",
         "legendgroup": "MujeebUrRahman",
         "marker": {
          "color": "#FF6692",
          "symbol": "circle"
         },
         "mode": "markers",
         "name": "MujeebUrRahman",
         "orientation": "v",
         "showlegend": true,
         "type": "scatter",
         "x": [
          2
         ],
         "xaxis": "x",
         "y": [
          7.25
         ],
         "yaxis": "y"
        },
        {
         "hovertemplate": "bowlerName=MukeshChoudhary<br>Wickets=%{x}<br>Economy Rate=%{y}<extra></extra>",
         "legendgroup": "MukeshChoudhary",
         "marker": {
          "color": "#B6E880",
          "symbol": "circle"
         },
         "mode": "markers",
         "name": "MukeshChoudhary",
         "orientation": "v",
         "showlegend": true,
         "type": "scatter",
         "x": [
          16
         ],
         "xaxis": "x",
         "y": [
          9.359823399558499
         ],
         "yaxis": "y"
        },
        {
         "hovertemplate": "bowlerName=MukeshKumar<br>Wickets=%{x}<br>Economy Rate=%{y}<extra></extra>",
         "legendgroup": "MukeshKumar",
         "marker": {
          "color": "#FF97FF",
          "symbol": "circle"
         },
         "mode": "markers",
         "name": "MukeshKumar",
         "orientation": "v",
         "showlegend": true,
         "type": "scatter",
         "x": [
          7
         ],
         "xaxis": "x",
         "y": [
          10.516129032258064
         ],
         "yaxis": "y"
        },
        {
         "hovertemplate": "bowlerName=MuruganAshwin<br>Wickets=%{x}<br>Economy Rate=%{y}<extra></extra>",
         "legendgroup": "MuruganAshwin",
         "marker": {
          "color": "#FECB52",
          "symbol": "circle"
         },
         "mode": "markers",
         "name": "MuruganAshwin",
         "orientation": "v",
         "showlegend": true,
         "type": "scatter",
         "x": [
          10
         ],
         "xaxis": "x",
         "y": [
          8.590909090909092
         ],
         "yaxis": "y"
        },
        {
         "hovertemplate": "bowlerName=MustafizurRahman<br>Wickets=%{x}<br>Economy Rate=%{y}<extra></extra>",
         "legendgroup": "MustafizurRahman",
         "marker": {
          "color": "#636efa",
          "symbol": "circle"
         },
         "mode": "markers",
         "name": "MustafizurRahman",
         "orientation": "v",
         "showlegend": true,
         "type": "scatter",
         "x": [
          23
         ],
         "xaxis": "x",
         "y": [
          8.423973362930077
         ],
         "yaxis": "y"
        },
        {
         "hovertemplate": "bowlerName=NathanCoulter-Nile<br>Wickets=%{x}<br>Economy Rate=%{y}<extra></extra>",
         "legendgroup": "NathanCoulter-Nile",
         "marker": {
          "color": "#EF553B",
          "symbol": "circle"
         },
         "mode": "markers",
         "name": "NathanCoulter-Nile",
         "orientation": "v",
         "showlegend": true,
         "type": "scatter",
         "x": [
          7
         ],
         "xaxis": "x",
         "y": [
          7.608695652173913
         ],
         "yaxis": "y"
        },
        {
         "hovertemplate": "bowlerName=NathanEllis<br>Wickets=%{x}<br>Economy Rate=%{y}<extra></extra>",
         "legendgroup": "NathanEllis",
         "marker": {
          "color": "#00cc96",
          "symbol": "circle"
         },
         "mode": "markers",
         "name": "NathanEllis",
         "orientation": "v",
         "showlegend": true,
         "type": "scatter",
         "x": [
          17
         ],
         "xaxis": "x",
         "y": [
          8.8
         ],
         "yaxis": "y"
        },
        {
         "hovertemplate": "bowlerName=NavdeepSaini<br>Wickets=%{x}<br>Economy Rate=%{y}<extra></extra>",
         "legendgroup": "NavdeepSaini",
         "marker": {
          "color": "#ab63fa",
          "symbol": "circle"
         },
         "mode": "markers",
         "name": "NavdeepSaini",
         "orientation": "v",
         "showlegend": true,
         "type": "scatter",
         "x": [
          6
         ],
         "xaxis": "x",
         "y": [
          12.375
         ],
         "yaxis": "y"
        },
        {
         "hovertemplate": "bowlerName=Naveen-ul-Haq<br>Wickets=%{x}<br>Economy Rate=%{y}<extra></extra>",
         "legendgroup": "Naveen-ul-Haq",
         "marker": {
          "color": "#FFA15A",
          "symbol": "circle"
         },
         "mode": "markers",
         "name": "Naveen-ul-Haq",
         "orientation": "v",
         "showlegend": true,
         "type": "scatter",
         "x": [
          11
         ],
         "xaxis": "x",
         "y": [
          7.821428571428571
         ],
         "yaxis": "y"
        },
        {
         "hovertemplate": "bowlerName=NitishKumarReddy<br>Wickets=%{x}<br>Economy Rate=%{y}<extra></extra>",
         "legendgroup": "NitishKumarReddy",
         "marker": {
          "color": "#19d3f3",
          "symbol": "circle"
         },
         "mode": "markers",
         "name": "NitishKumarReddy",
         "orientation": "v",
         "showlegend": true,
         "type": "scatter",
         "x": [
          0
         ],
         "xaxis": "x",
         "y": [
          10.8
         ],
         "yaxis": "y"
        },
        {
         "hovertemplate": "bowlerName=NitishRana<br>Wickets=%{x}<br>Economy Rate=%{y}<extra></extra>",
         "legendgroup": "NitishRana",
         "marker": {
          "color": "#FF6692",
          "symbol": "circle"
         },
         "mode": "markers",
         "name": "NitishRana",
         "orientation": "v",
         "showlegend": true,
         "type": "scatter",
         "x": [
          3
         ],
         "xaxis": "x",
         "y": [
          8.8
         ],
         "yaxis": "y"
        },
        {
         "hovertemplate": "bowlerName=NoorAhmad<br>Wickets=%{x}<br>Economy Rate=%{y}<extra></extra>",
         "legendgroup": "NoorAhmad",
         "marker": {
          "color": "#B6E880",
          "symbol": "circle"
         },
         "mode": "markers",
         "name": "NoorAhmad",
         "orientation": "v",
         "showlegend": true,
         "type": "scatter",
         "x": [
          16
         ],
         "xaxis": "x",
         "y": [
          7.9014989293361895
         ],
         "yaxis": "y"
        },
        {
         "hovertemplate": "bowlerName=ObedMcCoy<br>Wickets=%{x}<br>Economy Rate=%{y}<extra></extra>",
         "legendgroup": "ObedMcCoy",
         "marker": {
          "color": "#FF97FF",
          "symbol": "circle"
         },
         "mode": "markers",
         "name": "ObedMcCoy",
         "orientation": "v",
         "showlegend": true,
         "type": "scatter",
         "x": [
          11
         ],
         "xaxis": "x",
         "y": [
          9.433962264150944
         ],
         "yaxis": "y"
        },
        {
         "hovertemplate": "bowlerName=OdeanSmith<br>Wickets=%{x}<br>Economy Rate=%{y}<extra></extra>",
         "legendgroup": "OdeanSmith",
         "marker": {
          "color": "#FECB52",
          "symbol": "circle"
         },
         "mode": "markers",
         "name": "OdeanSmith",
         "orientation": "v",
         "showlegend": true,
         "type": "scatter",
         "x": [
          6
         ],
         "xaxis": "x",
         "y": [
          11.866666666666667
         ],
         "yaxis": "y"
        },
        {
         "hovertemplate": "bowlerName=PatCummins<br>Wickets=%{x}<br>Economy Rate=%{y}<extra></extra>",
         "legendgroup": "PatCummins",
         "marker": {
          "color": "#636efa",
          "symbol": "circle"
         },
         "mode": "markers",
         "name": "PatCummins",
         "orientation": "v",
         "showlegend": true,
         "type": "scatter",
         "x": [
          16
         ],
         "xaxis": "x",
         "y": [
          9.76086956521739
         ],
         "yaxis": "y"
        },
        {
         "hovertemplate": "bowlerName=PiyushChawla<br>Wickets=%{x}<br>Economy Rate=%{y}<extra></extra>",
         "legendgroup": "PiyushChawla",
         "marker": {
          "color": "#EF553B",
          "symbol": "circle"
         },
         "mode": "markers",
         "name": "PiyushChawla",
         "orientation": "v",
         "showlegend": true,
         "type": "scatter",
         "x": [
          23
         ],
         "xaxis": "x",
         "y": [
          8.2
         ],
         "yaxis": "y"
        },
        {
         "hovertemplate": "bowlerName=PradeepSangwan<br>Wickets=%{x}<br>Economy Rate=%{y}<extra></extra>",
         "legendgroup": "PradeepSangwan",
         "marker": {
          "color": "#00cc96",
          "symbol": "circle"
         },
         "mode": "markers",
         "name": "PradeepSangwan",
         "orientation": "v",
         "showlegend": true,
         "type": "scatter",
         "x": [
          3
         ],
         "xaxis": "x",
         "y": [
          7.222222222222222
         ],
         "yaxis": "y"
        },
        {
         "hovertemplate": "bowlerName=PrashantSolanki<br>Wickets=%{x}<br>Economy Rate=%{y}<extra></extra>",
         "legendgroup": "PrashantSolanki",
         "marker": {
          "color": "#ab63fa",
          "symbol": "circle"
         },
         "mode": "markers",
         "name": "PrashantSolanki",
         "orientation": "v",
         "showlegend": true,
         "type": "scatter",
         "x": [
          2
         ],
         "xaxis": "x",
         "y": [
          6.333333333333333
         ],
         "yaxis": "y"
        },
        {
         "hovertemplate": "bowlerName=PrasidhKrishna<br>Wickets=%{x}<br>Economy Rate=%{y}<extra></extra>",
         "legendgroup": "PrasidhKrishna",
         "marker": {
          "color": "#FFA15A",
          "symbol": "circle"
         },
         "mode": "markers",
         "name": "PrasidhKrishna",
         "orientation": "v",
         "showlegend": true,
         "type": "scatter",
         "x": [
          31
         ],
         "xaxis": "x",
         "y": [
          8.623326959847036
         ],
         "yaxis": "y"
        },
        {
         "hovertemplate": "bowlerName=PraveenDubey<br>Wickets=%{x}<br>Economy Rate=%{y}<extra></extra>",
         "legendgroup": "PraveenDubey",
         "marker": {
          "color": "#19d3f3",
          "symbol": "circle"
         },
         "mode": "markers",
         "name": "PraveenDubey",
         "orientation": "v",
         "showlegend": true,
         "type": "scatter",
         "x": [
          1
         ],
         "xaxis": "x",
         "y": [
          6.333333333333333
         ],
         "yaxis": "y"
        },
        {
         "hovertemplate": "bowlerName=RaghavGoyal<br>Wickets=%{x}<br>Economy Rate=%{y}<extra></extra>",
         "legendgroup": "RaghavGoyal",
         "marker": {
          "color": "#FF6692",
          "symbol": "circle"
         },
         "mode": "markers",
         "name": "RaghavGoyal",
         "orientation": "v",
         "showlegend": true,
         "type": "scatter",
         "x": [
          0
         ],
         "xaxis": "x",
         "y": [
          8.25
         ],
         "yaxis": "y"
        },
        {
         "hovertemplate": "bowlerName=RahulChahar<br>Wickets=%{x}<br>Economy Rate=%{y}<extra></extra>",
         "legendgroup": "RahulChahar",
         "marker": {
          "color": "#B6E880",
          "symbol": "circle"
         },
         "mode": "markers",
         "name": "RahulChahar",
         "orientation": "v",
         "showlegend": true,
         "type": "scatter",
         "x": [
          35
         ],
         "xaxis": "x",
         "y": [
          7.680635838150288
         ],
         "yaxis": "y"
        },
        {
         "hovertemplate": "bowlerName=RahulTewatia<br>Wickets=%{x}<br>Economy Rate=%{y}<extra></extra>",
         "legendgroup": "RahulTewatia",
         "marker": {
          "color": "#FF97FF",
          "symbol": "circle"
         },
         "mode": "markers",
         "name": "RahulTewatia",
         "orientation": "v",
         "showlegend": true,
         "type": "scatter",
         "x": [
          8
         ],
         "xaxis": "x",
         "y": [
          9.556541019955654
         ],
         "yaxis": "y"
        },
        {
         "hovertemplate": "bowlerName=RajvardhanHangargekar<br>Wickets=%{x}<br>Economy Rate=%{y}<extra></extra>",
         "legendgroup": "RajvardhanHangargekar",
         "marker": {
          "color": "#FECB52",
          "symbol": "circle"
         },
         "mode": "markers",
         "name": "RajvardhanHangargekar",
         "orientation": "v",
         "showlegend": true,
         "type": "scatter",
         "x": [
          3
         ],
         "xaxis": "x",
         "y": [
          10
         ],
         "yaxis": "y"
        },
        {
         "hovertemplate": "bowlerName=RamandeepSingh<br>Wickets=%{x}<br>Economy Rate=%{y}<extra></extra>",
         "legendgroup": "RamandeepSingh",
         "marker": {
          "color": "#636efa",
          "symbol": "circle"
         },
         "mode": "markers",
         "name": "RamandeepSingh",
         "orientation": "v",
         "showlegend": true,
         "type": "scatter",
         "x": [
          6
         ],
         "xaxis": "x",
         "y": [
          9
         ],
         "yaxis": "y"
        },
        {
         "hovertemplate": "bowlerName=RashidKhan<br>Wickets=%{x}<br>Economy Rate=%{y}<extra></extra>",
         "legendgroup": "RashidKhan",
         "marker": {
          "color": "#EF553B",
          "symbol": "circle"
         },
         "mode": "markers",
         "name": "RashidKhan",
         "orientation": "v",
         "showlegend": true,
         "type": "scatter",
         "x": [
          63
         ],
         "xaxis": "x",
         "y": [
          7.2164383561643834
         ],
         "yaxis": "y"
        },
        {
         "hovertemplate": "bowlerName=RasikhSalam<br>Wickets=%{x}<br>Economy Rate=%{y}<extra></extra>",
         "legendgroup": "RasikhSalam",
         "marker": {
          "color": "#00cc96",
          "symbol": "circle"
         },
         "mode": "markers",
         "name": "RasikhSalam",
         "orientation": "v",
         "showlegend": true,
         "type": "scatter",
         "x": [
          0
         ],
         "xaxis": "x",
         "y": [
          7
         ],
         "yaxis": "y"
        },
        {
         "hovertemplate": "bowlerName=RaviBishnoi<br>Wickets=%{x}<br>Economy Rate=%{y}<extra></extra>",
         "legendgroup": "RaviBishnoi",
         "marker": {
          "color": "#ab63fa",
          "symbol": "circle"
         },
         "mode": "markers",
         "name": "RaviBishnoi",
         "orientation": "v",
         "showlegend": true,
         "type": "scatter",
         "x": [
          41
         ],
         "xaxis": "x",
         "y": [
          7.67640769779045
         ],
         "yaxis": "y"
        },
        {
         "hovertemplate": "bowlerName=RavichandranAshwin<br>Wickets=%{x}<br>Economy Rate=%{y}<extra></extra>",
         "legendgroup": "RavichandranAshwin",
         "marker": {
          "color": "#FFA15A",
          "symbol": "circle"
         },
         "mode": "markers",
         "name": "RavichandranAshwin",
         "orientation": "v",
         "showlegend": true,
         "type": "scatter",
         "x": [
          33
         ],
         "xaxis": "x",
         "y": [
          7.532051282051282
         ],
         "yaxis": "y"
        },
        {
         "hovertemplate": "bowlerName=RavindraJadeja<br>Wickets=%{x}<br>Economy Rate=%{y}<extra></extra>",
         "legendgroup": "RavindraJadeja",
         "marker": {
          "color": "#19d3f3",
          "symbol": "circle"
         },
         "mode": "markers",
         "name": "RavindraJadeja",
         "orientation": "v",
         "showlegend": true,
         "type": "scatter",
         "x": [
          37
         ],
         "xaxis": "x",
         "y": [
          7.455882352941177
         ],
         "yaxis": "y"
        },
        {
         "hovertemplate": "bowlerName=ReeceTopley<br>Wickets=%{x}<br>Economy Rate=%{y}<extra></extra>",
         "legendgroup": "ReeceTopley",
         "marker": {
          "color": "#FF6692",
          "symbol": "circle"
         },
         "mode": "markers",
         "name": "ReeceTopley",
         "orientation": "v",
         "showlegend": true,
         "type": "scatter",
         "x": [
          1
         ],
         "xaxis": "x",
         "y": [
          7
         ],
         "yaxis": "y"
        },
        {
         "hovertemplate": "bowlerName=RileyMeredith<br>Wickets=%{x}<br>Economy Rate=%{y}<extra></extra>",
         "legendgroup": "RileyMeredith",
         "marker": {
          "color": "#B6E880",
          "symbol": "circle"
         },
         "mode": "markers",
         "name": "RileyMeredith",
         "orientation": "v",
         "showlegend": true,
         "type": "scatter",
         "x": [
          19
         ],
         "xaxis": "x",
         "y": [
          9.622641509433961
         ],
         "yaxis": "y"
        },
        {
         "hovertemplate": "bowlerName=RipalPatel<br>Wickets=%{x}<br>Economy Rate=%{y}<extra></extra>",
         "legendgroup": "RipalPatel",
         "marker": {
          "color": "#FF97FF",
          "symbol": "circle"
         },
         "mode": "markers",
         "name": "RipalPatel",
         "orientation": "v",
         "showlegend": true,
         "type": "scatter",
         "x": [
          0
         ],
         "xaxis": "x",
         "y": [
          7.333333333333333
         ],
         "yaxis": "y"
        },
        {
         "hovertemplate": "bowlerName=RishiDhawan<br>Wickets=%{x}<br>Economy Rate=%{y}<extra></extra>",
         "legendgroup": "RishiDhawan",
         "marker": {
          "color": "#FECB52",
          "symbol": "circle"
         },
         "mode": "markers",
         "name": "RishiDhawan",
         "orientation": "v",
         "showlegend": true,
         "type": "scatter",
         "x": [
          7
         ],
         "xaxis": "x",
         "y": [
          8.307692307692308
         ],
         "yaxis": "y"
        },
        {
         "hovertemplate": "bowlerName=RiyanParag<br>Wickets=%{x}<br>Economy Rate=%{y}<extra></extra>",
         "legendgroup": "RiyanParag",
         "marker": {
          "color": "#636efa",
          "symbol": "circle"
         },
         "mode": "markers",
         "name": "RiyanParag",
         "orientation": "v",
         "showlegend": true,
         "type": "scatter",
         "x": [
          2
         ],
         "xaxis": "x",
         "y": [
          13.06930693069307
         ],
         "yaxis": "y"
        },
        {
         "hovertemplate": "bowlerName=RohitSharma<br>Wickets=%{x}<br>Economy Rate=%{y}<extra></extra>",
         "legendgroup": "RohitSharma",
         "marker": {
          "color": "#EF553B",
          "symbol": "circle"
         },
         "mode": "markers",
         "name": "RohitSharma",
         "orientation": "v",
         "showlegend": true,
         "type": "scatter",
         "x": [
          0
         ],
         "xaxis": "x",
         "y": [
          11.81818181818182
         ],
         "yaxis": "y"
        },
        {
         "hovertemplate": "bowlerName=RomarioShepherd<br>Wickets=%{x}<br>Economy Rate=%{y}<extra></extra>",
         "legendgroup": "RomarioShepherd",
         "marker": {
          "color": "#00cc96",
          "symbol": "circle"
         },
         "mode": "markers",
         "name": "RomarioShepherd",
         "orientation": "v",
         "showlegend": true,
         "type": "scatter",
         "x": [
          3
         ],
         "xaxis": "x",
         "y": [
          10.88888888888889
         ],
         "yaxis": "y"
        },
        {
         "hovertemplate": "bowlerName=RovmanPowell<br>Wickets=%{x}<br>Economy Rate=%{y}<extra></extra>",
         "legendgroup": "RovmanPowell",
         "marker": {
          "color": "#ab63fa",
          "symbol": "circle"
         },
         "mode": "markers",
         "name": "RovmanPowell",
         "orientation": "v",
         "showlegend": true,
         "type": "scatter",
         "x": [
          1
         ],
         "xaxis": "x",
         "y": [
          11.666666666666666
         ],
         "yaxis": "y"
        },
        {
         "hovertemplate": "bowlerName=SaiKishore<br>Wickets=%{x}<br>Economy Rate=%{y}<extra></extra>",
         "legendgroup": "SaiKishore",
         "marker": {
          "color": "#FFA15A",
          "symbol": "circle"
         },
         "mode": "markers",
         "name": "SaiKishore",
         "orientation": "v",
         "showlegend": true,
         "type": "scatter",
         "x": [
          6
         ],
         "xaxis": "x",
         "y": [
          7.5625
         ],
         "yaxis": "y"
        },
        {
         "hovertemplate": "bowlerName=SamCurran<br>Wickets=%{x}<br>Economy Rate=%{y}<extra></extra>",
         "legendgroup": "SamCurran",
         "marker": {
          "color": "#19d3f3",
          "symbol": "circle"
         },
         "mode": "markers",
         "name": "SamCurran",
         "orientation": "v",
         "showlegend": true,
         "type": "scatter",
         "x": [
          19
         ],
         "xaxis": "x",
         "y": [
          10.149068322981366
         ],
         "yaxis": "y"
        },
        {
         "hovertemplate": "bowlerName=SandeepSharma<br>Wickets=%{x}<br>Economy Rate=%{y}<extra></extra>",
         "legendgroup": "SandeepSharma",
         "marker": {
          "color": "#FF6692",
          "symbol": "circle"
         },
         "mode": "markers",
         "name": "SandeepSharma",
         "orientation": "v",
         "showlegend": true,
         "type": "scatter",
         "x": [
          15
         ],
         "xaxis": "x",
         "y": [
          8.421052631578947
         ],
         "yaxis": "y"
        },
        {
         "hovertemplate": "bowlerName=SandeepWarrier<br>Wickets=%{x}<br>Economy Rate=%{y}<extra></extra>",
         "legendgroup": "SandeepWarrier",
         "marker": {
          "color": "#B6E880",
          "symbol": "circle"
         },
         "mode": "markers",
         "name": "SandeepWarrier",
         "orientation": "v",
         "showlegend": true,
         "type": "scatter",
         "x": [
          0
         ],
         "xaxis": "x",
         "y": [
          7.5
         ],
         "yaxis": "y"
        },
        {
         "hovertemplate": "bowlerName=SanjayYadav<br>Wickets=%{x}<br>Economy Rate=%{y}<extra></extra>",
         "legendgroup": "SanjayYadav",
         "marker": {
          "color": "#FF97FF",
          "symbol": "circle"
         },
         "mode": "markers",
         "name": "SanjayYadav",
         "orientation": "v",
         "showlegend": true,
         "type": "scatter",
         "x": [
          0
         ],
         "xaxis": "x",
         "y": [
          11.5
         ],
         "yaxis": "y"
        },
        {
         "hovertemplate": "bowlerName=SeanAbbott<br>Wickets=%{x}<br>Economy Rate=%{y}<extra></extra>",
         "legendgroup": "SeanAbbott",
         "marker": {
          "color": "#FECB52",
          "symbol": "circle"
         },
         "mode": "markers",
         "name": "SeanAbbott",
         "orientation": "v",
         "showlegend": true,
         "type": "scatter",
         "x": [
          1
         ],
         "xaxis": "x",
         "y": [
          11.75
         ],
         "yaxis": "y"
        },
        {
         "hovertemplate": "bowlerName=ShahbazAhmed<br>Wickets=%{x}<br>Economy Rate=%{y}<extra></extra>",
         "legendgroup": "ShahbazAhmed",
         "marker": {
          "color": "#636efa",
          "symbol": "circle"
         },
         "mode": "markers",
         "name": "ShahbazAhmed",
         "orientation": "v",
         "showlegend": true,
         "type": "scatter",
         "x": [
          12
         ],
         "xaxis": "x",
         "y": [
          9.339285714285714
         ],
         "yaxis": "y"
        },
        {
         "hovertemplate": "bowlerName=ShahbazNadeem<br>Wickets=%{x}<br>Economy Rate=%{y}<extra></extra>",
         "legendgroup": "ShahbazNadeem",
         "marker": {
          "color": "#EF553B",
          "symbol": "circle"
         },
         "mode": "markers",
         "name": "ShahbazNadeem",
         "orientation": "v",
         "showlegend": true,
         "type": "scatter",
         "x": [
          1
         ],
         "xaxis": "x",
         "y": [
          9
         ],
         "yaxis": "y"
        },
        {
         "hovertemplate": "bowlerName=ShakibAlHasan<br>Wickets=%{x}<br>Economy Rate=%{y}<extra></extra>",
         "legendgroup": "ShakibAlHasan",
         "marker": {
          "color": "#00cc96",
          "symbol": "circle"
         },
         "mode": "markers",
         "name": "ShakibAlHasan",
         "orientation": "v",
         "showlegend": true,
         "type": "scatter",
         "x": [
          4
         ],
         "xaxis": "x",
         "y": [
          7.1923076923076925
         ],
         "yaxis": "y"
        },
        {
         "hovertemplate": "bowlerName=ShardulThakur<br>Wickets=%{x}<br>Economy Rate=%{y}<extra></extra>",
         "legendgroup": "ShardulThakur",
         "marker": {
          "color": "#ab63fa",
          "symbol": "circle"
         },
         "mode": "markers",
         "name": "ShardulThakur",
         "orientation": "v",
         "showlegend": true,
         "type": "scatter",
         "x": [
          43
         ],
         "xaxis": "x",
         "y": [
          9.538702111024238
         ],
         "yaxis": "y"
        },
        {
         "hovertemplate": "bowlerName=ShashankSingh<br>Wickets=%{x}<br>Economy Rate=%{y}<extra></extra>",
         "legendgroup": "ShashankSingh",
         "marker": {
          "color": "#FFA15A",
          "symbol": "circle"
         },
         "mode": "markers",
         "name": "ShashankSingh",
         "orientation": "v",
         "showlegend": true,
         "type": "scatter",
         "x": [
          0
         ],
         "xaxis": "x",
         "y": [
          10
         ],
         "yaxis": "y"
        },
        {
         "hovertemplate": "bowlerName=ShivamDube<br>Wickets=%{x}<br>Economy Rate=%{y}<extra></extra>",
         "legendgroup": "ShivamDube",
         "marker": {
          "color": "#19d3f3",
          "symbol": "circle"
         },
         "mode": "markers",
         "name": "ShivamDube",
         "orientation": "v",
         "showlegend": true,
         "type": "scatter",
         "x": [
          0
         ],
         "xaxis": "x",
         "y": [
          12.142857142857142
         ],
         "yaxis": "y"
        },
        {
         "hovertemplate": "bowlerName=ShivamMavi<br>Wickets=%{x}<br>Economy Rate=%{y}<extra></extra>",
         "legendgroup": "ShivamMavi",
         "marker": {
          "color": "#FF6692",
          "symbol": "circle"
         },
         "mode": "markers",
         "name": "ShivamMavi",
         "orientation": "v",
         "showlegend": true,
         "type": "scatter",
         "x": [
          16
         ],
         "xaxis": "x",
         "y": [
          8.502772643253234
         ],
         "yaxis": "y"
        },
        {
         "hovertemplate": "bowlerName=ShreyasGopal<br>Wickets=%{x}<br>Economy Rate=%{y}<extra></extra>",
         "legendgroup": "ShreyasGopal",
         "marker": {
          "color": "#B6E880",
          "symbol": "circle"
         },
         "mode": "markers",
         "name": "ShreyasGopal",
         "orientation": "v",
         "showlegend": true,
         "type": "scatter",
         "x": [
          1
         ],
         "xaxis": "x",
         "y": [
          11.8
         ],
         "yaxis": "y"
        },
        {
         "hovertemplate": "bowlerName=ShreyasIyer<br>Wickets=%{x}<br>Economy Rate=%{y}<extra></extra>",
         "legendgroup": "ShreyasIyer",
         "marker": {
          "color": "#FF97FF",
          "symbol": "circle"
         },
         "mode": "markers",
         "name": "ShreyasIyer",
         "orientation": "v",
         "showlegend": true,
         "type": "scatter",
         "x": [
          0
         ],
         "xaxis": "x",
         "y": [
          7
         ],
         "yaxis": "y"
        },
        {
         "hovertemplate": "bowlerName=SiddarthKaul<br>Wickets=%{x}<br>Economy Rate=%{y}<extra></extra>",
         "legendgroup": "SiddarthKaul",
         "marker": {
          "color": "#FECB52",
          "symbol": "circle"
         },
         "mode": "markers",
         "name": "SiddarthKaul",
         "orientation": "v",
         "showlegend": true,
         "type": "scatter",
         "x": [
          5
         ],
         "xaxis": "x",
         "y": [
          8.86986301369863
         ],
         "yaxis": "y"
        },
        {
         "hovertemplate": "bowlerName=SikandarRaza<br>Wickets=%{x}<br>Economy Rate=%{y}<extra></extra>",
         "legendgroup": "SikandarRaza",
         "marker": {
          "color": "#636efa",
          "symbol": "circle"
         },
         "mode": "markers",
         "name": "SikandarRaza",
         "orientation": "v",
         "showlegend": true,
         "type": "scatter",
         "x": [
          3
         ],
         "xaxis": "x",
         "y": [
          9.916666666666666
         ],
         "yaxis": "y"
        },
        {
         "hovertemplate": "bowlerName=SimarjeetSingh<br>Wickets=%{x}<br>Economy Rate=%{y}<extra></extra>",
         "legendgroup": "SimarjeetSingh",
         "marker": {
          "color": "#EF553B",
          "symbol": "circle"
         },
         "mode": "markers",
         "name": "SimarjeetSingh",
         "orientation": "v",
         "showlegend": true,
         "type": "scatter",
         "x": [
          4
         ],
         "xaxis": "x",
         "y": [
          7.666666666666667
         ],
         "yaxis": "y"
        },
        {
         "hovertemplate": "bowlerName=SisandaMagala<br>Wickets=%{x}<br>Economy Rate=%{y}<extra></extra>",
         "legendgroup": "SisandaMagala",
         "marker": {
          "color": "#00cc96",
          "symbol": "circle"
         },
         "mode": "markers",
         "name": "SisandaMagala",
         "orientation": "v",
         "showlegend": true,
         "type": "scatter",
         "x": [
          1
         ],
         "xaxis": "x",
         "y": [
          8.5
         ],
         "yaxis": "y"
        },
        {
         "hovertemplate": "bowlerName=SunilNarine<br>Wickets=%{x}<br>Economy Rate=%{y}<extra></extra>",
         "legendgroup": "SunilNarine",
         "marker": {
          "color": "#ab63fa",
          "symbol": "circle"
         },
         "mode": "markers",
         "name": "SunilNarine",
         "orientation": "v",
         "showlegend": true,
         "type": "scatter",
         "x": [
          36
         ],
         "xaxis": "x",
         "y": [
          6.6
         ],
         "yaxis": "y"
        },
        {
         "hovertemplate": "bowlerName=SuyashSharma<br>Wickets=%{x}<br>Economy Rate=%{y}<extra></extra>",
         "legendgroup": "SuyashSharma",
         "marker": {
          "color": "#FFA15A",
          "symbol": "circle"
         },
         "mode": "markers",
         "name": "SuyashSharma",
         "orientation": "v",
         "showlegend": true,
         "type": "scatter",
         "x": [
          10
         ],
         "xaxis": "x",
         "y": [
          8.23076923076923
         ],
         "yaxis": "y"
        },
        {
         "hovertemplate": "bowlerName=SwapnilSingh<br>Wickets=%{x}<br>Economy Rate=%{y}<extra></extra>",
         "legendgroup": "SwapnilSingh",
         "marker": {
          "color": "#19d3f3",
          "symbol": "circle"
         },
         "mode": "markers",
         "name": "SwapnilSingh",
         "orientation": "v",
         "showlegend": true,
         "type": "scatter",
         "x": [
          0
         ],
         "xaxis": "x",
         "y": [
          9
         ],
         "yaxis": "y"
        },
        {
         "hovertemplate": "bowlerName=TNatarajan<br>Wickets=%{x}<br>Economy Rate=%{y}<extra></extra>",
         "legendgroup": "TNatarajan",
         "marker": {
          "color": "#FF6692",
          "symbol": "circle"
         },
         "mode": "markers",
         "name": "TNatarajan",
         "orientation": "v",
         "showlegend": true,
         "type": "scatter",
         "x": [
          30
         ],
         "xaxis": "x",
         "y": [
          9.21875
         ],
         "yaxis": "y"
        },
        {
         "hovertemplate": "bowlerName=TabraizShamsi<br>Wickets=%{x}<br>Economy Rate=%{y}<extra></extra>",
         "legendgroup": "TabraizShamsi",
         "marker": {
          "color": "#B6E880",
          "symbol": "circle"
         },
         "mode": "markers",
         "name": "TabraizShamsi",
         "orientation": "v",
         "showlegend": true,
         "type": "scatter",
         "x": [
          0
         ],
         "xaxis": "x",
         "y": [
          8.5
         ],
         "yaxis": "y"
        },
        {
         "hovertemplate": "bowlerName=TilakVarma<br>Wickets=%{x}<br>Economy Rate=%{y}<extra></extra>",
         "legendgroup": "TilakVarma",
         "marker": {
          "color": "#FF97FF",
          "symbol": "circle"
         },
         "mode": "markers",
         "name": "TilakVarma",
         "orientation": "v",
         "showlegend": true,
         "type": "scatter",
         "x": [
          0
         ],
         "xaxis": "x",
         "y": [
          6.666666666666667
         ],
         "yaxis": "y"
        },
        {
         "hovertemplate": "bowlerName=TimSouthee<br>Wickets=%{x}<br>Economy Rate=%{y}<extra></extra>",
         "legendgroup": "TimSouthee",
         "marker": {
          "color": "#FECB52",
          "symbol": "circle"
         },
         "mode": "markers",
         "name": "TimSouthee",
         "orientation": "v",
         "showlegend": true,
         "type": "scatter",
         "x": [
          19
         ],
         "xaxis": "x",
         "y": [
          8.471698113207546
         ],
         "yaxis": "y"
        },
        {
         "hovertemplate": "bowlerName=TomCurran<br>Wickets=%{x}<br>Economy Rate=%{y}<extra></extra>",
         "legendgroup": "TomCurran",
         "marker": {
          "color": "#636efa",
          "symbol": "circle"
         },
         "mode": "markers",
         "name": "TomCurran",
         "orientation": "v",
         "showlegend": true,
         "type": "scatter",
         "x": [
          4
         ],
         "xaxis": "x",
         "y": [
          9.62962962962963
         ],
         "yaxis": "y"
        },
        {
         "hovertemplate": "bowlerName=TrentBoult<br>Wickets=%{x}<br>Economy Rate=%{y}<extra></extra>",
         "legendgroup": "TrentBoult",
         "marker": {
          "color": "#EF553B",
          "symbol": "circle"
         },
         "mode": "markers",
         "name": "TrentBoult",
         "orientation": "v",
         "showlegend": true,
         "type": "scatter",
         "x": [
          42
         ],
         "xaxis": "x",
         "y": [
          8.023872679045093
         ],
         "yaxis": "y"
        },
        {
         "hovertemplate": "bowlerName=TristanStubbs<br>Wickets=%{x}<br>Economy Rate=%{y}<extra></extra>",
         "legendgroup": "TristanStubbs",
         "marker": {
          "color": "#00cc96",
          "symbol": "circle"
         },
         "mode": "markers",
         "name": "TristanStubbs",
         "orientation": "v",
         "showlegend": true,
         "type": "scatter",
         "x": [
          1
         ],
         "xaxis": "x",
         "y": [
          7
         ],
         "yaxis": "y"
        },
        {
         "hovertemplate": "bowlerName=TusharDeshpande<br>Wickets=%{x}<br>Economy Rate=%{y}<extra></extra>",
         "legendgroup": "TusharDeshpande",
         "marker": {
          "color": "#ab63fa",
          "symbol": "circle"
         },
         "mode": "markers",
         "name": "TusharDeshpande",
         "orientation": "v",
         "showlegend": true,
         "type": "scatter",
         "x": [
          22
         ],
         "xaxis": "x",
         "y": [
          10.016
         ],
         "yaxis": "y"
        },
        {
         "hovertemplate": "bowlerName=TymalMills<br>Wickets=%{x}<br>Economy Rate=%{y}<extra></extra>",
         "legendgroup": "TymalMills",
         "marker": {
          "color": "#FFA15A",
          "symbol": "circle"
         },
         "mode": "markers",
         "name": "TymalMills",
         "orientation": "v",
         "showlegend": true,
         "type": "scatter",
         "x": [
          6
         ],
         "xaxis": "x",
         "y": [
          11.176470588235293
         ],
         "yaxis": "y"
        },
        {
         "hovertemplate": "bowlerName=UmeshYadav<br>Wickets=%{x}<br>Economy Rate=%{y}<extra></extra>",
         "legendgroup": "UmeshYadav",
         "marker": {
          "color": "#19d3f3",
          "symbol": "circle"
         },
         "mode": "markers",
         "name": "UmeshYadav",
         "orientation": "v",
         "showlegend": true,
         "type": "scatter",
         "x": [
          17
         ],
         "xaxis": "x",
         "y": [
          7.880597014925373
         ],
         "yaxis": "y"
        },
        {
         "hovertemplate": "bowlerName=UmranMalik<br>Wickets=%{x}<br>Economy Rate=%{y}<extra></extra>",
         "legendgroup": "UmranMalik",
         "marker": {
          "color": "#FF6692",
          "symbol": "circle"
         },
         "mode": "markers",
         "name": "UmranMalik",
         "orientation": "v",
         "showlegend": true,
         "type": "scatter",
         "x": [
          29
         ],
         "xaxis": "x",
         "y": [
          9.334155363748458
         ],
         "yaxis": "y"
        },
        {
         "hovertemplate": "bowlerName=VaibhavArora<br>Wickets=%{x}<br>Economy Rate=%{y}<extra></extra>",
         "legendgroup": "VaibhavArora",
         "marker": {
          "color": "#B6E880",
          "symbol": "circle"
         },
         "mode": "markers",
         "name": "VaibhavArora",
         "orientation": "v",
         "showlegend": true,
         "type": "scatter",
         "x": [
          8
         ],
         "xaxis": "x",
         "y": [
          9.253731343283581
         ],
         "yaxis": "y"
        },
        {
         "hovertemplate": "bowlerName=VarunAaron<br>Wickets=%{x}<br>Economy Rate=%{y}<extra></extra>",
         "legendgroup": "VarunAaron",
         "marker": {
          "color": "#FF97FF",
          "symbol": "circle"
         },
         "mode": "markers",
         "name": "VarunAaron",
         "orientation": "v",
         "showlegend": true,
         "type": "scatter",
         "x": [
          2
         ],
         "xaxis": "x",
         "y": [
          10.4
         ],
         "yaxis": "y"
        },
        {
         "hovertemplate": "bowlerName=VarunChakravarthy<br>Wickets=%{x}<br>Economy Rate=%{y}<extra></extra>",
         "legendgroup": "VarunChakravarthy",
         "marker": {
          "color": "#FECB52",
          "symbol": "circle"
         },
         "mode": "markers",
         "name": "VarunChakravarthy",
         "orientation": "v",
         "showlegend": true,
         "type": "scatter",
         "x": [
          44
         ],
         "xaxis": "x",
         "y": [
          7.584692597239648
         ],
         "yaxis": "y"
        },
        {
         "hovertemplate": "bowlerName=VenkateshIyer<br>Wickets=%{x}<br>Economy Rate=%{y}<extra></extra>",
         "legendgroup": "VenkateshIyer",
         "marker": {
          "color": "#636efa",
          "symbol": "circle"
         },
         "mode": "markers",
         "name": "VenkateshIyer",
         "orientation": "v",
         "showlegend": true,
         "type": "scatter",
         "x": [
          3
         ],
         "xaxis": "x",
         "y": [
          9.34959349593496
         ],
         "yaxis": "y"
        },
        {
         "hovertemplate": "bowlerName=VijayShankar<br>Wickets=%{x}<br>Economy Rate=%{y}<extra></extra>",
         "legendgroup": "VijayShankar",
         "marker": {
          "color": "#EF553B",
          "symbol": "circle"
         },
         "mode": "markers",
         "name": "VijayShankar",
         "orientation": "v",
         "showlegend": true,
         "type": "scatter",
         "x": [
          3
         ],
         "xaxis": "x",
         "y": [
          10.322580645161292
         ],
         "yaxis": "y"
        },
        {
         "hovertemplate": "bowlerName=VijaykumarVyshak<br>Wickets=%{x}<br>Economy Rate=%{y}<extra></extra>",
         "legendgroup": "VijaykumarVyshak",
         "marker": {
          "color": "#00cc96",
          "symbol": "circle"
         },
         "mode": "markers",
         "name": "VijaykumarVyshak",
         "orientation": "v",
         "showlegend": true,
         "type": "scatter",
         "x": [
          9
         ],
         "xaxis": "x",
         "y": [
          10.541666666666666
         ],
         "yaxis": "y"
        },
        {
         "hovertemplate": "bowlerName=VivrantSharma<br>Wickets=%{x}<br>Economy Rate=%{y}<extra></extra>",
         "legendgroup": "VivrantSharma",
         "marker": {
          "color": "#ab63fa",
          "symbol": "circle"
         },
         "mode": "markers",
         "name": "VivrantSharma",
         "orientation": "v",
         "showlegend": true,
         "type": "scatter",
         "x": [
          0
         ],
         "xaxis": "x",
         "y": [
          12.333333333333334
         ],
         "yaxis": "y"
        },
        {
         "hovertemplate": "bowlerName=WaninduHasaranga<br>Wickets=%{x}<br>Economy Rate=%{y}<extra></extra>",
         "legendgroup": "WaninduHasaranga",
         "marker": {
          "color": "#FFA15A",
          "symbol": "circle"
         },
         "mode": "markers",
         "name": "WaninduHasaranga",
         "orientation": "v",
         "showlegend": true,
         "type": "scatter",
         "x": [
          35
         ],
         "xaxis": "x",
         "y": [
          8.130434782608695
         ],
         "yaxis": "y"
        },
        {
         "hovertemplate": "bowlerName=WashingtonSundar<br>Wickets=%{x}<br>Economy Rate=%{y}<extra></extra>",
         "legendgroup": "WashingtonSundar",
         "marker": {
          "color": "#19d3f3",
          "symbol": "circle"
         },
         "mode": "markers",
         "name": "WashingtonSundar",
         "orientation": "v",
         "showlegend": true,
         "type": "scatter",
         "x": [
          12
         ],
         "xaxis": "x",
         "y": [
          8.192182410423452
         ],
         "yaxis": "y"
        },
        {
         "hovertemplate": "bowlerName=WayneParnell<br>Wickets=%{x}<br>Economy Rate=%{y}<extra></extra>",
         "legendgroup": "WayneParnell",
         "marker": {
          "color": "#FF6692",
          "symbol": "circle"
         },
         "mode": "markers",
         "name": "WayneParnell",
         "orientation": "v",
         "showlegend": true,
         "type": "scatter",
         "x": [
          9
         ],
         "xaxis": "x",
         "y": [
          9.402390438247012
         ],
         "yaxis": "y"
        },
        {
         "hovertemplate": "bowlerName=YashDayal<br>Wickets=%{x}<br>Economy Rate=%{y}<extra></extra>",
         "legendgroup": "YashDayal",
         "marker": {
          "color": "#B6E880",
          "symbol": "circle"
         },
         "mode": "markers",
         "name": "YashDayal",
         "orientation": "v",
         "showlegend": true,
         "type": "scatter",
         "x": [
          13
         ],
         "xaxis": "x",
         "y": [
          10.021739130434783
         ],
         "yaxis": "y"
        },
        {
         "hovertemplate": "bowlerName=YashThakur<br>Wickets=%{x}<br>Economy Rate=%{y}<extra></extra>",
         "legendgroup": "YashThakur",
         "marker": {
          "color": "#FF97FF",
          "symbol": "circle"
         },
         "mode": "markers",
         "name": "YashThakur",
         "orientation": "v",
         "showlegend": true,
         "type": "scatter",
         "x": [
          13
         ],
         "xaxis": "x",
         "y": [
          9.174603174603174
         ],
         "yaxis": "y"
        },
        {
         "hovertemplate": "bowlerName=YashasviJaiswal<br>Wickets=%{x}<br>Economy Rate=%{y}<extra></extra>",
         "legendgroup": "YashasviJaiswal",
         "marker": {
          "color": "#FECB52",
          "symbol": "circle"
         },
         "mode": "markers",
         "name": "YashasviJaiswal",
         "orientation": "v",
         "showlegend": true,
         "type": "scatter",
         "x": [
          0
         ],
         "xaxis": "x",
         "y": [
          59.999999999999986
         ],
         "yaxis": "y"
        },
        {
         "hovertemplate": "bowlerName=YudhvirSingh<br>Wickets=%{x}<br>Economy Rate=%{y}<extra></extra>",
         "legendgroup": "YudhvirSingh",
         "marker": {
          "color": "#636efa",
          "symbol": "circle"
         },
         "mode": "markers",
         "name": "YudhvirSingh",
         "orientation": "v",
         "showlegend": true,
         "type": "scatter",
         "x": [
          3
         ],
         "xaxis": "x",
         "y": [
          8.75
         ],
         "yaxis": "y"
        },
        {
         "hovertemplate": "bowlerName=YuzvendraChahal<br>Wickets=%{x}<br>Economy Rate=%{y}<extra></extra>",
         "legendgroup": "YuzvendraChahal",
         "marker": {
          "color": "#EF553B",
          "symbol": "circle"
         },
         "mode": "markers",
         "name": "YuzvendraChahal",
         "orientation": "v",
         "showlegend": true,
         "type": "scatter",
         "x": [
          66
         ],
         "xaxis": "x",
         "y": [
          7.68299711815562
         ],
         "yaxis": "y"
        }
       ],
       "layout": {
        "legend": {
         "title": {
          "text": "bowlerName"
         },
         "tracegroupgap": 0
        },
        "template": {
         "data": {
          "bar": [
           {
            "error_x": {
             "color": "#2a3f5f"
            },
            "error_y": {
             "color": "#2a3f5f"
            },
            "marker": {
             "line": {
              "color": "#E5ECF6",
              "width": 0.5
             },
             "pattern": {
              "fillmode": "overlay",
              "size": 10,
              "solidity": 0.2
             }
            },
            "type": "bar"
           }
          ],
          "barpolar": [
           {
            "marker": {
             "line": {
              "color": "#E5ECF6",
              "width": 0.5
             },
             "pattern": {
              "fillmode": "overlay",
              "size": 10,
              "solidity": 0.2
             }
            },
            "type": "barpolar"
           }
          ],
          "carpet": [
           {
            "aaxis": {
             "endlinecolor": "#2a3f5f",
             "gridcolor": "white",
             "linecolor": "white",
             "minorgridcolor": "white",
             "startlinecolor": "#2a3f5f"
            },
            "baxis": {
             "endlinecolor": "#2a3f5f",
             "gridcolor": "white",
             "linecolor": "white",
             "minorgridcolor": "white",
             "startlinecolor": "#2a3f5f"
            },
            "type": "carpet"
           }
          ],
          "choropleth": [
           {
            "colorbar": {
             "outlinewidth": 0,
             "ticks": ""
            },
            "type": "choropleth"
           }
          ],
          "contour": [
           {
            "colorbar": {
             "outlinewidth": 0,
             "ticks": ""
            },
            "colorscale": [
             [
              0,
              "#0d0887"
             ],
             [
              0.1111111111111111,
              "#46039f"
             ],
             [
              0.2222222222222222,
              "#7201a8"
             ],
             [
              0.3333333333333333,
              "#9c179e"
             ],
             [
              0.4444444444444444,
              "#bd3786"
             ],
             [
              0.5555555555555556,
              "#d8576b"
             ],
             [
              0.6666666666666666,
              "#ed7953"
             ],
             [
              0.7777777777777778,
              "#fb9f3a"
             ],
             [
              0.8888888888888888,
              "#fdca26"
             ],
             [
              1,
              "#f0f921"
             ]
            ],
            "type": "contour"
           }
          ],
          "contourcarpet": [
           {
            "colorbar": {
             "outlinewidth": 0,
             "ticks": ""
            },
            "type": "contourcarpet"
           }
          ],
          "heatmap": [
           {
            "colorbar": {
             "outlinewidth": 0,
             "ticks": ""
            },
            "colorscale": [
             [
              0,
              "#0d0887"
             ],
             [
              0.1111111111111111,
              "#46039f"
             ],
             [
              0.2222222222222222,
              "#7201a8"
             ],
             [
              0.3333333333333333,
              "#9c179e"
             ],
             [
              0.4444444444444444,
              "#bd3786"
             ],
             [
              0.5555555555555556,
              "#d8576b"
             ],
             [
              0.6666666666666666,
              "#ed7953"
             ],
             [
              0.7777777777777778,
              "#fb9f3a"
             ],
             [
              0.8888888888888888,
              "#fdca26"
             ],
             [
              1,
              "#f0f921"
             ]
            ],
            "type": "heatmap"
           }
          ],
          "heatmapgl": [
           {
            "colorbar": {
             "outlinewidth": 0,
             "ticks": ""
            },
            "colorscale": [
             [
              0,
              "#0d0887"
             ],
             [
              0.1111111111111111,
              "#46039f"
             ],
             [
              0.2222222222222222,
              "#7201a8"
             ],
             [
              0.3333333333333333,
              "#9c179e"
             ],
             [
              0.4444444444444444,
              "#bd3786"
             ],
             [
              0.5555555555555556,
              "#d8576b"
             ],
             [
              0.6666666666666666,
              "#ed7953"
             ],
             [
              0.7777777777777778,
              "#fb9f3a"
             ],
             [
              0.8888888888888888,
              "#fdca26"
             ],
             [
              1,
              "#f0f921"
             ]
            ],
            "type": "heatmapgl"
           }
          ],
          "histogram": [
           {
            "marker": {
             "pattern": {
              "fillmode": "overlay",
              "size": 10,
              "solidity": 0.2
             }
            },
            "type": "histogram"
           }
          ],
          "histogram2d": [
           {
            "colorbar": {
             "outlinewidth": 0,
             "ticks": ""
            },
            "colorscale": [
             [
              0,
              "#0d0887"
             ],
             [
              0.1111111111111111,
              "#46039f"
             ],
             [
              0.2222222222222222,
              "#7201a8"
             ],
             [
              0.3333333333333333,
              "#9c179e"
             ],
             [
              0.4444444444444444,
              "#bd3786"
             ],
             [
              0.5555555555555556,
              "#d8576b"
             ],
             [
              0.6666666666666666,
              "#ed7953"
             ],
             [
              0.7777777777777778,
              "#fb9f3a"
             ],
             [
              0.8888888888888888,
              "#fdca26"
             ],
             [
              1,
              "#f0f921"
             ]
            ],
            "type": "histogram2d"
           }
          ],
          "histogram2dcontour": [
           {
            "colorbar": {
             "outlinewidth": 0,
             "ticks": ""
            },
            "colorscale": [
             [
              0,
              "#0d0887"
             ],
             [
              0.1111111111111111,
              "#46039f"
             ],
             [
              0.2222222222222222,
              "#7201a8"
             ],
             [
              0.3333333333333333,
              "#9c179e"
             ],
             [
              0.4444444444444444,
              "#bd3786"
             ],
             [
              0.5555555555555556,
              "#d8576b"
             ],
             [
              0.6666666666666666,
              "#ed7953"
             ],
             [
              0.7777777777777778,
              "#fb9f3a"
             ],
             [
              0.8888888888888888,
              "#fdca26"
             ],
             [
              1,
              "#f0f921"
             ]
            ],
            "type": "histogram2dcontour"
           }
          ],
          "mesh3d": [
           {
            "colorbar": {
             "outlinewidth": 0,
             "ticks": ""
            },
            "type": "mesh3d"
           }
          ],
          "parcoords": [
           {
            "line": {
             "colorbar": {
              "outlinewidth": 0,
              "ticks": ""
             }
            },
            "type": "parcoords"
           }
          ],
          "pie": [
           {
            "automargin": true,
            "type": "pie"
           }
          ],
          "scatter": [
           {
            "fillpattern": {
             "fillmode": "overlay",
             "size": 10,
             "solidity": 0.2
            },
            "type": "scatter"
           }
          ],
          "scatter3d": [
           {
            "line": {
             "colorbar": {
              "outlinewidth": 0,
              "ticks": ""
             }
            },
            "marker": {
             "colorbar": {
              "outlinewidth": 0,
              "ticks": ""
             }
            },
            "type": "scatter3d"
           }
          ],
          "scattercarpet": [
           {
            "marker": {
             "colorbar": {
              "outlinewidth": 0,
              "ticks": ""
             }
            },
            "type": "scattercarpet"
           }
          ],
          "scattergeo": [
           {
            "marker": {
             "colorbar": {
              "outlinewidth": 0,
              "ticks": ""
             }
            },
            "type": "scattergeo"
           }
          ],
          "scattergl": [
           {
            "marker": {
             "colorbar": {
              "outlinewidth": 0,
              "ticks": ""
             }
            },
            "type": "scattergl"
           }
          ],
          "scattermapbox": [
           {
            "marker": {
             "colorbar": {
              "outlinewidth": 0,
              "ticks": ""
             }
            },
            "type": "scattermapbox"
           }
          ],
          "scatterpolar": [
           {
            "marker": {
             "colorbar": {
              "outlinewidth": 0,
              "ticks": ""
             }
            },
            "type": "scatterpolar"
           }
          ],
          "scatterpolargl": [
           {
            "marker": {
             "colorbar": {
              "outlinewidth": 0,
              "ticks": ""
             }
            },
            "type": "scatterpolargl"
           }
          ],
          "scatterternary": [
           {
            "marker": {
             "colorbar": {
              "outlinewidth": 0,
              "ticks": ""
             }
            },
            "type": "scatterternary"
           }
          ],
          "surface": [
           {
            "colorbar": {
             "outlinewidth": 0,
             "ticks": ""
            },
            "colorscale": [
             [
              0,
              "#0d0887"
             ],
             [
              0.1111111111111111,
              "#46039f"
             ],
             [
              0.2222222222222222,
              "#7201a8"
             ],
             [
              0.3333333333333333,
              "#9c179e"
             ],
             [
              0.4444444444444444,
              "#bd3786"
             ],
             [
              0.5555555555555556,
              "#d8576b"
             ],
             [
              0.6666666666666666,
              "#ed7953"
             ],
             [
              0.7777777777777778,
              "#fb9f3a"
             ],
             [
              0.8888888888888888,
              "#fdca26"
             ],
             [
              1,
              "#f0f921"
             ]
            ],
            "type": "surface"
           }
          ],
          "table": [
           {
            "cells": {
             "fill": {
              "color": "#EBF0F8"
             },
             "line": {
              "color": "white"
             }
            },
            "header": {
             "fill": {
              "color": "#C8D4E3"
             },
             "line": {
              "color": "white"
             }
            },
            "type": "table"
           }
          ]
         },
         "layout": {
          "annotationdefaults": {
           "arrowcolor": "#2a3f5f",
           "arrowhead": 0,
           "arrowwidth": 1
          },
          "autotypenumbers": "strict",
          "coloraxis": {
           "colorbar": {
            "outlinewidth": 0,
            "ticks": ""
           }
          },
          "colorscale": {
           "diverging": [
            [
             0,
             "#8e0152"
            ],
            [
             0.1,
             "#c51b7d"
            ],
            [
             0.2,
             "#de77ae"
            ],
            [
             0.3,
             "#f1b6da"
            ],
            [
             0.4,
             "#fde0ef"
            ],
            [
             0.5,
             "#f7f7f7"
            ],
            [
             0.6,
             "#e6f5d0"
            ],
            [
             0.7,
             "#b8e186"
            ],
            [
             0.8,
             "#7fbc41"
            ],
            [
             0.9,
             "#4d9221"
            ],
            [
             1,
             "#276419"
            ]
           ],
           "sequential": [
            [
             0,
             "#0d0887"
            ],
            [
             0.1111111111111111,
             "#46039f"
            ],
            [
             0.2222222222222222,
             "#7201a8"
            ],
            [
             0.3333333333333333,
             "#9c179e"
            ],
            [
             0.4444444444444444,
             "#bd3786"
            ],
            [
             0.5555555555555556,
             "#d8576b"
            ],
            [
             0.6666666666666666,
             "#ed7953"
            ],
            [
             0.7777777777777778,
             "#fb9f3a"
            ],
            [
             0.8888888888888888,
             "#fdca26"
            ],
            [
             1,
             "#f0f921"
            ]
           ],
           "sequentialminus": [
            [
             0,
             "#0d0887"
            ],
            [
             0.1111111111111111,
             "#46039f"
            ],
            [
             0.2222222222222222,
             "#7201a8"
            ],
            [
             0.3333333333333333,
             "#9c179e"
            ],
            [
             0.4444444444444444,
             "#bd3786"
            ],
            [
             0.5555555555555556,
             "#d8576b"
            ],
            [
             0.6666666666666666,
             "#ed7953"
            ],
            [
             0.7777777777777778,
             "#fb9f3a"
            ],
            [
             0.8888888888888888,
             "#fdca26"
            ],
            [
             1,
             "#f0f921"
            ]
           ]
          },
          "colorway": [
           "#636efa",
           "#EF553B",
           "#00cc96",
           "#ab63fa",
           "#FFA15A",
           "#19d3f3",
           "#FF6692",
           "#B6E880",
           "#FF97FF",
           "#FECB52"
          ],
          "font": {
           "color": "#2a3f5f"
          },
          "geo": {
           "bgcolor": "white",
           "lakecolor": "white",
           "landcolor": "#E5ECF6",
           "showlakes": true,
           "showland": true,
           "subunitcolor": "white"
          },
          "hoverlabel": {
           "align": "left"
          },
          "hovermode": "closest",
          "mapbox": {
           "style": "light"
          },
          "paper_bgcolor": "white",
          "plot_bgcolor": "#E5ECF6",
          "polar": {
           "angularaxis": {
            "gridcolor": "white",
            "linecolor": "white",
            "ticks": ""
           },
           "bgcolor": "#E5ECF6",
           "radialaxis": {
            "gridcolor": "white",
            "linecolor": "white",
            "ticks": ""
           }
          },
          "scene": {
           "xaxis": {
            "backgroundcolor": "#E5ECF6",
            "gridcolor": "white",
            "gridwidth": 2,
            "linecolor": "white",
            "showbackground": true,
            "ticks": "",
            "zerolinecolor": "white"
           },
           "yaxis": {
            "backgroundcolor": "#E5ECF6",
            "gridcolor": "white",
            "gridwidth": 2,
            "linecolor": "white",
            "showbackground": true,
            "ticks": "",
            "zerolinecolor": "white"
           },
           "zaxis": {
            "backgroundcolor": "#E5ECF6",
            "gridcolor": "white",
            "gridwidth": 2,
            "linecolor": "white",
            "showbackground": true,
            "ticks": "",
            "zerolinecolor": "white"
           }
          },
          "shapedefaults": {
           "line": {
            "color": "#2a3f5f"
           }
          },
          "ternary": {
           "aaxis": {
            "gridcolor": "white",
            "linecolor": "white",
            "ticks": ""
           },
           "baxis": {
            "gridcolor": "white",
            "linecolor": "white",
            "ticks": ""
           },
           "bgcolor": "#E5ECF6",
           "caxis": {
            "gridcolor": "white",
            "linecolor": "white",
            "ticks": ""
           }
          },
          "title": {
           "x": 0.05
          },
          "xaxis": {
           "automargin": true,
           "gridcolor": "white",
           "linecolor": "white",
           "ticks": "",
           "title": {
            "standoff": 15
           },
           "zerolinecolor": "white",
           "zerolinewidth": 2
          },
          "yaxis": {
           "automargin": true,
           "gridcolor": "white",
           "linecolor": "white",
           "ticks": "",
           "title": {
            "standoff": 15
           },
           "zerolinecolor": "white",
           "zerolinewidth": 2
          }
         }
        },
        "title": {
         "text": "Wickets vs Economy Rate"
        },
        "xaxis": {
         "anchor": "y",
         "domain": [
          0,
          1
         ],
         "title": {
          "text": "Wickets"
         }
        },
        "yaxis": {
         "anchor": "x",
         "domain": [
          0,
          1
         ],
         "title": {
          "text": "Economy Rate"
         }
        }
       }
      }
     },
     "metadata": {},
     "output_type": "display_data"
    }
   ],
   "source": [
    "fig = px.scatter(bowling_stats, x=\"total_wickets\", y=\"economy\", color=\"bowlerName\",\n",
    "                 title=\"Wickets vs Economy Rate\", labels={\"total_wickets\": \"Wickets\", \"economy\": \"Economy Rate\"})\n",
    "fig.show()\n"
   ]
  },
  {
   "cell_type": "code",
   "execution_count": 33,
   "id": "30c38098",
   "metadata": {},
   "outputs": [
    {
     "data": {
      "application/vnd.plotly.v1+json": {
       "config": {
        "plotlyServerURL": "https://plot.ly"
       },
       "data": [
        {
         "fill": "toself",
         "name": "AbdulSamad",
         "r": [
          1,
          17,
          8.5,
          2
         ],
         "theta": [
          "Wickets",
          "Runs",
          "Economy",
          "Matches"
         ],
         "type": "scatterpolar"
        },
        {
         "fill": "toself",
         "name": "AbhishekSharma",
         "r": [
          6,
          212,
          8.48,
          13
         ],
         "theta": [
          "Wickets",
          "Runs",
          "Economy",
          "Matches"
         ],
         "type": "scatterpolar"
        },
        {
         "fill": "toself",
         "name": "AdamMilne",
         "r": [
          3,
          150,
          9.202453987730062,
          5
         ],
         "theta": [
          "Wickets",
          "Runs",
          "Economy",
          "Matches"
         ],
         "type": "scatterpolar"
        },
        {
         "fill": "toself",
         "name": "AdamZampa",
         "r": [
          8,
          188,
          8.545454545454545,
          6
         ],
         "theta": [
          "Wickets",
          "Runs",
          "Economy",
          "Matches"
         ],
         "type": "scatterpolar"
        },
        {
         "fill": "toself",
         "name": "AdilRashid",
         "r": [
          2,
          91,
          9.1,
          3
         ],
         "theta": [
          "Wickets",
          "Runs",
          "Economy",
          "Matches"
         ],
         "type": "scatterpolar"
        },
        {
         "fill": "toself",
         "name": "AidenMarkram",
         "r": [
          2,
          157,
          8.674033149171272,
          12
         ],
         "theta": [
          "Wickets",
          "Runs",
          "Economy",
          "Matches"
         ],
         "type": "scatterpolar"
        },
        {
         "fill": "toself",
         "name": "AkashDeep",
         "r": [
          6,
          264,
          11.23404255319149,
          7
         ],
         "theta": [
          "Wickets",
          "Runs",
          "Economy",
          "Matches"
         ],
         "type": "scatterpolar"
        },
        {
         "fill": "toself",
         "name": "AkashMadhwal",
         "r": [
          14,
          219,
          8.656126482213438,
          8
         ],
         "theta": [
          "Wickets",
          "Runs",
          "Economy",
          "Matches"
         ],
         "type": "scatterpolar"
        },
        {
         "fill": "toself",
         "name": "AkashSingh",
         "r": [
          5,
          227,
          9.869565217391305,
          7
         ],
         "theta": [
          "Wickets",
          "Runs",
          "Economy",
          "Matches"
         ],
         "type": "scatterpolar"
        },
        {
         "fill": "toself",
         "name": "AkealHosein",
         "r": [
          1,
          40,
          10,
          1
         ],
         "theta": [
          "Wickets",
          "Runs",
          "Economy",
          "Matches"
         ],
         "type": "scatterpolar"
        },
        {
         "fill": "toself",
         "name": "AlzarriJoseph",
         "r": [
          14,
          489,
          9.055555555555555,
          16
         ],
         "theta": [
          "Wickets",
          "Runs",
          "Economy",
          "Matches"
         ],
         "type": "scatterpolar"
        },
        {
         "fill": "toself",
         "name": "AmanHakimKhan",
         "r": [
          0,
          13,
          13,
          1
         ],
         "theta": [
          "Wickets",
          "Runs",
          "Economy",
          "Matches"
         ],
         "type": "scatterpolar"
        },
        {
         "fill": "toself",
         "name": "AmitMishra",
         "r": [
          12,
          227,
          7.827586206896552,
          10
         ],
         "theta": [
          "Wickets",
          "Runs",
          "Economy",
          "Matches"
         ],
         "type": "scatterpolar"
        },
        {
         "fill": "toself",
         "name": "AndreRussell",
         "r": [
          35,
          638,
          10.323624595469255,
          30
         ],
         "theta": [
          "Wickets",
          "Runs",
          "Economy",
          "Matches"
         ],
         "type": "scatterpolar"
        },
        {
         "fill": "toself",
         "name": "AndrewTye",
         "r": [
          2,
          107,
          9.727272727272727,
          3
         ],
         "theta": [
          "Wickets",
          "Runs",
          "Economy",
          "Matches"
         ],
         "type": "scatterpolar"
        },
        {
         "fill": "toself",
         "name": "AnrichNortje",
         "r": [
          31,
          768,
          8.311688311688313,
          24
         ],
         "theta": [
          "Wickets",
          "Runs",
          "Economy",
          "Matches"
         ],
         "type": "scatterpolar"
        },
        {
         "fill": "toself",
         "name": "AnukulRoy",
         "r": [
          4,
          120,
          8,
          5
         ],
         "theta": [
          "Wickets",
          "Runs",
          "Economy",
          "Matches"
         ],
         "type": "scatterpolar"
        },
        {
         "fill": "toself",
         "name": "ArjunTendulkar",
         "r": [
          3,
          92,
          9.68421052631579,
          4
         ],
         "theta": [
          "Wickets",
          "Runs",
          "Economy",
          "Matches"
         ],
         "type": "scatterpolar"
        },
        {
         "fill": "toself",
         "name": "ArshadKhan",
         "r": [
          5,
          190,
          13.86861313868613,
          6
         ],
         "theta": [
          "Wickets",
          "Runs",
          "Economy",
          "Matches"
         ],
         "type": "scatterpolar"
        },
        {
         "fill": "toself",
         "name": "ArshdeepSingh",
         "r": [
          45,
          1220,
          8.634111818825195,
          40
         ],
         "theta": [
          "Wickets",
          "Runs",
          "Economy",
          "Matches"
         ],
         "type": "scatterpolar"
        },
        {
         "fill": "toself",
         "name": "AveshKhan",
         "r": [
          47,
          1115,
          8.358320839580209,
          37
         ],
         "theta": [
          "Wickets",
          "Runs",
          "Economy",
          "Matches"
         ],
         "type": "scatterpolar"
        },
        {
         "fill": "toself",
         "name": "AxarPatel",
         "r": [
          30,
          939,
          7.113636363636363,
          37
         ],
         "theta": [
          "Wickets",
          "Runs",
          "Economy",
          "Matches"
         ],
         "type": "scatterpolar"
        },
        {
         "fill": "toself",
         "name": "AyushBadoni",
         "r": [
          2,
          11,
          5.238095238095238,
          3
         ],
         "theta": [
          "Wickets",
          "Runs",
          "Economy",
          "Matches"
         ],
         "type": "scatterpolar"
        },
        {
         "fill": "toself",
         "name": "BasilThampi",
         "r": [
          5,
          152,
          9.5,
          5
         ],
         "theta": [
          "Wickets",
          "Runs",
          "Economy",
          "Matches"
         ],
         "type": "scatterpolar"
        },
        {
         "fill": "toself",
         "name": "BenStokes",
         "r": [
          0,
          30,
          15,
          2
         ],
         "theta": [
          "Wickets",
          "Runs",
          "Economy",
          "Matches"
         ],
         "type": "scatterpolar"
        },
        {
         "fill": "toself",
         "name": "BhuvneshwarKumar",
         "r": [
          34,
          1143,
          7.877325982081324,
          39
         ],
         "theta": [
          "Wickets",
          "Runs",
          "Economy",
          "Matches"
         ],
         "type": "scatterpolar"
        },
        {
         "fill": "toself",
         "name": "CameronGreen",
         "r": [
          6,
          361,
          9.5,
          16
         ],
         "theta": [
          "Wickets",
          "Runs",
          "Economy",
          "Matches"
         ],
         "type": "scatterpolar"
        },
        {
         "fill": "toself",
         "name": "ChetanSakariya",
         "r": [
          20,
          599,
          8.43661971830986,
          19
         ],
         "theta": [
          "Wickets",
          "Runs",
          "Economy",
          "Matches"
         ],
         "type": "scatterpolar"
        },
        {
         "fill": "toself",
         "name": "ChrisJordan",
         "r": [
          9,
          468,
          10.064516129032258,
          14
         ],
         "theta": [
          "Wickets",
          "Runs",
          "Economy",
          "Matches"
         ],
         "type": "scatterpolar"
        },
        {
         "fill": "toself",
         "name": "ChrisMorris",
         "r": [
          15,
          376,
          9.170731707317072,
          11
         ],
         "theta": [
          "Wickets",
          "Runs",
          "Economy",
          "Matches"
         ],
         "type": "scatterpolar"
        },
        {
         "fill": "toself",
         "name": "ChrisWoakes",
         "r": [
          5,
          82,
          7.454545454545454,
          3
         ],
         "theta": [
          "Wickets",
          "Runs",
          "Economy",
          "Matches"
         ],
         "type": "scatterpolar"
        },
        {
         "fill": "toself",
         "name": "DanChristian",
         "r": [
          4,
          155,
          9.45121951219512,
          9
         ],
         "theta": [
          "Wickets",
          "Runs",
          "Economy",
          "Matches"
         ],
         "type": "scatterpolar"
        },
        {
         "fill": "toself",
         "name": "DanielSams",
         "r": [
          14,
          409,
          8.520833333333334,
          13
         ],
         "theta": [
          "Wickets",
          "Runs",
          "Economy",
          "Matches"
         ],
         "type": "scatterpolar"
        },
        {
         "fill": "toself",
         "name": "DarshanNalkande",
         "r": [
          3,
          103,
          11.31868131868132,
          3
         ],
         "theta": [
          "Wickets",
          "Runs",
          "Economy",
          "Matches"
         ],
         "type": "scatterpolar"
        },
        {
         "fill": "toself",
         "name": "DarylMitchell",
         "r": [
          0,
          27,
          13.5,
          2
         ],
         "theta": [
          "Wickets",
          "Runs",
          "Economy",
          "Matches"
         ],
         "type": "scatterpolar"
        },
        {
         "fill": "toself",
         "name": "DavidWiese",
         "r": [
          0,
          38,
          12.666666666666666,
          1
         ],
         "theta": [
          "Wickets",
          "Runs",
          "Economy",
          "Matches"
         ],
         "type": "scatterpolar"
        },
        {
         "fill": "toself",
         "name": "DavidWilley",
         "r": [
          4,
          177,
          6.8076923076923075,
          8
         ],
         "theta": [
          "Wickets",
          "Runs",
          "Economy",
          "Matches"
         ],
         "type": "scatterpolar"
        },
        {
         "fill": "toself",
         "name": "DeepakChahar",
         "r": [
          27,
          707,
          8.416666666666666,
          24
         ],
         "theta": [
          "Wickets",
          "Runs",
          "Economy",
          "Matches"
         ],
         "type": "scatterpolar"
        },
        {
         "fill": "toself",
         "name": "DeepakHooda",
         "r": [
          3,
          187,
          8.904761904761905,
          10
         ],
         "theta": [
          "Wickets",
          "Runs",
          "Economy",
          "Matches"
         ],
         "type": "scatterpolar"
        },
        {
         "fill": "toself",
         "name": "DewaldBrevis",
         "r": [
          1,
          8,
          26.666666666666668,
          1
         ],
         "theta": [
          "Wickets",
          "Runs",
          "Economy",
          "Matches"
         ],
         "type": "scatterpolar"
        },
        {
         "fill": "toself",
         "name": "DhawalKulkarni",
         "r": [
          0,
          48,
          12,
          1
         ],
         "theta": [
          "Wickets",
          "Runs",
          "Economy",
          "Matches"
         ],
         "type": "scatterpolar"
        },
        {
         "fill": "toself",
         "name": "DuanJansen",
         "r": [
          1,
          53,
          13.25,
          1
         ],
         "theta": [
          "Wickets",
          "Runs",
          "Economy",
          "Matches"
         ],
         "type": "scatterpolar"
        },
        {
         "fill": "toself",
         "name": "DushmanthaChameera",
         "r": [
          9,
          384,
          8.727272727272727,
          12
         ],
         "theta": [
          "Wickets",
          "Runs",
          "Economy",
          "Matches"
         ],
         "type": "scatterpolar"
        },
        {
         "fill": "toself",
         "name": "DwainePretorius",
         "r": [
          6,
          238,
          9.52,
          7
         ],
         "theta": [
          "Wickets",
          "Runs",
          "Economy",
          "Matches"
         ],
         "type": "scatterpolar"
        },
        {
         "fill": "toself",
         "name": "DwayneBravo",
         "r": [
          30,
          562,
          8.363095238095237,
          21
         ],
         "theta": [
          "Wickets",
          "Runs",
          "Economy",
          "Matches"
         ],
         "type": "scatterpolar"
        },
        {
         "fill": "toself",
         "name": "FabianAllen",
         "r": [
          2,
          136,
          9.066666666666666,
          4
         ],
         "theta": [
          "Wickets",
          "Runs",
          "Economy",
          "Matches"
         ],
         "type": "scatterpolar"
        },
        {
         "fill": "toself",
         "name": "FazalhaqFarooqi",
         "r": [
          6,
          227,
          9.007936507936508,
          7
         ],
         "theta": [
          "Wickets",
          "Runs",
          "Economy",
          "Matches"
         ],
         "type": "scatterpolar"
        },
        {
         "fill": "toself",
         "name": "GeorgeGarton",
         "r": [
          3,
          135,
          9,
          5
         ],
         "theta": [
          "Wickets",
          "Runs",
          "Economy",
          "Matches"
         ],
         "type": "scatterpolar"
        },
        {
         "fill": "toself",
         "name": "GlennMaxwell",
         "r": [
          12,
          394,
          7.91164658634538,
          23
         ],
         "theta": [
          "Wickets",
          "Runs",
          "Economy",
          "Matches"
         ],
         "type": "scatterpolar"
        },
        {
         "fill": "toself",
         "name": "GlennPhillips",
         "r": [
          2,
          40,
          8,
          4
         ],
         "theta": [
          "Wickets",
          "Runs",
          "Economy",
          "Matches"
         ],
         "type": "scatterpolar"
        },
        {
         "fill": "toself",
         "name": "GurnoorBrar",
         "r": [
          0,
          42,
          14,
          1
         ],
         "theta": [
          "Wickets",
          "Runs",
          "Economy",
          "Matches"
         ],
         "type": "scatterpolar"
        },
        {
         "fill": "toself",
         "name": "HarbhajanSingh",
         "r": [
          0,
          63,
          9,
          3
         ],
         "theta": [
          "Wickets",
          "Runs",
          "Economy",
          "Matches"
         ],
         "type": "scatterpolar"
        },
        {
         "fill": "toself",
         "name": "HardikPandya",
         "r": [
          11,
          450,
          8.137432188065098,
          21
         ],
         "theta": [
          "Wickets",
          "Runs",
          "Economy",
          "Matches"
         ],
         "type": "scatterpolar"
        },
        {
         "fill": "toself",
         "name": "HarpreetBrar",
         "r": [
          18,
          503,
          7.609682299546141,
          23
         ],
         "theta": [
          "Wickets",
          "Runs",
          "Economy",
          "Matches"
         ],
         "type": "scatterpolar"
        },
        {
         "fill": "toself",
         "name": "HarshalPatel",
         "r": [
          65,
          1323,
          8.497109826589595,
          43
         ],
         "theta": [
          "Wickets",
          "Runs",
          "Economy",
          "Matches"
         ],
         "type": "scatterpolar"
        },
        {
         "fill": "toself",
         "name": "HarshitRana",
         "r": [
          6,
          198,
          9,
          8
         ],
         "theta": [
          "Wickets",
          "Runs",
          "Economy",
          "Matches"
         ],
         "type": "scatterpolar"
        },
        {
         "fill": "toself",
         "name": "HimanshuSharma",
         "r": [
          0,
          28,
          9.333333333333334,
          1
         ],
         "theta": [
          "Wickets",
          "Runs",
          "Economy",
          "Matches"
         ],
         "type": "scatterpolar"
        },
        {
         "fill": "toself",
         "name": "HrithikShokeen",
         "r": [
          5,
          314,
          9.235294117647058,
          13
         ],
         "theta": [
          "Wickets",
          "Runs",
          "Economy",
          "Matches"
         ],
         "type": "scatterpolar"
        },
        {
         "fill": "toself",
         "name": "ImranTahir",
         "r": [
          2,
          16,
          4,
          1
         ],
         "theta": [
          "Wickets",
          "Runs",
          "Economy",
          "Matches"
         ],
         "type": "scatterpolar"
        },
        {
         "fill": "toself",
         "name": "IshanPorel",
         "r": [
          1,
          39,
          9.75,
          1
         ],
         "theta": [
          "Wickets",
          "Runs",
          "Economy",
          "Matches"
         ],
         "type": "scatterpolar"
        },
        {
         "fill": "toself",
         "name": "IshantSharma",
         "r": [
          11,
          303,
          8.18918918918919,
          11
         ],
         "theta": [
          "Wickets",
          "Runs",
          "Economy",
          "Matches"
         ],
         "type": "scatterpolar"
        },
        {
         "fill": "toself",
         "name": "JagadeeshaSuchith",
         "r": [
          7,
          185,
          8.80952380952381,
          6
         ],
         "theta": [
          "Wickets",
          "Runs",
          "Economy",
          "Matches"
         ],
         "type": "scatterpolar"
        },
        {
         "fill": "toself",
         "name": "JalajSaxena",
         "r": [
          0,
          27,
          9,
          1
         ],
         "theta": [
          "Wickets",
          "Runs",
          "Economy",
          "Matches"
         ],
         "type": "scatterpolar"
        },
        {
         "fill": "toself",
         "name": "JamesNeesham",
         "r": [
          5,
          95,
          7.916666666666667,
          4
         ],
         "theta": [
          "Wickets",
          "Runs",
          "Economy",
          "Matches"
         ],
         "type": "scatterpolar"
        },
        {
         "fill": "toself",
         "name": "JasonBehrendorff",
         "r": [
          14,
          387,
          9.214285714285714,
          12
         ],
         "theta": [
          "Wickets",
          "Runs",
          "Economy",
          "Matches"
         ],
         "type": "scatterpolar"
        },
        {
         "fill": "toself",
         "name": "JasonHolder",
         "r": [
          34,
          922,
          9.119683481701285,
          28
         ],
         "theta": [
          "Wickets",
          "Runs",
          "Economy",
          "Matches"
         ],
         "type": "scatterpolar"
        },
        {
         "fill": "toself",
         "name": "JaspritBumrah",
         "r": [
          36,
          793,
          7.3290203327171906,
          28
         ],
         "theta": [
          "Wickets",
          "Runs",
          "Economy",
          "Matches"
         ],
         "type": "scatterpolar"
        },
        {
         "fill": "toself",
         "name": "JayantYadav",
         "r": [
          2,
          156,
          7.428571428571429,
          6
         ],
         "theta": [
          "Wickets",
          "Runs",
          "Economy",
          "Matches"
         ],
         "type": "scatterpolar"
        },
        {
         "fill": "toself",
         "name": "JaydevUnadkat",
         "r": [
          10,
          450,
          9,
          14
         ],
         "theta": [
          "Wickets",
          "Runs",
          "Economy",
          "Matches"
         ],
         "type": "scatterpolar"
        },
        {
         "fill": "toself",
         "name": "JhyeRichardson",
         "r": [
          3,
          117,
          10.636363636363637,
          3
         ],
         "theta": [
          "Wickets",
          "Runs",
          "Economy",
          "Matches"
         ],
         "type": "scatterpolar"
        },
        {
         "fill": "toself",
         "name": "JoeRoot",
         "r": [
          0,
          14,
          7,
          1
         ],
         "theta": [
          "Wickets",
          "Runs",
          "Economy",
          "Matches"
         ],
         "type": "scatterpolar"
        },
        {
         "fill": "toself",
         "name": "JofraArcher",
         "r": [
          2,
          190,
          9.5,
          5
         ],
         "theta": [
          "Wickets",
          "Runs",
          "Economy",
          "Matches"
         ],
         "type": "scatterpolar"
        },
        {
         "fill": "toself",
         "name": "JoshHazlewood",
         "r": [
          34,
          746,
          8.261351052048727,
          24
         ],
         "theta": [
          "Wickets",
          "Runs",
          "Economy",
          "Matches"
         ],
         "type": "scatterpolar"
        },
        {
         "fill": "toself",
         "name": "JoshLittle",
         "r": [
          7,
          294,
          8.647058823529411,
          10
         ],
         "theta": [
          "Wickets",
          "Runs",
          "Economy",
          "Matches"
         ],
         "type": "scatterpolar"
        },
        {
         "fill": "toself",
         "name": "KMAsif",
         "r": [
          4,
          156,
          9.689440993788821,
          5
         ],
         "theta": [
          "Wickets",
          "Runs",
          "Economy",
          "Matches"
         ],
         "type": "scatterpolar"
        },
        {
         "fill": "toself",
         "name": "KagisoRabada",
         "r": [
          45,
          1069,
          8.620967741935484,
          33
         ],
         "theta": [
          "Wickets",
          "Runs",
          "Economy",
          "Matches"
         ],
         "type": "scatterpolar"
        },
        {
         "fill": "toself",
         "name": "KamleshNagarkoti",
         "r": [
          0,
          54,
          13.5,
          2
         ],
         "theta": [
          "Wickets",
          "Runs",
          "Economy",
          "Matches"
         ],
         "type": "scatterpolar"
        },
        {
         "fill": "toself",
         "name": "KaneRichardson",
         "r": [
          1,
          29,
          9.666666666666666,
          1
         ],
         "theta": [
          "Wickets",
          "Runs",
          "Economy",
          "Matches"
         ],
         "type": "scatterpolar"
        },
        {
         "fill": "toself",
         "name": "KarnSharma",
         "r": [
          10,
          223,
          10.469483568075116,
          7
         ],
         "theta": [
          "Wickets",
          "Runs",
          "Economy",
          "Matches"
         ],
         "type": "scatterpolar"
        },
        {
         "fill": "toself",
         "name": "KartikTyagi",
         "r": [
          6,
          295,
          10.649819494584838,
          9
         ],
         "theta": [
          "Wickets",
          "Runs",
          "Economy",
          "Matches"
         ],
         "type": "scatterpolar"
        },
        {
         "fill": "toself",
         "name": "KhaleelAhmed",
         "r": [
          30,
          793,
          8.338590956887487,
          25
         ],
         "theta": [
          "Wickets",
          "Runs",
          "Economy",
          "Matches"
         ],
         "type": "scatterpolar"
        },
        {
         "fill": "toself",
         "name": "KieronPollard",
         "r": [
          9,
          220,
          8.118081180811808,
          15
         ],
         "theta": [
          "Wickets",
          "Runs",
          "Economy",
          "Matches"
         ],
         "type": "scatterpolar"
        },
        {
         "fill": "toself",
         "name": "KrishnappaGowtham",
         "r": [
          8,
          217,
          7.75,
          10
         ],
         "theta": [
          "Wickets",
          "Runs",
          "Economy",
          "Matches"
         ],
         "type": "scatterpolar"
        },
        {
         "fill": "toself",
         "name": "KrunalPandya",
         "r": [
          24,
          843,
          7.453580901856763,
          36
         ],
         "theta": [
          "Wickets",
          "Runs",
          "Economy",
          "Matches"
         ],
         "type": "scatterpolar"
        },
        {
         "fill": "toself",
         "name": "KuldeepSen",
         "r": [
          8,
          265,
          9.56678700361011,
          9
         ],
         "theta": [
          "Wickets",
          "Runs",
          "Economy",
          "Matches"
         ],
         "type": "scatterpolar"
        },
        {
         "fill": "toself",
         "name": "KuldeepYadav",
         "r": [
          31,
          780,
          7.926829268292684,
          28
         ],
         "theta": [
          "Wickets",
          "Runs",
          "Economy",
          "Matches"
         ],
         "type": "scatterpolar"
        },
        {
         "fill": "toself",
         "name": "KuldipYadav",
         "r": [
          2,
          84,
          9.333333333333334,
          3
         ],
         "theta": [
          "Wickets",
          "Runs",
          "Economy",
          "Matches"
         ],
         "type": "scatterpolar"
        },
        {
         "fill": "toself",
         "name": "KulwantKhejroliya",
         "r": [
          2,
          64,
          15.238095238095237,
          2
         ],
         "theta": [
          "Wickets",
          "Runs",
          "Economy",
          "Matches"
         ],
         "type": "scatterpolar"
        },
        {
         "fill": "toself",
         "name": "KumarKartikeya",
         "r": [
          10,
          329,
          8.435897435897436,
          12
         ],
         "theta": [
          "Wickets",
          "Runs",
          "Economy",
          "Matches"
         ],
         "type": "scatterpolar"
        },
        {
         "fill": "toself",
         "name": "KyleJamieson",
         "r": [
          9,
          269,
          9.607142857142858,
          9
         ],
         "theta": [
          "Wickets",
          "Runs",
          "Economy",
          "Matches"
         ],
         "type": "scatterpolar"
        },
        {
         "fill": "toself",
         "name": "KyleMayers",
         "r": [
          0,
          59,
          8.428571428571429,
          6
         ],
         "theta": [
          "Wickets",
          "Runs",
          "Economy",
          "Matches"
         ],
         "type": "scatterpolar"
        },
        {
         "fill": "toself",
         "name": "LalitYadav",
         "r": [
          10,
          369,
          8.2,
          17
         ],
         "theta": [
          "Wickets",
          "Runs",
          "Economy",
          "Matches"
         ],
         "type": "scatterpolar"
        },
        {
         "fill": "toself",
         "name": "LiamLivingstone",
         "r": [
          8,
          296,
          10,
          17
         ],
         "theta": [
          "Wickets",
          "Runs",
          "Economy",
          "Matches"
         ],
         "type": "scatterpolar"
        },
        {
         "fill": "toself",
         "name": "LockieFerguson",
         "r": [
          26,
          747,
          8.808962264150944,
          24
         ],
         "theta": [
          "Wickets",
          "Runs",
          "Economy",
          "Matches"
         ],
         "type": "scatterpolar"
        },
        {
         "fill": "toself",
         "name": "LukmanMeriwala",
         "r": [
          1,
          32,
          10.666666666666666,
          1
         ],
         "theta": [
          "Wickets",
          "Runs",
          "Economy",
          "Matches"
         ],
         "type": "scatterpolar"
        },
        {
         "fill": "toself",
         "name": "LungiNgidi",
         "r": [
          5,
          125,
          10.416666666666666,
          3
         ],
         "theta": [
          "Wickets",
          "Runs",
          "Economy",
          "Matches"
         ],
         "type": "scatterpolar"
        },
        {
         "fill": "toself",
         "name": "MaheeshTheekshana",
         "r": [
          21,
          616,
          7.7,
          21
         ],
         "theta": [
          "Wickets",
          "Runs",
          "Economy",
          "Matches"
         ],
         "type": "scatterpolar"
        },
        {
         "fill": "toself",
         "name": "MahipalLomror",
         "r": [
          1,
          82,
          7.454545454545454,
          8
         ],
         "theta": [
          "Wickets",
          "Runs",
          "Economy",
          "Matches"
         ],
         "type": "scatterpolar"
        },
        {
         "fill": "toself",
         "name": "MarcoJansen",
         "r": [
          19,
          586,
          9.015384615384615,
          18
         ],
         "theta": [
          "Wickets",
          "Runs",
          "Economy",
          "Matches"
         ],
         "type": "scatterpolar"
        },
        {
         "fill": "toself",
         "name": "MarcusStoinis",
         "r": [
          11,
          284,
          10.28985507246377,
          17
         ],
         "theta": [
          "Wickets",
          "Runs",
          "Economy",
          "Matches"
         ],
         "type": "scatterpolar"
        },
        {
         "fill": "toself",
         "name": "MarkWood",
         "r": [
          11,
          130,
          8.125,
          4
         ],
         "theta": [
          "Wickets",
          "Runs",
          "Economy",
          "Matches"
         ],
         "type": "scatterpolar"
        },
        {
         "fill": "toself",
         "name": "MatheeshaPathirana",
         "r": [
          19,
          401,
          8.1010101010101,
          13
         ],
         "theta": [
          "Wickets",
          "Runs",
          "Economy",
          "Matches"
         ],
         "type": "scatterpolar"
        },
        {
         "fill": "toself",
         "name": "MatthewShort",
         "r": [
          0,
          25,
          6.25,
          3
         ],
         "theta": [
          "Wickets",
          "Runs",
          "Economy",
          "Matches"
         ],
         "type": "scatterpolar"
        },
        {
         "fill": "toself",
         "name": "MayankDagar",
         "r": [
          1,
          83,
          7.545454545454546,
          3
         ],
         "theta": [
          "Wickets",
          "Runs",
          "Economy",
          "Matches"
         ],
         "type": "scatterpolar"
        },
        {
         "fill": "toself",
         "name": "MayankMarkande",
         "r": [
          13,
          383,
          7.979166666666667,
          13
         ],
         "theta": [
          "Wickets",
          "Runs",
          "Economy",
          "Matches"
         ],
         "type": "scatterpolar"
        },
        {
         "fill": "toself",
         "name": "MichaelBracewell",
         "r": [
          6,
          95,
          8.636363636363637,
          5
         ],
         "theta": [
          "Wickets",
          "Runs",
          "Economy",
          "Matches"
         ],
         "type": "scatterpolar"
        },
        {
         "fill": "toself",
         "name": "MitchellMarsh",
         "r": [
          16,
          272,
          8.473520249221183,
          12
         ],
         "theta": [
          "Wickets",
          "Runs",
          "Economy",
          "Matches"
         ],
         "type": "scatterpolar"
        },
        {
         "fill": "toself",
         "name": "MitchellSantner",
         "r": [
          7,
          211,
          6.806451612903226,
          9
         ],
         "theta": [
          "Wickets",
          "Runs",
          "Economy",
          "Matches"
         ],
         "type": "scatterpolar"
        },
        {
         "fill": "toself",
         "name": "MoeenAli",
         "r": [
          21,
          501,
          7.086280056577086,
          30
         ],
         "theta": [
          "Wickets",
          "Runs",
          "Economy",
          "Matches"
         ],
         "type": "scatterpolar"
        },
        {
         "fill": "toself",
         "name": "MohammadNabi",
         "r": [
          2,
          86,
          10.75,
          3
         ],
         "theta": [
          "Wickets",
          "Runs",
          "Economy",
          "Matches"
         ],
         "type": "scatterpolar"
        },
        {
         "fill": "toself",
         "name": "MohammedShami",
         "r": [
          67,
          1405,
          7.875560538116591,
          47
         ],
         "theta": [
          "Wickets",
          "Runs",
          "Economy",
          "Matches"
         ],
         "type": "scatterpolar"
        },
        {
         "fill": "toself",
         "name": "MohammedSiraj",
         "r": [
          39,
          1242,
          8.117647058823529,
          44
         ],
         "theta": [
          "Wickets",
          "Runs",
          "Economy",
          "Matches"
         ],
         "type": "scatterpolar"
        },
        {
         "fill": "toself",
         "name": "MohitRathee",
         "r": [
          0,
          29,
          14.5,
          1
         ],
         "theta": [
          "Wickets",
          "Runs",
          "Economy",
          "Matches"
         ],
         "type": "scatterpolar"
        },
        {
         "fill": "toself",
         "name": "MohitSharma",
         "r": [
          27,
          361,
          8.260869565217392,
          14
         ],
         "theta": [
          "Wickets",
          "Runs",
          "Economy",
          "Matches"
         ],
         "type": "scatterpolar"
        },
        {
         "fill": "toself",
         "name": "MohsinKhan",
         "r": [
          17,
          304,
          7.069767441860465,
          13
         ],
         "theta": [
          "Wickets",
          "Runs",
          "Economy",
          "Matches"
         ],
         "type": "scatterpolar"
        },
        {
         "fill": "toself",
         "name": "MoisesHenriques",
         "r": [
          4,
          45,
          4.5,
          5
         ],
         "theta": [
          "Wickets",
          "Runs",
          "Economy",
          "Matches"
         ],
         "type": "scatterpolar"
        },
        {
         "fill": "toself",
         "name": "MujeebUrRahman",
         "r": [
          2,
          29,
          7.25,
          1
         ],
         "theta": [
          "Wickets",
          "Runs",
          "Economy",
          "Matches"
         ],
         "type": "scatterpolar"
        },
        {
         "fill": "toself",
         "name": "MukeshChoudhary",
         "r": [
          16,
          424,
          9.359823399558499,
          13
         ],
         "theta": [
          "Wickets",
          "Runs",
          "Economy",
          "Matches"
         ],
         "type": "scatterpolar"
        },
        {
         "fill": "toself",
         "name": "MukeshKumar",
         "r": [
          7,
          326,
          10.516129032258064,
          10
         ],
         "theta": [
          "Wickets",
          "Runs",
          "Economy",
          "Matches"
         ],
         "type": "scatterpolar"
        },
        {
         "fill": "toself",
         "name": "MuruganAshwin",
         "r": [
          10,
          378,
          8.590909090909092,
          13
         ],
         "theta": [
          "Wickets",
          "Runs",
          "Economy",
          "Matches"
         ],
         "type": "scatterpolar"
        },
        {
         "fill": "toself",
         "name": "MustafizurRahman",
         "r": [
          23,
          759,
          8.423973362930077,
          24
         ],
         "theta": [
          "Wickets",
          "Runs",
          "Economy",
          "Matches"
         ],
         "type": "scatterpolar"
        },
        {
         "fill": "toself",
         "name": "NathanCoulter-Nile",
         "r": [
          7,
          175,
          7.608695652173913,
          6
         ],
         "theta": [
          "Wickets",
          "Runs",
          "Economy",
          "Matches"
         ],
         "type": "scatterpolar"
        },
        {
         "fill": "toself",
         "name": "NathanEllis",
         "r": [
          17,
          484,
          8.8,
          15
         ],
         "theta": [
          "Wickets",
          "Runs",
          "Economy",
          "Matches"
         ],
         "type": "scatterpolar"
        },
        {
         "fill": "toself",
         "name": "NavdeepSaini",
         "r": [
          6,
          198,
          12.375,
          6
         ],
         "theta": [
          "Wickets",
          "Runs",
          "Economy",
          "Matches"
         ],
         "type": "scatterpolar"
        },
        {
         "fill": "toself",
         "name": "Naveen-ul-Haq",
         "r": [
          11,
          219,
          7.821428571428571,
          7
         ],
         "theta": [
          "Wickets",
          "Runs",
          "Economy",
          "Matches"
         ],
         "type": "scatterpolar"
        },
        {
         "fill": "toself",
         "name": "NitishKumarReddy",
         "r": [
          0,
          54,
          10.8,
          2
         ],
         "theta": [
          "Wickets",
          "Runs",
          "Economy",
          "Matches"
         ],
         "type": "scatterpolar"
        },
        {
         "fill": "toself",
         "name": "NitishRana",
         "r": [
          3,
          110,
          8.8,
          10
         ],
         "theta": [
          "Wickets",
          "Runs",
          "Economy",
          "Matches"
         ],
         "type": "scatterpolar"
        },
        {
         "fill": "toself",
         "name": "NoorAhmad",
         "r": [
          16,
          369,
          7.9014989293361895,
          13
         ],
         "theta": [
          "Wickets",
          "Runs",
          "Economy",
          "Matches"
         ],
         "type": "scatterpolar"
        },
        {
         "fill": "toself",
         "name": "ObedMcCoy",
         "r": [
          11,
          250,
          9.433962264150944,
          8
         ],
         "theta": [
          "Wickets",
          "Runs",
          "Economy",
          "Matches"
         ],
         "type": "scatterpolar"
        },
        {
         "fill": "toself",
         "name": "OdeanSmith",
         "r": [
          6,
          178,
          11.866666666666667,
          6
         ],
         "theta": [
          "Wickets",
          "Runs",
          "Economy",
          "Matches"
         ],
         "type": "scatterpolar"
        },
        {
         "fill": "toself",
         "name": "PatCummins",
         "r": [
          16,
          449,
          9.76086956521739,
          12
         ],
         "theta": [
          "Wickets",
          "Runs",
          "Economy",
          "Matches"
         ],
         "type": "scatterpolar"
        },
        {
         "fill": "toself",
         "name": "PiyushChawla",
         "r": [
          23,
          533,
          8.2,
          17
         ],
         "theta": [
          "Wickets",
          "Runs",
          "Economy",
          "Matches"
         ],
         "type": "scatterpolar"
        },
        {
         "fill": "toself",
         "name": "PradeepSangwan",
         "r": [
          3,
          65,
          7.222222222222222,
          3
         ],
         "theta": [
          "Wickets",
          "Runs",
          "Economy",
          "Matches"
         ],
         "type": "scatterpolar"
        },
        {
         "fill": "toself",
         "name": "PrashantSolanki",
         "r": [
          2,
          38,
          6.333333333333333,
          2
         ],
         "theta": [
          "Wickets",
          "Runs",
          "Economy",
          "Matches"
         ],
         "type": "scatterpolar"
        },
        {
         "fill": "toself",
         "name": "PrasidhKrishna",
         "r": [
          31,
          902,
          8.623326959847036,
          27
         ],
         "theta": [
          "Wickets",
          "Runs",
          "Economy",
          "Matches"
         ],
         "type": "scatterpolar"
        },
        {
         "fill": "toself",
         "name": "PraveenDubey",
         "r": [
          1,
          19,
          6.333333333333333,
          1
         ],
         "theta": [
          "Wickets",
          "Runs",
          "Economy",
          "Matches"
         ],
         "type": "scatterpolar"
        },
        {
         "fill": "toself",
         "name": "RaghavGoyal",
         "r": [
          0,
          33,
          8.25,
          1
         ],
         "theta": [
          "Wickets",
          "Runs",
          "Economy",
          "Matches"
         ],
         "type": "scatterpolar"
        },
        {
         "fill": "toself",
         "name": "RahulChahar",
         "r": [
          35,
          1063,
          7.680635838150288,
          38
         ],
         "theta": [
          "Wickets",
          "Runs",
          "Economy",
          "Matches"
         ],
         "type": "scatterpolar"
        },
        {
         "fill": "toself",
         "name": "RahulTewatia",
         "r": [
          8,
          431,
          9.556541019955654,
          20
         ],
         "theta": [
          "Wickets",
          "Runs",
          "Economy",
          "Matches"
         ],
         "type": "scatterpolar"
        },
        {
         "fill": "toself",
         "name": "RajvardhanHangargekar",
         "r": [
          3,
          60,
          10,
          2
         ],
         "theta": [
          "Wickets",
          "Runs",
          "Economy",
          "Matches"
         ],
         "type": "scatterpolar"
        },
        {
         "fill": "toself",
         "name": "RamandeepSingh",
         "r": [
          6,
          54,
          9,
          3
         ],
         "theta": [
          "Wickets",
          "Runs",
          "Economy",
          "Matches"
         ],
         "type": "scatterpolar"
        },
        {
         "fill": "toself",
         "name": "RashidKhan",
         "r": [
          63,
          1317,
          7.2164383561643834,
          46
         ],
         "theta": [
          "Wickets",
          "Runs",
          "Economy",
          "Matches"
         ],
         "type": "scatterpolar"
        },
        {
         "fill": "toself",
         "name": "RasikhSalam",
         "r": [
          0,
          28,
          7,
          2
         ],
         "theta": [
          "Wickets",
          "Runs",
          "Economy",
          "Matches"
         ],
         "type": "scatterpolar"
        },
        {
         "fill": "toself",
         "name": "RaviBishnoi",
         "r": [
          41,
          1077,
          7.67640769779045,
          37
         ],
         "theta": [
          "Wickets",
          "Runs",
          "Economy",
          "Matches"
         ],
         "type": "scatterpolar"
        },
        {
         "fill": "toself",
         "name": "RavichandranAshwin",
         "r": [
          33,
          1175,
          7.532051282051282,
          42
         ],
         "theta": [
          "Wickets",
          "Runs",
          "Economy",
          "Matches"
         ],
         "type": "scatterpolar"
        },
        {
         "fill": "toself",
         "name": "RavindraJadeja",
         "r": [
          37,
          1014,
          7.455882352941177,
          41
         ],
         "theta": [
          "Wickets",
          "Runs",
          "Economy",
          "Matches"
         ],
         "type": "scatterpolar"
        },
        {
         "fill": "toself",
         "name": "ReeceTopley",
         "r": [
          1,
          14,
          7,
          1
         ],
         "theta": [
          "Wickets",
          "Runs",
          "Economy",
          "Matches"
         ],
         "type": "scatterpolar"
        },
        {
         "fill": "toself",
         "name": "RileyMeredith",
         "r": [
          19,
          612,
          9.622641509433961,
          18
         ],
         "theta": [
          "Wickets",
          "Runs",
          "Economy",
          "Matches"
         ],
         "type": "scatterpolar"
        },
        {
         "fill": "toself",
         "name": "RipalPatel",
         "r": [
          0,
          22,
          7.333333333333333,
          1
         ],
         "theta": [
          "Wickets",
          "Runs",
          "Economy",
          "Matches"
         ],
         "type": "scatterpolar"
        },
        {
         "fill": "toself",
         "name": "RishiDhawan",
         "r": [
          7,
          216,
          8.307692307692308,
          10
         ],
         "theta": [
          "Wickets",
          "Runs",
          "Economy",
          "Matches"
         ],
         "type": "scatterpolar"
        },
        {
         "fill": "toself",
         "name": "RiyanParag",
         "r": [
          2,
          132,
          13.06930693069307,
          10
         ],
         "theta": [
          "Wickets",
          "Runs",
          "Economy",
          "Matches"
         ],
         "type": "scatterpolar"
        },
        {
         "fill": "toself",
         "name": "RohitSharma",
         "r": [
          0,
          13,
          11.81818181818182,
          2
         ],
         "theta": [
          "Wickets",
          "Runs",
          "Economy",
          "Matches"
         ],
         "type": "scatterpolar"
        },
        {
         "fill": "toself",
         "name": "RomarioShepherd",
         "r": [
          3,
          98,
          10.88888888888889,
          3
         ],
         "theta": [
          "Wickets",
          "Runs",
          "Economy",
          "Matches"
         ],
         "type": "scatterpolar"
        },
        {
         "fill": "toself",
         "name": "RovmanPowell",
         "r": [
          1,
          35,
          11.666666666666666,
          2
         ],
         "theta": [
          "Wickets",
          "Runs",
          "Economy",
          "Matches"
         ],
         "type": "scatterpolar"
        },
        {
         "fill": "toself",
         "name": "SaiKishore",
         "r": [
          6,
          121,
          7.5625,
          5
         ],
         "theta": [
          "Wickets",
          "Runs",
          "Economy",
          "Matches"
         ],
         "type": "scatterpolar"
        },
        {
         "fill": "toself",
         "name": "SamCurran",
         "r": [
          19,
          817,
          10.149068322981366,
          23
         ],
         "theta": [
          "Wickets",
          "Runs",
          "Economy",
          "Matches"
         ],
         "type": "scatterpolar"
        },
        {
         "fill": "toself",
         "name": "SandeepSharma",
         "r": [
          15,
          752,
          8.421052631578947,
          24
         ],
         "theta": [
          "Wickets",
          "Runs",
          "Economy",
          "Matches"
         ],
         "type": "scatterpolar"
        },
        {
         "fill": "toself",
         "name": "SandeepWarrier",
         "r": [
          0,
          15,
          7.5,
          1
         ],
         "theta": [
          "Wickets",
          "Runs",
          "Economy",
          "Matches"
         ],
         "type": "scatterpolar"
        },
        {
         "fill": "toself",
         "name": "SanjayYadav",
         "r": [
          0,
          23,
          11.5,
          1
         ],
         "theta": [
          "Wickets",
          "Runs",
          "Economy",
          "Matches"
         ],
         "type": "scatterpolar"
        },
        {
         "fill": "toself",
         "name": "SeanAbbott",
         "r": [
          1,
          47,
          11.75,
          1
         ],
         "theta": [
          "Wickets",
          "Runs",
          "Economy",
          "Matches"
         ],
         "type": "scatterpolar"
        },
        {
         "fill": "toself",
         "name": "ShahbazAhmed",
         "r": [
          12,
          523,
          9.339285714285714,
          25
         ],
         "theta": [
          "Wickets",
          "Runs",
          "Economy",
          "Matches"
         ],
         "type": "scatterpolar"
        },
        {
         "fill": "toself",
         "name": "ShahbazNadeem",
         "r": [
          1,
          36,
          9,
          1
         ],
         "theta": [
          "Wickets",
          "Runs",
          "Economy",
          "Matches"
         ],
         "type": "scatterpolar"
        },
        {
         "fill": "toself",
         "name": "ShakibAlHasan",
         "r": [
          4,
          187,
          7.1923076923076925,
          8
         ],
         "theta": [
          "Wickets",
          "Runs",
          "Economy",
          "Matches"
         ],
         "type": "scatterpolar"
        },
        {
         "fill": "toself",
         "name": "ShardulThakur",
         "r": [
          43,
          1220,
          9.538702111024238,
          39
         ],
         "theta": [
          "Wickets",
          "Runs",
          "Economy",
          "Matches"
         ],
         "type": "scatterpolar"
        },
        {
         "fill": "toself",
         "name": "ShashankSingh",
         "r": [
          0,
          20,
          10,
          2
         ],
         "theta": [
          "Wickets",
          "Runs",
          "Economy",
          "Matches"
         ],
         "type": "scatterpolar"
        },
        {
         "fill": "toself",
         "name": "ShivamDube",
         "r": [
          0,
          85,
          12.142857142857142,
          6
         ],
         "theta": [
          "Wickets",
          "Runs",
          "Economy",
          "Matches"
         ],
         "type": "scatterpolar"
        },
        {
         "fill": "toself",
         "name": "ShivamMavi",
         "r": [
          16,
          460,
          8.502772643253234,
          15
         ],
         "theta": [
          "Wickets",
          "Runs",
          "Economy",
          "Matches"
         ],
         "type": "scatterpolar"
        },
        {
         "fill": "toself",
         "name": "ShreyasGopal",
         "r": [
          1,
          118,
          11.8,
          4
         ],
         "theta": [
          "Wickets",
          "Runs",
          "Economy",
          "Matches"
         ],
         "type": "scatterpolar"
        },
        {
         "fill": "toself",
         "name": "ShreyasIyer",
         "r": [
          0,
          7,
          7,
          1
         ],
         "theta": [
          "Wickets",
          "Runs",
          "Economy",
          "Matches"
         ],
         "type": "scatterpolar"
        },
        {
         "fill": "toself",
         "name": "SiddarthKaul",
         "r": [
          5,
          259,
          8.86986301369863,
          8
         ],
         "theta": [
          "Wickets",
          "Runs",
          "Economy",
          "Matches"
         ],
         "type": "scatterpolar"
        },
        {
         "fill": "toself",
         "name": "SikandarRaza",
         "r": [
          3,
          119,
          9.916666666666666,
          6
         ],
         "theta": [
          "Wickets",
          "Runs",
          "Economy",
          "Matches"
         ],
         "type": "scatterpolar"
        },
        {
         "fill": "toself",
         "name": "SimarjeetSingh",
         "r": [
          4,
          138,
          7.666666666666667,
          6
         ],
         "theta": [
          "Wickets",
          "Runs",
          "Economy",
          "Matches"
         ],
         "type": "scatterpolar"
        },
        {
         "fill": "toself",
         "name": "SisandaMagala",
         "r": [
          1,
          51,
          8.5,
          2
         ],
         "theta": [
          "Wickets",
          "Runs",
          "Economy",
          "Matches"
         ],
         "type": "scatterpolar"
        },
        {
         "fill": "toself",
         "name": "SunilNarine",
         "r": [
          36,
          1056,
          6.6,
          42
         ],
         "theta": [
          "Wickets",
          "Runs",
          "Economy",
          "Matches"
         ],
         "type": "scatterpolar"
        },
        {
         "fill": "toself",
         "name": "SuyashSharma",
         "r": [
          10,
          321,
          8.23076923076923,
          11
         ],
         "theta": [
          "Wickets",
          "Runs",
          "Economy",
          "Matches"
         ],
         "type": "scatterpolar"
        },
        {
         "fill": "toself",
         "name": "SwapnilSingh",
         "r": [
          0,
          18,
          9,
          2
         ],
         "theta": [
          "Wickets",
          "Runs",
          "Economy",
          "Matches"
         ],
         "type": "scatterpolar"
        },
        {
         "fill": "toself",
         "name": "TNatarajan",
         "r": [
          30,
          885,
          9.21875,
          25
         ],
         "theta": [
          "Wickets",
          "Runs",
          "Economy",
          "Matches"
         ],
         "type": "scatterpolar"
        },
        {
         "fill": "toself",
         "name": "TabraizShamsi",
         "r": [
          0,
          34,
          8.5,
          1
         ],
         "theta": [
          "Wickets",
          "Runs",
          "Economy",
          "Matches"
         ],
         "type": "scatterpolar"
        },
        {
         "fill": "toself",
         "name": "TilakVarma",
         "r": [
          0,
          20,
          6.666666666666667,
          3
         ],
         "theta": [
          "Wickets",
          "Runs",
          "Economy",
          "Matches"
         ],
         "type": "scatterpolar"
        },
        {
         "fill": "toself",
         "name": "TimSouthee",
         "r": [
          19,
          449,
          8.471698113207546,
          14
         ],
         "theta": [
          "Wickets",
          "Runs",
          "Economy",
          "Matches"
         ],
         "type": "scatterpolar"
        },
        {
         "fill": "toself",
         "name": "TomCurran",
         "r": [
          4,
          104,
          9.62962962962963,
          3
         ],
         "theta": [
          "Wickets",
          "Runs",
          "Economy",
          "Matches"
         ],
         "type": "scatterpolar"
        },
        {
         "fill": "toself",
         "name": "TrentBoult",
         "r": [
          42,
          1210,
          8.023872679045093,
          40
         ],
         "theta": [
          "Wickets",
          "Runs",
          "Economy",
          "Matches"
         ],
         "type": "scatterpolar"
        },
        {
         "fill": "toself",
         "name": "TristanStubbs",
         "r": [
          1,
          14,
          7,
          1
         ],
         "theta": [
          "Wickets",
          "Runs",
          "Economy",
          "Matches"
         ],
         "type": "scatterpolar"
        },
        {
         "fill": "toself",
         "name": "TusharDeshpande",
         "r": [
          22,
          626,
          10.016,
          17
         ],
         "theta": [
          "Wickets",
          "Runs",
          "Economy",
          "Matches"
         ],
         "type": "scatterpolar"
        },
        {
         "fill": "toself",
         "name": "TymalMills",
         "r": [
          6,
          190,
          11.176470588235293,
          5
         ],
         "theta": [
          "Wickets",
          "Runs",
          "Economy",
          "Matches"
         ],
         "type": "scatterpolar"
        },
        {
         "fill": "toself",
         "name": "UmeshYadav",
         "r": [
          17,
          528,
          7.880597014925373,
          20
         ],
         "theta": [
          "Wickets",
          "Runs",
          "Economy",
          "Matches"
         ],
         "type": "scatterpolar"
        },
        {
         "fill": "toself",
         "name": "UmranMalik",
         "r": [
          29,
          757,
          9.334155363748458,
          25
         ],
         "theta": [
          "Wickets",
          "Runs",
          "Economy",
          "Matches"
         ],
         "type": "scatterpolar"
        },
        {
         "fill": "toself",
         "name": "VaibhavArora",
         "r": [
          8,
          310,
          9.253731343283581,
          10
         ],
         "theta": [
          "Wickets",
          "Runs",
          "Economy",
          "Matches"
         ],
         "type": "scatterpolar"
        },
        {
         "fill": "toself",
         "name": "VarunAaron",
         "r": [
          2,
          52,
          10.4,
          2
         ],
         "theta": [
          "Wickets",
          "Runs",
          "Economy",
          "Matches"
         ],
         "type": "scatterpolar"
        },
        {
         "fill": "toself",
         "name": "VarunChakravarthy",
         "r": [
          44,
          1209,
          7.584692597239648,
          42
         ],
         "theta": [
          "Wickets",
          "Runs",
          "Economy",
          "Matches"
         ],
         "type": "scatterpolar"
        },
        {
         "fill": "toself",
         "name": "VenkateshIyer",
         "r": [
          3,
          115,
          9.34959349593496,
          8
         ],
         "theta": [
          "Wickets",
          "Runs",
          "Economy",
          "Matches"
         ],
         "type": "scatterpolar"
        },
        {
         "fill": "toself",
         "name": "VijayShankar",
         "r": [
          3,
          96,
          10.322580645161292,
          6
         ],
         "theta": [
          "Wickets",
          "Runs",
          "Economy",
          "Matches"
         ],
         "type": "scatterpolar"
        },
        {
         "fill": "toself",
         "name": "VijaykumarVyshak",
         "r": [
          9,
          253,
          10.541666666666666,
          7
         ],
         "theta": [
          "Wickets",
          "Runs",
          "Economy",
          "Matches"
         ],
         "type": "scatterpolar"
        },
        {
         "fill": "toself",
         "name": "VivrantSharma",
         "r": [
          0,
          37,
          12.333333333333334,
          2
         ],
         "theta": [
          "Wickets",
          "Runs",
          "Economy",
          "Matches"
         ],
         "type": "scatterpolar"
        },
        {
         "fill": "toself",
         "name": "WaninduHasaranga",
         "r": [
          35,
          748,
          8.130434782608695,
          26
         ],
         "theta": [
          "Wickets",
          "Runs",
          "Economy",
          "Matches"
         ],
         "type": "scatterpolar"
        },
        {
         "fill": "toself",
         "name": "WashingtonSundar",
         "r": [
          12,
          503,
          8.192182410423452,
          21
         ],
         "theta": [
          "Wickets",
          "Runs",
          "Economy",
          "Matches"
         ],
         "type": "scatterpolar"
        },
        {
         "fill": "toself",
         "name": "WayneParnell",
         "r": [
          9,
          236,
          9.402390438247012,
          7
         ],
         "theta": [
          "Wickets",
          "Runs",
          "Economy",
          "Matches"
         ],
         "type": "scatterpolar"
        },
        {
         "fill": "toself",
         "name": "YashDayal",
         "r": [
          13,
          461,
          10.021739130434783,
          14
         ],
         "theta": [
          "Wickets",
          "Runs",
          "Economy",
          "Matches"
         ],
         "type": "scatterpolar"
        },
        {
         "fill": "toself",
         "name": "YashThakur",
         "r": [
          13,
          289,
          9.174603174603174,
          9
         ],
         "theta": [
          "Wickets",
          "Runs",
          "Economy",
          "Matches"
         ],
         "type": "scatterpolar"
        },
        {
         "fill": "toself",
         "name": "YashasviJaiswal",
         "r": [
          0,
          6,
          59.999999999999986,
          1
         ],
         "theta": [
          "Wickets",
          "Runs",
          "Economy",
          "Matches"
         ],
         "type": "scatterpolar"
        },
        {
         "fill": "toself",
         "name": "YudhvirSingh",
         "r": [
          3,
          70,
          8.75,
          3
         ],
         "theta": [
          "Wickets",
          "Runs",
          "Economy",
          "Matches"
         ],
         "type": "scatterpolar"
        },
        {
         "fill": "toself",
         "name": "YuzvendraChahal",
         "r": [
          66,
          1333,
          7.68299711815562,
          46
         ],
         "theta": [
          "Wickets",
          "Runs",
          "Economy",
          "Matches"
         ],
         "type": "scatterpolar"
        }
       ],
       "layout": {
        "polar": {
         "radialaxis": {
          "visible": true
         }
        },
        "template": {
         "data": {
          "bar": [
           {
            "error_x": {
             "color": "#2a3f5f"
            },
            "error_y": {
             "color": "#2a3f5f"
            },
            "marker": {
             "line": {
              "color": "#E5ECF6",
              "width": 0.5
             },
             "pattern": {
              "fillmode": "overlay",
              "size": 10,
              "solidity": 0.2
             }
            },
            "type": "bar"
           }
          ],
          "barpolar": [
           {
            "marker": {
             "line": {
              "color": "#E5ECF6",
              "width": 0.5
             },
             "pattern": {
              "fillmode": "overlay",
              "size": 10,
              "solidity": 0.2
             }
            },
            "type": "barpolar"
           }
          ],
          "carpet": [
           {
            "aaxis": {
             "endlinecolor": "#2a3f5f",
             "gridcolor": "white",
             "linecolor": "white",
             "minorgridcolor": "white",
             "startlinecolor": "#2a3f5f"
            },
            "baxis": {
             "endlinecolor": "#2a3f5f",
             "gridcolor": "white",
             "linecolor": "white",
             "minorgridcolor": "white",
             "startlinecolor": "#2a3f5f"
            },
            "type": "carpet"
           }
          ],
          "choropleth": [
           {
            "colorbar": {
             "outlinewidth": 0,
             "ticks": ""
            },
            "type": "choropleth"
           }
          ],
          "contour": [
           {
            "colorbar": {
             "outlinewidth": 0,
             "ticks": ""
            },
            "colorscale": [
             [
              0,
              "#0d0887"
             ],
             [
              0.1111111111111111,
              "#46039f"
             ],
             [
              0.2222222222222222,
              "#7201a8"
             ],
             [
              0.3333333333333333,
              "#9c179e"
             ],
             [
              0.4444444444444444,
              "#bd3786"
             ],
             [
              0.5555555555555556,
              "#d8576b"
             ],
             [
              0.6666666666666666,
              "#ed7953"
             ],
             [
              0.7777777777777778,
              "#fb9f3a"
             ],
             [
              0.8888888888888888,
              "#fdca26"
             ],
             [
              1,
              "#f0f921"
             ]
            ],
            "type": "contour"
           }
          ],
          "contourcarpet": [
           {
            "colorbar": {
             "outlinewidth": 0,
             "ticks": ""
            },
            "type": "contourcarpet"
           }
          ],
          "heatmap": [
           {
            "colorbar": {
             "outlinewidth": 0,
             "ticks": ""
            },
            "colorscale": [
             [
              0,
              "#0d0887"
             ],
             [
              0.1111111111111111,
              "#46039f"
             ],
             [
              0.2222222222222222,
              "#7201a8"
             ],
             [
              0.3333333333333333,
              "#9c179e"
             ],
             [
              0.4444444444444444,
              "#bd3786"
             ],
             [
              0.5555555555555556,
              "#d8576b"
             ],
             [
              0.6666666666666666,
              "#ed7953"
             ],
             [
              0.7777777777777778,
              "#fb9f3a"
             ],
             [
              0.8888888888888888,
              "#fdca26"
             ],
             [
              1,
              "#f0f921"
             ]
            ],
            "type": "heatmap"
           }
          ],
          "heatmapgl": [
           {
            "colorbar": {
             "outlinewidth": 0,
             "ticks": ""
            },
            "colorscale": [
             [
              0,
              "#0d0887"
             ],
             [
              0.1111111111111111,
              "#46039f"
             ],
             [
              0.2222222222222222,
              "#7201a8"
             ],
             [
              0.3333333333333333,
              "#9c179e"
             ],
             [
              0.4444444444444444,
              "#bd3786"
             ],
             [
              0.5555555555555556,
              "#d8576b"
             ],
             [
              0.6666666666666666,
              "#ed7953"
             ],
             [
              0.7777777777777778,
              "#fb9f3a"
             ],
             [
              0.8888888888888888,
              "#fdca26"
             ],
             [
              1,
              "#f0f921"
             ]
            ],
            "type": "heatmapgl"
           }
          ],
          "histogram": [
           {
            "marker": {
             "pattern": {
              "fillmode": "overlay",
              "size": 10,
              "solidity": 0.2
             }
            },
            "type": "histogram"
           }
          ],
          "histogram2d": [
           {
            "colorbar": {
             "outlinewidth": 0,
             "ticks": ""
            },
            "colorscale": [
             [
              0,
              "#0d0887"
             ],
             [
              0.1111111111111111,
              "#46039f"
             ],
             [
              0.2222222222222222,
              "#7201a8"
             ],
             [
              0.3333333333333333,
              "#9c179e"
             ],
             [
              0.4444444444444444,
              "#bd3786"
             ],
             [
              0.5555555555555556,
              "#d8576b"
             ],
             [
              0.6666666666666666,
              "#ed7953"
             ],
             [
              0.7777777777777778,
              "#fb9f3a"
             ],
             [
              0.8888888888888888,
              "#fdca26"
             ],
             [
              1,
              "#f0f921"
             ]
            ],
            "type": "histogram2d"
           }
          ],
          "histogram2dcontour": [
           {
            "colorbar": {
             "outlinewidth": 0,
             "ticks": ""
            },
            "colorscale": [
             [
              0,
              "#0d0887"
             ],
             [
              0.1111111111111111,
              "#46039f"
             ],
             [
              0.2222222222222222,
              "#7201a8"
             ],
             [
              0.3333333333333333,
              "#9c179e"
             ],
             [
              0.4444444444444444,
              "#bd3786"
             ],
             [
              0.5555555555555556,
              "#d8576b"
             ],
             [
              0.6666666666666666,
              "#ed7953"
             ],
             [
              0.7777777777777778,
              "#fb9f3a"
             ],
             [
              0.8888888888888888,
              "#fdca26"
             ],
             [
              1,
              "#f0f921"
             ]
            ],
            "type": "histogram2dcontour"
           }
          ],
          "mesh3d": [
           {
            "colorbar": {
             "outlinewidth": 0,
             "ticks": ""
            },
            "type": "mesh3d"
           }
          ],
          "parcoords": [
           {
            "line": {
             "colorbar": {
              "outlinewidth": 0,
              "ticks": ""
             }
            },
            "type": "parcoords"
           }
          ],
          "pie": [
           {
            "automargin": true,
            "type": "pie"
           }
          ],
          "scatter": [
           {
            "fillpattern": {
             "fillmode": "overlay",
             "size": 10,
             "solidity": 0.2
            },
            "type": "scatter"
           }
          ],
          "scatter3d": [
           {
            "line": {
             "colorbar": {
              "outlinewidth": 0,
              "ticks": ""
             }
            },
            "marker": {
             "colorbar": {
              "outlinewidth": 0,
              "ticks": ""
             }
            },
            "type": "scatter3d"
           }
          ],
          "scattercarpet": [
           {
            "marker": {
             "colorbar": {
              "outlinewidth": 0,
              "ticks": ""
             }
            },
            "type": "scattercarpet"
           }
          ],
          "scattergeo": [
           {
            "marker": {
             "colorbar": {
              "outlinewidth": 0,
              "ticks": ""
             }
            },
            "type": "scattergeo"
           }
          ],
          "scattergl": [
           {
            "marker": {
             "colorbar": {
              "outlinewidth": 0,
              "ticks": ""
             }
            },
            "type": "scattergl"
           }
          ],
          "scattermapbox": [
           {
            "marker": {
             "colorbar": {
              "outlinewidth": 0,
              "ticks": ""
             }
            },
            "type": "scattermapbox"
           }
          ],
          "scatterpolar": [
           {
            "marker": {
             "colorbar": {
              "outlinewidth": 0,
              "ticks": ""
             }
            },
            "type": "scatterpolar"
           }
          ],
          "scatterpolargl": [
           {
            "marker": {
             "colorbar": {
              "outlinewidth": 0,
              "ticks": ""
             }
            },
            "type": "scatterpolargl"
           }
          ],
          "scatterternary": [
           {
            "marker": {
             "colorbar": {
              "outlinewidth": 0,
              "ticks": ""
             }
            },
            "type": "scatterternary"
           }
          ],
          "surface": [
           {
            "colorbar": {
             "outlinewidth": 0,
             "ticks": ""
            },
            "colorscale": [
             [
              0,
              "#0d0887"
             ],
             [
              0.1111111111111111,
              "#46039f"
             ],
             [
              0.2222222222222222,
              "#7201a8"
             ],
             [
              0.3333333333333333,
              "#9c179e"
             ],
             [
              0.4444444444444444,
              "#bd3786"
             ],
             [
              0.5555555555555556,
              "#d8576b"
             ],
             [
              0.6666666666666666,
              "#ed7953"
             ],
             [
              0.7777777777777778,
              "#fb9f3a"
             ],
             [
              0.8888888888888888,
              "#fdca26"
             ],
             [
              1,
              "#f0f921"
             ]
            ],
            "type": "surface"
           }
          ],
          "table": [
           {
            "cells": {
             "fill": {
              "color": "#EBF0F8"
             },
             "line": {
              "color": "white"
             }
            },
            "header": {
             "fill": {
              "color": "#C8D4E3"
             },
             "line": {
              "color": "white"
             }
            },
            "type": "table"
           }
          ]
         },
         "layout": {
          "annotationdefaults": {
           "arrowcolor": "#2a3f5f",
           "arrowhead": 0,
           "arrowwidth": 1
          },
          "autotypenumbers": "strict",
          "coloraxis": {
           "colorbar": {
            "outlinewidth": 0,
            "ticks": ""
           }
          },
          "colorscale": {
           "diverging": [
            [
             0,
             "#8e0152"
            ],
            [
             0.1,
             "#c51b7d"
            ],
            [
             0.2,
             "#de77ae"
            ],
            [
             0.3,
             "#f1b6da"
            ],
            [
             0.4,
             "#fde0ef"
            ],
            [
             0.5,
             "#f7f7f7"
            ],
            [
             0.6,
             "#e6f5d0"
            ],
            [
             0.7,
             "#b8e186"
            ],
            [
             0.8,
             "#7fbc41"
            ],
            [
             0.9,
             "#4d9221"
            ],
            [
             1,
             "#276419"
            ]
           ],
           "sequential": [
            [
             0,
             "#0d0887"
            ],
            [
             0.1111111111111111,
             "#46039f"
            ],
            [
             0.2222222222222222,
             "#7201a8"
            ],
            [
             0.3333333333333333,
             "#9c179e"
            ],
            [
             0.4444444444444444,
             "#bd3786"
            ],
            [
             0.5555555555555556,
             "#d8576b"
            ],
            [
             0.6666666666666666,
             "#ed7953"
            ],
            [
             0.7777777777777778,
             "#fb9f3a"
            ],
            [
             0.8888888888888888,
             "#fdca26"
            ],
            [
             1,
             "#f0f921"
            ]
           ],
           "sequentialminus": [
            [
             0,
             "#0d0887"
            ],
            [
             0.1111111111111111,
             "#46039f"
            ],
            [
             0.2222222222222222,
             "#7201a8"
            ],
            [
             0.3333333333333333,
             "#9c179e"
            ],
            [
             0.4444444444444444,
             "#bd3786"
            ],
            [
             0.5555555555555556,
             "#d8576b"
            ],
            [
             0.6666666666666666,
             "#ed7953"
            ],
            [
             0.7777777777777778,
             "#fb9f3a"
            ],
            [
             0.8888888888888888,
             "#fdca26"
            ],
            [
             1,
             "#f0f921"
            ]
           ]
          },
          "colorway": [
           "#636efa",
           "#EF553B",
           "#00cc96",
           "#ab63fa",
           "#FFA15A",
           "#19d3f3",
           "#FF6692",
           "#B6E880",
           "#FF97FF",
           "#FECB52"
          ],
          "font": {
           "color": "#2a3f5f"
          },
          "geo": {
           "bgcolor": "white",
           "lakecolor": "white",
           "landcolor": "#E5ECF6",
           "showlakes": true,
           "showland": true,
           "subunitcolor": "white"
          },
          "hoverlabel": {
           "align": "left"
          },
          "hovermode": "closest",
          "mapbox": {
           "style": "light"
          },
          "paper_bgcolor": "white",
          "plot_bgcolor": "#E5ECF6",
          "polar": {
           "angularaxis": {
            "gridcolor": "white",
            "linecolor": "white",
            "ticks": ""
           },
           "bgcolor": "#E5ECF6",
           "radialaxis": {
            "gridcolor": "white",
            "linecolor": "white",
            "ticks": ""
           }
          },
          "scene": {
           "xaxis": {
            "backgroundcolor": "#E5ECF6",
            "gridcolor": "white",
            "gridwidth": 2,
            "linecolor": "white",
            "showbackground": true,
            "ticks": "",
            "zerolinecolor": "white"
           },
           "yaxis": {
            "backgroundcolor": "#E5ECF6",
            "gridcolor": "white",
            "gridwidth": 2,
            "linecolor": "white",
            "showbackground": true,
            "ticks": "",
            "zerolinecolor": "white"
           },
           "zaxis": {
            "backgroundcolor": "#E5ECF6",
            "gridcolor": "white",
            "gridwidth": 2,
            "linecolor": "white",
            "showbackground": true,
            "ticks": "",
            "zerolinecolor": "white"
           }
          },
          "shapedefaults": {
           "line": {
            "color": "#2a3f5f"
           }
          },
          "ternary": {
           "aaxis": {
            "gridcolor": "white",
            "linecolor": "white",
            "ticks": ""
           },
           "baxis": {
            "gridcolor": "white",
            "linecolor": "white",
            "ticks": ""
           },
           "bgcolor": "#E5ECF6",
           "caxis": {
            "gridcolor": "white",
            "linecolor": "white",
            "ticks": ""
           }
          },
          "title": {
           "x": 0.05
          },
          "xaxis": {
           "automargin": true,
           "gridcolor": "white",
           "linecolor": "white",
           "ticks": "",
           "title": {
            "standoff": 15
           },
           "zerolinecolor": "white",
           "zerolinewidth": 2
          },
          "yaxis": {
           "automargin": true,
           "gridcolor": "white",
           "linecolor": "white",
           "ticks": "",
           "title": {
            "standoff": 15
           },
           "zerolinecolor": "white",
           "zerolinewidth": 2
          }
         }
        },
        "title": {
         "text": "Bowler Performance Comparison (Radar Plot)"
        }
       }
      }
     },
     "metadata": {},
     "output_type": "display_data"
    }
   ],
   "source": [
    "import plotly.graph_objects as go\n",
    "fig = go.Figure()\n",
    "for index, row in bowling_stats.iterrows():\n",
    "    fig.add_trace(go.Scatterpolar(\n",
    "        r=[row['total_wickets'], row['total_runs'], row['economy'], row['matches']],\n",
    "        theta=['Wickets', 'Runs', 'Economy', 'Matches'],\n",
    "        fill='toself', name=row['bowlerName']\n",
    "    ))\n",
    "fig.update_layout(title=\"Bowler Performance Comparison (Radar Plot)\", polar=dict(radialaxis=dict(visible=True)))\n",
    "fig.show()\n"
   ]
  },
  {
   "cell_type": "code",
   "execution_count": 34,
   "id": "b2e8ef6b",
   "metadata": {},
   "outputs": [
    {
     "data": {
      "application/vnd.plotly.v1+json": {
       "config": {
        "plotlyServerURL": "https://plot.ly"
       },
       "data": [
        {
         "alignmentgroup": "True",
         "hovertemplate": "variable=total_wickets<br>bowlerName=%{x}<br>value=%{y}<extra></extra>",
         "legendgroup": "total_wickets",
         "marker": {
          "color": "#636efa",
          "pattern": {
           "shape": ""
          }
         },
         "name": "total_wickets",
         "offsetgroup": "total_wickets",
         "orientation": "v",
         "showlegend": true,
         "textposition": "auto",
         "type": "bar",
         "x": [
          "AbdulSamad",
          "AbhishekSharma",
          "AdamMilne",
          "AdamZampa",
          "AdilRashid",
          "AidenMarkram",
          "AkashDeep",
          "AkashMadhwal",
          "AkashSingh",
          "AkealHosein",
          "AlzarriJoseph",
          "AmanHakimKhan",
          "AmitMishra",
          "AndreRussell",
          "AndrewTye",
          "AnrichNortje",
          "AnukulRoy",
          "ArjunTendulkar",
          "ArshadKhan",
          "ArshdeepSingh",
          "AveshKhan",
          "AxarPatel",
          "AyushBadoni",
          "BasilThampi",
          "BenStokes",
          "BhuvneshwarKumar",
          "CameronGreen",
          "ChetanSakariya",
          "ChrisJordan",
          "ChrisMorris",
          "ChrisWoakes",
          "DanChristian",
          "DanielSams",
          "DarshanNalkande",
          "DarylMitchell",
          "DavidWiese",
          "DavidWilley",
          "DeepakChahar",
          "DeepakHooda",
          "DewaldBrevis",
          "DhawalKulkarni",
          "DuanJansen",
          "DushmanthaChameera",
          "DwainePretorius",
          "DwayneBravo",
          "FabianAllen",
          "FazalhaqFarooqi",
          "GeorgeGarton",
          "GlennMaxwell",
          "GlennPhillips",
          "GurnoorBrar",
          "HarbhajanSingh",
          "HardikPandya",
          "HarpreetBrar",
          "HarshalPatel",
          "HarshitRana",
          "HimanshuSharma",
          "HrithikShokeen",
          "ImranTahir",
          "IshanPorel",
          "IshantSharma",
          "JagadeeshaSuchith",
          "JalajSaxena",
          "JamesNeesham",
          "JasonBehrendorff",
          "JasonHolder",
          "JaspritBumrah",
          "JayantYadav",
          "JaydevUnadkat",
          "JhyeRichardson",
          "JoeRoot",
          "JofraArcher",
          "JoshHazlewood",
          "JoshLittle",
          "KMAsif",
          "KagisoRabada",
          "KamleshNagarkoti",
          "KaneRichardson",
          "KarnSharma",
          "KartikTyagi",
          "KhaleelAhmed",
          "KieronPollard",
          "KrishnappaGowtham",
          "KrunalPandya",
          "KuldeepSen",
          "KuldeepYadav",
          "KuldipYadav",
          "KulwantKhejroliya",
          "KumarKartikeya",
          "KyleJamieson",
          "KyleMayers",
          "LalitYadav",
          "LiamLivingstone",
          "LockieFerguson",
          "LukmanMeriwala",
          "LungiNgidi",
          "MaheeshTheekshana",
          "MahipalLomror",
          "MarcoJansen",
          "MarcusStoinis",
          "MarkWood",
          "MatheeshaPathirana",
          "MatthewShort",
          "MayankDagar",
          "MayankMarkande",
          "MichaelBracewell",
          "MitchellMarsh",
          "MitchellSantner",
          "MoeenAli",
          "MohammadNabi",
          "MohammedShami",
          "MohammedSiraj",
          "MohitRathee",
          "MohitSharma",
          "MohsinKhan",
          "MoisesHenriques",
          "MujeebUrRahman",
          "MukeshChoudhary",
          "MukeshKumar",
          "MuruganAshwin",
          "MustafizurRahman",
          "NathanCoulter-Nile",
          "NathanEllis",
          "NavdeepSaini",
          "Naveen-ul-Haq",
          "NitishKumarReddy",
          "NitishRana",
          "NoorAhmad",
          "ObedMcCoy",
          "OdeanSmith",
          "PatCummins",
          "PiyushChawla",
          "PradeepSangwan",
          "PrashantSolanki",
          "PrasidhKrishna",
          "PraveenDubey",
          "RaghavGoyal",
          "RahulChahar",
          "RahulTewatia",
          "RajvardhanHangargekar",
          "RamandeepSingh",
          "RashidKhan",
          "RasikhSalam",
          "RaviBishnoi",
          "RavichandranAshwin",
          "RavindraJadeja",
          "ReeceTopley",
          "RileyMeredith",
          "RipalPatel",
          "RishiDhawan",
          "RiyanParag",
          "RohitSharma",
          "RomarioShepherd",
          "RovmanPowell",
          "SaiKishore",
          "SamCurran",
          "SandeepSharma",
          "SandeepWarrier",
          "SanjayYadav",
          "SeanAbbott",
          "ShahbazAhmed",
          "ShahbazNadeem",
          "ShakibAlHasan",
          "ShardulThakur",
          "ShashankSingh",
          "ShivamDube",
          "ShivamMavi",
          "ShreyasGopal",
          "ShreyasIyer",
          "SiddarthKaul",
          "SikandarRaza",
          "SimarjeetSingh",
          "SisandaMagala",
          "SunilNarine",
          "SuyashSharma",
          "SwapnilSingh",
          "TNatarajan",
          "TabraizShamsi",
          "TilakVarma",
          "TimSouthee",
          "TomCurran",
          "TrentBoult",
          "TristanStubbs",
          "TusharDeshpande",
          "TymalMills",
          "UmeshYadav",
          "UmranMalik",
          "VaibhavArora",
          "VarunAaron",
          "VarunChakravarthy",
          "VenkateshIyer",
          "VijayShankar",
          "VijaykumarVyshak",
          "VivrantSharma",
          "WaninduHasaranga",
          "WashingtonSundar",
          "WayneParnell",
          "YashDayal",
          "YashThakur",
          "YashasviJaiswal",
          "YudhvirSingh",
          "YuzvendraChahal"
         ],
         "xaxis": "x",
         "y": [
          1,
          6,
          3,
          8,
          2,
          2,
          6,
          14,
          5,
          1,
          14,
          0,
          12,
          35,
          2,
          31,
          4,
          3,
          5,
          45,
          47,
          30,
          2,
          5,
          0,
          34,
          6,
          20,
          9,
          15,
          5,
          4,
          14,
          3,
          0,
          0,
          4,
          27,
          3,
          1,
          0,
          1,
          9,
          6,
          30,
          2,
          6,
          3,
          12,
          2,
          0,
          0,
          11,
          18,
          65,
          6,
          0,
          5,
          2,
          1,
          11,
          7,
          0,
          5,
          14,
          34,
          36,
          2,
          10,
          3,
          0,
          2,
          34,
          7,
          4,
          45,
          0,
          1,
          10,
          6,
          30,
          9,
          8,
          24,
          8,
          31,
          2,
          2,
          10,
          9,
          0,
          10,
          8,
          26,
          1,
          5,
          21,
          1,
          19,
          11,
          11,
          19,
          0,
          1,
          13,
          6,
          16,
          7,
          21,
          2,
          67,
          39,
          0,
          27,
          17,
          4,
          2,
          16,
          7,
          10,
          23,
          7,
          17,
          6,
          11,
          0,
          3,
          16,
          11,
          6,
          16,
          23,
          3,
          2,
          31,
          1,
          0,
          35,
          8,
          3,
          6,
          63,
          0,
          41,
          33,
          37,
          1,
          19,
          0,
          7,
          2,
          0,
          3,
          1,
          6,
          19,
          15,
          0,
          0,
          1,
          12,
          1,
          4,
          43,
          0,
          0,
          16,
          1,
          0,
          5,
          3,
          4,
          1,
          36,
          10,
          0,
          30,
          0,
          0,
          19,
          4,
          42,
          1,
          22,
          6,
          17,
          29,
          8,
          2,
          44,
          3,
          3,
          9,
          0,
          35,
          12,
          9,
          13,
          13,
          0,
          3,
          66
         ],
         "yaxis": "y"
        },
        {
         "alignmentgroup": "True",
         "hovertemplate": "variable=total_runs<br>bowlerName=%{x}<br>value=%{y}<extra></extra>",
         "legendgroup": "total_runs",
         "marker": {
          "color": "#EF553B",
          "pattern": {
           "shape": ""
          }
         },
         "name": "total_runs",
         "offsetgroup": "total_runs",
         "orientation": "v",
         "showlegend": true,
         "textposition": "auto",
         "type": "bar",
         "x": [
          "AbdulSamad",
          "AbhishekSharma",
          "AdamMilne",
          "AdamZampa",
          "AdilRashid",
          "AidenMarkram",
          "AkashDeep",
          "AkashMadhwal",
          "AkashSingh",
          "AkealHosein",
          "AlzarriJoseph",
          "AmanHakimKhan",
          "AmitMishra",
          "AndreRussell",
          "AndrewTye",
          "AnrichNortje",
          "AnukulRoy",
          "ArjunTendulkar",
          "ArshadKhan",
          "ArshdeepSingh",
          "AveshKhan",
          "AxarPatel",
          "AyushBadoni",
          "BasilThampi",
          "BenStokes",
          "BhuvneshwarKumar",
          "CameronGreen",
          "ChetanSakariya",
          "ChrisJordan",
          "ChrisMorris",
          "ChrisWoakes",
          "DanChristian",
          "DanielSams",
          "DarshanNalkande",
          "DarylMitchell",
          "DavidWiese",
          "DavidWilley",
          "DeepakChahar",
          "DeepakHooda",
          "DewaldBrevis",
          "DhawalKulkarni",
          "DuanJansen",
          "DushmanthaChameera",
          "DwainePretorius",
          "DwayneBravo",
          "FabianAllen",
          "FazalhaqFarooqi",
          "GeorgeGarton",
          "GlennMaxwell",
          "GlennPhillips",
          "GurnoorBrar",
          "HarbhajanSingh",
          "HardikPandya",
          "HarpreetBrar",
          "HarshalPatel",
          "HarshitRana",
          "HimanshuSharma",
          "HrithikShokeen",
          "ImranTahir",
          "IshanPorel",
          "IshantSharma",
          "JagadeeshaSuchith",
          "JalajSaxena",
          "JamesNeesham",
          "JasonBehrendorff",
          "JasonHolder",
          "JaspritBumrah",
          "JayantYadav",
          "JaydevUnadkat",
          "JhyeRichardson",
          "JoeRoot",
          "JofraArcher",
          "JoshHazlewood",
          "JoshLittle",
          "KMAsif",
          "KagisoRabada",
          "KamleshNagarkoti",
          "KaneRichardson",
          "KarnSharma",
          "KartikTyagi",
          "KhaleelAhmed",
          "KieronPollard",
          "KrishnappaGowtham",
          "KrunalPandya",
          "KuldeepSen",
          "KuldeepYadav",
          "KuldipYadav",
          "KulwantKhejroliya",
          "KumarKartikeya",
          "KyleJamieson",
          "KyleMayers",
          "LalitYadav",
          "LiamLivingstone",
          "LockieFerguson",
          "LukmanMeriwala",
          "LungiNgidi",
          "MaheeshTheekshana",
          "MahipalLomror",
          "MarcoJansen",
          "MarcusStoinis",
          "MarkWood",
          "MatheeshaPathirana",
          "MatthewShort",
          "MayankDagar",
          "MayankMarkande",
          "MichaelBracewell",
          "MitchellMarsh",
          "MitchellSantner",
          "MoeenAli",
          "MohammadNabi",
          "MohammedShami",
          "MohammedSiraj",
          "MohitRathee",
          "MohitSharma",
          "MohsinKhan",
          "MoisesHenriques",
          "MujeebUrRahman",
          "MukeshChoudhary",
          "MukeshKumar",
          "MuruganAshwin",
          "MustafizurRahman",
          "NathanCoulter-Nile",
          "NathanEllis",
          "NavdeepSaini",
          "Naveen-ul-Haq",
          "NitishKumarReddy",
          "NitishRana",
          "NoorAhmad",
          "ObedMcCoy",
          "OdeanSmith",
          "PatCummins",
          "PiyushChawla",
          "PradeepSangwan",
          "PrashantSolanki",
          "PrasidhKrishna",
          "PraveenDubey",
          "RaghavGoyal",
          "RahulChahar",
          "RahulTewatia",
          "RajvardhanHangargekar",
          "RamandeepSingh",
          "RashidKhan",
          "RasikhSalam",
          "RaviBishnoi",
          "RavichandranAshwin",
          "RavindraJadeja",
          "ReeceTopley",
          "RileyMeredith",
          "RipalPatel",
          "RishiDhawan",
          "RiyanParag",
          "RohitSharma",
          "RomarioShepherd",
          "RovmanPowell",
          "SaiKishore",
          "SamCurran",
          "SandeepSharma",
          "SandeepWarrier",
          "SanjayYadav",
          "SeanAbbott",
          "ShahbazAhmed",
          "ShahbazNadeem",
          "ShakibAlHasan",
          "ShardulThakur",
          "ShashankSingh",
          "ShivamDube",
          "ShivamMavi",
          "ShreyasGopal",
          "ShreyasIyer",
          "SiddarthKaul",
          "SikandarRaza",
          "SimarjeetSingh",
          "SisandaMagala",
          "SunilNarine",
          "SuyashSharma",
          "SwapnilSingh",
          "TNatarajan",
          "TabraizShamsi",
          "TilakVarma",
          "TimSouthee",
          "TomCurran",
          "TrentBoult",
          "TristanStubbs",
          "TusharDeshpande",
          "TymalMills",
          "UmeshYadav",
          "UmranMalik",
          "VaibhavArora",
          "VarunAaron",
          "VarunChakravarthy",
          "VenkateshIyer",
          "VijayShankar",
          "VijaykumarVyshak",
          "VivrantSharma",
          "WaninduHasaranga",
          "WashingtonSundar",
          "WayneParnell",
          "YashDayal",
          "YashThakur",
          "YashasviJaiswal",
          "YudhvirSingh",
          "YuzvendraChahal"
         ],
         "xaxis": "x",
         "y": [
          17,
          212,
          150,
          188,
          91,
          157,
          264,
          219,
          227,
          40,
          489,
          13,
          227,
          638,
          107,
          768,
          120,
          92,
          190,
          1220,
          1115,
          939,
          11,
          152,
          30,
          1143,
          361,
          599,
          468,
          376,
          82,
          155,
          409,
          103,
          27,
          38,
          177,
          707,
          187,
          8,
          48,
          53,
          384,
          238,
          562,
          136,
          227,
          135,
          394,
          40,
          42,
          63,
          450,
          503,
          1323,
          198,
          28,
          314,
          16,
          39,
          303,
          185,
          27,
          95,
          387,
          922,
          793,
          156,
          450,
          117,
          14,
          190,
          746,
          294,
          156,
          1069,
          54,
          29,
          223,
          295,
          793,
          220,
          217,
          843,
          265,
          780,
          84,
          64,
          329,
          269,
          59,
          369,
          296,
          747,
          32,
          125,
          616,
          82,
          586,
          284,
          130,
          401,
          25,
          83,
          383,
          95,
          272,
          211,
          501,
          86,
          1405,
          1242,
          29,
          361,
          304,
          45,
          29,
          424,
          326,
          378,
          759,
          175,
          484,
          198,
          219,
          54,
          110,
          369,
          250,
          178,
          449,
          533,
          65,
          38,
          902,
          19,
          33,
          1063,
          431,
          60,
          54,
          1317,
          28,
          1077,
          1175,
          1014,
          14,
          612,
          22,
          216,
          132,
          13,
          98,
          35,
          121,
          817,
          752,
          15,
          23,
          47,
          523,
          36,
          187,
          1220,
          20,
          85,
          460,
          118,
          7,
          259,
          119,
          138,
          51,
          1056,
          321,
          18,
          885,
          34,
          20,
          449,
          104,
          1210,
          14,
          626,
          190,
          528,
          757,
          310,
          52,
          1209,
          115,
          96,
          253,
          37,
          748,
          503,
          236,
          461,
          289,
          6,
          70,
          1333
         ],
         "yaxis": "y"
        },
        {
         "alignmentgroup": "True",
         "hovertemplate": "variable=economy<br>bowlerName=%{x}<br>value=%{y}<extra></extra>",
         "legendgroup": "economy",
         "marker": {
          "color": "#00cc96",
          "pattern": {
           "shape": ""
          }
         },
         "name": "economy",
         "offsetgroup": "economy",
         "orientation": "v",
         "showlegend": true,
         "textposition": "auto",
         "type": "bar",
         "x": [
          "AbdulSamad",
          "AbhishekSharma",
          "AdamMilne",
          "AdamZampa",
          "AdilRashid",
          "AidenMarkram",
          "AkashDeep",
          "AkashMadhwal",
          "AkashSingh",
          "AkealHosein",
          "AlzarriJoseph",
          "AmanHakimKhan",
          "AmitMishra",
          "AndreRussell",
          "AndrewTye",
          "AnrichNortje",
          "AnukulRoy",
          "ArjunTendulkar",
          "ArshadKhan",
          "ArshdeepSingh",
          "AveshKhan",
          "AxarPatel",
          "AyushBadoni",
          "BasilThampi",
          "BenStokes",
          "BhuvneshwarKumar",
          "CameronGreen",
          "ChetanSakariya",
          "ChrisJordan",
          "ChrisMorris",
          "ChrisWoakes",
          "DanChristian",
          "DanielSams",
          "DarshanNalkande",
          "DarylMitchell",
          "DavidWiese",
          "DavidWilley",
          "DeepakChahar",
          "DeepakHooda",
          "DewaldBrevis",
          "DhawalKulkarni",
          "DuanJansen",
          "DushmanthaChameera",
          "DwainePretorius",
          "DwayneBravo",
          "FabianAllen",
          "FazalhaqFarooqi",
          "GeorgeGarton",
          "GlennMaxwell",
          "GlennPhillips",
          "GurnoorBrar",
          "HarbhajanSingh",
          "HardikPandya",
          "HarpreetBrar",
          "HarshalPatel",
          "HarshitRana",
          "HimanshuSharma",
          "HrithikShokeen",
          "ImranTahir",
          "IshanPorel",
          "IshantSharma",
          "JagadeeshaSuchith",
          "JalajSaxena",
          "JamesNeesham",
          "JasonBehrendorff",
          "JasonHolder",
          "JaspritBumrah",
          "JayantYadav",
          "JaydevUnadkat",
          "JhyeRichardson",
          "JoeRoot",
          "JofraArcher",
          "JoshHazlewood",
          "JoshLittle",
          "KMAsif",
          "KagisoRabada",
          "KamleshNagarkoti",
          "KaneRichardson",
          "KarnSharma",
          "KartikTyagi",
          "KhaleelAhmed",
          "KieronPollard",
          "KrishnappaGowtham",
          "KrunalPandya",
          "KuldeepSen",
          "KuldeepYadav",
          "KuldipYadav",
          "KulwantKhejroliya",
          "KumarKartikeya",
          "KyleJamieson",
          "KyleMayers",
          "LalitYadav",
          "LiamLivingstone",
          "LockieFerguson",
          "LukmanMeriwala",
          "LungiNgidi",
          "MaheeshTheekshana",
          "MahipalLomror",
          "MarcoJansen",
          "MarcusStoinis",
          "MarkWood",
          "MatheeshaPathirana",
          "MatthewShort",
          "MayankDagar",
          "MayankMarkande",
          "MichaelBracewell",
          "MitchellMarsh",
          "MitchellSantner",
          "MoeenAli",
          "MohammadNabi",
          "MohammedShami",
          "MohammedSiraj",
          "MohitRathee",
          "MohitSharma",
          "MohsinKhan",
          "MoisesHenriques",
          "MujeebUrRahman",
          "MukeshChoudhary",
          "MukeshKumar",
          "MuruganAshwin",
          "MustafizurRahman",
          "NathanCoulter-Nile",
          "NathanEllis",
          "NavdeepSaini",
          "Naveen-ul-Haq",
          "NitishKumarReddy",
          "NitishRana",
          "NoorAhmad",
          "ObedMcCoy",
          "OdeanSmith",
          "PatCummins",
          "PiyushChawla",
          "PradeepSangwan",
          "PrashantSolanki",
          "PrasidhKrishna",
          "PraveenDubey",
          "RaghavGoyal",
          "RahulChahar",
          "RahulTewatia",
          "RajvardhanHangargekar",
          "RamandeepSingh",
          "RashidKhan",
          "RasikhSalam",
          "RaviBishnoi",
          "RavichandranAshwin",
          "RavindraJadeja",
          "ReeceTopley",
          "RileyMeredith",
          "RipalPatel",
          "RishiDhawan",
          "RiyanParag",
          "RohitSharma",
          "RomarioShepherd",
          "RovmanPowell",
          "SaiKishore",
          "SamCurran",
          "SandeepSharma",
          "SandeepWarrier",
          "SanjayYadav",
          "SeanAbbott",
          "ShahbazAhmed",
          "ShahbazNadeem",
          "ShakibAlHasan",
          "ShardulThakur",
          "ShashankSingh",
          "ShivamDube",
          "ShivamMavi",
          "ShreyasGopal",
          "ShreyasIyer",
          "SiddarthKaul",
          "SikandarRaza",
          "SimarjeetSingh",
          "SisandaMagala",
          "SunilNarine",
          "SuyashSharma",
          "SwapnilSingh",
          "TNatarajan",
          "TabraizShamsi",
          "TilakVarma",
          "TimSouthee",
          "TomCurran",
          "TrentBoult",
          "TristanStubbs",
          "TusharDeshpande",
          "TymalMills",
          "UmeshYadav",
          "UmranMalik",
          "VaibhavArora",
          "VarunAaron",
          "VarunChakravarthy",
          "VenkateshIyer",
          "VijayShankar",
          "VijaykumarVyshak",
          "VivrantSharma",
          "WaninduHasaranga",
          "WashingtonSundar",
          "WayneParnell",
          "YashDayal",
          "YashThakur",
          "YashasviJaiswal",
          "YudhvirSingh",
          "YuzvendraChahal"
         ],
         "xaxis": "x",
         "y": [
          8.5,
          8.48,
          9.202453987730062,
          8.545454545454545,
          9.1,
          8.674033149171272,
          11.23404255319149,
          8.656126482213438,
          9.869565217391305,
          10,
          9.055555555555555,
          13,
          7.827586206896552,
          10.323624595469255,
          9.727272727272727,
          8.311688311688313,
          8,
          9.68421052631579,
          13.86861313868613,
          8.634111818825195,
          8.358320839580209,
          7.113636363636363,
          5.238095238095238,
          9.5,
          15,
          7.877325982081324,
          9.5,
          8.43661971830986,
          10.064516129032258,
          9.170731707317072,
          7.454545454545454,
          9.45121951219512,
          8.520833333333334,
          11.31868131868132,
          13.5,
          12.666666666666666,
          6.8076923076923075,
          8.416666666666666,
          8.904761904761905,
          26.666666666666668,
          12,
          13.25,
          8.727272727272727,
          9.52,
          8.363095238095237,
          9.066666666666666,
          9.007936507936508,
          9,
          7.91164658634538,
          8,
          14,
          9,
          8.137432188065098,
          7.609682299546141,
          8.497109826589595,
          9,
          9.333333333333334,
          9.235294117647058,
          4,
          9.75,
          8.18918918918919,
          8.80952380952381,
          9,
          7.916666666666667,
          9.214285714285714,
          9.119683481701285,
          7.3290203327171906,
          7.428571428571429,
          9,
          10.636363636363637,
          7,
          9.5,
          8.261351052048727,
          8.647058823529411,
          9.689440993788821,
          8.620967741935484,
          13.5,
          9.666666666666666,
          10.469483568075116,
          10.649819494584838,
          8.338590956887487,
          8.118081180811808,
          7.75,
          7.453580901856763,
          9.56678700361011,
          7.926829268292684,
          9.333333333333334,
          15.238095238095237,
          8.435897435897436,
          9.607142857142858,
          8.428571428571429,
          8.2,
          10,
          8.808962264150944,
          10.666666666666666,
          10.416666666666666,
          7.7,
          7.454545454545454,
          9.015384615384615,
          10.28985507246377,
          8.125,
          8.1010101010101,
          6.25,
          7.545454545454546,
          7.979166666666667,
          8.636363636363637,
          8.473520249221183,
          6.806451612903226,
          7.086280056577086,
          10.75,
          7.875560538116591,
          8.117647058823529,
          14.5,
          8.260869565217392,
          7.069767441860465,
          4.5,
          7.25,
          9.359823399558499,
          10.516129032258064,
          8.590909090909092,
          8.423973362930077,
          7.608695652173913,
          8.8,
          12.375,
          7.821428571428571,
          10.8,
          8.8,
          7.9014989293361895,
          9.433962264150944,
          11.866666666666667,
          9.76086956521739,
          8.2,
          7.222222222222222,
          6.333333333333333,
          8.623326959847036,
          6.333333333333333,
          8.25,
          7.680635838150288,
          9.556541019955654,
          10,
          9,
          7.2164383561643834,
          7,
          7.67640769779045,
          7.532051282051282,
          7.455882352941177,
          7,
          9.622641509433961,
          7.333333333333333,
          8.307692307692308,
          13.06930693069307,
          11.81818181818182,
          10.88888888888889,
          11.666666666666666,
          7.5625,
          10.149068322981366,
          8.421052631578947,
          7.5,
          11.5,
          11.75,
          9.339285714285714,
          9,
          7.1923076923076925,
          9.538702111024238,
          10,
          12.142857142857142,
          8.502772643253234,
          11.8,
          7,
          8.86986301369863,
          9.916666666666666,
          7.666666666666667,
          8.5,
          6.6,
          8.23076923076923,
          9,
          9.21875,
          8.5,
          6.666666666666667,
          8.471698113207546,
          9.62962962962963,
          8.023872679045093,
          7,
          10.016,
          11.176470588235293,
          7.880597014925373,
          9.334155363748458,
          9.253731343283581,
          10.4,
          7.584692597239648,
          9.34959349593496,
          10.322580645161292,
          10.541666666666666,
          12.333333333333334,
          8.130434782608695,
          8.192182410423452,
          9.402390438247012,
          10.021739130434783,
          9.174603174603174,
          59.999999999999986,
          8.75,
          7.68299711815562
         ],
         "yaxis": "y"
        }
       ],
       "layout": {
        "barmode": "relative",
        "legend": {
         "title": {
          "text": "variable"
         },
         "tracegroupgap": 0
        },
        "template": {
         "data": {
          "bar": [
           {
            "error_x": {
             "color": "#2a3f5f"
            },
            "error_y": {
             "color": "#2a3f5f"
            },
            "marker": {
             "line": {
              "color": "#E5ECF6",
              "width": 0.5
             },
             "pattern": {
              "fillmode": "overlay",
              "size": 10,
              "solidity": 0.2
             }
            },
            "type": "bar"
           }
          ],
          "barpolar": [
           {
            "marker": {
             "line": {
              "color": "#E5ECF6",
              "width": 0.5
             },
             "pattern": {
              "fillmode": "overlay",
              "size": 10,
              "solidity": 0.2
             }
            },
            "type": "barpolar"
           }
          ],
          "carpet": [
           {
            "aaxis": {
             "endlinecolor": "#2a3f5f",
             "gridcolor": "white",
             "linecolor": "white",
             "minorgridcolor": "white",
             "startlinecolor": "#2a3f5f"
            },
            "baxis": {
             "endlinecolor": "#2a3f5f",
             "gridcolor": "white",
             "linecolor": "white",
             "minorgridcolor": "white",
             "startlinecolor": "#2a3f5f"
            },
            "type": "carpet"
           }
          ],
          "choropleth": [
           {
            "colorbar": {
             "outlinewidth": 0,
             "ticks": ""
            },
            "type": "choropleth"
           }
          ],
          "contour": [
           {
            "colorbar": {
             "outlinewidth": 0,
             "ticks": ""
            },
            "colorscale": [
             [
              0,
              "#0d0887"
             ],
             [
              0.1111111111111111,
              "#46039f"
             ],
             [
              0.2222222222222222,
              "#7201a8"
             ],
             [
              0.3333333333333333,
              "#9c179e"
             ],
             [
              0.4444444444444444,
              "#bd3786"
             ],
             [
              0.5555555555555556,
              "#d8576b"
             ],
             [
              0.6666666666666666,
              "#ed7953"
             ],
             [
              0.7777777777777778,
              "#fb9f3a"
             ],
             [
              0.8888888888888888,
              "#fdca26"
             ],
             [
              1,
              "#f0f921"
             ]
            ],
            "type": "contour"
           }
          ],
          "contourcarpet": [
           {
            "colorbar": {
             "outlinewidth": 0,
             "ticks": ""
            },
            "type": "contourcarpet"
           }
          ],
          "heatmap": [
           {
            "colorbar": {
             "outlinewidth": 0,
             "ticks": ""
            },
            "colorscale": [
             [
              0,
              "#0d0887"
             ],
             [
              0.1111111111111111,
              "#46039f"
             ],
             [
              0.2222222222222222,
              "#7201a8"
             ],
             [
              0.3333333333333333,
              "#9c179e"
             ],
             [
              0.4444444444444444,
              "#bd3786"
             ],
             [
              0.5555555555555556,
              "#d8576b"
             ],
             [
              0.6666666666666666,
              "#ed7953"
             ],
             [
              0.7777777777777778,
              "#fb9f3a"
             ],
             [
              0.8888888888888888,
              "#fdca26"
             ],
             [
              1,
              "#f0f921"
             ]
            ],
            "type": "heatmap"
           }
          ],
          "heatmapgl": [
           {
            "colorbar": {
             "outlinewidth": 0,
             "ticks": ""
            },
            "colorscale": [
             [
              0,
              "#0d0887"
             ],
             [
              0.1111111111111111,
              "#46039f"
             ],
             [
              0.2222222222222222,
              "#7201a8"
             ],
             [
              0.3333333333333333,
              "#9c179e"
             ],
             [
              0.4444444444444444,
              "#bd3786"
             ],
             [
              0.5555555555555556,
              "#d8576b"
             ],
             [
              0.6666666666666666,
              "#ed7953"
             ],
             [
              0.7777777777777778,
              "#fb9f3a"
             ],
             [
              0.8888888888888888,
              "#fdca26"
             ],
             [
              1,
              "#f0f921"
             ]
            ],
            "type": "heatmapgl"
           }
          ],
          "histogram": [
           {
            "marker": {
             "pattern": {
              "fillmode": "overlay",
              "size": 10,
              "solidity": 0.2
             }
            },
            "type": "histogram"
           }
          ],
          "histogram2d": [
           {
            "colorbar": {
             "outlinewidth": 0,
             "ticks": ""
            },
            "colorscale": [
             [
              0,
              "#0d0887"
             ],
             [
              0.1111111111111111,
              "#46039f"
             ],
             [
              0.2222222222222222,
              "#7201a8"
             ],
             [
              0.3333333333333333,
              "#9c179e"
             ],
             [
              0.4444444444444444,
              "#bd3786"
             ],
             [
              0.5555555555555556,
              "#d8576b"
             ],
             [
              0.6666666666666666,
              "#ed7953"
             ],
             [
              0.7777777777777778,
              "#fb9f3a"
             ],
             [
              0.8888888888888888,
              "#fdca26"
             ],
             [
              1,
              "#f0f921"
             ]
            ],
            "type": "histogram2d"
           }
          ],
          "histogram2dcontour": [
           {
            "colorbar": {
             "outlinewidth": 0,
             "ticks": ""
            },
            "colorscale": [
             [
              0,
              "#0d0887"
             ],
             [
              0.1111111111111111,
              "#46039f"
             ],
             [
              0.2222222222222222,
              "#7201a8"
             ],
             [
              0.3333333333333333,
              "#9c179e"
             ],
             [
              0.4444444444444444,
              "#bd3786"
             ],
             [
              0.5555555555555556,
              "#d8576b"
             ],
             [
              0.6666666666666666,
              "#ed7953"
             ],
             [
              0.7777777777777778,
              "#fb9f3a"
             ],
             [
              0.8888888888888888,
              "#fdca26"
             ],
             [
              1,
              "#f0f921"
             ]
            ],
            "type": "histogram2dcontour"
           }
          ],
          "mesh3d": [
           {
            "colorbar": {
             "outlinewidth": 0,
             "ticks": ""
            },
            "type": "mesh3d"
           }
          ],
          "parcoords": [
           {
            "line": {
             "colorbar": {
              "outlinewidth": 0,
              "ticks": ""
             }
            },
            "type": "parcoords"
           }
          ],
          "pie": [
           {
            "automargin": true,
            "type": "pie"
           }
          ],
          "scatter": [
           {
            "fillpattern": {
             "fillmode": "overlay",
             "size": 10,
             "solidity": 0.2
            },
            "type": "scatter"
           }
          ],
          "scatter3d": [
           {
            "line": {
             "colorbar": {
              "outlinewidth": 0,
              "ticks": ""
             }
            },
            "marker": {
             "colorbar": {
              "outlinewidth": 0,
              "ticks": ""
             }
            },
            "type": "scatter3d"
           }
          ],
          "scattercarpet": [
           {
            "marker": {
             "colorbar": {
              "outlinewidth": 0,
              "ticks": ""
             }
            },
            "type": "scattercarpet"
           }
          ],
          "scattergeo": [
           {
            "marker": {
             "colorbar": {
              "outlinewidth": 0,
              "ticks": ""
             }
            },
            "type": "scattergeo"
           }
          ],
          "scattergl": [
           {
            "marker": {
             "colorbar": {
              "outlinewidth": 0,
              "ticks": ""
             }
            },
            "type": "scattergl"
           }
          ],
          "scattermapbox": [
           {
            "marker": {
             "colorbar": {
              "outlinewidth": 0,
              "ticks": ""
             }
            },
            "type": "scattermapbox"
           }
          ],
          "scatterpolar": [
           {
            "marker": {
             "colorbar": {
              "outlinewidth": 0,
              "ticks": ""
             }
            },
            "type": "scatterpolar"
           }
          ],
          "scatterpolargl": [
           {
            "marker": {
             "colorbar": {
              "outlinewidth": 0,
              "ticks": ""
             }
            },
            "type": "scatterpolargl"
           }
          ],
          "scatterternary": [
           {
            "marker": {
             "colorbar": {
              "outlinewidth": 0,
              "ticks": ""
             }
            },
            "type": "scatterternary"
           }
          ],
          "surface": [
           {
            "colorbar": {
             "outlinewidth": 0,
             "ticks": ""
            },
            "colorscale": [
             [
              0,
              "#0d0887"
             ],
             [
              0.1111111111111111,
              "#46039f"
             ],
             [
              0.2222222222222222,
              "#7201a8"
             ],
             [
              0.3333333333333333,
              "#9c179e"
             ],
             [
              0.4444444444444444,
              "#bd3786"
             ],
             [
              0.5555555555555556,
              "#d8576b"
             ],
             [
              0.6666666666666666,
              "#ed7953"
             ],
             [
              0.7777777777777778,
              "#fb9f3a"
             ],
             [
              0.8888888888888888,
              "#fdca26"
             ],
             [
              1,
              "#f0f921"
             ]
            ],
            "type": "surface"
           }
          ],
          "table": [
           {
            "cells": {
             "fill": {
              "color": "#EBF0F8"
             },
             "line": {
              "color": "white"
             }
            },
            "header": {
             "fill": {
              "color": "#C8D4E3"
             },
             "line": {
              "color": "white"
             }
            },
            "type": "table"
           }
          ]
         },
         "layout": {
          "annotationdefaults": {
           "arrowcolor": "#2a3f5f",
           "arrowhead": 0,
           "arrowwidth": 1
          },
          "autotypenumbers": "strict",
          "coloraxis": {
           "colorbar": {
            "outlinewidth": 0,
            "ticks": ""
           }
          },
          "colorscale": {
           "diverging": [
            [
             0,
             "#8e0152"
            ],
            [
             0.1,
             "#c51b7d"
            ],
            [
             0.2,
             "#de77ae"
            ],
            [
             0.3,
             "#f1b6da"
            ],
            [
             0.4,
             "#fde0ef"
            ],
            [
             0.5,
             "#f7f7f7"
            ],
            [
             0.6,
             "#e6f5d0"
            ],
            [
             0.7,
             "#b8e186"
            ],
            [
             0.8,
             "#7fbc41"
            ],
            [
             0.9,
             "#4d9221"
            ],
            [
             1,
             "#276419"
            ]
           ],
           "sequential": [
            [
             0,
             "#0d0887"
            ],
            [
             0.1111111111111111,
             "#46039f"
            ],
            [
             0.2222222222222222,
             "#7201a8"
            ],
            [
             0.3333333333333333,
             "#9c179e"
            ],
            [
             0.4444444444444444,
             "#bd3786"
            ],
            [
             0.5555555555555556,
             "#d8576b"
            ],
            [
             0.6666666666666666,
             "#ed7953"
            ],
            [
             0.7777777777777778,
             "#fb9f3a"
            ],
            [
             0.8888888888888888,
             "#fdca26"
            ],
            [
             1,
             "#f0f921"
            ]
           ],
           "sequentialminus": [
            [
             0,
             "#0d0887"
            ],
            [
             0.1111111111111111,
             "#46039f"
            ],
            [
             0.2222222222222222,
             "#7201a8"
            ],
            [
             0.3333333333333333,
             "#9c179e"
            ],
            [
             0.4444444444444444,
             "#bd3786"
            ],
            [
             0.5555555555555556,
             "#d8576b"
            ],
            [
             0.6666666666666666,
             "#ed7953"
            ],
            [
             0.7777777777777778,
             "#fb9f3a"
            ],
            [
             0.8888888888888888,
             "#fdca26"
            ],
            [
             1,
             "#f0f921"
            ]
           ]
          },
          "colorway": [
           "#636efa",
           "#EF553B",
           "#00cc96",
           "#ab63fa",
           "#FFA15A",
           "#19d3f3",
           "#FF6692",
           "#B6E880",
           "#FF97FF",
           "#FECB52"
          ],
          "font": {
           "color": "#2a3f5f"
          },
          "geo": {
           "bgcolor": "white",
           "lakecolor": "white",
           "landcolor": "#E5ECF6",
           "showlakes": true,
           "showland": true,
           "subunitcolor": "white"
          },
          "hoverlabel": {
           "align": "left"
          },
          "hovermode": "closest",
          "mapbox": {
           "style": "light"
          },
          "paper_bgcolor": "white",
          "plot_bgcolor": "#E5ECF6",
          "polar": {
           "angularaxis": {
            "gridcolor": "white",
            "linecolor": "white",
            "ticks": ""
           },
           "bgcolor": "#E5ECF6",
           "radialaxis": {
            "gridcolor": "white",
            "linecolor": "white",
            "ticks": ""
           }
          },
          "scene": {
           "xaxis": {
            "backgroundcolor": "#E5ECF6",
            "gridcolor": "white",
            "gridwidth": 2,
            "linecolor": "white",
            "showbackground": true,
            "ticks": "",
            "zerolinecolor": "white"
           },
           "yaxis": {
            "backgroundcolor": "#E5ECF6",
            "gridcolor": "white",
            "gridwidth": 2,
            "linecolor": "white",
            "showbackground": true,
            "ticks": "",
            "zerolinecolor": "white"
           },
           "zaxis": {
            "backgroundcolor": "#E5ECF6",
            "gridcolor": "white",
            "gridwidth": 2,
            "linecolor": "white",
            "showbackground": true,
            "ticks": "",
            "zerolinecolor": "white"
           }
          },
          "shapedefaults": {
           "line": {
            "color": "#2a3f5f"
           }
          },
          "ternary": {
           "aaxis": {
            "gridcolor": "white",
            "linecolor": "white",
            "ticks": ""
           },
           "baxis": {
            "gridcolor": "white",
            "linecolor": "white",
            "ticks": ""
           },
           "bgcolor": "#E5ECF6",
           "caxis": {
            "gridcolor": "white",
            "linecolor": "white",
            "ticks": ""
           }
          },
          "title": {
           "x": 0.05
          },
          "xaxis": {
           "automargin": true,
           "gridcolor": "white",
           "linecolor": "white",
           "ticks": "",
           "title": {
            "standoff": 15
           },
           "zerolinecolor": "white",
           "zerolinewidth": 2
          },
          "yaxis": {
           "automargin": true,
           "gridcolor": "white",
           "linecolor": "white",
           "ticks": "",
           "title": {
            "standoff": 15
           },
           "zerolinecolor": "white",
           "zerolinewidth": 2
          }
         }
        },
        "title": {
         "text": "Bowler Performance Comparison (Stacked Bar)"
        },
        "xaxis": {
         "anchor": "y",
         "domain": [
          0,
          1
         ],
         "title": {
          "text": "bowlerName"
         }
        },
        "yaxis": {
         "anchor": "x",
         "domain": [
          0,
          1
         ],
         "title": {
          "text": "value"
         }
        }
       }
      }
     },
     "metadata": {},
     "output_type": "display_data"
    }
   ],
   "source": [
    "fig = px.bar(bowling_stats, x=\"bowlerName\", y=[\"total_wickets\", \"total_runs\", \"economy\"],\n",
    "             title=\"Bowler Performance Comparison (Stacked Bar)\", labels={\"total_wickets\": \"Wickets\", \"total_runs\": \"Runs\", \"economy\": \"Economy Rate\"})\n",
    "fig.show()\n"
   ]
  },
  {
   "cell_type": "code",
   "execution_count": 35,
   "id": "cb018cd1",
   "metadata": {},
   "outputs": [
    {
     "data": {
      "image/png": "[encoded data removed]",
      "text/plain": [
       "<Figure size 800x600 with 2 Axes>"
      ]
     },
     "metadata": {},
     "output_type": "display_data"
    }
   ],
   "source": [
    "import seaborn as sns\n",
    "import matplotlib.pyplot as plt\n",
    "corr = bowling_stats[['total_wickets', 'total_runs', 'economy']].corr()\n",
    "plt.figure(figsize=(8, 6))\n",
    "sns.heatmap(corr, annot=True, cmap='coolwarm', fmt='.2f')\n",
    "plt.title('Correlation Heatmap of Bowler Metrics')\n",
    "plt.show()\n"
   ]
  },
  {
   "cell_type": "code",
   "execution_count": null,
   "id": "e2cf72aa",
   "metadata": {},
   "outputs": [],
   "source": []
  },
  {
   "cell_type": "code",
   "execution_count": 36,
   "id": "233389a5",
   "metadata": {},
   "outputs": [
    {
     "name": "stdout",
     "output_type": "stream",
     "text": [
      "    teamInnings  runs\n",
      "8   Super Kings  7372\n",
      "5        Royals  7181\n",
      "4           RCB  7028\n",
      "2        Mumbai  6937\n",
      "1           KKR  6870\n",
      "3  Punjab Kings  6670\n",
      "0      Capitals  6518\n",
      "6     Sunrisers  6161\n",
      "9        Titans  5423\n",
      "7  Super Giants  4612\n"
     ]
    }
   ],
   "source": [
    "# Grouping by teamInnings and summing the runs\n",
    "team_runs = bating_summary.groupby('teamInnings')['runs'].sum().reset_index()\n",
    "\n",
    "# Sorting the results by total runs in descending order\n",
    "team_runs_sorted = team_runs.sort_values(by='runs', ascending=False)\n",
    "\n",
    "# Displaying the total runs for each team\n",
    "print(team_runs_sorted)\n"
   ]
  },
  {
   "cell_type": "code",
   "execution_count": 37,
   "id": "15edfde8",
   "metadata": {},
   "outputs": [
    {
     "data": {
      "image/png": "[encoded data removed]",
      "text/plain": [
       "<Figure size 1000x600 with 1 Axes>"
      ]
     },
     "metadata": {},
     "output_type": "display_data"
    },
    {
     "data": {
      "image/png": "[encoded data removed]",
      "text/plain": [
       "<Figure size 800x800 with 1 Axes>"
      ]
     },
     "metadata": {},
     "output_type": "display_data"
    }
   ],
   "source": [
    "import matplotlib.pyplot as plt\n",
    "\n",
    "# Generate the bar chart\n",
    "plt.figure(figsize=(10, 6))\n",
    "plt.bar(team_runs_sorted['teamInnings'], team_runs_sorted['runs'], color='skyblue')\n",
    "plt.xlabel('Teams')\n",
    "plt.ylabel('Total Runs')\n",
    "plt.title('Total Runs Scored by Each Team')\n",
    "plt.xticks(rotation=45, ha='right')\n",
    "plt.tight_layout()\n",
    "\n",
    "# Show the bar chart\n",
    "plt.show()\n",
    "\n",
    "# Generate the pie chart\n",
    "plt.figure(figsize=(8, 8))\n",
    "plt.pie(team_runs_sorted['runs'], labels=team_runs_sorted['teamInnings'], autopct='%1.1f%%', startangle=90, colors=plt.cm.Paired.colors)\n",
    "plt.title('Percentage of Total Runs Scored by Each Team')\n",
    "plt.tight_layout()\n",
    "\n",
    "# Show the pie chart\n",
    "plt.show()\n"
   ]
  },
  {
   "cell_type": "code",
   "execution_count": null,
   "id": "c6287627",
   "metadata": {},
   "outputs": [],
   "source": []
  },
  {
   "cell_type": "code",
   "execution_count": null,
   "id": "ef284577",
   "metadata": {},
   "outputs": [],
   "source": []
  },
  {
   "cell_type": "code",
   "execution_count": null,
   "id": "ea73f91b",
   "metadata": {},
   "outputs": [],
   "source": []
  }
 ],
 "metadata": {
  "kernelspec": {
   "display_name": "base",
   "language": "python",
   "name": "python3"
  },
  "language_info": {
   "codemirror_mode": {
    "name": "ipython",
    "version": 3
   },
   "file_extension": ".py",
   "mimetype": "text/x-python",
   "name": "python",
   "nbconvert_exporter": "python",
   "pygments_lexer": "ipython3",
   "version": "3.12.7"
  }
 },
 "nbformat": 4,
 "nbformat_minor": 5
}
